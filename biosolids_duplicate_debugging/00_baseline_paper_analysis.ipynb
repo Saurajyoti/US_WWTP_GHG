{
 "cells": [
  {
   "cell_type": "markdown",
   "source": [
    "# Analysis for writing paper \n",
    "\n",
    "Author: Sahar H. El Abbadi\n",
    "Start date: Sept 20, 2024\n",
    "\n",
    "Purpose: calculations for Baseline Paper \n",
    "\n",
    "Input files: \n",
    "- tt_output_20240926.csv - from Abby's version of Jianan's code\n",
    "- wwtp_output_20240926.csv - from Abby's version of Jianan's code\n",
    "- tt_assignment_2022_new_nc.csv - from Abby's treatment train assignment code"
   ],
   "metadata": {
    "collapsed": false
   },
   "id": "54a77c2ceec23a75"
  },
  {
   "cell_type": "code",
   "execution_count": 1,
   "outputs": [],
   "source": [
    "# Set up \n",
    "\n",
    "######## Import modules ########\n",
    "import pandas as pd\n",
    "import pathlib\n",
    "import ast # for converting text in TT column to a python list \n",
    "\n",
    "# unit conversions\n",
    "from baseline_utilities.baseline_utilities import mgd_to_Bm3_yr, kg_per_day_to_mmt_per_year\n",
    "\n",
    "# treatment train manipulation functions \n",
    "from baseline_utilities.baseline_utilities import combine_liquid_treatment, combine_solids_treatment, combine_primary, combine_treatment_target, process_treatment_data, calc_key_stats, concat_labels, calculate_facility_fraction_for_process, filter_facilities_by_process\n",
    "\n",
    "######## Data prep ########\n",
    "\n",
    "### Treatment train data \n",
    "# Load treatment train summary data\n",
    "tt_data = pd.read_csv(pathlib.PurePath('01_raw_data', 'baseline_paper', 'tt_output_20240927.csv')) # main data file\n",
    "\n",
    "# Add column with flow in Bm3/year\n",
    "tt_data['flow_Bm3yr'] = tt_data['TT_flow_MGD'].apply(mgd_to_Bm3_yr)\n",
    "tt_data = tt_data.rename(columns={'TT_flow_MGD':'flow_mgd', 'TT_number':'count'})\n",
    "\n",
    "### Facility level data \n",
    "# Load facility level results\n",
    "facility_data = pd.read_csv(pathlib.PurePath('01_raw_data', 'baseline_paper', 'wwtp_output_20240927.csv'))\n",
    "\n",
    "# Convert 'TT' columnn from a string to a python list of strings\n",
    "def convert_to_list(value):\n",
    "    try:\n",
    "        # Convert only if the value is a string and starts/ends with brackets\n",
    "        if isinstance(value, str) and value.startswith(\"[\") and value.endswith(\"]\"):\n",
    "            return ast.literal_eval(value)  # Safe conversion to a list\n",
    "        return value  # Return as-is if not a list-like string\n",
    "    except (ValueError, SyntaxError):\n",
    "        return value  # If there's an error, return the value as is\n",
    "\n",
    "# Apply conversion to the 'TT' column\n",
    "facility_data['TT'] = facility_data['TT'].apply(convert_to_list)\n",
    "\n",
    "# Determine total number of treatment trains per facility\n",
    "facility_data['TT_count'] = facility_data['TT'].apply(len)\n",
    "\n",
    "# Calculate flow per treatment train \n",
    "facility_data['TT_flow_mgd'] = facility_data['FLOW_2022_MGD_FINAL'] / facility_data['TT_count']\n",
    "\n",
    "# Set total number of facilities\n",
    "total_facilities = len(facility_data)\n",
    "\n",
    "# Number of treatment trains\n",
    "total_trains = len(tt_data)"
   ],
   "metadata": {
    "collapsed": false,
    "ExecuteTime": {
     "end_time": "2024-10-25T18:38:29.961554Z",
     "start_time": "2024-10-25T18:38:27.716258Z"
    }
   },
   "id": "a7f33eb35870c635"
  },
  {
   "cell_type": "markdown",
   "source": [
    "# Paper analysis \n",
    "\n",
    "Data analysis for paper.\n",
    "\n",
    "Manuscript version: 20240917_AMO_Task3_Inventory_Paper_Draft_SE"
   ],
   "metadata": {
    "collapsed": false
   },
   "id": "fe26be957726e430"
  },
  {
   "cell_type": "markdown",
   "source": [
    "## Number and throughput of US WWTPs by treatment train type \n",
    "\n",
    "First section of the Main text "
   ],
   "metadata": {
    "collapsed": false
   },
   "id": "97395ce0c74c0b9e"
  },
  {
   "cell_type": "markdown",
   "source": [
    "### Liquids treatment train "
   ],
   "metadata": {
    "collapsed": false
   },
   "id": "f9858b679e851cb4"
  },
  {
   "cell_type": "code",
   "execution_count": 2,
   "outputs": [
    {
     "data": {
      "text/plain": "   tt_liquids  flow_Bm3yr  flow_fraction  \\\n7  L_combined    5.601269       8.324411   \n0  A_combined   22.584170      33.563806   \n2  C_combined    7.497883      11.143092   \n4  E_combined   16.366579      24.323440   \n5  F_combined    6.819941      10.135558   \n6  G_combined    3.066422       4.557210   \n1  B_combined    5.147267       7.649688   \n3  D_combined    0.203742       0.302794   \n\n   total_emissions_annual_mmtCO2_per_year  emissions_fraction  \\\n7                                2.731338            6.429300   \n0                               11.453377           26.960120   \n2                                4.106084            9.665317   \n4                               12.821123           30.179658   \n5                                5.446415           12.820324   \n6                                2.777148            6.537132   \n1                                2.820618            6.639457   \n3                                0.326561            0.768692   \n\n                                     labels_combined  \n7                                 L-a, L-u, L-n, L-f  \n0  *A4, *A6, *A5, A4, A6, A5, *A3, A3, *A1e, A1e,...  \n2                      *C4, *C6, *C5, *C3, *C1e, *C1  \n4                                 *E3, E3, *E1e, *E1  \n5                            F4, F6, F3, F5, F1e, F1  \n6       *G4, *G6, *G5, *G3, *G1e-p, *G1e, *G1-p, *G1  \n1                      *B4, *B6, *B5, *B3, *B1e, *B1  \n3                                          *D3, *D1e  ",
      "text/html": "<div>\n<style scoped>\n    .dataframe tbody tr th:only-of-type {\n        vertical-align: middle;\n    }\n\n    .dataframe tbody tr th {\n        vertical-align: top;\n    }\n\n    .dataframe thead th {\n        text-align: right;\n    }\n</style>\n<table border=\"1\" class=\"dataframe\">\n  <thead>\n    <tr style=\"text-align: right;\">\n      <th></th>\n      <th>tt_liquids</th>\n      <th>flow_Bm3yr</th>\n      <th>flow_fraction</th>\n      <th>total_emissions_annual_mmtCO2_per_year</th>\n      <th>emissions_fraction</th>\n      <th>labels_combined</th>\n    </tr>\n  </thead>\n  <tbody>\n    <tr>\n      <th>7</th>\n      <td>L_combined</td>\n      <td>5.601269</td>\n      <td>8.324411</td>\n      <td>2.731338</td>\n      <td>6.429300</td>\n      <td>L-a, L-u, L-n, L-f</td>\n    </tr>\n    <tr>\n      <th>0</th>\n      <td>A_combined</td>\n      <td>22.584170</td>\n      <td>33.563806</td>\n      <td>11.453377</td>\n      <td>26.960120</td>\n      <td>*A4, *A6, *A5, A4, A6, A5, *A3, A3, *A1e, A1e,...</td>\n    </tr>\n    <tr>\n      <th>2</th>\n      <td>C_combined</td>\n      <td>7.497883</td>\n      <td>11.143092</td>\n      <td>4.106084</td>\n      <td>9.665317</td>\n      <td>*C4, *C6, *C5, *C3, *C1e, *C1</td>\n    </tr>\n    <tr>\n      <th>4</th>\n      <td>E_combined</td>\n      <td>16.366579</td>\n      <td>24.323440</td>\n      <td>12.821123</td>\n      <td>30.179658</td>\n      <td>*E3, E3, *E1e, *E1</td>\n    </tr>\n    <tr>\n      <th>5</th>\n      <td>F_combined</td>\n      <td>6.819941</td>\n      <td>10.135558</td>\n      <td>5.446415</td>\n      <td>12.820324</td>\n      <td>F4, F6, F3, F5, F1e, F1</td>\n    </tr>\n    <tr>\n      <th>6</th>\n      <td>G_combined</td>\n      <td>3.066422</td>\n      <td>4.557210</td>\n      <td>2.777148</td>\n      <td>6.537132</td>\n      <td>*G4, *G6, *G5, *G3, *G1e-p, *G1e, *G1-p, *G1</td>\n    </tr>\n    <tr>\n      <th>1</th>\n      <td>B_combined</td>\n      <td>5.147267</td>\n      <td>7.649688</td>\n      <td>2.820618</td>\n      <td>6.639457</td>\n      <td>*B4, *B6, *B5, *B3, *B1e, *B1</td>\n    </tr>\n    <tr>\n      <th>3</th>\n      <td>D_combined</td>\n      <td>0.203742</td>\n      <td>0.302794</td>\n      <td>0.326561</td>\n      <td>0.768692</td>\n      <td>*D3, *D1e</td>\n    </tr>\n  </tbody>\n</table>\n</div>"
     },
     "metadata": {},
     "output_type": "display_data"
    }
   ],
   "source": [
    "### What is the most common liquids treatment train? \n",
    "liquids_sorted_by_count = process_treatment_data(tt_data, combine_liquid_treatment, 'tt_liquids', total_facilities, sort_by='count_fraction')"
   ],
   "metadata": {
    "collapsed": false,
    "ExecuteTime": {
     "end_time": "2024-10-25T18:38:29.974794Z",
     "start_time": "2024-10-25T18:38:29.965093Z"
    }
   },
   "id": "5462ad97e68c4a0"
  },
  {
   "cell_type": "code",
   "execution_count": 3,
   "outputs": [
    {
     "data": {
      "text/plain": "   tt_liquids  flow_Bm3yr  flow_fraction\n7  L_combined    5.601269       8.324411\n0  A_combined   22.584170      33.563806\n2  C_combined    7.497883      11.143092",
      "text/html": "<div>\n<style scoped>\n    .dataframe tbody tr th:only-of-type {\n        vertical-align: middle;\n    }\n\n    .dataframe tbody tr th {\n        vertical-align: top;\n    }\n\n    .dataframe thead th {\n        text-align: right;\n    }\n</style>\n<table border=\"1\" class=\"dataframe\">\n  <thead>\n    <tr style=\"text-align: right;\">\n      <th></th>\n      <th>tt_liquids</th>\n      <th>flow_Bm3yr</th>\n      <th>flow_fraction</th>\n    </tr>\n  </thead>\n  <tbody>\n    <tr>\n      <th>7</th>\n      <td>L_combined</td>\n      <td>5.601269</td>\n      <td>8.324411</td>\n    </tr>\n    <tr>\n      <th>0</th>\n      <td>A_combined</td>\n      <td>22.584170</td>\n      <td>33.563806</td>\n    </tr>\n    <tr>\n      <th>2</th>\n      <td>C_combined</td>\n      <td>7.497883</td>\n      <td>11.143092</td>\n    </tr>\n  </tbody>\n</table>\n</div>"
     },
     "metadata": {},
     "output_type": "display_data"
    }
   ],
   "source": [
    "# Calculations for paper:  \n",
    "\n",
    "# Pull the n most common liquid treatment, check flow  \n",
    "n = 3 \n",
    "\n",
    "liquids_top_by_count = liquids_sorted_by_count.head(n)\n",
    "liquids_result = liquids_top_by_count[['tt_liquids', 'flow_Bm3yr', 'flow_fraction']]\n",
    "display(liquids_result)\n"
   ],
   "metadata": {
    "collapsed": false,
    "ExecuteTime": {
     "end_time": "2024-10-25T18:38:29.978322Z",
     "start_time": "2024-10-25T18:38:29.976230Z"
    }
   },
   "id": "e888767ac3e50a4b"
  },
  {
   "cell_type": "code",
   "execution_count": 4,
   "outputs": [
    {
     "name": "stdout",
     "output_type": "stream",
     "text": [
      "Processes of interest: A (ANY)\n",
      "Number of facilities: 4,746\n",
      "Fraction of total facilities: 29.91%\n"
     ]
    },
    {
     "data": {
      "text/plain": "(4746, 29.911136320665534)"
     },
     "execution_count": 4,
     "metadata": {},
     "output_type": "execute_result"
    }
   ],
   "source": [
    "calculate_facility_fraction_for_process('A', facility_data)"
   ],
   "metadata": {
    "collapsed": false,
    "ExecuteTime": {
     "end_time": "2024-10-25T18:38:30.015433Z",
     "start_time": "2024-10-25T18:38:29.987716Z"
    }
   },
   "id": "b8122d66d0110552"
  },
  {
   "cell_type": "code",
   "execution_count": 5,
   "outputs": [
    {
     "name": "stdout",
     "output_type": "stream",
     "text": [
      "Processes of interest: L (ANY)\n",
      "Number of facilities: 8,249\n",
      "Fraction of total facilities: 51.99%\n"
     ]
    },
    {
     "data": {
      "text/plain": "(8249, 51.98840360496628)"
     },
     "execution_count": 5,
     "metadata": {},
     "output_type": "execute_result"
    }
   ],
   "source": [
    "calculate_facility_fraction_for_process('L', facility_data)"
   ],
   "metadata": {
    "collapsed": false,
    "ExecuteTime": {
     "end_time": "2024-10-25T18:38:30.052480Z",
     "start_time": "2024-10-25T18:38:29.992689Z"
    }
   },
   "id": "3ae711819fa344cd"
  },
  {
   "cell_type": "code",
   "execution_count": 6,
   "outputs": [
    {
     "name": "stdout",
     "output_type": "stream",
     "text": [
      "Processes of interest: C (ANY)\n",
      "Number of facilities: 1,701\n",
      "Fraction of total facilities: 10.72%\n"
     ]
    },
    {
     "data": {
      "text/plain": "(1701, 10.720363017583665)"
     },
     "execution_count": 6,
     "metadata": {},
     "output_type": "execute_result"
    }
   ],
   "source": [
    "calculate_facility_fraction_for_process('C', facility_data)"
   ],
   "metadata": {
    "collapsed": false,
    "ExecuteTime": {
     "end_time": "2024-10-25T18:38:30.105997Z",
     "start_time": "2024-10-25T18:38:30.015456Z"
    }
   },
   "id": "115e0875769ba314"
  },
  {
   "cell_type": "markdown",
   "source": [
    "### Text in paper \n",
    "\n",
    "Reporting the flow rate and facilities data for the two most common treatment trains  \n",
    "\n",
    "Paragraph starting with: \"The total number of facilities and the corresponding estimated total flow treated nationwide for each treatment train is depicted in Figure 2A\"\n",
    "\n",
    "9/27/24 updated text reads: \n",
    "\n",
    "Activated sludge: \n",
    "\"Basic activated sludge (liquid code A) dominates liquids handling in the United States, accounting for 4,746 facilities (30%) and treating 23 billion m3 / year (34% of estimated annual flow).\"\n",
    "\n",
    "Lagoons: \n",
    "\"However, while only treating 8% of national flow, lagoons are the most abundant treatment technology, with all categories of lagoons (aerobic, anaerobic, facultative, and unclassified) totaling 8,249 in number, meaning 52% of all facilities include at least one lagoon which may exist in parallel or series with other treatment technologies\""
   ],
   "metadata": {
    "collapsed": false
   },
   "id": "8cf528cc322b09c4"
  },
  {
   "cell_type": "markdown",
   "source": [
    "### Solids treatment train "
   ],
   "metadata": {
    "collapsed": false
   },
   "id": "b7a22182ac6ac14a"
  },
  {
   "cell_type": "code",
   "execution_count": 7,
   "outputs": [
    {
     "name": "stdout",
     "output_type": "stream",
     "text": [
      "Facilities by count (combined parimary + lagoons):\n"
     ]
    },
    {
     "data": {
      "text/plain": "  tt_solids  flow_Bm3yr  flow_fraction  \\\n6     L-all    5.601269       8.324411   \n2         3   11.612792      17.258527   \n0         1   42.856272      63.691499   \n4         5    3.911037       5.812447   \n3         4    1.372237       2.039371   \n5         6    1.911558       2.840890   \n1         2    0.022107       0.032854   \n\n   total_emissions_annual_mmtCO2_per_year  emissions_fraction  \\\n6                                2.731338            6.429300   \n2                                5.413121           12.741953   \n0                               30.908242           72.754951   \n4                                1.958925            4.611117   \n3                                0.579673            1.364492   \n5                                0.876099            2.062251   \n1                                0.015266            0.035936   \n\n                                     labels_combined  \n6                                 L-a, L-u, L-n, L-f  \n2           *C3, *A3, *B3, A3, F3, *G3, *D3, *E3, E3  \n0  *C1e, *A1e, *B1e, A1e, *C1, *A1, *B1, A1, *G1e...  \n4                         *C5, *A5, *B5, A5, *G5, F5  \n3                         *C4, *A4, *B4, A4, *G4, F4  \n5                         *C6, *A6, *B6, A6, *G6, F6  \n1                                                *A2  ",
      "text/html": "<div>\n<style scoped>\n    .dataframe tbody tr th:only-of-type {\n        vertical-align: middle;\n    }\n\n    .dataframe tbody tr th {\n        vertical-align: top;\n    }\n\n    .dataframe thead th {\n        text-align: right;\n    }\n</style>\n<table border=\"1\" class=\"dataframe\">\n  <thead>\n    <tr style=\"text-align: right;\">\n      <th></th>\n      <th>tt_solids</th>\n      <th>flow_Bm3yr</th>\n      <th>flow_fraction</th>\n      <th>total_emissions_annual_mmtCO2_per_year</th>\n      <th>emissions_fraction</th>\n      <th>labels_combined</th>\n    </tr>\n  </thead>\n  <tbody>\n    <tr>\n      <th>6</th>\n      <td>L-all</td>\n      <td>5.601269</td>\n      <td>8.324411</td>\n      <td>2.731338</td>\n      <td>6.429300</td>\n      <td>L-a, L-u, L-n, L-f</td>\n    </tr>\n    <tr>\n      <th>2</th>\n      <td>3</td>\n      <td>11.612792</td>\n      <td>17.258527</td>\n      <td>5.413121</td>\n      <td>12.741953</td>\n      <td>*C3, *A3, *B3, A3, F3, *G3, *D3, *E3, E3</td>\n    </tr>\n    <tr>\n      <th>0</th>\n      <td>1</td>\n      <td>42.856272</td>\n      <td>63.691499</td>\n      <td>30.908242</td>\n      <td>72.754951</td>\n      <td>*C1e, *A1e, *B1e, A1e, *C1, *A1, *B1, A1, *G1e...</td>\n    </tr>\n    <tr>\n      <th>4</th>\n      <td>5</td>\n      <td>3.911037</td>\n      <td>5.812447</td>\n      <td>1.958925</td>\n      <td>4.611117</td>\n      <td>*C5, *A5, *B5, A5, *G5, F5</td>\n    </tr>\n    <tr>\n      <th>3</th>\n      <td>4</td>\n      <td>1.372237</td>\n      <td>2.039371</td>\n      <td>0.579673</td>\n      <td>1.364492</td>\n      <td>*C4, *A4, *B4, A4, *G4, F4</td>\n    </tr>\n    <tr>\n      <th>5</th>\n      <td>6</td>\n      <td>1.911558</td>\n      <td>2.840890</td>\n      <td>0.876099</td>\n      <td>2.062251</td>\n      <td>*C6, *A6, *B6, A6, *G6, F6</td>\n    </tr>\n    <tr>\n      <th>1</th>\n      <td>2</td>\n      <td>0.022107</td>\n      <td>0.032854</td>\n      <td>0.015266</td>\n      <td>0.035936</td>\n      <td>*A2</td>\n    </tr>\n  </tbody>\n</table>\n</div>"
     },
     "metadata": {},
     "output_type": "display_data"
    },
    {
     "name": "stdout",
     "output_type": "stream",
     "text": [
      "Facilities by emissions fraction (combined primary + lagoons):\n"
     ]
    },
    {
     "data": {
      "text/plain": "  tt_solids  flow_Bm3yr  flow_fraction  \\\n0         1   42.856272      63.691499   \n2         3   11.612792      17.258527   \n6     L-all    5.601269       8.324411   \n4         5    3.911037       5.812447   \n5         6    1.911558       2.840890   \n3         4    1.372237       2.039371   \n1         2    0.022107       0.032854   \n\n   total_emissions_annual_mmtCO2_per_year  emissions_fraction  \\\n0                               30.908242           72.754951   \n2                                5.413121           12.741953   \n6                                2.731338            6.429300   \n4                                1.958925            4.611117   \n5                                0.876099            2.062251   \n3                                0.579673            1.364492   \n1                                0.015266            0.035936   \n\n                                     labels_combined  \n0  *C1e, *A1e, *B1e, A1e, *C1, *A1, *B1, A1, *G1e...  \n2           *C3, *A3, *B3, A3, F3, *G3, *D3, *E3, E3  \n6                                 L-a, L-u, L-n, L-f  \n4                         *C5, *A5, *B5, A5, *G5, F5  \n5                         *C6, *A6, *B6, A6, *G6, F6  \n3                         *C4, *A4, *B4, A4, *G4, F4  \n1                                                *A2  ",
      "text/html": "<div>\n<style scoped>\n    .dataframe tbody tr th:only-of-type {\n        vertical-align: middle;\n    }\n\n    .dataframe tbody tr th {\n        vertical-align: top;\n    }\n\n    .dataframe thead th {\n        text-align: right;\n    }\n</style>\n<table border=\"1\" class=\"dataframe\">\n  <thead>\n    <tr style=\"text-align: right;\">\n      <th></th>\n      <th>tt_solids</th>\n      <th>flow_Bm3yr</th>\n      <th>flow_fraction</th>\n      <th>total_emissions_annual_mmtCO2_per_year</th>\n      <th>emissions_fraction</th>\n      <th>labels_combined</th>\n    </tr>\n  </thead>\n  <tbody>\n    <tr>\n      <th>0</th>\n      <td>1</td>\n      <td>42.856272</td>\n      <td>63.691499</td>\n      <td>30.908242</td>\n      <td>72.754951</td>\n      <td>*C1e, *A1e, *B1e, A1e, *C1, *A1, *B1, A1, *G1e...</td>\n    </tr>\n    <tr>\n      <th>2</th>\n      <td>3</td>\n      <td>11.612792</td>\n      <td>17.258527</td>\n      <td>5.413121</td>\n      <td>12.741953</td>\n      <td>*C3, *A3, *B3, A3, F3, *G3, *D3, *E3, E3</td>\n    </tr>\n    <tr>\n      <th>6</th>\n      <td>L-all</td>\n      <td>5.601269</td>\n      <td>8.324411</td>\n      <td>2.731338</td>\n      <td>6.429300</td>\n      <td>L-a, L-u, L-n, L-f</td>\n    </tr>\n    <tr>\n      <th>4</th>\n      <td>5</td>\n      <td>3.911037</td>\n      <td>5.812447</td>\n      <td>1.958925</td>\n      <td>4.611117</td>\n      <td>*C5, *A5, *B5, A5, *G5, F5</td>\n    </tr>\n    <tr>\n      <th>5</th>\n      <td>6</td>\n      <td>1.911558</td>\n      <td>2.840890</td>\n      <td>0.876099</td>\n      <td>2.062251</td>\n      <td>*C6, *A6, *B6, A6, *G6, F6</td>\n    </tr>\n    <tr>\n      <th>3</th>\n      <td>4</td>\n      <td>1.372237</td>\n      <td>2.039371</td>\n      <td>0.579673</td>\n      <td>1.364492</td>\n      <td>*C4, *A4, *B4, A4, *G4, F4</td>\n    </tr>\n    <tr>\n      <th>1</th>\n      <td>2</td>\n      <td>0.022107</td>\n      <td>0.032854</td>\n      <td>0.015266</td>\n      <td>0.035936</td>\n      <td>*A2</td>\n    </tr>\n  </tbody>\n</table>\n</div>"
     },
     "metadata": {},
     "output_type": "display_data"
    }
   ],
   "source": [
    "print('Facilities by count (combined parimary + lagoons):')\n",
    "solids_sorted_by_count = process_treatment_data(tt_data, combine_solids_treatment, 'tt_solids', total_facilities, sort_by='count_fraction')\n",
    "print('Facilities by emissions fraction (combined primary + lagoons):')\n",
    "solids_sorted_by_emissions = process_treatment_data(tt_data, combine_solids_treatment, 'tt_solids', total_facilities, sort_by='emissions_fraction')\n"
   ],
   "metadata": {
    "collapsed": false,
    "ExecuteTime": {
     "end_time": "2024-10-25T18:38:30.175705Z",
     "start_time": "2024-10-25T18:38:30.019804Z"
    }
   },
   "id": "1c6009b17b325838"
  },
  {
   "cell_type": "code",
   "execution_count": 8,
   "outputs": [
    {
     "data": {
      "text/plain": "  tt_solids  flow_Bm3yr  flow_fraction\n6     L-all    5.601269       8.324411\n2         3   11.612792      17.258527\n0         1   42.856272      63.691499",
      "text/html": "<div>\n<style scoped>\n    .dataframe tbody tr th:only-of-type {\n        vertical-align: middle;\n    }\n\n    .dataframe tbody tr th {\n        vertical-align: top;\n    }\n\n    .dataframe thead th {\n        text-align: right;\n    }\n</style>\n<table border=\"1\" class=\"dataframe\">\n  <thead>\n    <tr style=\"text-align: right;\">\n      <th></th>\n      <th>tt_solids</th>\n      <th>flow_Bm3yr</th>\n      <th>flow_fraction</th>\n    </tr>\n  </thead>\n  <tbody>\n    <tr>\n      <th>6</th>\n      <td>L-all</td>\n      <td>5.601269</td>\n      <td>8.324411</td>\n    </tr>\n    <tr>\n      <th>2</th>\n      <td>3</td>\n      <td>11.612792</td>\n      <td>17.258527</td>\n    </tr>\n    <tr>\n      <th>0</th>\n      <td>1</td>\n      <td>42.856272</td>\n      <td>63.691499</td>\n    </tr>\n  </tbody>\n</table>\n</div>"
     },
     "metadata": {},
     "output_type": "display_data"
    }
   ],
   "source": [
    "# Text in paper: find the flow rate and facilities data for the two most common treatment trains  \n",
    "n = 3 \n",
    "\n",
    "# get n most common liquid treatment \n",
    "\n",
    "top_by_count = solids_sorted_by_count.head(n)\n",
    "solids_result = top_by_count[['tt_solids', 'flow_Bm3yr', 'flow_fraction']] # don't use count fraction, calculated below. Printing here just for comparison \n",
    "display(solids_result)"
   ],
   "metadata": {
    "collapsed": false,
    "ExecuteTime": {
     "end_time": "2024-10-25T18:38:30.192171Z",
     "start_time": "2024-10-25T18:38:30.038635Z"
    }
   },
   "id": "4a7da4d9dea3ba3b"
  },
  {
   "cell_type": "code",
   "execution_count": 9,
   "outputs": [
    {
     "name": "stdout",
     "output_type": "stream",
     "text": [
      "Processes of interest: ['1'] (ANY)\n",
      "Number of facilities: 3,071\n",
      "Fraction of total facilities: 19.35%\n"
     ]
    },
    {
     "data": {
      "text/plain": "(3071, 19.354635406819185)"
     },
     "execution_count": 9,
     "metadata": {},
     "output_type": "execute_result"
    }
   ],
   "source": [
    "calculate_facility_fraction_for_process(['1'], facility_data)"
   ],
   "metadata": {
    "collapsed": false,
    "ExecuteTime": {
     "end_time": "2024-10-25T18:38:30.204405Z",
     "start_time": "2024-10-25T18:38:30.040946Z"
    }
   },
   "id": "cf49ee3a7b6b0dd9"
  },
  {
   "cell_type": "code",
   "execution_count": 10,
   "outputs": [
    {
     "name": "stdout",
     "output_type": "stream",
     "text": [
      "Processes of interest: 2 (ANY)\n",
      "Number of facilities: 1\n",
      "Fraction of total facilities: 0.006302%\n"
     ]
    },
    {
     "data": {
      "text/plain": "(1, 0.006302388605281401)"
     },
     "execution_count": 10,
     "metadata": {},
     "output_type": "execute_result"
    }
   ],
   "source": [
    "calculate_facility_fraction_for_process('2', facility_data)"
   ],
   "metadata": {
    "collapsed": false,
    "ExecuteTime": {
     "end_time": "2024-10-25T18:38:30.206802Z",
     "start_time": "2024-10-25T18:38:30.063885Z"
    }
   },
   "id": "37eb118ef7674712"
  },
  {
   "cell_type": "code",
   "execution_count": 11,
   "outputs": [
    {
     "name": "stdout",
     "output_type": "stream",
     "text": [
      "Processes of interest: 3 (ANY)\n",
      "Number of facilities: 5,018\n",
      "Fraction of total facilities: 31.63%\n"
     ]
    },
    {
     "data": {
      "text/plain": "(5018, 31.62538602130207)"
     },
     "execution_count": 11,
     "metadata": {},
     "output_type": "execute_result"
    }
   ],
   "source": [
    "calculate_facility_fraction_for_process('3', facility_data)"
   ],
   "metadata": {
    "collapsed": false,
    "ExecuteTime": {
     "end_time": "2024-10-25T18:38:30.214449Z",
     "start_time": "2024-10-25T18:38:30.075979Z"
    }
   },
   "id": "c8840a7e91dd7147"
  },
  {
   "cell_type": "markdown",
   "source": [
    "Paragraph starting with: \"The total number of facilities and the corresponding estimated total flow treated nationwide for each treatment train is depicted in Figure 2A\"\n",
    "\n",
    "9/20/24 updated text reads: \n",
    "\"In terms of solids treatment, 32% of facilities use aerobic digestion (solids code 3) while 19% use anaerobic digestion (solids code 1).\""
   ],
   "metadata": {
    "collapsed": false
   },
   "id": "deef811a0a978352"
  },
  {
   "cell_type": "code",
   "execution_count": 12,
   "outputs": [
    {
     "name": "stdout",
     "output_type": "stream",
     "text": [
      "Processes of interest: e (ANY)\n",
      "Number of facilities: 321\n",
      "Fraction of total facilities: 2.023%\n"
     ]
    },
    {
     "data": {
      "text/plain": "   flow_Bm3yr  flow_fraction  total_emissions_annual_mmtCO2_per_year  \\\n0   51.648718      76.758526                               31.748625   \n1   15.638553      23.241474                               10.734040   \n\n   emissions_fraction  methane_mmtCO2_per_year  \n0            74.73313                13.006523  \n1            25.26687                 5.951169  ",
      "text/html": "<div>\n<style scoped>\n    .dataframe tbody tr th:only-of-type {\n        vertical-align: middle;\n    }\n\n    .dataframe tbody tr th {\n        vertical-align: top;\n    }\n\n    .dataframe thead th {\n        text-align: right;\n    }\n</style>\n<table border=\"1\" class=\"dataframe\">\n  <thead>\n    <tr style=\"text-align: right;\">\n      <th></th>\n      <th>flow_Bm3yr</th>\n      <th>flow_fraction</th>\n      <th>total_emissions_annual_mmtCO2_per_year</th>\n      <th>emissions_fraction</th>\n      <th>methane_mmtCO2_per_year</th>\n    </tr>\n  </thead>\n  <tbody>\n    <tr>\n      <th>0</th>\n      <td>51.648718</td>\n      <td>76.758526</td>\n      <td>31.748625</td>\n      <td>74.73313</td>\n      <td>13.006523</td>\n    </tr>\n    <tr>\n      <th>1</th>\n      <td>15.638553</td>\n      <td>23.241474</td>\n      <td>10.734040</td>\n      <td>25.26687</td>\n      <td>5.951169</td>\n    </tr>\n  </tbody>\n</table>\n</div>"
     },
     "metadata": {},
     "output_type": "display_data"
    }
   ],
   "source": [
    "# How many facilities use CHP? \n",
    "\n",
    "##### Use the facility data spreadsheet to obtain total count of facilities with CHP\n",
    "chp_num, chp_frac = calculate_facility_fraction_for_process('e', facility_data)\n",
    "\n",
    "\n",
    "##### Use the tt_data spreadsheet to calculate total flow and emissions for facilities with CHP\n",
    "tt_chp = tt_data\n",
    "tt_chp['chp'] = tt_data['code'].str.contains('e')\n",
    "\n",
    "# Group by combined treatment trains and aggregate\n",
    "aggregated_columns = {col: 'sum' for col in tt_chp.columns if col not in ['code', 'tt_solids', 'chp']}\n",
    "tt_chp_grouped = tt_chp.groupby('chp').agg(aggregated_columns).reset_index()\n",
    "\n",
    "tt_chp_grouped = calc_key_stats(tt_chp_grouped, total_facilities)\n",
    "\n",
    "\n",
    "relevant_cols = ['flow_Bm3yr', 'flow_fraction', 'total_emissions_annual_mmtCO2_per_year', 'emissions_fraction', 'methane_mmtCO2_per_year']\n",
    "\n",
    "display(tt_chp_grouped[relevant_cols])"
   ],
   "metadata": {
    "collapsed": false,
    "ExecuteTime": {
     "end_time": "2024-10-25T18:38:30.310938Z",
     "start_time": "2024-10-25T18:38:30.089995Z"
    }
   },
   "id": "de2cab5d56135308"
  },
  {
   "cell_type": "code",
   "execution_count": 13,
   "outputs": [
    {
     "name": "stdout",
     "output_type": "stream",
     "text": [
      "Processes of interest: 1 (ANY)\n",
      "Number of facilities: 3,071\n",
      "Fraction of total facilities: 19.35%\n",
      "\n",
      "Fraction of AD facilities with CHP: 10.45%\n"
     ]
    }
   ],
   "source": [
    "ad_num, ad_frac = calculate_facility_fraction_for_process('1', facility_data)\n",
    "print(f'\\nFraction of AD facilities with CHP: {chp_num/ad_num*100:0.4n}%')\n"
   ],
   "metadata": {
    "collapsed": false,
    "ExecuteTime": {
     "end_time": "2024-10-25T18:38:30.330125Z",
     "start_time": "2024-10-25T18:38:30.098643Z"
    }
   },
   "id": "8896c19bd84edd5e"
  },
  {
   "cell_type": "markdown",
   "source": [
    "Text from paper: \n",
    "\"Additionally, only 321 facilities recover energy from biogas production, accounting for 11% of plants with anaerobic digestion capabilities\""
   ],
   "metadata": {
    "collapsed": false
   },
   "id": "338aa2fb7fc05545"
  },
  {
   "cell_type": "markdown",
   "source": [
    "### Statistics for facilities with CHP"
   ],
   "metadata": {
    "collapsed": false
   },
   "id": "6505f7aa75afdb97"
  },
  {
   "cell_type": "code",
   "execution_count": 14,
   "outputs": [
    {
     "name": "stdout",
     "output_type": "stream",
     "text": [
      "Facilities with AD:\n",
      "Processes of interest: ['1', '2'] (ANY)\n",
      "Number of facilities: 3,071\n",
      "Fraction of total facilities: 19.35%\n"
     ]
    }
   ],
   "source": [
    "# Facilities with AD \n",
    "\n",
    "# # Filter process of interest \n",
    "print('Facilities with AD:')\n",
    "total_ad = calculate_facility_fraction_for_process(['1','2'], facility_data)"
   ],
   "metadata": {
    "collapsed": false,
    "ExecuteTime": {
     "end_time": "2024-10-25T18:38:30.331569Z",
     "start_time": "2024-10-25T18:38:30.111165Z"
    }
   },
   "id": "8f544c5eae0315ae"
  },
  {
   "cell_type": "code",
   "execution_count": 15,
   "outputs": [
    {
     "name": "stdout",
     "output_type": "stream",
     "text": [
      "Facilities with AD:\n",
      "Average flow rate: 10.81 MGD\n",
      "Average flow rate: 14.94 million M3/year\n",
      "Average flow rate: 40,920.54  M3/day\n",
      "\n",
      "\n",
      "Facilities with CHP:\n",
      "Processes of interest: e (ANY)\n",
      "Number of facilities: 321\n",
      "Fraction of total facilities: 2.023%\n",
      "\n",
      "\n",
      "CHP average flow rate: \n",
      "Average flow rate: 36.72 MGD\n",
      "Average flow rate: 50.74 million M3/year\n",
      "Average flow rate: 139,009.24  M3/day\n"
     ]
    }
   ],
   "source": [
    "# Calculate flow rate of facilities with AD \n",
    "\n",
    "facilities_ad = filter_facilities_by_process(['1','2'], facility_data)\n",
    "facilities_ad_mean_mgd = facilities_ad['FLOW_2022_MGD_FINAL'].mean()\n",
    "print('Facilities with AD:')\n",
    "print(f\"Average flow rate: {facilities_ad_mean_mgd:0.4n} MGD\")\n",
    "print(f\"Average flow rate: {mgd_to_Bm3_yr(facilities_ad_mean_mgd)*1000:0.4n} million M3/year\")\n",
    "print(f\"Average flow rate: {mgd_to_Bm3_yr(facilities_ad_mean_mgd)*1E9/365:,.2f}  M3/day\")\n",
    "\n",
    "print('\\n')\n",
    "print('Facilities with CHP:')\n",
    "calculate_facility_fraction_for_process('e', facility_data)\n",
    "print('\\n')\n",
    "\n",
    "# Filter process of interest \n",
    "facilities_chp = filter_facilities_by_process(['e'], facility_data)\n",
    "facilites_chp_mean_mgd = facilities_chp['FLOW_2022_MGD_FINAL'].mean()\n",
    "print('CHP average flow rate: ')\n",
    "print(f\"Average flow rate: {facilites_chp_mean_mgd:0.4n} MGD\")\n",
    "print(f\"Average flow rate: {mgd_to_Bm3_yr(facilites_chp_mean_mgd)*1000:0.4n} million M3/year\")\n",
    "print(f\"Average flow rate: {mgd_to_Bm3_yr(facilites_chp_mean_mgd)*1E9/365:,.2f}  M3/day\")\n"
   ],
   "metadata": {
    "collapsed": false,
    "ExecuteTime": {
     "end_time": "2024-10-25T18:38:30.342497Z",
     "start_time": "2024-10-25T18:38:30.136869Z"
    }
   },
   "id": "c114c09d555bee74"
  },
  {
   "cell_type": "markdown",
   "source": [
    "### Most abundant liquid/solid combo\n",
    "\n",
    "Paragraph in results starting with \"The single most common combination of liquid and solids handling in a treatment train is..."
   ],
   "metadata": {
    "collapsed": false
   },
   "id": "7cb6a4ec0cb70c2d"
  },
  {
   "cell_type": "code",
   "execution_count": 16,
   "outputs": [
    {
     "data": {
      "text/plain": "   tt_primary  flow_Bm3yr  flow_fraction  \\\n40        L-u    3.004462       4.465126   \n1       (*)A3    6.686585       9.937370   \n37        L-a    2.185097       3.247415   \n13        *C1    4.452909       6.617759   \n0    (*)A1(e)   11.577214      17.205653   \n5       (*)E3    2.660607       3.954101   \n38        L-f    0.370574       0.550734   \n21        *E1    9.638069      14.323763   \n15        *C3    0.668022       0.992791   \n31         F1    3.473244       5.161815   \n\n    total_emissions_annual_mmtCO2_per_year  emissions_fraction  \\\n40                                1.465061            3.448609   \n1                                 2.685711            6.321898   \n37                                0.978250            2.302704   \n13                                2.665718            6.274836   \n0                                 6.953718           16.368365   \n5                                 1.600019            3.766286   \n38                                0.259249            0.610246   \n21                                8.055816           18.962597   \n15                                0.246610            0.580495   \n31                                2.954795            6.955296   \n\n       labels_combined  \n40                 L-u  \n1              *A3, A3  \n37                 L-a  \n13                 *C1  \n0   *A1e, A1e, *A1, A1  \n5              *E3, E3  \n38                 L-f  \n21                 *E1  \n15                 *C3  \n31                  F1  ",
      "text/html": "<div>\n<style scoped>\n    .dataframe tbody tr th:only-of-type {\n        vertical-align: middle;\n    }\n\n    .dataframe tbody tr th {\n        vertical-align: top;\n    }\n\n    .dataframe thead th {\n        text-align: right;\n    }\n</style>\n<table border=\"1\" class=\"dataframe\">\n  <thead>\n    <tr style=\"text-align: right;\">\n      <th></th>\n      <th>tt_primary</th>\n      <th>flow_Bm3yr</th>\n      <th>flow_fraction</th>\n      <th>total_emissions_annual_mmtCO2_per_year</th>\n      <th>emissions_fraction</th>\n      <th>labels_combined</th>\n    </tr>\n  </thead>\n  <tbody>\n    <tr>\n      <th>40</th>\n      <td>L-u</td>\n      <td>3.004462</td>\n      <td>4.465126</td>\n      <td>1.465061</td>\n      <td>3.448609</td>\n      <td>L-u</td>\n    </tr>\n    <tr>\n      <th>1</th>\n      <td>(*)A3</td>\n      <td>6.686585</td>\n      <td>9.937370</td>\n      <td>2.685711</td>\n      <td>6.321898</td>\n      <td>*A3, A3</td>\n    </tr>\n    <tr>\n      <th>37</th>\n      <td>L-a</td>\n      <td>2.185097</td>\n      <td>3.247415</td>\n      <td>0.978250</td>\n      <td>2.302704</td>\n      <td>L-a</td>\n    </tr>\n    <tr>\n      <th>13</th>\n      <td>*C1</td>\n      <td>4.452909</td>\n      <td>6.617759</td>\n      <td>2.665718</td>\n      <td>6.274836</td>\n      <td>*C1</td>\n    </tr>\n    <tr>\n      <th>0</th>\n      <td>(*)A1(e)</td>\n      <td>11.577214</td>\n      <td>17.205653</td>\n      <td>6.953718</td>\n      <td>16.368365</td>\n      <td>*A1e, A1e, *A1, A1</td>\n    </tr>\n    <tr>\n      <th>5</th>\n      <td>(*)E3</td>\n      <td>2.660607</td>\n      <td>3.954101</td>\n      <td>1.600019</td>\n      <td>3.766286</td>\n      <td>*E3, E3</td>\n    </tr>\n    <tr>\n      <th>38</th>\n      <td>L-f</td>\n      <td>0.370574</td>\n      <td>0.550734</td>\n      <td>0.259249</td>\n      <td>0.610246</td>\n      <td>L-f</td>\n    </tr>\n    <tr>\n      <th>21</th>\n      <td>*E1</td>\n      <td>9.638069</td>\n      <td>14.323763</td>\n      <td>8.055816</td>\n      <td>18.962597</td>\n      <td>*E1</td>\n    </tr>\n    <tr>\n      <th>15</th>\n      <td>*C3</td>\n      <td>0.668022</td>\n      <td>0.992791</td>\n      <td>0.246610</td>\n      <td>0.580495</td>\n      <td>*C3</td>\n    </tr>\n    <tr>\n      <th>31</th>\n      <td>F1</td>\n      <td>3.473244</td>\n      <td>5.161815</td>\n      <td>2.954795</td>\n      <td>6.955296</td>\n      <td>F1</td>\n    </tr>\n  </tbody>\n</table>\n</div>"
     },
     "metadata": {},
     "output_type": "display_data"
    }
   ],
   "source": [
    "### Combine facilities with the same primary treatment and sort by count \n",
    "primary_sorted = process_treatment_data(tt_data, combine_primary, 'tt_primary', total_facilities, sort_by='count_fraction')\n"
   ],
   "metadata": {
    "collapsed": false,
    "ExecuteTime": {
     "end_time": "2024-10-25T18:38:30.345884Z",
     "start_time": "2024-10-25T18:38:30.165269Z"
    }
   },
   "id": "f0a1613ce07bb7b7"
  },
  {
   "cell_type": "code",
   "execution_count": 17,
   "outputs": [
    {
     "name": "stdout",
     "output_type": "stream",
     "text": [
      "Processes of interest: ['A3', '*A3'] (ANY)\n",
      "Number of facilities: 3,555\n",
      "Fraction of total facilities: 22.4%\n"
     ]
    },
    {
     "data": {
      "text/plain": "(3555, 22.404991491775384)"
     },
     "execution_count": 17,
     "metadata": {},
     "output_type": "execute_result"
    }
   ],
   "source": [
    "# Obtain more accurate count of all facilities that have (*)A3 using the facilities level data \n",
    "\n",
    "calculate_facility_fraction_for_process(['A3', '*A3'], facility_data)"
   ],
   "metadata": {
    "collapsed": false,
    "ExecuteTime": {
     "end_time": "2024-10-25T18:38:30.357558Z",
     "start_time": "2024-10-25T18:38:30.179172Z"
    }
   },
   "id": "5375570b27959fe4"
  },
  {
   "cell_type": "markdown",
   "source": [
    "Text from paper (9/27/24 update): \n",
    "\n",
    "\"The single most common combination of liquid and solids handling in a treatment train is basic activated sludge coupled with aerobic digestion (code (*)A3), which accounts for 3,555 facilities, or nearly 22% of the entire fleet\" "
   ],
   "metadata": {
    "collapsed": false
   },
   "id": "8089bae60a341ab3"
  },
  {
   "cell_type": "code",
   "execution_count": 18,
   "outputs": [
    {
     "data": {
      "text/plain": "   tt_primary  flow_Bm3yr  flow_fraction  \\\n0    (*)A1(e)   11.577214      17.205653   \n21        *E1    9.638069      14.323763   \n1       (*)A3    6.686585       9.937370   \n13        *C1    4.452909       6.617759   \n22       *E1e    4.067903       6.045576   \n31         F1    3.473244       5.161815   \n40        L-u    3.004462       4.465126   \n5       (*)E3    2.660607       3.954101   \n3       (*)A5    2.239571       3.328372   \n8        *B1e    2.233527       3.319390   \n\n    total_emissions_annual_mmtCO2_per_year  emissions_fraction  \\\n0                                 6.953718           16.368365   \n21                                8.055816           18.962597   \n1                                 2.685711            6.321898   \n13                                2.665718            6.274836   \n22                                3.165288            7.450776   \n31                                2.954795            6.955296   \n40                                1.465061            3.448609   \n5                                 1.600019            3.766286   \n3                                 1.022666            2.407256   \n8                                 1.291170            3.039287   \n\n       labels_combined  \n0   *A1e, A1e, *A1, A1  \n21                 *E1  \n1              *A3, A3  \n13                 *C1  \n22                *E1e  \n31                  F1  \n40                 L-u  \n5              *E3, E3  \n3              *A5, A5  \n8                 *B1e  ",
      "text/html": "<div>\n<style scoped>\n    .dataframe tbody tr th:only-of-type {\n        vertical-align: middle;\n    }\n\n    .dataframe tbody tr th {\n        vertical-align: top;\n    }\n\n    .dataframe thead th {\n        text-align: right;\n    }\n</style>\n<table border=\"1\" class=\"dataframe\">\n  <thead>\n    <tr style=\"text-align: right;\">\n      <th></th>\n      <th>tt_primary</th>\n      <th>flow_Bm3yr</th>\n      <th>flow_fraction</th>\n      <th>total_emissions_annual_mmtCO2_per_year</th>\n      <th>emissions_fraction</th>\n      <th>labels_combined</th>\n    </tr>\n  </thead>\n  <tbody>\n    <tr>\n      <th>0</th>\n      <td>(*)A1(e)</td>\n      <td>11.577214</td>\n      <td>17.205653</td>\n      <td>6.953718</td>\n      <td>16.368365</td>\n      <td>*A1e, A1e, *A1, A1</td>\n    </tr>\n    <tr>\n      <th>21</th>\n      <td>*E1</td>\n      <td>9.638069</td>\n      <td>14.323763</td>\n      <td>8.055816</td>\n      <td>18.962597</td>\n      <td>*E1</td>\n    </tr>\n    <tr>\n      <th>1</th>\n      <td>(*)A3</td>\n      <td>6.686585</td>\n      <td>9.937370</td>\n      <td>2.685711</td>\n      <td>6.321898</td>\n      <td>*A3, A3</td>\n    </tr>\n    <tr>\n      <th>13</th>\n      <td>*C1</td>\n      <td>4.452909</td>\n      <td>6.617759</td>\n      <td>2.665718</td>\n      <td>6.274836</td>\n      <td>*C1</td>\n    </tr>\n    <tr>\n      <th>22</th>\n      <td>*E1e</td>\n      <td>4.067903</td>\n      <td>6.045576</td>\n      <td>3.165288</td>\n      <td>7.450776</td>\n      <td>*E1e</td>\n    </tr>\n    <tr>\n      <th>31</th>\n      <td>F1</td>\n      <td>3.473244</td>\n      <td>5.161815</td>\n      <td>2.954795</td>\n      <td>6.955296</td>\n      <td>F1</td>\n    </tr>\n    <tr>\n      <th>40</th>\n      <td>L-u</td>\n      <td>3.004462</td>\n      <td>4.465126</td>\n      <td>1.465061</td>\n      <td>3.448609</td>\n      <td>L-u</td>\n    </tr>\n    <tr>\n      <th>5</th>\n      <td>(*)E3</td>\n      <td>2.660607</td>\n      <td>3.954101</td>\n      <td>1.600019</td>\n      <td>3.766286</td>\n      <td>*E3, E3</td>\n    </tr>\n    <tr>\n      <th>3</th>\n      <td>(*)A5</td>\n      <td>2.239571</td>\n      <td>3.328372</td>\n      <td>1.022666</td>\n      <td>2.407256</td>\n      <td>*A5, A5</td>\n    </tr>\n    <tr>\n      <th>8</th>\n      <td>*B1e</td>\n      <td>2.233527</td>\n      <td>3.319390</td>\n      <td>1.291170</td>\n      <td>3.039287</td>\n      <td>*B1e</td>\n    </tr>\n  </tbody>\n</table>\n</div>"
     },
     "metadata": {},
     "output_type": "display_data"
    }
   ],
   "source": [
    "# Sort by flow fraction \n",
    "primary_sorted = process_treatment_data(tt_data, combine_primary, 'tt_primary', total_facilities, sort_by='flow_fraction')\n",
    "#display(primary_sorted_by_flow[relevant_cols].head(10))\n"
   ],
   "metadata": {
    "collapsed": false,
    "ExecuteTime": {
     "end_time": "2024-10-25T18:38:30.368515Z",
     "start_time": "2024-10-25T18:38:30.183718Z"
    }
   },
   "id": "abc7d003bb34867"
  },
  {
   "cell_type": "code",
   "execution_count": 19,
   "outputs": [
    {
     "name": "stdout",
     "output_type": "stream",
     "text": [
      "Processes of interest: ['A1'] (ANY)\n",
      "Number of facilities: 1,149\n",
      "Fraction of total facilities: 7.241%\n"
     ]
    },
    {
     "data": {
      "text/plain": "(1149, 7.241444507468331)"
     },
     "execution_count": 19,
     "metadata": {},
     "output_type": "execute_result"
    }
   ],
   "source": [
    "# Obtain more accurate count of all facilities that have (*)A1 using the facilities level data \n",
    "calculate_facility_fraction_for_process(['A1'], facility_data) # filter for any TT with term \"A1\" in it, which includes: A1, *A1, *A1e"
   ],
   "metadata": {
    "collapsed": false,
    "ExecuteTime": {
     "end_time": "2024-10-25T18:38:30.373618Z",
     "start_time": "2024-10-25T18:38:30.193879Z"
    }
   },
   "id": "8cbbbbc6668dd7f8"
  },
  {
   "cell_type": "markdown",
   "source": [
    "Text from paper: 09/27/24 update \n",
    "\n",
    "\"While a lower proportion of all facilities (7%), basic activated sludge and anaerobic digestion ([*]A1) is the treatment train that treats the most wastewater (17%).\" "
   ],
   "metadata": {
    "collapsed": false
   },
   "id": "f66fc5de810ce445"
  },
  {
   "cell_type": "markdown",
   "source": [
    "### Treatment objective"
   ],
   "metadata": {
    "collapsed": false
   },
   "id": "c0c8ede60846eb56"
  },
  {
   "cell_type": "code",
   "execution_count": 20,
   "outputs": [
    {
     "data": {
      "text/plain": "          tt_target  flow_Bm3yr  flow_fraction  \\\n5  organics removal   35.229319      52.356587   \n3               L-u    3.004462       4.465126   \n4  nutrient removal   26.456684      39.319003   \n0               L-a    2.185097       3.247415   \n1               L-f    0.370574       0.550734   \n2               L-n    0.041136       0.061135   \n\n   total_emissions_annual_mmtCO2_per_year  emissions_fraction  \\\n5                               18.380080           43.264894   \n3                                1.465061            3.448609   \n4                               21.371247           50.305806   \n0                                0.978250            2.302704   \n1                                0.259249            0.610246   \n2                                0.028778            0.067742   \n\n                                     labels_combined  \n5  *C4, *C6, *C5, *A4, *A6, *B4, *C3, *B6, *A5, A...  \n3                                                L-u  \n4  *G4, *G6, F4, *G5, F6, F3, F5, *G3, *D3, *E3, ...  \n0                                                L-a  \n1                                                L-f  \n2                                                L-n  ",
      "text/html": "<div>\n<style scoped>\n    .dataframe tbody tr th:only-of-type {\n        vertical-align: middle;\n    }\n\n    .dataframe tbody tr th {\n        vertical-align: top;\n    }\n\n    .dataframe thead th {\n        text-align: right;\n    }\n</style>\n<table border=\"1\" class=\"dataframe\">\n  <thead>\n    <tr style=\"text-align: right;\">\n      <th></th>\n      <th>tt_target</th>\n      <th>flow_Bm3yr</th>\n      <th>flow_fraction</th>\n      <th>total_emissions_annual_mmtCO2_per_year</th>\n      <th>emissions_fraction</th>\n      <th>labels_combined</th>\n    </tr>\n  </thead>\n  <tbody>\n    <tr>\n      <th>5</th>\n      <td>organics removal</td>\n      <td>35.229319</td>\n      <td>52.356587</td>\n      <td>18.380080</td>\n      <td>43.264894</td>\n      <td>*C4, *C6, *C5, *A4, *A6, *B4, *C3, *B6, *A5, A...</td>\n    </tr>\n    <tr>\n      <th>3</th>\n      <td>L-u</td>\n      <td>3.004462</td>\n      <td>4.465126</td>\n      <td>1.465061</td>\n      <td>3.448609</td>\n      <td>L-u</td>\n    </tr>\n    <tr>\n      <th>4</th>\n      <td>nutrient removal</td>\n      <td>26.456684</td>\n      <td>39.319003</td>\n      <td>21.371247</td>\n      <td>50.305806</td>\n      <td>*G4, *G6, F4, *G5, F6, F3, F5, *G3, *D3, *E3, ...</td>\n    </tr>\n    <tr>\n      <th>0</th>\n      <td>L-a</td>\n      <td>2.185097</td>\n      <td>3.247415</td>\n      <td>0.978250</td>\n      <td>2.302704</td>\n      <td>L-a</td>\n    </tr>\n    <tr>\n      <th>1</th>\n      <td>L-f</td>\n      <td>0.370574</td>\n      <td>0.550734</td>\n      <td>0.259249</td>\n      <td>0.610246</td>\n      <td>L-f</td>\n    </tr>\n    <tr>\n      <th>2</th>\n      <td>L-n</td>\n      <td>0.041136</td>\n      <td>0.061135</td>\n      <td>0.028778</td>\n      <td>0.067742</td>\n      <td>L-n</td>\n    </tr>\n  </tbody>\n</table>\n</div>"
     },
     "metadata": {},
     "output_type": "display_data"
    }
   ],
   "source": [
    "### Combine facilities based on their treatment objective\n",
    "target_sorted = process_treatment_data(tt_data, combine_treatment_target, 'tt_target', total_facilities, sort_by='count_fraction')\n"
   ],
   "metadata": {
    "collapsed": false,
    "ExecuteTime": {
     "end_time": "2024-10-25T18:38:30.384735Z",
     "start_time": "2024-10-25T18:38:30.209383Z"
    }
   },
   "id": "bec5078c5e42b0d6"
  },
  {
   "cell_type": "code",
   "execution_count": 21,
   "outputs": [
    {
     "name": "stdout",
     "output_type": "stream",
     "text": [
      "Processes of interest: ['D', 'E', 'F', 'G'] (ANY)\n",
      "Number of facilities: 2,000\n",
      "Fraction of total facilities: 12.6%\n"
     ]
    },
    {
     "data": {
      "text/plain": "(2000, 12.604777210562803)"
     },
     "execution_count": 21,
     "metadata": {},
     "output_type": "execute_result"
    }
   ],
   "source": [
    "calculate_facility_fraction_for_process(['D', 'E', 'F', 'G'], facility_data)"
   ],
   "metadata": {
    "collapsed": false,
    "ExecuteTime": {
     "end_time": "2024-10-25T18:38:30.396546Z",
     "start_time": "2024-10-25T18:38:30.233328Z"
    }
   },
   "id": "10cd7038af9c0794"
  },
  {
   "cell_type": "markdown",
   "source": [
    "Text from paper: \n",
    "\"Nutrient transformation or removal (liquids codes D, E, F, G) account for a small portion of total facilities (13%) but treat 52% of total national flow (25 billion m3/ year).\" "
   ],
   "metadata": {
    "collapsed": false
   },
   "id": "82c1890cc2687af1"
  },
  {
   "cell_type": "markdown",
   "source": [
    "## Energy calculations\n",
    "Section: Electricity and natural gas requirements"
   ],
   "metadata": {
    "collapsed": false
   },
   "id": "b2286d1a48bf3c7"
  },
  {
   "cell_type": "code",
   "execution_count": 22,
   "outputs": [
    {
     "data": {
      "text/plain": "    code  electricity_total_kwh_per_m3  electricity_percent_process  \\\n29  *C1e                      0.163789                    84.306603   \n46   L-f                      0.174354                   100.000000   \n45   L-n                      0.174354                   100.000000   \n30  *A1e                      0.206293                    90.037137   \n31  *B1e                      0.249051                    91.747608   \n0    *C4                      0.278287                    89.930209   \n32   A1e                      0.295333                    93.040852   \n33   *C1                      0.305146                    91.576487   \n47  *E1e                      0.306198                    94.961538   \n1    *C6                      0.306533                    91.614599   \n\n    electricity_percent_chemical  electricity_chem_kwh_per_m3  \\\n29                     15.693397                     0.025704   \n46                      0.000000                     0.000000   \n45                      0.000000                     0.000000   \n30                      9.962863                     0.020553   \n31                      8.252392                     0.020553   \n0                      10.069791                     0.028023   \n32                      6.959148                     0.020553   \n33                      8.423513                     0.025704   \n47                      5.038462                     0.015428   \n1                       8.385401                     0.025704   \n\n    electricity_other_kwh_per_m3  gas_total_MJ_per_m3  gas_percent_chemical  \\\n29                      0.138085             0.000000                   NaN   \n46                      0.174354             0.000000                   NaN   \n45                      0.174354             0.000000                   NaN   \n30                      0.185740             0.000000                   NaN   \n31                      0.228498             0.000000                   NaN   \n0                       0.250264             0.357798             53.854457   \n32                      0.274780             0.000000                   NaN   \n33                      0.279442             0.000000                   NaN   \n47                      0.290771             0.000000                   NaN   \n1                       0.280829             0.684446              0.000000   \n\n    gas_percent_process  gas_chem_MJ_per_m3  gas_other_MJ_per_m3  \n29                  NaN             0.00000             0.000000  \n46                  NaN             0.00000             0.000000  \n45                  NaN             0.00000             0.000000  \n30                  NaN             0.00000             0.000000  \n31                  NaN             0.00000             0.000000  \n0             46.145543             0.19269             0.165108  \n32                  NaN             0.00000             0.000000  \n33                  NaN             0.00000             0.000000  \n47                  NaN             0.00000             0.000000  \n1            100.000000             0.00000             0.684446  ",
      "text/html": "<div>\n<style scoped>\n    .dataframe tbody tr th:only-of-type {\n        vertical-align: middle;\n    }\n\n    .dataframe tbody tr th {\n        vertical-align: top;\n    }\n\n    .dataframe thead th {\n        text-align: right;\n    }\n</style>\n<table border=\"1\" class=\"dataframe\">\n  <thead>\n    <tr style=\"text-align: right;\">\n      <th></th>\n      <th>code</th>\n      <th>electricity_total_kwh_per_m3</th>\n      <th>electricity_percent_process</th>\n      <th>electricity_percent_chemical</th>\n      <th>electricity_chem_kwh_per_m3</th>\n      <th>electricity_other_kwh_per_m3</th>\n      <th>gas_total_MJ_per_m3</th>\n      <th>gas_percent_chemical</th>\n      <th>gas_percent_process</th>\n      <th>gas_chem_MJ_per_m3</th>\n      <th>gas_other_MJ_per_m3</th>\n    </tr>\n  </thead>\n  <tbody>\n    <tr>\n      <th>29</th>\n      <td>*C1e</td>\n      <td>0.163789</td>\n      <td>84.306603</td>\n      <td>15.693397</td>\n      <td>0.025704</td>\n      <td>0.138085</td>\n      <td>0.000000</td>\n      <td>NaN</td>\n      <td>NaN</td>\n      <td>0.00000</td>\n      <td>0.000000</td>\n    </tr>\n    <tr>\n      <th>46</th>\n      <td>L-f</td>\n      <td>0.174354</td>\n      <td>100.000000</td>\n      <td>0.000000</td>\n      <td>0.000000</td>\n      <td>0.174354</td>\n      <td>0.000000</td>\n      <td>NaN</td>\n      <td>NaN</td>\n      <td>0.00000</td>\n      <td>0.000000</td>\n    </tr>\n    <tr>\n      <th>45</th>\n      <td>L-n</td>\n      <td>0.174354</td>\n      <td>100.000000</td>\n      <td>0.000000</td>\n      <td>0.000000</td>\n      <td>0.174354</td>\n      <td>0.000000</td>\n      <td>NaN</td>\n      <td>NaN</td>\n      <td>0.00000</td>\n      <td>0.000000</td>\n    </tr>\n    <tr>\n      <th>30</th>\n      <td>*A1e</td>\n      <td>0.206293</td>\n      <td>90.037137</td>\n      <td>9.962863</td>\n      <td>0.020553</td>\n      <td>0.185740</td>\n      <td>0.000000</td>\n      <td>NaN</td>\n      <td>NaN</td>\n      <td>0.00000</td>\n      <td>0.000000</td>\n    </tr>\n    <tr>\n      <th>31</th>\n      <td>*B1e</td>\n      <td>0.249051</td>\n      <td>91.747608</td>\n      <td>8.252392</td>\n      <td>0.020553</td>\n      <td>0.228498</td>\n      <td>0.000000</td>\n      <td>NaN</td>\n      <td>NaN</td>\n      <td>0.00000</td>\n      <td>0.000000</td>\n    </tr>\n    <tr>\n      <th>0</th>\n      <td>*C4</td>\n      <td>0.278287</td>\n      <td>89.930209</td>\n      <td>10.069791</td>\n      <td>0.028023</td>\n      <td>0.250264</td>\n      <td>0.357798</td>\n      <td>53.854457</td>\n      <td>46.145543</td>\n      <td>0.19269</td>\n      <td>0.165108</td>\n    </tr>\n    <tr>\n      <th>32</th>\n      <td>A1e</td>\n      <td>0.295333</td>\n      <td>93.040852</td>\n      <td>6.959148</td>\n      <td>0.020553</td>\n      <td>0.274780</td>\n      <td>0.000000</td>\n      <td>NaN</td>\n      <td>NaN</td>\n      <td>0.00000</td>\n      <td>0.000000</td>\n    </tr>\n    <tr>\n      <th>33</th>\n      <td>*C1</td>\n      <td>0.305146</td>\n      <td>91.576487</td>\n      <td>8.423513</td>\n      <td>0.025704</td>\n      <td>0.279442</td>\n      <td>0.000000</td>\n      <td>NaN</td>\n      <td>NaN</td>\n      <td>0.00000</td>\n      <td>0.000000</td>\n    </tr>\n    <tr>\n      <th>47</th>\n      <td>*E1e</td>\n      <td>0.306198</td>\n      <td>94.961538</td>\n      <td>5.038462</td>\n      <td>0.015428</td>\n      <td>0.290771</td>\n      <td>0.000000</td>\n      <td>NaN</td>\n      <td>NaN</td>\n      <td>0.00000</td>\n      <td>0.000000</td>\n    </tr>\n    <tr>\n      <th>1</th>\n      <td>*C6</td>\n      <td>0.306533</td>\n      <td>91.614599</td>\n      <td>8.385401</td>\n      <td>0.025704</td>\n      <td>0.280829</td>\n      <td>0.684446</td>\n      <td>0.000000</td>\n      <td>100.000000</td>\n      <td>0.00000</td>\n      <td>0.684446</td>\n    </tr>\n  </tbody>\n</table>\n</div>"
     },
     "metadata": {},
     "output_type": "display_data"
    },
    {
     "name": "stdout",
     "output_type": "stream",
     "text": [
      "The treatment train with the min total electricity requirement per m3 is: *C1e\n",
      "The electricity required is: 0.1638 kWh/m3\n",
      "Energy savings from adding CHP to *C1 (trickling filter): 0.1413573202303587\n"
     ]
    }
   ],
   "source": [
    "# Which treatment train has the lowest energy requirements\n",
    "tt_electricity = tt_data\n",
    "tt_electricity['electricity_percent_chemical'] = tt_electricity['electricity_chem_kwh_per_m3']/tt_electricity['electricity_total_kwh_per_m3'] * 100\n",
    "tt_electricity['electricity_percent_process'] = tt_electricity['electricity_other_kwh_per_m3']/tt_electricity['electricity_total_kwh_per_m3'] * 100\n",
    "tt_electricity['gas_percent_chemical'] = tt_electricity['gas_chem_MJ_per_m3']/tt_electricity['gas_total_MJ_per_m3'] * 100\n",
    "tt_electricity['gas_percent_process'] = tt_electricity['gas_other_MJ_per_m3']/tt_electricity['gas_total_MJ_per_m3'] * 100\n",
    "\n",
    "tt_electricity_sorted = tt_electricity.sort_values(by='electricity_total_kwh_per_m3', ascending=True)\n",
    "\n",
    "energy_colums = ['code','electricity_total_kwh_per_m3', 'electricity_percent_process', 'electricity_percent_chemical', 'electricity_chem_kwh_per_m3', 'electricity_other_kwh_per_m3', 'gas_total_MJ_per_m3', 'gas_percent_chemical', 'gas_percent_process','gas_chem_MJ_per_m3', 'gas_other_MJ_per_m3']\n",
    "\n",
    "display(tt_electricity_sorted[energy_colums].head(10))\n",
    "\n",
    "# Find the treatment train with the greatest electricity value \n",
    "tt_min_process_energy = tt_data.loc[tt_data['electricity_total_kwh_per_m3'].idxmin()]\n",
    "\n",
    "# Get the corresponding process code\n",
    "min_process_code = tt_min_process_energy['code']\n",
    "min_electricity_needed = tt_min_process_energy['electricity_total_kwh_per_m3']\n",
    "print(f\"The treatment train with the min total electricity requirement per m3 is: {min_process_code}\")\n",
    "print(f\"The electricity required is: {min_electricity_needed:.4n} kWh/m3\")\n",
    "\n",
    "chp_energy_savings_for_C1 = tt_electricity_sorted.loc[tt_electricity_sorted['code'] == '*C1']['electricity_total_kwh_per_m3'].iloc[0] - tt_electricity_sorted.loc[tt_electricity_sorted['code'] == '*C1e']['electricity_total_kwh_per_m3'].iloc[0]\n",
    "print(f'Energy savings from adding CHP to *C1 (trickling filter): {chp_energy_savings_for_C1}')"
   ],
   "metadata": {
    "collapsed": false,
    "ExecuteTime": {
     "end_time": "2024-10-25T18:38:30.426485Z",
     "start_time": "2024-10-25T18:38:30.245232Z"
    }
   },
   "id": "bb98178207479880"
  },
  {
   "cell_type": "markdown",
   "source": [
    "Text from manuscript (09/27/24)\n",
    "Lagoons: \n",
    "\"We estimate anaerobic / facultative lagoons (codes L-n and L-f) consume the least total energy at only 0.17 kWh electrictiy·m-3 and no natural gas.\"\n",
    "\n",
    "Trickling filter: \n",
    "\"A trickling filter coupled with anaerobic digestion and energy recovery (*C1e) requires the least imported electricity (0.16 kWh electrictiy·m-3), achieving a reduction in imported electricity of 0.14 kWh·m-3 compared to the same train without combined heat and power (*C1). \" "
   ],
   "metadata": {
    "collapsed": false
   },
   "id": "753a914d4fe2ef90"
  },
  {
   "cell_type": "code",
   "execution_count": 23,
   "outputs": [
    {
     "data": {
      "text/plain": "    code  electricity_total_kwh_per_m3  electricity_percent_process  \\\n25   *D3                      1.755508                    89.503860   \n44  *D1e                      1.562253                    84.603686   \n24   *G3                      0.696663                    85.670130   \n23    F5                      0.683502                    96.993039   \n22    F3                      0.660670                    97.664841   \n21    F6                      0.649873                    96.837437   \n43    F1                      0.648315                    97.620338   \n20   *G5                      0.622714                    83.968403   \n19    F4                      0.620965                    96.324343   \n42   *G1                      0.595314                    83.230530   \n\n    electricity_percent_chemical  electricity_chem_kwh_per_m3  \\\n25                     10.496140                     0.184261   \n44                     15.396314                     0.240529   \n24                     14.329870                     0.099831   \n23                      3.006961                     0.020553   \n22                      2.335159                     0.015428   \n21                      3.162563                     0.020553   \n43                      2.379662                     0.015428   \n20                     16.031597                     0.099831   \n19                      3.675657                     0.022825   \n42                     16.769470                     0.099831   \n\n    electricity_other_kwh_per_m3  gas_total_MJ_per_m3  gas_percent_chemical  \\\n25                      1.571247             4.524251             96.350599   \n44                      1.321724             5.812200            100.000000   \n24                      0.596832             2.344693             92.958223   \n23                      0.662950             1.783722              0.000000   \n22                      0.645242             0.165108              0.000000   \n21                      0.629321             0.684446              0.000000   \n43                      0.632887             0.000000                   NaN   \n20                      0.522883             3.963306             54.994101   \n19                      0.598140             0.354731             53.455466   \n42                      0.495483             2.179585            100.000000   \n\n    gas_percent_process  gas_chem_MJ_per_m3  gas_other_MJ_per_m3  \n25             3.649401            4.359143             0.165108  \n44             0.000000            5.812200             0.000000  \n24             7.041777            2.179585             0.165108  \n23           100.000000            0.000000             1.783722  \n22           100.000000            0.000000             0.165108  \n21           100.000000            0.000000             0.684446  \n43                  NaN            0.000000             0.000000  \n20            45.005899            2.179585             1.783722  \n19            46.544534            0.189623             0.165108  \n42             0.000000            2.179585             0.000000  ",
      "text/html": "<div>\n<style scoped>\n    .dataframe tbody tr th:only-of-type {\n        vertical-align: middle;\n    }\n\n    .dataframe tbody tr th {\n        vertical-align: top;\n    }\n\n    .dataframe thead th {\n        text-align: right;\n    }\n</style>\n<table border=\"1\" class=\"dataframe\">\n  <thead>\n    <tr style=\"text-align: right;\">\n      <th></th>\n      <th>code</th>\n      <th>electricity_total_kwh_per_m3</th>\n      <th>electricity_percent_process</th>\n      <th>electricity_percent_chemical</th>\n      <th>electricity_chem_kwh_per_m3</th>\n      <th>electricity_other_kwh_per_m3</th>\n      <th>gas_total_MJ_per_m3</th>\n      <th>gas_percent_chemical</th>\n      <th>gas_percent_process</th>\n      <th>gas_chem_MJ_per_m3</th>\n      <th>gas_other_MJ_per_m3</th>\n    </tr>\n  </thead>\n  <tbody>\n    <tr>\n      <th>25</th>\n      <td>*D3</td>\n      <td>1.755508</td>\n      <td>89.503860</td>\n      <td>10.496140</td>\n      <td>0.184261</td>\n      <td>1.571247</td>\n      <td>4.524251</td>\n      <td>96.350599</td>\n      <td>3.649401</td>\n      <td>4.359143</td>\n      <td>0.165108</td>\n    </tr>\n    <tr>\n      <th>44</th>\n      <td>*D1e</td>\n      <td>1.562253</td>\n      <td>84.603686</td>\n      <td>15.396314</td>\n      <td>0.240529</td>\n      <td>1.321724</td>\n      <td>5.812200</td>\n      <td>100.000000</td>\n      <td>0.000000</td>\n      <td>5.812200</td>\n      <td>0.000000</td>\n    </tr>\n    <tr>\n      <th>24</th>\n      <td>*G3</td>\n      <td>0.696663</td>\n      <td>85.670130</td>\n      <td>14.329870</td>\n      <td>0.099831</td>\n      <td>0.596832</td>\n      <td>2.344693</td>\n      <td>92.958223</td>\n      <td>7.041777</td>\n      <td>2.179585</td>\n      <td>0.165108</td>\n    </tr>\n    <tr>\n      <th>23</th>\n      <td>F5</td>\n      <td>0.683502</td>\n      <td>96.993039</td>\n      <td>3.006961</td>\n      <td>0.020553</td>\n      <td>0.662950</td>\n      <td>1.783722</td>\n      <td>0.000000</td>\n      <td>100.000000</td>\n      <td>0.000000</td>\n      <td>1.783722</td>\n    </tr>\n    <tr>\n      <th>22</th>\n      <td>F3</td>\n      <td>0.660670</td>\n      <td>97.664841</td>\n      <td>2.335159</td>\n      <td>0.015428</td>\n      <td>0.645242</td>\n      <td>0.165108</td>\n      <td>0.000000</td>\n      <td>100.000000</td>\n      <td>0.000000</td>\n      <td>0.165108</td>\n    </tr>\n    <tr>\n      <th>21</th>\n      <td>F6</td>\n      <td>0.649873</td>\n      <td>96.837437</td>\n      <td>3.162563</td>\n      <td>0.020553</td>\n      <td>0.629321</td>\n      <td>0.684446</td>\n      <td>0.000000</td>\n      <td>100.000000</td>\n      <td>0.000000</td>\n      <td>0.684446</td>\n    </tr>\n    <tr>\n      <th>43</th>\n      <td>F1</td>\n      <td>0.648315</td>\n      <td>97.620338</td>\n      <td>2.379662</td>\n      <td>0.015428</td>\n      <td>0.632887</td>\n      <td>0.000000</td>\n      <td>NaN</td>\n      <td>NaN</td>\n      <td>0.000000</td>\n      <td>0.000000</td>\n    </tr>\n    <tr>\n      <th>20</th>\n      <td>*G5</td>\n      <td>0.622714</td>\n      <td>83.968403</td>\n      <td>16.031597</td>\n      <td>0.099831</td>\n      <td>0.522883</td>\n      <td>3.963306</td>\n      <td>54.994101</td>\n      <td>45.005899</td>\n      <td>2.179585</td>\n      <td>1.783722</td>\n    </tr>\n    <tr>\n      <th>19</th>\n      <td>F4</td>\n      <td>0.620965</td>\n      <td>96.324343</td>\n      <td>3.675657</td>\n      <td>0.022825</td>\n      <td>0.598140</td>\n      <td>0.354731</td>\n      <td>53.455466</td>\n      <td>46.544534</td>\n      <td>0.189623</td>\n      <td>0.165108</td>\n    </tr>\n    <tr>\n      <th>42</th>\n      <td>*G1</td>\n      <td>0.595314</td>\n      <td>83.230530</td>\n      <td>16.769470</td>\n      <td>0.099831</td>\n      <td>0.495483</td>\n      <td>2.179585</td>\n      <td>100.000000</td>\n      <td>0.000000</td>\n      <td>2.179585</td>\n      <td>0.000000</td>\n    </tr>\n  </tbody>\n</table>\n</div>"
     },
     "metadata": {},
     "output_type": "display_data"
    },
    {
     "name": "stdout",
     "output_type": "stream",
     "text": [
      "The treatment train with the max total electricity requirement per m3 is: *D3\n",
      "The electricity required is: 1.756 kWh/m3\n",
      "The treatment train with the max total natural gas requirement per m3 is: *D1e\n",
      "The natural gas required is: 5.812 MJ/m3\n"
     ]
    }
   ],
   "source": [
    "# Which treatment train has the highest electricity requirements\n",
    "tt_electricity_sorted = tt_electricity.sort_values(by='electricity_total_kwh_per_m3', ascending=False)\n",
    "display(tt_electricity_sorted[energy_colums].head(10))\n",
    "\n",
    "# Find the treatment train with the greatest electricity value \n",
    "tt_max_process_energy = tt_data.loc[tt_data['electricity_total_kwh_per_m3'].idxmax()]\n",
    "\n",
    "# Get the corresponding process code\n",
    "max_process_code = tt_max_process_energy['code']\n",
    "max_electricity_needed = tt_max_process_energy['electricity_total_kwh_per_m3']\n",
    "print(f\"The treatment train with the max total electricity requirement per m3 is: {max_process_code}\")\n",
    "print(f\"The electricity required is: {max_electricity_needed:.4n} kWh/m3\")\n",
    "\n",
    "# Find the treatment train with the greatest gas requirement\n",
    "tt_max_process_energy = tt_data.loc[tt_data['gas_total_MJ_per_m3'].idxmax()]\n",
    "\n",
    "# Get the corresponding process code\n",
    "max_gas_process_code = tt_max_process_energy['code']\n",
    "max_gas_needed = tt_max_process_energy['gas_total_MJ_per_m3']\n",
    "print(f\"The treatment train with the max total natural gas requirement per m3 is: {max_gas_process_code}\")\n",
    "print(f\"The natural gas required is: {max_gas_needed:.4n} MJ/m3\")"
   ],
   "metadata": {
    "collapsed": false,
    "ExecuteTime": {
     "end_time": "2024-10-25T18:38:30.554332Z",
     "start_time": "2024-10-25T18:38:30.250149Z"
    }
   },
   "id": "f2e8a739c60aaa8e"
  },
  {
   "cell_type": "markdown",
   "source": [
    "Text as of 09/27/24: \n",
    "\n",
    "\"The treatment trains with a membrane bioreactor (codes *D1e and *D3) consume the most energy: over 1.5 kWh electricity·m-3 is primarily used for powering bioreactors, and over 4.5 MJ natural gas·m-3  is primarily used for the acetic acid production needed for nutrient removal.\"\n",
    "\n",
    "\"Amongst the top ten electricity consumers, process energy demand accounts for over 80% of electricity requirements. \"\n"
   ],
   "metadata": {
    "collapsed": false
   },
   "id": "bd8421d18b3f8782"
  },
  {
   "cell_type": "markdown",
   "source": [
    "### Electricity consumption "
   ],
   "metadata": {
    "collapsed": false
   },
   "id": "133051f4bfa209cd"
  },
  {
   "cell_type": "code",
   "execution_count": 24,
   "outputs": [
    {
     "data": {
      "text/plain": "      code  electricity_total_kwh_per_m3  electricity_percent_process  \\\n25     *D3                      1.755508                    89.503860   \n44    *D1e                      1.562253                    84.603686   \n24     *G3                      0.696663                    85.670130   \n20     *G5                      0.622714                    83.968403   \n42     *G1                      0.595314                    83.230530   \n18     *G6                      0.589084                    83.053204   \n17     *G4                      0.560838                    81.786229   \n40   *G1-p                      0.533550                    90.652077   \n39    *G1e                      0.447060                    77.669444   \n38  *G1e-p                      0.375843                    86.729591   \n\n    electricity_percent_chemical  electricity_chem_kwh_per_m3  \\\n25                     10.496140                     0.184261   \n44                     15.396314                     0.240529   \n24                     14.329870                     0.099831   \n20                     16.031597                     0.099831   \n42                     16.769470                     0.099831   \n18                     16.946796                     0.099831   \n17                     18.213771                     0.102150   \n40                      9.347923                     0.049876   \n39                     22.330556                     0.099831   \n38                     13.270409                     0.049876   \n\n    electricity_other_kwh_per_m3  gas_total_MJ_per_m3  gas_percent_chemical  \\\n25                      1.571247             4.524251             96.350599   \n44                      1.321724             5.812200            100.000000   \n24                      0.596832             2.344693             92.958223   \n20                      0.522883             3.963306             54.994101   \n42                      0.495483             2.179585            100.000000   \n18                      0.489253             2.864030             76.102015   \n17                      0.458689             2.537383             93.492979   \n40                      0.483674             0.889259            100.000000   \n39                      0.347229             2.221852            100.000000   \n38                      0.325967             0.889259            100.000000   \n\n    gas_percent_process  gas_chem_MJ_per_m3  gas_other_MJ_per_m3  \n25             3.649401            4.359143             0.165108  \n44             0.000000            5.812200             0.000000  \n24             7.041777            2.179585             0.165108  \n20            45.005899            2.179585             1.783722  \n42             0.000000            2.179585             0.000000  \n18            23.897985            2.179585             0.684446  \n17             6.507021            2.372275             0.165108  \n40             0.000000            0.889259             0.000000  \n39             0.000000            2.221852             0.000000  \n38             0.000000            0.889259             0.000000  ",
      "text/html": "<div>\n<style scoped>\n    .dataframe tbody tr th:only-of-type {\n        vertical-align: middle;\n    }\n\n    .dataframe tbody tr th {\n        vertical-align: top;\n    }\n\n    .dataframe thead th {\n        text-align: right;\n    }\n</style>\n<table border=\"1\" class=\"dataframe\">\n  <thead>\n    <tr style=\"text-align: right;\">\n      <th></th>\n      <th>code</th>\n      <th>electricity_total_kwh_per_m3</th>\n      <th>electricity_percent_process</th>\n      <th>electricity_percent_chemical</th>\n      <th>electricity_chem_kwh_per_m3</th>\n      <th>electricity_other_kwh_per_m3</th>\n      <th>gas_total_MJ_per_m3</th>\n      <th>gas_percent_chemical</th>\n      <th>gas_percent_process</th>\n      <th>gas_chem_MJ_per_m3</th>\n      <th>gas_other_MJ_per_m3</th>\n    </tr>\n  </thead>\n  <tbody>\n    <tr>\n      <th>25</th>\n      <td>*D3</td>\n      <td>1.755508</td>\n      <td>89.503860</td>\n      <td>10.496140</td>\n      <td>0.184261</td>\n      <td>1.571247</td>\n      <td>4.524251</td>\n      <td>96.350599</td>\n      <td>3.649401</td>\n      <td>4.359143</td>\n      <td>0.165108</td>\n    </tr>\n    <tr>\n      <th>44</th>\n      <td>*D1e</td>\n      <td>1.562253</td>\n      <td>84.603686</td>\n      <td>15.396314</td>\n      <td>0.240529</td>\n      <td>1.321724</td>\n      <td>5.812200</td>\n      <td>100.000000</td>\n      <td>0.000000</td>\n      <td>5.812200</td>\n      <td>0.000000</td>\n    </tr>\n    <tr>\n      <th>24</th>\n      <td>*G3</td>\n      <td>0.696663</td>\n      <td>85.670130</td>\n      <td>14.329870</td>\n      <td>0.099831</td>\n      <td>0.596832</td>\n      <td>2.344693</td>\n      <td>92.958223</td>\n      <td>7.041777</td>\n      <td>2.179585</td>\n      <td>0.165108</td>\n    </tr>\n    <tr>\n      <th>20</th>\n      <td>*G5</td>\n      <td>0.622714</td>\n      <td>83.968403</td>\n      <td>16.031597</td>\n      <td>0.099831</td>\n      <td>0.522883</td>\n      <td>3.963306</td>\n      <td>54.994101</td>\n      <td>45.005899</td>\n      <td>2.179585</td>\n      <td>1.783722</td>\n    </tr>\n    <tr>\n      <th>42</th>\n      <td>*G1</td>\n      <td>0.595314</td>\n      <td>83.230530</td>\n      <td>16.769470</td>\n      <td>0.099831</td>\n      <td>0.495483</td>\n      <td>2.179585</td>\n      <td>100.000000</td>\n      <td>0.000000</td>\n      <td>2.179585</td>\n      <td>0.000000</td>\n    </tr>\n    <tr>\n      <th>18</th>\n      <td>*G6</td>\n      <td>0.589084</td>\n      <td>83.053204</td>\n      <td>16.946796</td>\n      <td>0.099831</td>\n      <td>0.489253</td>\n      <td>2.864030</td>\n      <td>76.102015</td>\n      <td>23.897985</td>\n      <td>2.179585</td>\n      <td>0.684446</td>\n    </tr>\n    <tr>\n      <th>17</th>\n      <td>*G4</td>\n      <td>0.560838</td>\n      <td>81.786229</td>\n      <td>18.213771</td>\n      <td>0.102150</td>\n      <td>0.458689</td>\n      <td>2.537383</td>\n      <td>93.492979</td>\n      <td>6.507021</td>\n      <td>2.372275</td>\n      <td>0.165108</td>\n    </tr>\n    <tr>\n      <th>40</th>\n      <td>*G1-p</td>\n      <td>0.533550</td>\n      <td>90.652077</td>\n      <td>9.347923</td>\n      <td>0.049876</td>\n      <td>0.483674</td>\n      <td>0.889259</td>\n      <td>100.000000</td>\n      <td>0.000000</td>\n      <td>0.889259</td>\n      <td>0.000000</td>\n    </tr>\n    <tr>\n      <th>39</th>\n      <td>*G1e</td>\n      <td>0.447060</td>\n      <td>77.669444</td>\n      <td>22.330556</td>\n      <td>0.099831</td>\n      <td>0.347229</td>\n      <td>2.221852</td>\n      <td>100.000000</td>\n      <td>0.000000</td>\n      <td>2.221852</td>\n      <td>0.000000</td>\n    </tr>\n    <tr>\n      <th>38</th>\n      <td>*G1e-p</td>\n      <td>0.375843</td>\n      <td>86.729591</td>\n      <td>13.270409</td>\n      <td>0.049876</td>\n      <td>0.325967</td>\n      <td>0.889259</td>\n      <td>100.000000</td>\n      <td>0.000000</td>\n      <td>0.889259</td>\n      <td>0.000000</td>\n    </tr>\n  </tbody>\n</table>\n</div>"
     },
     "metadata": {},
     "output_type": "display_data"
    },
    {
     "name": "stdout",
     "output_type": "stream",
     "text": [
      "Minimum percent of electricity going to chemicals: 9.347922958855264\n",
      "Max percent of electricity going to chemicals: 22.330556047982014\n",
      "Average percent of electricity going to chemicals: 15.31\n"
     ]
    }
   ],
   "source": [
    "# What is the percent chemical going to the nutrient removal trains? \n",
    "\n",
    "# Filter for all nutrient removal trains (D, E, F, or G)\n",
    "# tt_electricity_nutrient_removal = tt_electricity_sorted[tt_electricity_sorted['code'].str.contains(r'[DEFG]', na=False)]\n",
    "# display(tt_electricity_nutrient_removal[energy_colums])\n",
    "\n",
    "# Filter for the P removal trains (D, G)\n",
    "tt_electricity_p_removal = tt_electricity_sorted[tt_electricity_sorted['code'].str.contains(r'[DG]', na=False)]\n",
    "display(tt_electricity_p_removal[energy_colums])\n",
    "\n",
    "# Calculate min, max and mean percet of electricity going to chemicals \n",
    "min_value = tt_electricity_p_removal['electricity_percent_chemical'].min()\n",
    "max_value = tt_electricity_p_removal['electricity_percent_chemical'].max()\n",
    "average_value = tt_electricity_p_removal['electricity_percent_chemical'].mean()\n",
    "\n",
    "print(f\"Minimum percent of electricity going to chemicals: {min_value}\")\n",
    "print(f\"Max percent of electricity going to chemicals: {max_value}\")\n",
    "print(f\"Average percent of electricity going to chemicals: {average_value:.2f}\\n\")"
   ],
   "metadata": {
    "collapsed": false,
    "ExecuteTime": {
     "end_time": "2024-10-25T18:38:30.556406Z",
     "start_time": "2024-10-25T18:38:30.258913Z"
    }
   },
   "id": "14f5e74752dacd2f"
  },
  {
   "cell_type": "markdown",
   "source": [
    "### Natural Gas"
   ],
   "metadata": {
    "collapsed": false
   },
   "id": "fa1ca6609713316c"
  },
  {
   "cell_type": "code",
   "execution_count": 25,
   "outputs": [
    {
     "data": {
      "text/plain": "      code  gas_total_MJ_per_m3  gas_percent_chemical  gas_percent_process  \\\n44    *D1e             5.812200            100.000000             0.000000   \n25     *D3             4.524251             96.350599             3.649401   \n20     *G5             3.963306             54.994101            45.005899   \n18     *G6             2.864030             76.102015            23.897985   \n17     *G4             2.537383             93.492979             6.507021   \n24     *G3             2.344693             92.958223             7.041777   \n39    *G1e             2.221852            100.000000             0.000000   \n42     *G1             2.179585            100.000000             0.000000   \n23      F5             1.783722              0.000000           100.000000   \n12      A5             1.783722              0.000000           100.000000   \n11     *B5             1.783722              0.000000           100.000000   \n8      *A5             1.783722              0.000000           100.000000   \n2      *C5             1.783722              0.000000           100.000000   \n38  *G1e-p             0.889259            100.000000             0.000000   \n40   *G1-p             0.889259            100.000000             0.000000   \n36     *A2             0.726687              0.000000           100.000000   \n10      A6             0.684446              0.000000           100.000000   \n7      *B6             0.684446              0.000000           100.000000   \n4      *A6             0.684446              0.000000           100.000000   \n1      *C6             0.684446              0.000000           100.000000   \n21      F6             0.684446              0.000000           100.000000   \n9       A4             0.403656             59.096859            40.903141   \n0      *C4             0.357798             53.854457            46.145543   \n3      *A4             0.357798             53.854457            46.145543   \n5      *B4             0.357798             53.854457            46.145543   \n19      F4             0.354731             53.455466            46.544534   \n22      F3             0.165108              0.000000           100.000000   \n6      *C3             0.165108              0.000000           100.000000   \n13     *A3             0.165108              0.000000           100.000000   \n14     *B3             0.165108              0.000000           100.000000   \n15      A3             0.165108              0.000000           100.000000   \n27     *E3             0.165108              0.000000           100.000000   \n28      E3             0.165108              0.000000           100.000000   \n41     F1e             0.000000                   NaN                  NaN   \n47    *E1e             0.000000                   NaN                  NaN   \n46     L-f             0.000000                   NaN                  NaN   \n45     L-n             0.000000                   NaN                  NaN   \n16     L-a             0.000000                   NaN                  NaN   \n43      F1             0.000000                   NaN                  NaN   \n26     L-u             0.000000                   NaN                  NaN   \n31    *B1e             0.000000                   NaN                  NaN   \n32     A1e             0.000000                   NaN                  NaN   \n29    *C1e             0.000000                   NaN                  NaN   \n37      A1             0.000000                   NaN                  NaN   \n30    *A1e             0.000000                   NaN                  NaN   \n35     *B1             0.000000                   NaN                  NaN   \n34     *A1             0.000000                   NaN                  NaN   \n33     *C1             0.000000                   NaN                  NaN   \n48     *E1             0.000000                   NaN                  NaN   \n\n    gas_chem_MJ_per_m3  gas_other_MJ_per_m3  electricity_total_kwh_per_m3  \\\n44            5.812200             0.000000                      1.562253   \n25            4.359143             0.165108                      1.755508   \n20            2.179585             1.783722                      0.622714   \n18            2.179585             0.684446                      0.589084   \n17            2.372275             0.165108                      0.560838   \n24            2.179585             0.165108                      0.696663   \n39            2.221852             0.000000                      0.447060   \n42            2.179585             0.000000                      0.595314   \n23            0.000000             1.783722                      0.683502   \n12            0.000000             1.783722                      0.475096   \n11            0.000000             1.783722                      0.443744   \n8             0.000000             1.783722                      0.414329   \n2             0.000000             1.783722                      0.340162   \n38            0.889259             0.000000                      0.375843   \n40            0.889259             0.000000                      0.533550   \n36            0.000000             0.726687                      0.419163   \n10            0.000000             0.684446                      0.441467   \n7             0.000000             0.684446                      0.410115   \n4             0.000000             0.684446                      0.380066   \n1             0.000000             0.684446                      0.306533   \n21            0.000000             0.684446                      0.649873   \n9             0.238548             0.165108                      0.414355   \n0             0.192690             0.165108                      0.278287   \n3             0.192690             0.165108                      0.352115   \n5             0.192690             0.165108                      0.381869   \n19            0.189623             0.165108                      0.620965   \n22            0.000000             0.165108                      0.660670   \n6             0.000000             0.165108                      0.384070   \n13            0.000000             0.165108                      0.480493   \n14            0.000000             0.165108                      0.518014   \n15            0.000000             0.165108                      0.518320   \n27            0.000000             0.165108                      0.551276   \n28            0.000000             0.165108                      0.564432   \n41            0.000000             0.000000                      0.535943   \n47            0.000000             0.000000                      0.306198   \n46            0.000000             0.000000                      0.174354   \n45            0.000000             0.000000                      0.174354   \n16            0.000000             0.000000                      0.366144   \n43            0.000000             0.000000                      0.648315   \n26            0.000000             0.000000                      0.335736   \n31            0.000000             0.000000                      0.249051   \n32            0.000000             0.000000                      0.295333   \n29            0.000000             0.000000                      0.163789   \n37            0.000000             0.000000                      0.438244   \n30            0.000000             0.000000                      0.206293   \n35            0.000000             0.000000                      0.408755   \n34            0.000000             0.000000                      0.372986   \n33            0.000000             0.000000                      0.305146   \n48            0.000000             0.000000                      0.463676   \n\n    electricity_percent_process  electricity_percent_chemical  \\\n44                    84.603686                     15.396314   \n25                    89.503860                     10.496140   \n20                    83.968403                     16.031597   \n18                    83.053204                     16.946796   \n17                    81.786229                     18.213771   \n24                    85.670130                     14.329870   \n39                    77.669444                     22.330556   \n42                    83.230530                     16.769470   \n23                    96.993039                      3.006961   \n12                    95.674005                      4.325995   \n11                    95.368358                      4.631642   \n8                     95.039531                      4.960469   \n2                     92.443599                      7.556401   \n38                    86.729591                     13.270409   \n40                    90.652077                      9.347923   \n36                    95.096742                      4.903258   \n10                    95.344468                      4.655532   \n7                     94.988566                      5.011434   \n4                     94.592340                      5.407660   \n1                     91.614599                      8.385401   \n21                    96.837437                      3.162563   \n9                     94.344916                      5.655084   \n0                     89.930209                     10.069791   \n3                     93.504529                      6.495471   \n5                     94.010631                      5.989369   \n19                    96.324343                      3.675657   \n22                    97.664841                      2.335159   \n6                     93.307459                      6.692541   \n13                    95.722588                      4.277412   \n14                    96.032416                      3.967584   \n15                    96.034753                      3.965247   \n27                    97.201457                      2.798543   \n28                    97.266685                      2.733315   \n41                    97.121394                      2.878606   \n47                    94.961538                      5.038462   \n46                   100.000000                      0.000000   \n45                   100.000000                      0.000000   \n16                   100.000000                      0.000000   \n43                    97.620338                      2.379662   \n26                   100.000000                      0.000000   \n31                    91.747608                      8.252392   \n32                    93.040852                      6.959148   \n29                    84.306603                     15.693397   \n37                    95.310230                      4.689770   \n30                    90.037137                      9.962863   \n35                    94.971887                      5.028113   \n34                    94.489695                      5.510305   \n33                    91.576487                      8.423513   \n48                    96.672744                      3.327256   \n\n    electricity_chem_kwh_per_m3  electricity_other_kwh_per_m3  \n44                     0.240529                      1.321724  \n25                     0.184261                      1.571247  \n20                     0.099831                      0.522883  \n18                     0.099831                      0.489253  \n17                     0.102150                      0.458689  \n24                     0.099831                      0.596832  \n39                     0.099831                      0.347229  \n42                     0.099831                      0.495483  \n23                     0.020553                      0.662950  \n12                     0.020553                      0.454544  \n11                     0.020553                      0.423192  \n8                      0.020553                      0.393776  \n2                      0.025704                      0.314458  \n38                     0.049876                      0.325967  \n40                     0.049876                      0.483674  \n36                     0.020553                      0.398610  \n10                     0.020553                      0.420915  \n7                      0.020553                      0.389563  \n4                      0.020553                      0.359513  \n1                      0.025704                      0.280829  \n21                     0.020553                      0.629321  \n9                      0.023432                      0.390923  \n0                      0.028023                      0.250264  \n3                      0.022872                      0.329244  \n5                      0.022872                      0.358998  \n19                     0.022825                      0.598140  \n22                     0.015428                      0.645242  \n6                      0.025704                      0.358366  \n13                     0.020553                      0.459940  \n14                     0.020553                      0.497462  \n15                     0.020553                      0.497767  \n27                     0.015428                      0.535848  \n28                     0.015428                      0.549004  \n41                     0.015428                      0.520516  \n47                     0.015428                      0.290771  \n46                     0.000000                      0.174354  \n45                     0.000000                      0.174354  \n16                     0.000000                      0.366144  \n43                     0.015428                      0.632887  \n26                     0.000000                      0.335736  \n31                     0.020553                      0.228498  \n32                     0.020553                      0.274780  \n29                     0.025704                      0.138085  \n37                     0.020553                      0.417692  \n30                     0.020553                      0.185740  \n35                     0.020553                      0.388202  \n34                     0.020553                      0.352433  \n33                     0.025704                      0.279442  \n48                     0.015428                      0.448249  ",
      "text/html": "<div>\n<style scoped>\n    .dataframe tbody tr th:only-of-type {\n        vertical-align: middle;\n    }\n\n    .dataframe tbody tr th {\n        vertical-align: top;\n    }\n\n    .dataframe thead th {\n        text-align: right;\n    }\n</style>\n<table border=\"1\" class=\"dataframe\">\n  <thead>\n    <tr style=\"text-align: right;\">\n      <th></th>\n      <th>code</th>\n      <th>gas_total_MJ_per_m3</th>\n      <th>gas_percent_chemical</th>\n      <th>gas_percent_process</th>\n      <th>gas_chem_MJ_per_m3</th>\n      <th>gas_other_MJ_per_m3</th>\n      <th>electricity_total_kwh_per_m3</th>\n      <th>electricity_percent_process</th>\n      <th>electricity_percent_chemical</th>\n      <th>electricity_chem_kwh_per_m3</th>\n      <th>electricity_other_kwh_per_m3</th>\n    </tr>\n  </thead>\n  <tbody>\n    <tr>\n      <th>44</th>\n      <td>*D1e</td>\n      <td>5.812200</td>\n      <td>100.000000</td>\n      <td>0.000000</td>\n      <td>5.812200</td>\n      <td>0.000000</td>\n      <td>1.562253</td>\n      <td>84.603686</td>\n      <td>15.396314</td>\n      <td>0.240529</td>\n      <td>1.321724</td>\n    </tr>\n    <tr>\n      <th>25</th>\n      <td>*D3</td>\n      <td>4.524251</td>\n      <td>96.350599</td>\n      <td>3.649401</td>\n      <td>4.359143</td>\n      <td>0.165108</td>\n      <td>1.755508</td>\n      <td>89.503860</td>\n      <td>10.496140</td>\n      <td>0.184261</td>\n      <td>1.571247</td>\n    </tr>\n    <tr>\n      <th>20</th>\n      <td>*G5</td>\n      <td>3.963306</td>\n      <td>54.994101</td>\n      <td>45.005899</td>\n      <td>2.179585</td>\n      <td>1.783722</td>\n      <td>0.622714</td>\n      <td>83.968403</td>\n      <td>16.031597</td>\n      <td>0.099831</td>\n      <td>0.522883</td>\n    </tr>\n    <tr>\n      <th>18</th>\n      <td>*G6</td>\n      <td>2.864030</td>\n      <td>76.102015</td>\n      <td>23.897985</td>\n      <td>2.179585</td>\n      <td>0.684446</td>\n      <td>0.589084</td>\n      <td>83.053204</td>\n      <td>16.946796</td>\n      <td>0.099831</td>\n      <td>0.489253</td>\n    </tr>\n    <tr>\n      <th>17</th>\n      <td>*G4</td>\n      <td>2.537383</td>\n      <td>93.492979</td>\n      <td>6.507021</td>\n      <td>2.372275</td>\n      <td>0.165108</td>\n      <td>0.560838</td>\n      <td>81.786229</td>\n      <td>18.213771</td>\n      <td>0.102150</td>\n      <td>0.458689</td>\n    </tr>\n    <tr>\n      <th>24</th>\n      <td>*G3</td>\n      <td>2.344693</td>\n      <td>92.958223</td>\n      <td>7.041777</td>\n      <td>2.179585</td>\n      <td>0.165108</td>\n      <td>0.696663</td>\n      <td>85.670130</td>\n      <td>14.329870</td>\n      <td>0.099831</td>\n      <td>0.596832</td>\n    </tr>\n    <tr>\n      <th>39</th>\n      <td>*G1e</td>\n      <td>2.221852</td>\n      <td>100.000000</td>\n      <td>0.000000</td>\n      <td>2.221852</td>\n      <td>0.000000</td>\n      <td>0.447060</td>\n      <td>77.669444</td>\n      <td>22.330556</td>\n      <td>0.099831</td>\n      <td>0.347229</td>\n    </tr>\n    <tr>\n      <th>42</th>\n      <td>*G1</td>\n      <td>2.179585</td>\n      <td>100.000000</td>\n      <td>0.000000</td>\n      <td>2.179585</td>\n      <td>0.000000</td>\n      <td>0.595314</td>\n      <td>83.230530</td>\n      <td>16.769470</td>\n      <td>0.099831</td>\n      <td>0.495483</td>\n    </tr>\n    <tr>\n      <th>23</th>\n      <td>F5</td>\n      <td>1.783722</td>\n      <td>0.000000</td>\n      <td>100.000000</td>\n      <td>0.000000</td>\n      <td>1.783722</td>\n      <td>0.683502</td>\n      <td>96.993039</td>\n      <td>3.006961</td>\n      <td>0.020553</td>\n      <td>0.662950</td>\n    </tr>\n    <tr>\n      <th>12</th>\n      <td>A5</td>\n      <td>1.783722</td>\n      <td>0.000000</td>\n      <td>100.000000</td>\n      <td>0.000000</td>\n      <td>1.783722</td>\n      <td>0.475096</td>\n      <td>95.674005</td>\n      <td>4.325995</td>\n      <td>0.020553</td>\n      <td>0.454544</td>\n    </tr>\n    <tr>\n      <th>11</th>\n      <td>*B5</td>\n      <td>1.783722</td>\n      <td>0.000000</td>\n      <td>100.000000</td>\n      <td>0.000000</td>\n      <td>1.783722</td>\n      <td>0.443744</td>\n      <td>95.368358</td>\n      <td>4.631642</td>\n      <td>0.020553</td>\n      <td>0.423192</td>\n    </tr>\n    <tr>\n      <th>8</th>\n      <td>*A5</td>\n      <td>1.783722</td>\n      <td>0.000000</td>\n      <td>100.000000</td>\n      <td>0.000000</td>\n      <td>1.783722</td>\n      <td>0.414329</td>\n      <td>95.039531</td>\n      <td>4.960469</td>\n      <td>0.020553</td>\n      <td>0.393776</td>\n    </tr>\n    <tr>\n      <th>2</th>\n      <td>*C5</td>\n      <td>1.783722</td>\n      <td>0.000000</td>\n      <td>100.000000</td>\n      <td>0.000000</td>\n      <td>1.783722</td>\n      <td>0.340162</td>\n      <td>92.443599</td>\n      <td>7.556401</td>\n      <td>0.025704</td>\n      <td>0.314458</td>\n    </tr>\n    <tr>\n      <th>38</th>\n      <td>*G1e-p</td>\n      <td>0.889259</td>\n      <td>100.000000</td>\n      <td>0.000000</td>\n      <td>0.889259</td>\n      <td>0.000000</td>\n      <td>0.375843</td>\n      <td>86.729591</td>\n      <td>13.270409</td>\n      <td>0.049876</td>\n      <td>0.325967</td>\n    </tr>\n    <tr>\n      <th>40</th>\n      <td>*G1-p</td>\n      <td>0.889259</td>\n      <td>100.000000</td>\n      <td>0.000000</td>\n      <td>0.889259</td>\n      <td>0.000000</td>\n      <td>0.533550</td>\n      <td>90.652077</td>\n      <td>9.347923</td>\n      <td>0.049876</td>\n      <td>0.483674</td>\n    </tr>\n    <tr>\n      <th>36</th>\n      <td>*A2</td>\n      <td>0.726687</td>\n      <td>0.000000</td>\n      <td>100.000000</td>\n      <td>0.000000</td>\n      <td>0.726687</td>\n      <td>0.419163</td>\n      <td>95.096742</td>\n      <td>4.903258</td>\n      <td>0.020553</td>\n      <td>0.398610</td>\n    </tr>\n    <tr>\n      <th>10</th>\n      <td>A6</td>\n      <td>0.684446</td>\n      <td>0.000000</td>\n      <td>100.000000</td>\n      <td>0.000000</td>\n      <td>0.684446</td>\n      <td>0.441467</td>\n      <td>95.344468</td>\n      <td>4.655532</td>\n      <td>0.020553</td>\n      <td>0.420915</td>\n    </tr>\n    <tr>\n      <th>7</th>\n      <td>*B6</td>\n      <td>0.684446</td>\n      <td>0.000000</td>\n      <td>100.000000</td>\n      <td>0.000000</td>\n      <td>0.684446</td>\n      <td>0.410115</td>\n      <td>94.988566</td>\n      <td>5.011434</td>\n      <td>0.020553</td>\n      <td>0.389563</td>\n    </tr>\n    <tr>\n      <th>4</th>\n      <td>*A6</td>\n      <td>0.684446</td>\n      <td>0.000000</td>\n      <td>100.000000</td>\n      <td>0.000000</td>\n      <td>0.684446</td>\n      <td>0.380066</td>\n      <td>94.592340</td>\n      <td>5.407660</td>\n      <td>0.020553</td>\n      <td>0.359513</td>\n    </tr>\n    <tr>\n      <th>1</th>\n      <td>*C6</td>\n      <td>0.684446</td>\n      <td>0.000000</td>\n      <td>100.000000</td>\n      <td>0.000000</td>\n      <td>0.684446</td>\n      <td>0.306533</td>\n      <td>91.614599</td>\n      <td>8.385401</td>\n      <td>0.025704</td>\n      <td>0.280829</td>\n    </tr>\n    <tr>\n      <th>21</th>\n      <td>F6</td>\n      <td>0.684446</td>\n      <td>0.000000</td>\n      <td>100.000000</td>\n      <td>0.000000</td>\n      <td>0.684446</td>\n      <td>0.649873</td>\n      <td>96.837437</td>\n      <td>3.162563</td>\n      <td>0.020553</td>\n      <td>0.629321</td>\n    </tr>\n    <tr>\n      <th>9</th>\n      <td>A4</td>\n      <td>0.403656</td>\n      <td>59.096859</td>\n      <td>40.903141</td>\n      <td>0.238548</td>\n      <td>0.165108</td>\n      <td>0.414355</td>\n      <td>94.344916</td>\n      <td>5.655084</td>\n      <td>0.023432</td>\n      <td>0.390923</td>\n    </tr>\n    <tr>\n      <th>0</th>\n      <td>*C4</td>\n      <td>0.357798</td>\n      <td>53.854457</td>\n      <td>46.145543</td>\n      <td>0.192690</td>\n      <td>0.165108</td>\n      <td>0.278287</td>\n      <td>89.930209</td>\n      <td>10.069791</td>\n      <td>0.028023</td>\n      <td>0.250264</td>\n    </tr>\n    <tr>\n      <th>3</th>\n      <td>*A4</td>\n      <td>0.357798</td>\n      <td>53.854457</td>\n      <td>46.145543</td>\n      <td>0.192690</td>\n      <td>0.165108</td>\n      <td>0.352115</td>\n      <td>93.504529</td>\n      <td>6.495471</td>\n      <td>0.022872</td>\n      <td>0.329244</td>\n    </tr>\n    <tr>\n      <th>5</th>\n      <td>*B4</td>\n      <td>0.357798</td>\n      <td>53.854457</td>\n      <td>46.145543</td>\n      <td>0.192690</td>\n      <td>0.165108</td>\n      <td>0.381869</td>\n      <td>94.010631</td>\n      <td>5.989369</td>\n      <td>0.022872</td>\n      <td>0.358998</td>\n    </tr>\n    <tr>\n      <th>19</th>\n      <td>F4</td>\n      <td>0.354731</td>\n      <td>53.455466</td>\n      <td>46.544534</td>\n      <td>0.189623</td>\n      <td>0.165108</td>\n      <td>0.620965</td>\n      <td>96.324343</td>\n      <td>3.675657</td>\n      <td>0.022825</td>\n      <td>0.598140</td>\n    </tr>\n    <tr>\n      <th>22</th>\n      <td>F3</td>\n      <td>0.165108</td>\n      <td>0.000000</td>\n      <td>100.000000</td>\n      <td>0.000000</td>\n      <td>0.165108</td>\n      <td>0.660670</td>\n      <td>97.664841</td>\n      <td>2.335159</td>\n      <td>0.015428</td>\n      <td>0.645242</td>\n    </tr>\n    <tr>\n      <th>6</th>\n      <td>*C3</td>\n      <td>0.165108</td>\n      <td>0.000000</td>\n      <td>100.000000</td>\n      <td>0.000000</td>\n      <td>0.165108</td>\n      <td>0.384070</td>\n      <td>93.307459</td>\n      <td>6.692541</td>\n      <td>0.025704</td>\n      <td>0.358366</td>\n    </tr>\n    <tr>\n      <th>13</th>\n      <td>*A3</td>\n      <td>0.165108</td>\n      <td>0.000000</td>\n      <td>100.000000</td>\n      <td>0.000000</td>\n      <td>0.165108</td>\n      <td>0.480493</td>\n      <td>95.722588</td>\n      <td>4.277412</td>\n      <td>0.020553</td>\n      <td>0.459940</td>\n    </tr>\n    <tr>\n      <th>14</th>\n      <td>*B3</td>\n      <td>0.165108</td>\n      <td>0.000000</td>\n      <td>100.000000</td>\n      <td>0.000000</td>\n      <td>0.165108</td>\n      <td>0.518014</td>\n      <td>96.032416</td>\n      <td>3.967584</td>\n      <td>0.020553</td>\n      <td>0.497462</td>\n    </tr>\n    <tr>\n      <th>15</th>\n      <td>A3</td>\n      <td>0.165108</td>\n      <td>0.000000</td>\n      <td>100.000000</td>\n      <td>0.000000</td>\n      <td>0.165108</td>\n      <td>0.518320</td>\n      <td>96.034753</td>\n      <td>3.965247</td>\n      <td>0.020553</td>\n      <td>0.497767</td>\n    </tr>\n    <tr>\n      <th>27</th>\n      <td>*E3</td>\n      <td>0.165108</td>\n      <td>0.000000</td>\n      <td>100.000000</td>\n      <td>0.000000</td>\n      <td>0.165108</td>\n      <td>0.551276</td>\n      <td>97.201457</td>\n      <td>2.798543</td>\n      <td>0.015428</td>\n      <td>0.535848</td>\n    </tr>\n    <tr>\n      <th>28</th>\n      <td>E3</td>\n      <td>0.165108</td>\n      <td>0.000000</td>\n      <td>100.000000</td>\n      <td>0.000000</td>\n      <td>0.165108</td>\n      <td>0.564432</td>\n      <td>97.266685</td>\n      <td>2.733315</td>\n      <td>0.015428</td>\n      <td>0.549004</td>\n    </tr>\n    <tr>\n      <th>41</th>\n      <td>F1e</td>\n      <td>0.000000</td>\n      <td>NaN</td>\n      <td>NaN</td>\n      <td>0.000000</td>\n      <td>0.000000</td>\n      <td>0.535943</td>\n      <td>97.121394</td>\n      <td>2.878606</td>\n      <td>0.015428</td>\n      <td>0.520516</td>\n    </tr>\n    <tr>\n      <th>47</th>\n      <td>*E1e</td>\n      <td>0.000000</td>\n      <td>NaN</td>\n      <td>NaN</td>\n      <td>0.000000</td>\n      <td>0.000000</td>\n      <td>0.306198</td>\n      <td>94.961538</td>\n      <td>5.038462</td>\n      <td>0.015428</td>\n      <td>0.290771</td>\n    </tr>\n    <tr>\n      <th>46</th>\n      <td>L-f</td>\n      <td>0.000000</td>\n      <td>NaN</td>\n      <td>NaN</td>\n      <td>0.000000</td>\n      <td>0.000000</td>\n      <td>0.174354</td>\n      <td>100.000000</td>\n      <td>0.000000</td>\n      <td>0.000000</td>\n      <td>0.174354</td>\n    </tr>\n    <tr>\n      <th>45</th>\n      <td>L-n</td>\n      <td>0.000000</td>\n      <td>NaN</td>\n      <td>NaN</td>\n      <td>0.000000</td>\n      <td>0.000000</td>\n      <td>0.174354</td>\n      <td>100.000000</td>\n      <td>0.000000</td>\n      <td>0.000000</td>\n      <td>0.174354</td>\n    </tr>\n    <tr>\n      <th>16</th>\n      <td>L-a</td>\n      <td>0.000000</td>\n      <td>NaN</td>\n      <td>NaN</td>\n      <td>0.000000</td>\n      <td>0.000000</td>\n      <td>0.366144</td>\n      <td>100.000000</td>\n      <td>0.000000</td>\n      <td>0.000000</td>\n      <td>0.366144</td>\n    </tr>\n    <tr>\n      <th>43</th>\n      <td>F1</td>\n      <td>0.000000</td>\n      <td>NaN</td>\n      <td>NaN</td>\n      <td>0.000000</td>\n      <td>0.000000</td>\n      <td>0.648315</td>\n      <td>97.620338</td>\n      <td>2.379662</td>\n      <td>0.015428</td>\n      <td>0.632887</td>\n    </tr>\n    <tr>\n      <th>26</th>\n      <td>L-u</td>\n      <td>0.000000</td>\n      <td>NaN</td>\n      <td>NaN</td>\n      <td>0.000000</td>\n      <td>0.000000</td>\n      <td>0.335736</td>\n      <td>100.000000</td>\n      <td>0.000000</td>\n      <td>0.000000</td>\n      <td>0.335736</td>\n    </tr>\n    <tr>\n      <th>31</th>\n      <td>*B1e</td>\n      <td>0.000000</td>\n      <td>NaN</td>\n      <td>NaN</td>\n      <td>0.000000</td>\n      <td>0.000000</td>\n      <td>0.249051</td>\n      <td>91.747608</td>\n      <td>8.252392</td>\n      <td>0.020553</td>\n      <td>0.228498</td>\n    </tr>\n    <tr>\n      <th>32</th>\n      <td>A1e</td>\n      <td>0.000000</td>\n      <td>NaN</td>\n      <td>NaN</td>\n      <td>0.000000</td>\n      <td>0.000000</td>\n      <td>0.295333</td>\n      <td>93.040852</td>\n      <td>6.959148</td>\n      <td>0.020553</td>\n      <td>0.274780</td>\n    </tr>\n    <tr>\n      <th>29</th>\n      <td>*C1e</td>\n      <td>0.000000</td>\n      <td>NaN</td>\n      <td>NaN</td>\n      <td>0.000000</td>\n      <td>0.000000</td>\n      <td>0.163789</td>\n      <td>84.306603</td>\n      <td>15.693397</td>\n      <td>0.025704</td>\n      <td>0.138085</td>\n    </tr>\n    <tr>\n      <th>37</th>\n      <td>A1</td>\n      <td>0.000000</td>\n      <td>NaN</td>\n      <td>NaN</td>\n      <td>0.000000</td>\n      <td>0.000000</td>\n      <td>0.438244</td>\n      <td>95.310230</td>\n      <td>4.689770</td>\n      <td>0.020553</td>\n      <td>0.417692</td>\n    </tr>\n    <tr>\n      <th>30</th>\n      <td>*A1e</td>\n      <td>0.000000</td>\n      <td>NaN</td>\n      <td>NaN</td>\n      <td>0.000000</td>\n      <td>0.000000</td>\n      <td>0.206293</td>\n      <td>90.037137</td>\n      <td>9.962863</td>\n      <td>0.020553</td>\n      <td>0.185740</td>\n    </tr>\n    <tr>\n      <th>35</th>\n      <td>*B1</td>\n      <td>0.000000</td>\n      <td>NaN</td>\n      <td>NaN</td>\n      <td>0.000000</td>\n      <td>0.000000</td>\n      <td>0.408755</td>\n      <td>94.971887</td>\n      <td>5.028113</td>\n      <td>0.020553</td>\n      <td>0.388202</td>\n    </tr>\n    <tr>\n      <th>34</th>\n      <td>*A1</td>\n      <td>0.000000</td>\n      <td>NaN</td>\n      <td>NaN</td>\n      <td>0.000000</td>\n      <td>0.000000</td>\n      <td>0.372986</td>\n      <td>94.489695</td>\n      <td>5.510305</td>\n      <td>0.020553</td>\n      <td>0.352433</td>\n    </tr>\n    <tr>\n      <th>33</th>\n      <td>*C1</td>\n      <td>0.000000</td>\n      <td>NaN</td>\n      <td>NaN</td>\n      <td>0.000000</td>\n      <td>0.000000</td>\n      <td>0.305146</td>\n      <td>91.576487</td>\n      <td>8.423513</td>\n      <td>0.025704</td>\n      <td>0.279442</td>\n    </tr>\n    <tr>\n      <th>48</th>\n      <td>*E1</td>\n      <td>0.000000</td>\n      <td>NaN</td>\n      <td>NaN</td>\n      <td>0.000000</td>\n      <td>0.000000</td>\n      <td>0.463676</td>\n      <td>96.672744</td>\n      <td>3.327256</td>\n      <td>0.015428</td>\n      <td>0.448249</td>\n    </tr>\n  </tbody>\n</table>\n</div>"
     },
     "metadata": {},
     "output_type": "display_data"
    },
    {
     "name": "stdout",
     "output_type": "stream",
     "text": [
      "Number of facilities with no natural gas required: 16\n"
     ]
    }
   ],
   "source": [
    "# Which treatment train has the lowest energy requirements\n",
    "tt_gas_sorted = tt_electricity.sort_values(by='gas_total_MJ_per_m3', ascending=False)\n",
    "\n",
    "energy_colums = ['code', 'gas_total_MJ_per_m3', 'gas_percent_chemical', 'gas_percent_process','gas_chem_MJ_per_m3', 'gas_other_MJ_per_m3', 'electricity_total_kwh_per_m3', 'electricity_percent_process', 'electricity_percent_chemical', 'electricity_chem_kwh_per_m3', 'electricity_other_kwh_per_m3']\n",
    "\n",
    "display(tt_gas_sorted[energy_colums])\n",
    "\n",
    "print(f\"Number of facilities with no natural gas required: {len(tt_gas_sorted[tt_gas_sorted['gas_total_MJ_per_m3']==0])}\")"
   ],
   "metadata": {
    "collapsed": false,
    "ExecuteTime": {
     "end_time": "2024-10-25T18:38:30.558310Z",
     "start_time": "2024-10-25T18:38:30.275013Z"
    }
   },
   "id": "e4116b7e23f76222"
  },
  {
   "cell_type": "code",
   "execution_count": 26,
   "outputs": [
    {
     "name": "stdout",
     "output_type": "stream",
     "text": [
      "Minimum percent of gas going to chemicals: 54.99410106180888\n",
      "Max percent of gas going to chemicals: 100.0\n",
      "Average percent of gas going to chemicals: 91.39\n"
     ]
    }
   ],
   "source": [
    "# Calculate min, max and mean perent of gas going to chemicals for P removal trains \n",
    "min_value = tt_electricity_p_removal['gas_percent_chemical'].min()\n",
    "max_value = tt_electricity_p_removal['gas_percent_chemical'].max()\n",
    "average_value = tt_electricity_p_removal['gas_percent_chemical'].mean()\n",
    "\n",
    "print(f\"Minimum percent of gas going to chemicals: {min_value}\")\n",
    "print(f\"Max percent of gas going to chemicals: {max_value}\")\n",
    "print(f\"Average percent of gas going to chemicals: {average_value:.2f}\")"
   ],
   "metadata": {
    "collapsed": false,
    "ExecuteTime": {
     "end_time": "2024-10-25T18:38:30.574206Z",
     "start_time": "2024-10-25T18:38:30.278753Z"
    }
   },
   "id": "8b82863e3cc6f882"
  },
  {
   "cell_type": "markdown",
   "source": [
    "### Methane, nitrous oxide, and carbon dioxide emissions \n",
    "\n"
   ],
   "metadata": {
    "collapsed": false
   },
   "id": "c82434d1841bcadd"
  },
  {
   "cell_type": "code",
   "execution_count": 27,
   "outputs": [
    {
     "data": {
      "text/plain": "     code  tt_onsite_kgCO2e_per_m3  fraction_methane  fraction_nitrous_oxide  \\\n48    *E1                 0.628290         60.568494               36.089092   \n47   *E1e                 0.628290         60.568494               36.089092   \n46    L-f                 0.617000         96.596424                0.000000   \n45    L-n                 0.617000         96.596424                0.000000   \n44   *D1e                 0.594424         64.019306               32.447850   \n43     F1                 0.594424         64.019306               32.447850   \n42    *G1                 0.594424         64.019306               32.447850   \n41    F1e                 0.594424         64.019306               32.447850   \n40  *G1-p                 0.594424         64.019306               32.447850   \n39   *G1e                 0.594424         64.019306               32.447850   \n\n    fraction_noncombustion_co2  methane_kgCO2_per_m3  \\\n48                    3.342414              0.380546   \n47                    3.342414              0.380546   \n46                    3.403576              0.596000   \n45                    3.403576              0.596000   \n44                    3.532844              0.380546   \n43                    3.532844              0.380546   \n42                    3.532844              0.380546   \n41                    3.532844              0.380546   \n40                    3.532844              0.380546   \n39                    3.532844              0.380546   \n\n    nitrous_oxide_kgCO2_per_m3  noncombustion_co2_kgCO2_per_m3  \\\n48                    0.226744                           0.021   \n47                    0.226744                           0.021   \n46                    0.000000                           0.021   \n45                    0.000000                           0.021   \n44                    0.192878                           0.021   \n43                    0.192878                           0.021   \n42                    0.192878                           0.021   \n41                    0.192878                           0.021   \n40                    0.192878                           0.021   \n39                    0.192878                           0.021   \n\n    total_emissions_national_kgCO2_per_m3  \n48                               0.835836  \n47                               0.778116  \n46                               0.699589  \n45                               0.699589  \n44                               1.605672  \n43                               0.850733  \n42                               1.000610  \n41                               0.809546  \n40                               0.888939  \n39                               0.949187  ",
      "text/html": "<div>\n<style scoped>\n    .dataframe tbody tr th:only-of-type {\n        vertical-align: middle;\n    }\n\n    .dataframe tbody tr th {\n        vertical-align: top;\n    }\n\n    .dataframe thead th {\n        text-align: right;\n    }\n</style>\n<table border=\"1\" class=\"dataframe\">\n  <thead>\n    <tr style=\"text-align: right;\">\n      <th></th>\n      <th>code</th>\n      <th>tt_onsite_kgCO2e_per_m3</th>\n      <th>fraction_methane</th>\n      <th>fraction_nitrous_oxide</th>\n      <th>fraction_noncombustion_co2</th>\n      <th>methane_kgCO2_per_m3</th>\n      <th>nitrous_oxide_kgCO2_per_m3</th>\n      <th>noncombustion_co2_kgCO2_per_m3</th>\n      <th>total_emissions_national_kgCO2_per_m3</th>\n    </tr>\n  </thead>\n  <tbody>\n    <tr>\n      <th>48</th>\n      <td>*E1</td>\n      <td>0.628290</td>\n      <td>60.568494</td>\n      <td>36.089092</td>\n      <td>3.342414</td>\n      <td>0.380546</td>\n      <td>0.226744</td>\n      <td>0.021</td>\n      <td>0.835836</td>\n    </tr>\n    <tr>\n      <th>47</th>\n      <td>*E1e</td>\n      <td>0.628290</td>\n      <td>60.568494</td>\n      <td>36.089092</td>\n      <td>3.342414</td>\n      <td>0.380546</td>\n      <td>0.226744</td>\n      <td>0.021</td>\n      <td>0.778116</td>\n    </tr>\n    <tr>\n      <th>46</th>\n      <td>L-f</td>\n      <td>0.617000</td>\n      <td>96.596424</td>\n      <td>0.000000</td>\n      <td>3.403576</td>\n      <td>0.596000</td>\n      <td>0.000000</td>\n      <td>0.021</td>\n      <td>0.699589</td>\n    </tr>\n    <tr>\n      <th>45</th>\n      <td>L-n</td>\n      <td>0.617000</td>\n      <td>96.596424</td>\n      <td>0.000000</td>\n      <td>3.403576</td>\n      <td>0.596000</td>\n      <td>0.000000</td>\n      <td>0.021</td>\n      <td>0.699589</td>\n    </tr>\n    <tr>\n      <th>44</th>\n      <td>*D1e</td>\n      <td>0.594424</td>\n      <td>64.019306</td>\n      <td>32.447850</td>\n      <td>3.532844</td>\n      <td>0.380546</td>\n      <td>0.192878</td>\n      <td>0.021</td>\n      <td>1.605672</td>\n    </tr>\n    <tr>\n      <th>43</th>\n      <td>F1</td>\n      <td>0.594424</td>\n      <td>64.019306</td>\n      <td>32.447850</td>\n      <td>3.532844</td>\n      <td>0.380546</td>\n      <td>0.192878</td>\n      <td>0.021</td>\n      <td>0.850733</td>\n    </tr>\n    <tr>\n      <th>42</th>\n      <td>*G1</td>\n      <td>0.594424</td>\n      <td>64.019306</td>\n      <td>32.447850</td>\n      <td>3.532844</td>\n      <td>0.380546</td>\n      <td>0.192878</td>\n      <td>0.021</td>\n      <td>1.000610</td>\n    </tr>\n    <tr>\n      <th>41</th>\n      <td>F1e</td>\n      <td>0.594424</td>\n      <td>64.019306</td>\n      <td>32.447850</td>\n      <td>3.532844</td>\n      <td>0.380546</td>\n      <td>0.192878</td>\n      <td>0.021</td>\n      <td>0.809546</td>\n    </tr>\n    <tr>\n      <th>40</th>\n      <td>*G1-p</td>\n      <td>0.594424</td>\n      <td>64.019306</td>\n      <td>32.447850</td>\n      <td>3.532844</td>\n      <td>0.380546</td>\n      <td>0.192878</td>\n      <td>0.021</td>\n      <td>0.888939</td>\n    </tr>\n    <tr>\n      <th>39</th>\n      <td>*G1e</td>\n      <td>0.594424</td>\n      <td>64.019306</td>\n      <td>32.447850</td>\n      <td>3.532844</td>\n      <td>0.380546</td>\n      <td>0.192878</td>\n      <td>0.021</td>\n      <td>0.949187</td>\n    </tr>\n  </tbody>\n</table>\n</div>"
     },
     "metadata": {},
     "output_type": "display_data"
    }
   ],
   "source": [
    "# Which facilities have the highest total volume of onsite emissions per m3 of wastewater treated? \n",
    "\n",
    "tt_emissions = tt_data\n",
    "\n",
    "tt_emissions['tt_onsite_kgCO2e_per_m3'] = tt_emissions['methane_kgCO2_per_m3'] + tt_emissions['nitrous_oxide_kgCO2_per_m3'] + tt_emissions['noncombustion_co2_kgCO2_per_m3']\n",
    "\n",
    "tt_emissions['fraction_methane'] = tt_emissions['methane_kgCO2_per_m3'] / tt_emissions['tt_onsite_kgCO2e_per_m3'] *100\n",
    "\n",
    "tt_emissions['fraction_nitrous_oxide'] = tt_emissions['nitrous_oxide_kgCO2_per_m3'] / tt_emissions['tt_onsite_kgCO2e_per_m3']*100\n",
    "\n",
    "tt_emissions['fraction_noncombustion_co2'] = tt_emissions['noncombustion_co2_kgCO2_per_m3'] / tt_emissions['tt_onsite_kgCO2e_per_m3']*100\n",
    "\n",
    "emissions_columns = ['code', 'tt_onsite_kgCO2e_per_m3', 'fraction_methane', 'fraction_nitrous_oxide', 'fraction_noncombustion_co2', 'methane_kgCO2_per_m3', 'nitrous_oxide_kgCO2_per_m3', 'noncombustion_co2_kgCO2_per_m3', 'total_emissions_national_kgCO2_per_m3']\n",
    "\n",
    "tt_emissions_sorted = tt_emissions.sort_values(by='tt_onsite_kgCO2e_per_m3', ascending=False)\n",
    "display(tt_emissions_sorted[emissions_columns].head(10))"
   ],
   "metadata": {
    "collapsed": false,
    "ExecuteTime": {
     "end_time": "2024-10-25T18:38:30.575848Z",
     "start_time": "2024-10-25T18:38:30.282661Z"
    }
   },
   "id": "8978046dfc3980f"
  },
  {
   "cell_type": "code",
   "execution_count": 28,
   "outputs": [
    {
     "data": {
      "text/plain": "      code  tt_onsite_kgCO2e_per_m3  fraction_methane  fraction_nitrous_oxide  \\\n0      *C4                 0.180919         62.047835               26.344753   \n9       A4                 0.180919         62.047835               26.344753   \n1      *C6                 0.180919         62.047835               26.344753   \n15      A3                 0.180919         62.047835               26.344753   \n14     *B3                 0.180919         62.047835               26.344753   \n13     *A3                 0.180919         62.047835               26.344753   \n12      A5                 0.180919         62.047835               26.344753   \n11     *B5                 0.180919         62.047835               26.344753   \n10      A6                 0.180919         62.047835               26.344753   \n8      *A5                 0.180919         62.047835               26.344753   \n7      *B6                 0.180919         62.047835               26.344753   \n6      *C3                 0.180919         62.047835               26.344753   \n5      *B4                 0.180919         62.047835               26.344753   \n4      *A6                 0.180919         62.047835               26.344753   \n3      *A4                 0.180919         62.047835               26.344753   \n2      *C5                 0.180919         62.047835               26.344753   \n16     L-a                 0.295560          0.000000               92.894823   \n21      F6                 0.326134         34.420348               59.140569   \n25     *D3                 0.326134         34.420348               59.140569   \n23      F5                 0.326134         34.420348               59.140569   \n22      F3                 0.326134         34.420348               59.140569   \n24     *G3                 0.326134         34.420348               59.140569   \n20     *G5                 0.326134         34.420348               59.140569   \n18     *G6                 0.326134         34.420348               59.140569   \n17     *G4                 0.326134         34.420348               59.140569   \n19      F4                 0.326134         34.420348               59.140569   \n26     L-u                 0.346523         27.268848               66.670924   \n27     *E3                 0.360001         31.182307               62.984357   \n28      E3                 0.360001         31.182307               62.984357   \n33     *C1                 0.449209         84.714716               10.610384   \n37      A1                 0.449209         84.714716               10.610384   \n36     *A2                 0.449209         84.714716               10.610384   \n34     *A1                 0.449209         84.714716               10.610384   \n35     *B1                 0.449209         84.714716               10.610384   \n32     A1e                 0.449209         84.714716               10.610384   \n31    *B1e                 0.449209         84.714716               10.610384   \n30    *A1e                 0.449209         84.714716               10.610384   \n29    *C1e                 0.449209         84.714716               10.610384   \n38  *G1e-p                 0.594424         64.019306               32.447850   \n39    *G1e                 0.594424         64.019306               32.447850   \n40   *G1-p                 0.594424         64.019306               32.447850   \n41     F1e                 0.594424         64.019306               32.447850   \n42     *G1                 0.594424         64.019306               32.447850   \n43      F1                 0.594424         64.019306               32.447850   \n44    *D1e                 0.594424         64.019306               32.447850   \n45     L-n                 0.617000         96.596424                0.000000   \n46     L-f                 0.617000         96.596424                0.000000   \n47    *E1e                 0.628290         60.568494               36.089092   \n48     *E1                 0.628290         60.568494               36.089092   \n\n    fraction_noncombustion_co2  methane_kgCO2_per_m3  \\\n0                    11.607412              0.112257   \n9                    11.607412              0.112257   \n1                    11.607412              0.112257   \n15                   11.607412              0.112257   \n14                   11.607412              0.112257   \n13                   11.607412              0.112257   \n12                   11.607412              0.112257   \n11                   11.607412              0.112257   \n10                   11.607412              0.112257   \n8                    11.607412              0.112257   \n7                    11.607412              0.112257   \n6                    11.607412              0.112257   \n5                    11.607412              0.112257   \n4                    11.607412              0.112257   \n3                    11.607412              0.112257   \n2                    11.607412              0.112257   \n16                    7.105177              0.000000   \n21                    6.439083              0.112257   \n25                    6.439083              0.112257   \n23                    6.439083              0.112257   \n22                    6.439083              0.112257   \n24                    6.439083              0.112257   \n20                    6.439083              0.112257   \n18                    6.439083              0.112257   \n17                    6.439083              0.112257   \n19                    6.439083              0.112257   \n26                    6.060227              0.094493   \n27                    5.833336              0.112257   \n28                    5.833336              0.112257   \n33                    4.674900              0.380546   \n37                    4.674900              0.380546   \n36                    4.674900              0.380546   \n34                    4.674900              0.380546   \n35                    4.674900              0.380546   \n32                    4.674900              0.380546   \n31                    4.674900              0.380546   \n30                    4.674900              0.380546   \n29                    4.674900              0.380546   \n38                    3.532844              0.380546   \n39                    3.532844              0.380546   \n40                    3.532844              0.380546   \n41                    3.532844              0.380546   \n42                    3.532844              0.380546   \n43                    3.532844              0.380546   \n44                    3.532844              0.380546   \n45                    3.403576              0.596000   \n46                    3.403576              0.596000   \n47                    3.342414              0.380546   \n48                    3.342414              0.380546   \n\n    nitrous_oxide_kgCO2_per_m3  noncombustion_co2_kgCO2_per_m3  \\\n0                     0.047663                           0.021   \n9                     0.047663                           0.021   \n1                     0.047663                           0.021   \n15                    0.047663                           0.021   \n14                    0.047663                           0.021   \n13                    0.047663                           0.021   \n12                    0.047663                           0.021   \n11                    0.047663                           0.021   \n10                    0.047663                           0.021   \n8                     0.047663                           0.021   \n7                     0.047663                           0.021   \n6                     0.047663                           0.021   \n5                     0.047663                           0.021   \n4                     0.047663                           0.021   \n3                     0.047663                           0.021   \n2                     0.047663                           0.021   \n16                    0.274560                           0.021   \n21                    0.192878                           0.021   \n25                    0.192878                           0.021   \n23                    0.192878                           0.021   \n22                    0.192878                           0.021   \n24                    0.192878                           0.021   \n20                    0.192878                           0.021   \n18                    0.192878                           0.021   \n17                    0.192878                           0.021   \n19                    0.192878                           0.021   \n26                    0.231030                           0.021   \n27                    0.226744                           0.021   \n28                    0.226744                           0.021   \n33                    0.047663                           0.021   \n37                    0.047663                           0.021   \n36                    0.047663                           0.021   \n34                    0.047663                           0.021   \n35                    0.047663                           0.021   \n32                    0.047663                           0.021   \n31                    0.047663                           0.021   \n30                    0.047663                           0.021   \n29                    0.047663                           0.021   \n38                    0.192878                           0.021   \n39                    0.192878                           0.021   \n40                    0.192878                           0.021   \n41                    0.192878                           0.021   \n42                    0.192878                           0.021   \n43                    0.192878                           0.021   \n44                    0.192878                           0.021   \n45                    0.000000                           0.021   \n46                    0.000000                           0.021   \n47                    0.226744                           0.021   \n48                    0.226744                           0.021   \n\n    total_emissions_national_kgCO2_per_m3  \n0                                0.358070  \n9                                0.385723  \n1                                0.340500  \n15                               0.400222  \n14                               0.418260  \n13                               0.404507  \n12                               0.478133  \n11                               0.466642  \n10                               0.389957  \n8                                0.455860  \n7                                0.378466  \n6                                0.369165  \n5                                0.396036  \n4                                0.367451  \n3                                0.385131  \n2                                0.428676  \n16                               0.447693  \n21                               0.611559  \n25                               1.317834  \n23                               0.699735  \n22                               0.597613  \n24                               0.779346  \n20                               0.827845  \n18                               0.739669  \n17                               0.757240  \n19                               0.603291  \n26                               0.487630  \n27                               0.609533  \n28                               0.596205  \n33                               0.598648  \n37                               0.628521  \n36                               0.690580  \n34                               0.623513  \n35                               0.636624  \n32                               0.576140  \n31                               0.578088  \n30                               0.562416  \n29                               0.546837  \n38                               0.831134  \n39                               0.949187  \n40                               0.888939  \n41                               0.809546  \n42                               1.000610  \n43                               0.850733  \n44                               1.605672  \n45                               0.699589  \n46                               0.699589  \n47                               0.778116  \n48                               0.835836  ",
      "text/html": "<div>\n<style scoped>\n    .dataframe tbody tr th:only-of-type {\n        vertical-align: middle;\n    }\n\n    .dataframe tbody tr th {\n        vertical-align: top;\n    }\n\n    .dataframe thead th {\n        text-align: right;\n    }\n</style>\n<table border=\"1\" class=\"dataframe\">\n  <thead>\n    <tr style=\"text-align: right;\">\n      <th></th>\n      <th>code</th>\n      <th>tt_onsite_kgCO2e_per_m3</th>\n      <th>fraction_methane</th>\n      <th>fraction_nitrous_oxide</th>\n      <th>fraction_noncombustion_co2</th>\n      <th>methane_kgCO2_per_m3</th>\n      <th>nitrous_oxide_kgCO2_per_m3</th>\n      <th>noncombustion_co2_kgCO2_per_m3</th>\n      <th>total_emissions_national_kgCO2_per_m3</th>\n    </tr>\n  </thead>\n  <tbody>\n    <tr>\n      <th>0</th>\n      <td>*C4</td>\n      <td>0.180919</td>\n      <td>62.047835</td>\n      <td>26.344753</td>\n      <td>11.607412</td>\n      <td>0.112257</td>\n      <td>0.047663</td>\n      <td>0.021</td>\n      <td>0.358070</td>\n    </tr>\n    <tr>\n      <th>9</th>\n      <td>A4</td>\n      <td>0.180919</td>\n      <td>62.047835</td>\n      <td>26.344753</td>\n      <td>11.607412</td>\n      <td>0.112257</td>\n      <td>0.047663</td>\n      <td>0.021</td>\n      <td>0.385723</td>\n    </tr>\n    <tr>\n      <th>1</th>\n      <td>*C6</td>\n      <td>0.180919</td>\n      <td>62.047835</td>\n      <td>26.344753</td>\n      <td>11.607412</td>\n      <td>0.112257</td>\n      <td>0.047663</td>\n      <td>0.021</td>\n      <td>0.340500</td>\n    </tr>\n    <tr>\n      <th>15</th>\n      <td>A3</td>\n      <td>0.180919</td>\n      <td>62.047835</td>\n      <td>26.344753</td>\n      <td>11.607412</td>\n      <td>0.112257</td>\n      <td>0.047663</td>\n      <td>0.021</td>\n      <td>0.400222</td>\n    </tr>\n    <tr>\n      <th>14</th>\n      <td>*B3</td>\n      <td>0.180919</td>\n      <td>62.047835</td>\n      <td>26.344753</td>\n      <td>11.607412</td>\n      <td>0.112257</td>\n      <td>0.047663</td>\n      <td>0.021</td>\n      <td>0.418260</td>\n    </tr>\n    <tr>\n      <th>13</th>\n      <td>*A3</td>\n      <td>0.180919</td>\n      <td>62.047835</td>\n      <td>26.344753</td>\n      <td>11.607412</td>\n      <td>0.112257</td>\n      <td>0.047663</td>\n      <td>0.021</td>\n      <td>0.404507</td>\n    </tr>\n    <tr>\n      <th>12</th>\n      <td>A5</td>\n      <td>0.180919</td>\n      <td>62.047835</td>\n      <td>26.344753</td>\n      <td>11.607412</td>\n      <td>0.112257</td>\n      <td>0.047663</td>\n      <td>0.021</td>\n      <td>0.478133</td>\n    </tr>\n    <tr>\n      <th>11</th>\n      <td>*B5</td>\n      <td>0.180919</td>\n      <td>62.047835</td>\n      <td>26.344753</td>\n      <td>11.607412</td>\n      <td>0.112257</td>\n      <td>0.047663</td>\n      <td>0.021</td>\n      <td>0.466642</td>\n    </tr>\n    <tr>\n      <th>10</th>\n      <td>A6</td>\n      <td>0.180919</td>\n      <td>62.047835</td>\n      <td>26.344753</td>\n      <td>11.607412</td>\n      <td>0.112257</td>\n      <td>0.047663</td>\n      <td>0.021</td>\n      <td>0.389957</td>\n    </tr>\n    <tr>\n      <th>8</th>\n      <td>*A5</td>\n      <td>0.180919</td>\n      <td>62.047835</td>\n      <td>26.344753</td>\n      <td>11.607412</td>\n      <td>0.112257</td>\n      <td>0.047663</td>\n      <td>0.021</td>\n      <td>0.455860</td>\n    </tr>\n    <tr>\n      <th>7</th>\n      <td>*B6</td>\n      <td>0.180919</td>\n      <td>62.047835</td>\n      <td>26.344753</td>\n      <td>11.607412</td>\n      <td>0.112257</td>\n      <td>0.047663</td>\n      <td>0.021</td>\n      <td>0.378466</td>\n    </tr>\n    <tr>\n      <th>6</th>\n      <td>*C3</td>\n      <td>0.180919</td>\n      <td>62.047835</td>\n      <td>26.344753</td>\n      <td>11.607412</td>\n      <td>0.112257</td>\n      <td>0.047663</td>\n      <td>0.021</td>\n      <td>0.369165</td>\n    </tr>\n    <tr>\n      <th>5</th>\n      <td>*B4</td>\n      <td>0.180919</td>\n      <td>62.047835</td>\n      <td>26.344753</td>\n      <td>11.607412</td>\n      <td>0.112257</td>\n      <td>0.047663</td>\n      <td>0.021</td>\n      <td>0.396036</td>\n    </tr>\n    <tr>\n      <th>4</th>\n      <td>*A6</td>\n      <td>0.180919</td>\n      <td>62.047835</td>\n      <td>26.344753</td>\n      <td>11.607412</td>\n      <td>0.112257</td>\n      <td>0.047663</td>\n      <td>0.021</td>\n      <td>0.367451</td>\n    </tr>\n    <tr>\n      <th>3</th>\n      <td>*A4</td>\n      <td>0.180919</td>\n      <td>62.047835</td>\n      <td>26.344753</td>\n      <td>11.607412</td>\n      <td>0.112257</td>\n      <td>0.047663</td>\n      <td>0.021</td>\n      <td>0.385131</td>\n    </tr>\n    <tr>\n      <th>2</th>\n      <td>*C5</td>\n      <td>0.180919</td>\n      <td>62.047835</td>\n      <td>26.344753</td>\n      <td>11.607412</td>\n      <td>0.112257</td>\n      <td>0.047663</td>\n      <td>0.021</td>\n      <td>0.428676</td>\n    </tr>\n    <tr>\n      <th>16</th>\n      <td>L-a</td>\n      <td>0.295560</td>\n      <td>0.000000</td>\n      <td>92.894823</td>\n      <td>7.105177</td>\n      <td>0.000000</td>\n      <td>0.274560</td>\n      <td>0.021</td>\n      <td>0.447693</td>\n    </tr>\n    <tr>\n      <th>21</th>\n      <td>F6</td>\n      <td>0.326134</td>\n      <td>34.420348</td>\n      <td>59.140569</td>\n      <td>6.439083</td>\n      <td>0.112257</td>\n      <td>0.192878</td>\n      <td>0.021</td>\n      <td>0.611559</td>\n    </tr>\n    <tr>\n      <th>25</th>\n      <td>*D3</td>\n      <td>0.326134</td>\n      <td>34.420348</td>\n      <td>59.140569</td>\n      <td>6.439083</td>\n      <td>0.112257</td>\n      <td>0.192878</td>\n      <td>0.021</td>\n      <td>1.317834</td>\n    </tr>\n    <tr>\n      <th>23</th>\n      <td>F5</td>\n      <td>0.326134</td>\n      <td>34.420348</td>\n      <td>59.140569</td>\n      <td>6.439083</td>\n      <td>0.112257</td>\n      <td>0.192878</td>\n      <td>0.021</td>\n      <td>0.699735</td>\n    </tr>\n    <tr>\n      <th>22</th>\n      <td>F3</td>\n      <td>0.326134</td>\n      <td>34.420348</td>\n      <td>59.140569</td>\n      <td>6.439083</td>\n      <td>0.112257</td>\n      <td>0.192878</td>\n      <td>0.021</td>\n      <td>0.597613</td>\n    </tr>\n    <tr>\n      <th>24</th>\n      <td>*G3</td>\n      <td>0.326134</td>\n      <td>34.420348</td>\n      <td>59.140569</td>\n      <td>6.439083</td>\n      <td>0.112257</td>\n      <td>0.192878</td>\n      <td>0.021</td>\n      <td>0.779346</td>\n    </tr>\n    <tr>\n      <th>20</th>\n      <td>*G5</td>\n      <td>0.326134</td>\n      <td>34.420348</td>\n      <td>59.140569</td>\n      <td>6.439083</td>\n      <td>0.112257</td>\n      <td>0.192878</td>\n      <td>0.021</td>\n      <td>0.827845</td>\n    </tr>\n    <tr>\n      <th>18</th>\n      <td>*G6</td>\n      <td>0.326134</td>\n      <td>34.420348</td>\n      <td>59.140569</td>\n      <td>6.439083</td>\n      <td>0.112257</td>\n      <td>0.192878</td>\n      <td>0.021</td>\n      <td>0.739669</td>\n    </tr>\n    <tr>\n      <th>17</th>\n      <td>*G4</td>\n      <td>0.326134</td>\n      <td>34.420348</td>\n      <td>59.140569</td>\n      <td>6.439083</td>\n      <td>0.112257</td>\n      <td>0.192878</td>\n      <td>0.021</td>\n      <td>0.757240</td>\n    </tr>\n    <tr>\n      <th>19</th>\n      <td>F4</td>\n      <td>0.326134</td>\n      <td>34.420348</td>\n      <td>59.140569</td>\n      <td>6.439083</td>\n      <td>0.112257</td>\n      <td>0.192878</td>\n      <td>0.021</td>\n      <td>0.603291</td>\n    </tr>\n    <tr>\n      <th>26</th>\n      <td>L-u</td>\n      <td>0.346523</td>\n      <td>27.268848</td>\n      <td>66.670924</td>\n      <td>6.060227</td>\n      <td>0.094493</td>\n      <td>0.231030</td>\n      <td>0.021</td>\n      <td>0.487630</td>\n    </tr>\n    <tr>\n      <th>27</th>\n      <td>*E3</td>\n      <td>0.360001</td>\n      <td>31.182307</td>\n      <td>62.984357</td>\n      <td>5.833336</td>\n      <td>0.112257</td>\n      <td>0.226744</td>\n      <td>0.021</td>\n      <td>0.609533</td>\n    </tr>\n    <tr>\n      <th>28</th>\n      <td>E3</td>\n      <td>0.360001</td>\n      <td>31.182307</td>\n      <td>62.984357</td>\n      <td>5.833336</td>\n      <td>0.112257</td>\n      <td>0.226744</td>\n      <td>0.021</td>\n      <td>0.596205</td>\n    </tr>\n    <tr>\n      <th>33</th>\n      <td>*C1</td>\n      <td>0.449209</td>\n      <td>84.714716</td>\n      <td>10.610384</td>\n      <td>4.674900</td>\n      <td>0.380546</td>\n      <td>0.047663</td>\n      <td>0.021</td>\n      <td>0.598648</td>\n    </tr>\n    <tr>\n      <th>37</th>\n      <td>A1</td>\n      <td>0.449209</td>\n      <td>84.714716</td>\n      <td>10.610384</td>\n      <td>4.674900</td>\n      <td>0.380546</td>\n      <td>0.047663</td>\n      <td>0.021</td>\n      <td>0.628521</td>\n    </tr>\n    <tr>\n      <th>36</th>\n      <td>*A2</td>\n      <td>0.449209</td>\n      <td>84.714716</td>\n      <td>10.610384</td>\n      <td>4.674900</td>\n      <td>0.380546</td>\n      <td>0.047663</td>\n      <td>0.021</td>\n      <td>0.690580</td>\n    </tr>\n    <tr>\n      <th>34</th>\n      <td>*A1</td>\n      <td>0.449209</td>\n      <td>84.714716</td>\n      <td>10.610384</td>\n      <td>4.674900</td>\n      <td>0.380546</td>\n      <td>0.047663</td>\n      <td>0.021</td>\n      <td>0.623513</td>\n    </tr>\n    <tr>\n      <th>35</th>\n      <td>*B1</td>\n      <td>0.449209</td>\n      <td>84.714716</td>\n      <td>10.610384</td>\n      <td>4.674900</td>\n      <td>0.380546</td>\n      <td>0.047663</td>\n      <td>0.021</td>\n      <td>0.636624</td>\n    </tr>\n    <tr>\n      <th>32</th>\n      <td>A1e</td>\n      <td>0.449209</td>\n      <td>84.714716</td>\n      <td>10.610384</td>\n      <td>4.674900</td>\n      <td>0.380546</td>\n      <td>0.047663</td>\n      <td>0.021</td>\n      <td>0.576140</td>\n    </tr>\n    <tr>\n      <th>31</th>\n      <td>*B1e</td>\n      <td>0.449209</td>\n      <td>84.714716</td>\n      <td>10.610384</td>\n      <td>4.674900</td>\n      <td>0.380546</td>\n      <td>0.047663</td>\n      <td>0.021</td>\n      <td>0.578088</td>\n    </tr>\n    <tr>\n      <th>30</th>\n      <td>*A1e</td>\n      <td>0.449209</td>\n      <td>84.714716</td>\n      <td>10.610384</td>\n      <td>4.674900</td>\n      <td>0.380546</td>\n      <td>0.047663</td>\n      <td>0.021</td>\n      <td>0.562416</td>\n    </tr>\n    <tr>\n      <th>29</th>\n      <td>*C1e</td>\n      <td>0.449209</td>\n      <td>84.714716</td>\n      <td>10.610384</td>\n      <td>4.674900</td>\n      <td>0.380546</td>\n      <td>0.047663</td>\n      <td>0.021</td>\n      <td>0.546837</td>\n    </tr>\n    <tr>\n      <th>38</th>\n      <td>*G1e-p</td>\n      <td>0.594424</td>\n      <td>64.019306</td>\n      <td>32.447850</td>\n      <td>3.532844</td>\n      <td>0.380546</td>\n      <td>0.192878</td>\n      <td>0.021</td>\n      <td>0.831134</td>\n    </tr>\n    <tr>\n      <th>39</th>\n      <td>*G1e</td>\n      <td>0.594424</td>\n      <td>64.019306</td>\n      <td>32.447850</td>\n      <td>3.532844</td>\n      <td>0.380546</td>\n      <td>0.192878</td>\n      <td>0.021</td>\n      <td>0.949187</td>\n    </tr>\n    <tr>\n      <th>40</th>\n      <td>*G1-p</td>\n      <td>0.594424</td>\n      <td>64.019306</td>\n      <td>32.447850</td>\n      <td>3.532844</td>\n      <td>0.380546</td>\n      <td>0.192878</td>\n      <td>0.021</td>\n      <td>0.888939</td>\n    </tr>\n    <tr>\n      <th>41</th>\n      <td>F1e</td>\n      <td>0.594424</td>\n      <td>64.019306</td>\n      <td>32.447850</td>\n      <td>3.532844</td>\n      <td>0.380546</td>\n      <td>0.192878</td>\n      <td>0.021</td>\n      <td>0.809546</td>\n    </tr>\n    <tr>\n      <th>42</th>\n      <td>*G1</td>\n      <td>0.594424</td>\n      <td>64.019306</td>\n      <td>32.447850</td>\n      <td>3.532844</td>\n      <td>0.380546</td>\n      <td>0.192878</td>\n      <td>0.021</td>\n      <td>1.000610</td>\n    </tr>\n    <tr>\n      <th>43</th>\n      <td>F1</td>\n      <td>0.594424</td>\n      <td>64.019306</td>\n      <td>32.447850</td>\n      <td>3.532844</td>\n      <td>0.380546</td>\n      <td>0.192878</td>\n      <td>0.021</td>\n      <td>0.850733</td>\n    </tr>\n    <tr>\n      <th>44</th>\n      <td>*D1e</td>\n      <td>0.594424</td>\n      <td>64.019306</td>\n      <td>32.447850</td>\n      <td>3.532844</td>\n      <td>0.380546</td>\n      <td>0.192878</td>\n      <td>0.021</td>\n      <td>1.605672</td>\n    </tr>\n    <tr>\n      <th>45</th>\n      <td>L-n</td>\n      <td>0.617000</td>\n      <td>96.596424</td>\n      <td>0.000000</td>\n      <td>3.403576</td>\n      <td>0.596000</td>\n      <td>0.000000</td>\n      <td>0.021</td>\n      <td>0.699589</td>\n    </tr>\n    <tr>\n      <th>46</th>\n      <td>L-f</td>\n      <td>0.617000</td>\n      <td>96.596424</td>\n      <td>0.000000</td>\n      <td>3.403576</td>\n      <td>0.596000</td>\n      <td>0.000000</td>\n      <td>0.021</td>\n      <td>0.699589</td>\n    </tr>\n    <tr>\n      <th>47</th>\n      <td>*E1e</td>\n      <td>0.628290</td>\n      <td>60.568494</td>\n      <td>36.089092</td>\n      <td>3.342414</td>\n      <td>0.380546</td>\n      <td>0.226744</td>\n      <td>0.021</td>\n      <td>0.778116</td>\n    </tr>\n    <tr>\n      <th>48</th>\n      <td>*E1</td>\n      <td>0.628290</td>\n      <td>60.568494</td>\n      <td>36.089092</td>\n      <td>3.342414</td>\n      <td>0.380546</td>\n      <td>0.226744</td>\n      <td>0.021</td>\n      <td>0.835836</td>\n    </tr>\n  </tbody>\n</table>\n</div>"
     },
     "metadata": {},
     "output_type": "display_data"
    },
    {
     "name": "stdout",
     "output_type": "stream",
     "text": [
      "Max fraction from CO2: 11.61\n",
      "Max fraction from CH4 and N2O:96.66\n",
      "Min fraction from CH4 and N2O:88.39\n"
     ]
    }
   ],
   "source": [
    "# What is the max fraction of emissions from CO2? What facilities have the highest proportion of emissions from CO2? \n",
    "tt_emissions_sorted_co2 = tt_emissions.sort_values(by='fraction_noncombustion_co2', ascending=False)\n",
    "display(tt_emissions_sorted_co2[emissions_columns])\n",
    "\n",
    "print(f\"Max fraction from CO2: {tt_emissions['fraction_noncombustion_co2'].max():.2f}\")\n",
    "\n",
    "# Range of fraction from methane and nitrous oxide \n",
    "\n",
    "tt_emissions_sorted_co2['methane_and_n2o'] = tt_emissions_sorted_co2['fraction_methane'] + tt_emissions_sorted_co2['fraction_nitrous_oxide']\n",
    "print(f\"Max fraction from CH4 and N2O:{tt_emissions_sorted_co2['methane_and_n2o'].max():.2f}\")\n",
    "print(f\"Min fraction from CH4 and N2O:{tt_emissions_sorted_co2['methane_and_n2o'].min():.2f}\")\n"
   ],
   "metadata": {
    "collapsed": false,
    "ExecuteTime": {
     "end_time": "2024-10-25T18:38:30.577493Z",
     "start_time": "2024-10-25T18:38:30.299934Z"
    }
   },
   "id": "c408ee1089a910ec"
  },
  {
   "cell_type": "code",
   "execution_count": 29,
   "outputs": [
    {
     "data": {
      "text/plain": "    code  national_onsite_mmtCO2_per_year  fraction_nationwide_methane  \\\n48   *E1                         6.055486                    60.568494   \n34   *A1                         2.919539                    84.714716   \n47  *E1e                         2.555816                    60.568494   \n43    F1                         2.064572                    64.019306   \n33   *C1                         2.000280                    84.714716   \n30  *A1e                         1.869677                    84.714716   \n41   F1e                         1.290300                    64.019306   \n26   L-u                         1.041111                    27.268848   \n31  *B1e                         1.003317                    84.714716   \n15    A3                         0.804383                    62.047835   \n\n    fraction_nationwide_nitrous_oxide  fraction_nationwide_noncombustion_co2  \\\n48                          36.089092                               3.342414   \n34                          10.610384                               4.674900   \n47                          36.089092                               3.342414   \n43                          32.447850                               3.532844   \n33                          10.610384                               4.674900   \n30                          10.610384                               4.674900   \n41                          32.447850                               3.532844   \n26                          66.670924                               6.060227   \n31                          10.610384                               4.674900   \n15                          26.344753                              11.607412   \n\n    methane_kgCO2_per_m3  nitrous_oxide_kgCO2_per_m3  \\\n48              0.380546                    0.226744   \n34              0.380546                    0.047663   \n47              0.380546                    0.226744   \n43              0.380546                    0.192878   \n33              0.380546                    0.047663   \n30              0.380546                    0.047663   \n41              0.380546                    0.192878   \n26              0.094493                    0.231030   \n31              0.380546                    0.047663   \n15              0.112257                    0.047663   \n\n    noncombustion_co2_kgCO2_per_m3  total_emissions_national_kgCO2_per_m3  \n48                           0.021                               0.835836  \n34                           0.021                               0.623513  \n47                           0.021                               0.778116  \n43                           0.021                               0.850733  \n33                           0.021                               0.598648  \n30                           0.021                               0.562416  \n41                           0.021                               0.809546  \n26                           0.021                               0.487630  \n31                           0.021                               0.578088  \n15                           0.021                               0.400222  ",
      "text/html": "<div>\n<style scoped>\n    .dataframe tbody tr th:only-of-type {\n        vertical-align: middle;\n    }\n\n    .dataframe tbody tr th {\n        vertical-align: top;\n    }\n\n    .dataframe thead th {\n        text-align: right;\n    }\n</style>\n<table border=\"1\" class=\"dataframe\">\n  <thead>\n    <tr style=\"text-align: right;\">\n      <th></th>\n      <th>code</th>\n      <th>national_onsite_mmtCO2_per_year</th>\n      <th>fraction_nationwide_methane</th>\n      <th>fraction_nationwide_nitrous_oxide</th>\n      <th>fraction_nationwide_noncombustion_co2</th>\n      <th>methane_kgCO2_per_m3</th>\n      <th>nitrous_oxide_kgCO2_per_m3</th>\n      <th>noncombustion_co2_kgCO2_per_m3</th>\n      <th>total_emissions_national_kgCO2_per_m3</th>\n    </tr>\n  </thead>\n  <tbody>\n    <tr>\n      <th>48</th>\n      <td>*E1</td>\n      <td>6.055486</td>\n      <td>60.568494</td>\n      <td>36.089092</td>\n      <td>3.342414</td>\n      <td>0.380546</td>\n      <td>0.226744</td>\n      <td>0.021</td>\n      <td>0.835836</td>\n    </tr>\n    <tr>\n      <th>34</th>\n      <td>*A1</td>\n      <td>2.919539</td>\n      <td>84.714716</td>\n      <td>10.610384</td>\n      <td>4.674900</td>\n      <td>0.380546</td>\n      <td>0.047663</td>\n      <td>0.021</td>\n      <td>0.623513</td>\n    </tr>\n    <tr>\n      <th>47</th>\n      <td>*E1e</td>\n      <td>2.555816</td>\n      <td>60.568494</td>\n      <td>36.089092</td>\n      <td>3.342414</td>\n      <td>0.380546</td>\n      <td>0.226744</td>\n      <td>0.021</td>\n      <td>0.778116</td>\n    </tr>\n    <tr>\n      <th>43</th>\n      <td>F1</td>\n      <td>2.064572</td>\n      <td>64.019306</td>\n      <td>32.447850</td>\n      <td>3.532844</td>\n      <td>0.380546</td>\n      <td>0.192878</td>\n      <td>0.021</td>\n      <td>0.850733</td>\n    </tr>\n    <tr>\n      <th>33</th>\n      <td>*C1</td>\n      <td>2.000280</td>\n      <td>84.714716</td>\n      <td>10.610384</td>\n      <td>4.674900</td>\n      <td>0.380546</td>\n      <td>0.047663</td>\n      <td>0.021</td>\n      <td>0.598648</td>\n    </tr>\n    <tr>\n      <th>30</th>\n      <td>*A1e</td>\n      <td>1.869677</td>\n      <td>84.714716</td>\n      <td>10.610384</td>\n      <td>4.674900</td>\n      <td>0.380546</td>\n      <td>0.047663</td>\n      <td>0.021</td>\n      <td>0.562416</td>\n    </tr>\n    <tr>\n      <th>41</th>\n      <td>F1e</td>\n      <td>1.290300</td>\n      <td>64.019306</td>\n      <td>32.447850</td>\n      <td>3.532844</td>\n      <td>0.380546</td>\n      <td>0.192878</td>\n      <td>0.021</td>\n      <td>0.809546</td>\n    </tr>\n    <tr>\n      <th>26</th>\n      <td>L-u</td>\n      <td>1.041111</td>\n      <td>27.268848</td>\n      <td>66.670924</td>\n      <td>6.060227</td>\n      <td>0.094493</td>\n      <td>0.231030</td>\n      <td>0.021</td>\n      <td>0.487630</td>\n    </tr>\n    <tr>\n      <th>31</th>\n      <td>*B1e</td>\n      <td>1.003317</td>\n      <td>84.714716</td>\n      <td>10.610384</td>\n      <td>4.674900</td>\n      <td>0.380546</td>\n      <td>0.047663</td>\n      <td>0.021</td>\n      <td>0.578088</td>\n    </tr>\n    <tr>\n      <th>15</th>\n      <td>A3</td>\n      <td>0.804383</td>\n      <td>62.047835</td>\n      <td>26.344753</td>\n      <td>11.607412</td>\n      <td>0.112257</td>\n      <td>0.047663</td>\n      <td>0.021</td>\n      <td>0.400222</td>\n    </tr>\n  </tbody>\n</table>\n</div>"
     },
     "metadata": {},
     "output_type": "display_data"
    }
   ],
   "source": [
    "# Who are the main contributors nationwide? \n",
    "\n",
    "tt_emissions['national_onsite_mmtCO2_per_year'] = tt_emissions['methane_mmtCO2_per_year'] + tt_emissions['nitrous_oxide_mmtCO2_per_year'] + tt_emissions['noncombustion_co2_mmtCO2_per_year']\n",
    "\n",
    "tt_emissions['fraction_nationwide_methane'] = tt_emissions['methane_mmtCO2_per_year'] / tt_emissions['national_onsite_mmtCO2_per_year'] *100\n",
    "\n",
    "tt_emissions['fraction_nationwide_nitrous_oxide'] = tt_emissions['nitrous_oxide_mmtCO2_per_year'] / tt_emissions['national_onsite_mmtCO2_per_year']*100\n",
    "\n",
    "tt_emissions['fraction_nationwide_noncombustion_co2'] = tt_emissions['noncombustion_co2_mmtCO2_per_year'] / tt_emissions['national_onsite_mmtCO2_per_year']*100\n",
    "\n",
    "tt_emissions_nationwide = tt_emissions.sort_values(by='national_onsite_mmtCO2_per_year', ascending=False)\n",
    "\n",
    "national_emissions_columns = ['code', 'national_onsite_mmtCO2_per_year', 'fraction_nationwide_methane', 'fraction_nationwide_nitrous_oxide', 'fraction_nationwide_noncombustion_co2', 'methane_kgCO2_per_m3', 'nitrous_oxide_kgCO2_per_m3', 'noncombustion_co2_kgCO2_per_m3', 'total_emissions_national_kgCO2_per_m3']\n",
    "\n",
    "display(tt_emissions_nationwide[national_emissions_columns].head(10))\n"
   ],
   "metadata": {
    "collapsed": false,
    "ExecuteTime": {
     "end_time": "2024-10-25T18:38:30.585573Z",
     "start_time": "2024-10-25T18:38:30.304559Z"
    }
   },
   "id": "afb4ff8614c0c9e2"
  },
  {
   "cell_type": "code",
   "execution_count": 30,
   "outputs": [
    {
     "data": {
      "text/plain": "   tt_liquids  flow_Bm3yr  flow_fraction  \\\n4  E_combined   16.366579      24.323440   \n0  A_combined   22.584170      33.563806   \n5  F_combined    6.819941      10.135558   \n2  C_combined    7.497883      11.143092   \n1  B_combined    5.147267       7.649688   \n6  G_combined    3.066422       4.557210   \n7  L_combined    5.601269       8.324411   \n3  D_combined    0.203742       0.302794   \n\n   total_emissions_annual_mmtCO2_per_year  emissions_fraction  \\\n4                               12.821123           30.179658   \n0                               11.453377           26.960120   \n5                                5.446415           12.820324   \n2                                4.106084            9.665317   \n1                                2.820618            6.639457   \n6                                2.777148            6.537132   \n7                                2.731338            6.429300   \n3                                0.326561            0.768692   \n\n                                     labels_combined  \n4                                 *E1, *E1e, E3, *E3  \n0  *A1, *A1e, A3, *A3, *A5, A1, *A6, *A4, A1e, A6...  \n5                            F1, F1e, F3, F5, F6, F4  \n2                      *C1, *C1e, *C3, *C5, *C6, *C4  \n1                      *B1e, *B1, *B3, *B5, *B4, *B6  \n6       *G1, *G1e, *G6, *G1e-p, *G5, *G3, *G1-p, *G4  \n7                                 L-u, L-a, L-f, L-n  \n3                                          *D1e, *D3  ",
      "text/html": "<div>\n<style scoped>\n    .dataframe tbody tr th:only-of-type {\n        vertical-align: middle;\n    }\n\n    .dataframe tbody tr th {\n        vertical-align: top;\n    }\n\n    .dataframe thead th {\n        text-align: right;\n    }\n</style>\n<table border=\"1\" class=\"dataframe\">\n  <thead>\n    <tr style=\"text-align: right;\">\n      <th></th>\n      <th>tt_liquids</th>\n      <th>flow_Bm3yr</th>\n      <th>flow_fraction</th>\n      <th>total_emissions_annual_mmtCO2_per_year</th>\n      <th>emissions_fraction</th>\n      <th>labels_combined</th>\n    </tr>\n  </thead>\n  <tbody>\n    <tr>\n      <th>4</th>\n      <td>E_combined</td>\n      <td>16.366579</td>\n      <td>24.323440</td>\n      <td>12.821123</td>\n      <td>30.179658</td>\n      <td>*E1, *E1e, E3, *E3</td>\n    </tr>\n    <tr>\n      <th>0</th>\n      <td>A_combined</td>\n      <td>22.584170</td>\n      <td>33.563806</td>\n      <td>11.453377</td>\n      <td>26.960120</td>\n      <td>*A1, *A1e, A3, *A3, *A5, A1, *A6, *A4, A1e, A6...</td>\n    </tr>\n    <tr>\n      <th>5</th>\n      <td>F_combined</td>\n      <td>6.819941</td>\n      <td>10.135558</td>\n      <td>5.446415</td>\n      <td>12.820324</td>\n      <td>F1, F1e, F3, F5, F6, F4</td>\n    </tr>\n    <tr>\n      <th>2</th>\n      <td>C_combined</td>\n      <td>7.497883</td>\n      <td>11.143092</td>\n      <td>4.106084</td>\n      <td>9.665317</td>\n      <td>*C1, *C1e, *C3, *C5, *C6, *C4</td>\n    </tr>\n    <tr>\n      <th>1</th>\n      <td>B_combined</td>\n      <td>5.147267</td>\n      <td>7.649688</td>\n      <td>2.820618</td>\n      <td>6.639457</td>\n      <td>*B1e, *B1, *B3, *B5, *B4, *B6</td>\n    </tr>\n    <tr>\n      <th>6</th>\n      <td>G_combined</td>\n      <td>3.066422</td>\n      <td>4.557210</td>\n      <td>2.777148</td>\n      <td>6.537132</td>\n      <td>*G1, *G1e, *G6, *G1e-p, *G5, *G3, *G1-p, *G4</td>\n    </tr>\n    <tr>\n      <th>7</th>\n      <td>L_combined</td>\n      <td>5.601269</td>\n      <td>8.324411</td>\n      <td>2.731338</td>\n      <td>6.429300</td>\n      <td>L-u, L-a, L-f, L-n</td>\n    </tr>\n    <tr>\n      <th>3</th>\n      <td>D_combined</td>\n      <td>0.203742</td>\n      <td>0.302794</td>\n      <td>0.326561</td>\n      <td>0.768692</td>\n      <td>*D1e, *D3</td>\n    </tr>\n  </tbody>\n</table>\n</div>"
     },
     "metadata": {},
     "output_type": "display_data"
    },
    {
     "data": {
      "text/plain": "   tt_liquids  national_onsite_mmtCO2_per_year  methane_mmtCO2_per_year  \\\n4  E_combined                         9.569119                 5.514405   \n0  A_combined                         7.197867                 5.647178   \n5  F_combined                         3.738410                 2.279781   \n2  C_combined                         3.002684                 2.487860   \n1  B_combined                         1.877468                 1.524043   \n6  G_combined                         1.553993                 0.898155   \n7  L_combined                         1.940961                 0.529278   \n3  D_combined                         0.120567                 0.076992   \n\n   nitrous_oxide_mmtCO2_per_year  noncombustion_co2_mmtCO2_per_year  \\\n4                       3.711016                           0.343698   \n0                       1.076421                           0.474267   \n5                       1.315410                           0.143219   \n2                       0.357369                           0.157456   \n1                       0.245332                           0.108093   \n6                       0.591443                           0.064395   \n7                       1.294056                           0.117627   \n3                       0.039297                           0.004279   \n\n   emissions_fraction  \n4           30.179658  \n0           26.960120  \n5           12.820324  \n2            9.665317  \n1            6.639457  \n6            6.537132  \n7            6.429300  \n3            0.768692  ",
      "text/html": "<div>\n<style scoped>\n    .dataframe tbody tr th:only-of-type {\n        vertical-align: middle;\n    }\n\n    .dataframe tbody tr th {\n        vertical-align: top;\n    }\n\n    .dataframe thead th {\n        text-align: right;\n    }\n</style>\n<table border=\"1\" class=\"dataframe\">\n  <thead>\n    <tr style=\"text-align: right;\">\n      <th></th>\n      <th>tt_liquids</th>\n      <th>national_onsite_mmtCO2_per_year</th>\n      <th>methane_mmtCO2_per_year</th>\n      <th>nitrous_oxide_mmtCO2_per_year</th>\n      <th>noncombustion_co2_mmtCO2_per_year</th>\n      <th>emissions_fraction</th>\n    </tr>\n  </thead>\n  <tbody>\n    <tr>\n      <th>4</th>\n      <td>E_combined</td>\n      <td>9.569119</td>\n      <td>5.514405</td>\n      <td>3.711016</td>\n      <td>0.343698</td>\n      <td>30.179658</td>\n    </tr>\n    <tr>\n      <th>0</th>\n      <td>A_combined</td>\n      <td>7.197867</td>\n      <td>5.647178</td>\n      <td>1.076421</td>\n      <td>0.474267</td>\n      <td>26.960120</td>\n    </tr>\n    <tr>\n      <th>5</th>\n      <td>F_combined</td>\n      <td>3.738410</td>\n      <td>2.279781</td>\n      <td>1.315410</td>\n      <td>0.143219</td>\n      <td>12.820324</td>\n    </tr>\n    <tr>\n      <th>2</th>\n      <td>C_combined</td>\n      <td>3.002684</td>\n      <td>2.487860</td>\n      <td>0.357369</td>\n      <td>0.157456</td>\n      <td>9.665317</td>\n    </tr>\n    <tr>\n      <th>1</th>\n      <td>B_combined</td>\n      <td>1.877468</td>\n      <td>1.524043</td>\n      <td>0.245332</td>\n      <td>0.108093</td>\n      <td>6.639457</td>\n    </tr>\n    <tr>\n      <th>6</th>\n      <td>G_combined</td>\n      <td>1.553993</td>\n      <td>0.898155</td>\n      <td>0.591443</td>\n      <td>0.064395</td>\n      <td>6.537132</td>\n    </tr>\n    <tr>\n      <th>7</th>\n      <td>L_combined</td>\n      <td>1.940961</td>\n      <td>0.529278</td>\n      <td>1.294056</td>\n      <td>0.117627</td>\n      <td>6.429300</td>\n    </tr>\n    <tr>\n      <th>3</th>\n      <td>D_combined</td>\n      <td>0.120567</td>\n      <td>0.076992</td>\n      <td>0.039297</td>\n      <td>0.004279</td>\n      <td>0.768692</td>\n    </tr>\n  </tbody>\n</table>\n</div>"
     },
     "execution_count": 30,
     "metadata": {},
     "output_type": "execute_result"
    }
   ],
   "source": [
    "# Onsite process emissions for grouped liquids and solids treatment processes \n",
    "combined_national_emissions_columns = ['tt_liquids', 'national_onsite_mmtCO2_per_year', 'methane_mmtCO2_per_year', 'nitrous_oxide_mmtCO2_per_year', 'noncombustion_co2_mmtCO2_per_year', 'emissions_fraction']\n",
    "emissions_combine_liquids = process_treatment_data(tt_emissions_nationwide, combine_liquid_treatment, 'tt_liquids', total_facilities, sort_by='emissions_fraction')\n",
    "emissions_combine_liquids[combined_national_emissions_columns]"
   ],
   "metadata": {
    "collapsed": false,
    "ExecuteTime": {
     "end_time": "2024-10-25T18:38:30.589630Z",
     "start_time": "2024-10-25T18:38:30.315378Z"
    }
   },
   "id": "2d2702b9d0dfd737"
  },
  {
   "cell_type": "code",
   "execution_count": 31,
   "outputs": [
    {
     "data": {
      "text/plain": "   tt_liquids  flow_Bm3yr  flow_fraction  \\\n4  E_combined   16.366579      24.323440   \n0  A_combined   22.584170      33.563806   \n5  F_combined    6.819941      10.135558   \n2  C_combined    7.497883      11.143092   \n1  B_combined    5.147267       7.649688   \n6  G_combined    3.066422       4.557210   \n7  L_combined    5.601269       8.324411   \n3  D_combined    0.203742       0.302794   \n\n   total_emissions_annual_mmtCO2_per_year  emissions_fraction  \\\n4                               12.821123           30.179658   \n0                               11.453377           26.960120   \n5                                5.446415           12.820324   \n2                                4.106084            9.665317   \n1                                2.820618            6.639457   \n6                                2.777148            6.537132   \n7                                2.731338            6.429300   \n3                                0.326561            0.768692   \n\n                                     labels_combined  \n4                                 *E3, E3, *E1e, *E1  \n0  *A4, *A6, *A5, A4, A6, A5, *A3, A3, *A1e, A1e,...  \n5                            F4, F6, F3, F5, F1e, F1  \n2                      *C4, *C6, *C5, *C3, *C1e, *C1  \n1                      *B4, *B6, *B5, *B3, *B1e, *B1  \n6       *G4, *G6, *G5, *G3, *G1e-p, *G1e, *G1-p, *G1  \n7                                 L-a, L-u, L-n, L-f  \n3                                          *D3, *D1e  ",
      "text/html": "<div>\n<style scoped>\n    .dataframe tbody tr th:only-of-type {\n        vertical-align: middle;\n    }\n\n    .dataframe tbody tr th {\n        vertical-align: top;\n    }\n\n    .dataframe thead th {\n        text-align: right;\n    }\n</style>\n<table border=\"1\" class=\"dataframe\">\n  <thead>\n    <tr style=\"text-align: right;\">\n      <th></th>\n      <th>tt_liquids</th>\n      <th>flow_Bm3yr</th>\n      <th>flow_fraction</th>\n      <th>total_emissions_annual_mmtCO2_per_year</th>\n      <th>emissions_fraction</th>\n      <th>labels_combined</th>\n    </tr>\n  </thead>\n  <tbody>\n    <tr>\n      <th>4</th>\n      <td>E_combined</td>\n      <td>16.366579</td>\n      <td>24.323440</td>\n      <td>12.821123</td>\n      <td>30.179658</td>\n      <td>*E3, E3, *E1e, *E1</td>\n    </tr>\n    <tr>\n      <th>0</th>\n      <td>A_combined</td>\n      <td>22.584170</td>\n      <td>33.563806</td>\n      <td>11.453377</td>\n      <td>26.960120</td>\n      <td>*A4, *A6, *A5, A4, A6, A5, *A3, A3, *A1e, A1e,...</td>\n    </tr>\n    <tr>\n      <th>5</th>\n      <td>F_combined</td>\n      <td>6.819941</td>\n      <td>10.135558</td>\n      <td>5.446415</td>\n      <td>12.820324</td>\n      <td>F4, F6, F3, F5, F1e, F1</td>\n    </tr>\n    <tr>\n      <th>2</th>\n      <td>C_combined</td>\n      <td>7.497883</td>\n      <td>11.143092</td>\n      <td>4.106084</td>\n      <td>9.665317</td>\n      <td>*C4, *C6, *C5, *C3, *C1e, *C1</td>\n    </tr>\n    <tr>\n      <th>1</th>\n      <td>B_combined</td>\n      <td>5.147267</td>\n      <td>7.649688</td>\n      <td>2.820618</td>\n      <td>6.639457</td>\n      <td>*B4, *B6, *B5, *B3, *B1e, *B1</td>\n    </tr>\n    <tr>\n      <th>6</th>\n      <td>G_combined</td>\n      <td>3.066422</td>\n      <td>4.557210</td>\n      <td>2.777148</td>\n      <td>6.537132</td>\n      <td>*G4, *G6, *G5, *G3, *G1e-p, *G1e, *G1-p, *G1</td>\n    </tr>\n    <tr>\n      <th>7</th>\n      <td>L_combined</td>\n      <td>5.601269</td>\n      <td>8.324411</td>\n      <td>2.731338</td>\n      <td>6.429300</td>\n      <td>L-a, L-u, L-n, L-f</td>\n    </tr>\n    <tr>\n      <th>3</th>\n      <td>D_combined</td>\n      <td>0.203742</td>\n      <td>0.302794</td>\n      <td>0.326561</td>\n      <td>0.768692</td>\n      <td>*D3, *D1e</td>\n    </tr>\n  </tbody>\n</table>\n</div>"
     },
     "metadata": {},
     "output_type": "display_data"
    }
   ],
   "source": [
    "\n",
    "emissions_combine_liquids = process_treatment_data(tt_data, combine_liquid_treatment, 'tt_liquids', total_facilities, sort_by='emissions_fraction')"
   ],
   "metadata": {
    "collapsed": false,
    "ExecuteTime": {
     "end_time": "2024-10-25T18:38:30.597871Z",
     "start_time": "2024-10-25T18:38:30.332812Z"
    }
   },
   "id": "5108cab854c2ab5f"
  },
  {
   "cell_type": "markdown",
   "source": [
    "### Total emissions by configuration and nationwide"
   ],
   "metadata": {
    "collapsed": false
   },
   "id": "e24088eca5fd6133"
  },
  {
   "cell_type": "code",
   "execution_count": 32,
   "outputs": [
    {
     "data": {
      "text/plain": "      code  total_emissions_national_kgCO2_per_m3  fraction_scope1  \\\n44    *D1e                               1.605672        39.361604   \n25     *D3                               1.317834        27.485632   \n42     *G1                               1.000610        63.163319   \n39    *G1e                               0.949187        66.585242   \n40   *G1-p                               0.888939        71.098051   \n43      F1                               0.850733        72.068048   \n48     *E1                               0.835836        79.666936   \n38  *G1e-p                               0.831134        76.042837   \n20     *G5                               0.827845        39.395567   \n41     F1e                               0.809546        75.734667   \n24     *G3                               0.779346        46.476760   \n47    *E1e                               0.778116        85.576591   \n17     *G4                               0.757240        49.732805   \n18     *G6                               0.739669        44.091922   \n23      F5                               0.699735        46.608274   \n46     L-f                               0.699589        90.865220   \n45     L-n                               0.699589        90.865220   \n36     *A2                               0.690580        70.491912   \n35     *B1                               0.636624        76.466379   \n37      A1                               0.628521        74.443278   \n34     *A1                               0.623513        78.074210   \n21      F6                               0.611559        53.328377   \n27     *E3                               0.609533        64.981154   \n19      F4                               0.603291        58.216106   \n33     *C1                               0.598648        81.317069   \n22      F3                               0.597613        57.573274   \n28      E3                               0.596205        63.389550   \n31    *B1e                               0.578088        84.209234   \n32     A1e                               0.576140        81.211480   \n30    *A1e                               0.562416        86.555791   \n29    *C1e                               0.546837        89.021691   \n26     L-u                               0.487630        74.764213   \n12      A5                               0.478133        37.838720   \n11     *B5                               0.466642        38.770531   \n8      *A5                               0.455860        39.687506   \n16     L-a                               0.447693        70.023575   \n2      *C5                               0.428676        42.204267   \n14     *B3                               0.418260        51.881609   \n13     *A3                               0.404507        53.645519   \n15      A3                               0.400222        49.684966   \n5      *B4                               0.396036        58.424389   \n10      A6                               0.389957        46.394723   \n9       A4                               0.385723        53.405521   \n3      *A4                               0.385131        60.078777   \n7      *B6                               0.378466        47.803418   \n6      *C3                               0.369165        58.781247   \n4      *A6                               0.367451        49.236291   \n0      *C4                               0.358070        64.619084   \n1      *C6                               0.340500        53.133531   \n\n    fraction_energy  fraction_biosolids  fraction_methane  \\\n44        60.638396            2.341349         23.700110   \n25        72.514368            2.737866          8.518267   \n42        36.836681            3.757149         38.031418   \n39        33.414758            3.960695         40.091800   \n40        28.901949            4.229131         42.809019   \n43        27.931952            2.196117         44.731526   \n48        20.333064            4.497820         45.528801   \n38        23.957163            4.523262         45.786336   \n20        60.604433            0.000000         13.560091   \n41        24.265333            2.307849         47.007340   \n24        53.523240            4.629587         14.403943   \n47        14.423409            4.831466         48.906106   \n17        50.267195            6.663973         14.824442   \n18        55.908078            0.000000         15.176593   \n23        53.391726            0.000000         16.042730   \n46         9.134780            2.670582         85.192867   \n45         9.134780            2.670582         85.192867   \n36        29.508088            5.443884         55.105252   \n35        23.533621            5.905274         59.775639   \n37        25.556722            2.972548         60.546226   \n34        21.925790            6.029443         61.032520   \n21        46.671623            0.000000         18.355813   \n27        35.018846            5.919373         18.416826   \n19        41.783894            4.156865         18.607379   \n33        18.682931            6.279879         63.567542   \n22        42.426726            3.000398         18.784174   \n28        36.610450            3.007482         18.828522   \n31        15.790766            6.503233         65.828419   \n32        18.788520            3.242804         66.050942   \n30        13.444209            6.684450         67.662779   \n29        10.978309            6.874884         69.590434   \n26        25.235787            3.701585         19.377960   \n12        62.161280            0.000000         23.478107   \n11        61.229469            0.000000         24.056275   \n8         60.312494            0.000000         24.625238   \n16        29.976425            4.005144          0.000000   \n2         57.795733            0.000000         26.186834   \n14        48.118391            8.626340         26.838958   \n13        46.354481            8.919625         27.751449   \n15        50.315034            4.480202         28.048577   \n5         41.575611           12.741833         28.345037   \n10        53.605277            0.000000         28.786921   \n9         46.594479            6.501551         29.102898   \n3         39.921223           13.102640         29.147676   \n7         52.196582            0.000000         29.660986   \n6         41.218753            9.773541         30.408221   \n4         50.763709            0.000000         30.550052   \n0         35.380916           14.092840         31.350441   \n1         46.866469            0.000000         32.968205   \n\n    fraction_nitrous_oxide  fraction_noncombustion_co2  \n44               12.012277                    1.307868  \n25               14.635969                    1.593529  \n42               19.276025                    2.098727  \n39               20.320319                    2.212427  \n40               21.697527                    2.362375  \n43               22.671939                    2.468466  \n48               27.127851                    2.512463  \n38               23.206564                    2.526675  \n20               23.298762                    2.536713  \n41               23.825424                    2.594055  \n24               24.748656                    2.694574  \n47               29.140183                    2.698836  \n17               25.471152                    2.773238  \n18               26.076213                    2.839115  \n23               27.564398                    3.001145  \n46                0.000000                    3.001771  \n45                0.000000                    3.001771  \n36                6.901845                    3.040930  \n35                7.486804                    3.298661  \n37                7.583319                    3.341185  \n34                7.644226                    3.368021  \n21               31.538705                    3.433858  \n27               37.199683                    3.445272  \n19               31.970943                    3.480919  \n33                7.961734                    3.507914  \n22               32.274709                    3.513993  \n28               38.031258                    3.522289  \n31                8.244905                    3.632678  \n32                8.272776                    3.644958  \n30                8.474656                    3.733905  \n29                8.716091                    3.840281  \n26               47.378111                    4.306557  \n12                9.968517                    4.392096  \n11               10.214001                    4.500255  \n8                10.455576                    4.606692  \n16               61.327704                    4.690726  \n2                11.118610                    4.898823  \n14               11.395494                    5.020817  \n13               11.782926                    5.191519  \n15               11.909083                    5.247103  \n5                12.034957                    5.302562  \n10               12.222575                    5.385227  \n9                12.356735                    5.444337  \n3                12.375747                    5.452714  \n7                12.593693                    5.548740  \n6                12.910959                    5.688526  \n4                12.971179                    5.715059  \n0                13.311014                    5.864789  \n1                13.997898                    6.167428  ",
      "text/html": "<div>\n<style scoped>\n    .dataframe tbody tr th:only-of-type {\n        vertical-align: middle;\n    }\n\n    .dataframe tbody tr th {\n        vertical-align: top;\n    }\n\n    .dataframe thead th {\n        text-align: right;\n    }\n</style>\n<table border=\"1\" class=\"dataframe\">\n  <thead>\n    <tr style=\"text-align: right;\">\n      <th></th>\n      <th>code</th>\n      <th>total_emissions_national_kgCO2_per_m3</th>\n      <th>fraction_scope1</th>\n      <th>fraction_energy</th>\n      <th>fraction_biosolids</th>\n      <th>fraction_methane</th>\n      <th>fraction_nitrous_oxide</th>\n      <th>fraction_noncombustion_co2</th>\n    </tr>\n  </thead>\n  <tbody>\n    <tr>\n      <th>44</th>\n      <td>*D1e</td>\n      <td>1.605672</td>\n      <td>39.361604</td>\n      <td>60.638396</td>\n      <td>2.341349</td>\n      <td>23.700110</td>\n      <td>12.012277</td>\n      <td>1.307868</td>\n    </tr>\n    <tr>\n      <th>25</th>\n      <td>*D3</td>\n      <td>1.317834</td>\n      <td>27.485632</td>\n      <td>72.514368</td>\n      <td>2.737866</td>\n      <td>8.518267</td>\n      <td>14.635969</td>\n      <td>1.593529</td>\n    </tr>\n    <tr>\n      <th>42</th>\n      <td>*G1</td>\n      <td>1.000610</td>\n      <td>63.163319</td>\n      <td>36.836681</td>\n      <td>3.757149</td>\n      <td>38.031418</td>\n      <td>19.276025</td>\n      <td>2.098727</td>\n    </tr>\n    <tr>\n      <th>39</th>\n      <td>*G1e</td>\n      <td>0.949187</td>\n      <td>66.585242</td>\n      <td>33.414758</td>\n      <td>3.960695</td>\n      <td>40.091800</td>\n      <td>20.320319</td>\n      <td>2.212427</td>\n    </tr>\n    <tr>\n      <th>40</th>\n      <td>*G1-p</td>\n      <td>0.888939</td>\n      <td>71.098051</td>\n      <td>28.901949</td>\n      <td>4.229131</td>\n      <td>42.809019</td>\n      <td>21.697527</td>\n      <td>2.362375</td>\n    </tr>\n    <tr>\n      <th>43</th>\n      <td>F1</td>\n      <td>0.850733</td>\n      <td>72.068048</td>\n      <td>27.931952</td>\n      <td>2.196117</td>\n      <td>44.731526</td>\n      <td>22.671939</td>\n      <td>2.468466</td>\n    </tr>\n    <tr>\n      <th>48</th>\n      <td>*E1</td>\n      <td>0.835836</td>\n      <td>79.666936</td>\n      <td>20.333064</td>\n      <td>4.497820</td>\n      <td>45.528801</td>\n      <td>27.127851</td>\n      <td>2.512463</td>\n    </tr>\n    <tr>\n      <th>38</th>\n      <td>*G1e-p</td>\n      <td>0.831134</td>\n      <td>76.042837</td>\n      <td>23.957163</td>\n      <td>4.523262</td>\n      <td>45.786336</td>\n      <td>23.206564</td>\n      <td>2.526675</td>\n    </tr>\n    <tr>\n      <th>20</th>\n      <td>*G5</td>\n      <td>0.827845</td>\n      <td>39.395567</td>\n      <td>60.604433</td>\n      <td>0.000000</td>\n      <td>13.560091</td>\n      <td>23.298762</td>\n      <td>2.536713</td>\n    </tr>\n    <tr>\n      <th>41</th>\n      <td>F1e</td>\n      <td>0.809546</td>\n      <td>75.734667</td>\n      <td>24.265333</td>\n      <td>2.307849</td>\n      <td>47.007340</td>\n      <td>23.825424</td>\n      <td>2.594055</td>\n    </tr>\n    <tr>\n      <th>24</th>\n      <td>*G3</td>\n      <td>0.779346</td>\n      <td>46.476760</td>\n      <td>53.523240</td>\n      <td>4.629587</td>\n      <td>14.403943</td>\n      <td>24.748656</td>\n      <td>2.694574</td>\n    </tr>\n    <tr>\n      <th>47</th>\n      <td>*E1e</td>\n      <td>0.778116</td>\n      <td>85.576591</td>\n      <td>14.423409</td>\n      <td>4.831466</td>\n      <td>48.906106</td>\n      <td>29.140183</td>\n      <td>2.698836</td>\n    </tr>\n    <tr>\n      <th>17</th>\n      <td>*G4</td>\n      <td>0.757240</td>\n      <td>49.732805</td>\n      <td>50.267195</td>\n      <td>6.663973</td>\n      <td>14.824442</td>\n      <td>25.471152</td>\n      <td>2.773238</td>\n    </tr>\n    <tr>\n      <th>18</th>\n      <td>*G6</td>\n      <td>0.739669</td>\n      <td>44.091922</td>\n      <td>55.908078</td>\n      <td>0.000000</td>\n      <td>15.176593</td>\n      <td>26.076213</td>\n      <td>2.839115</td>\n    </tr>\n    <tr>\n      <th>23</th>\n      <td>F5</td>\n      <td>0.699735</td>\n      <td>46.608274</td>\n      <td>53.391726</td>\n      <td>0.000000</td>\n      <td>16.042730</td>\n      <td>27.564398</td>\n      <td>3.001145</td>\n    </tr>\n    <tr>\n      <th>46</th>\n      <td>L-f</td>\n      <td>0.699589</td>\n      <td>90.865220</td>\n      <td>9.134780</td>\n      <td>2.670582</td>\n      <td>85.192867</td>\n      <td>0.000000</td>\n      <td>3.001771</td>\n    </tr>\n    <tr>\n      <th>45</th>\n      <td>L-n</td>\n      <td>0.699589</td>\n      <td>90.865220</td>\n      <td>9.134780</td>\n      <td>2.670582</td>\n      <td>85.192867</td>\n      <td>0.000000</td>\n      <td>3.001771</td>\n    </tr>\n    <tr>\n      <th>36</th>\n      <td>*A2</td>\n      <td>0.690580</td>\n      <td>70.491912</td>\n      <td>29.508088</td>\n      <td>5.443884</td>\n      <td>55.105252</td>\n      <td>6.901845</td>\n      <td>3.040930</td>\n    </tr>\n    <tr>\n      <th>35</th>\n      <td>*B1</td>\n      <td>0.636624</td>\n      <td>76.466379</td>\n      <td>23.533621</td>\n      <td>5.905274</td>\n      <td>59.775639</td>\n      <td>7.486804</td>\n      <td>3.298661</td>\n    </tr>\n    <tr>\n      <th>37</th>\n      <td>A1</td>\n      <td>0.628521</td>\n      <td>74.443278</td>\n      <td>25.556722</td>\n      <td>2.972548</td>\n      <td>60.546226</td>\n      <td>7.583319</td>\n      <td>3.341185</td>\n    </tr>\n    <tr>\n      <th>34</th>\n      <td>*A1</td>\n      <td>0.623513</td>\n      <td>78.074210</td>\n      <td>21.925790</td>\n      <td>6.029443</td>\n      <td>61.032520</td>\n      <td>7.644226</td>\n      <td>3.368021</td>\n    </tr>\n    <tr>\n      <th>21</th>\n      <td>F6</td>\n      <td>0.611559</td>\n      <td>53.328377</td>\n      <td>46.671623</td>\n      <td>0.000000</td>\n      <td>18.355813</td>\n      <td>31.538705</td>\n      <td>3.433858</td>\n    </tr>\n    <tr>\n      <th>27</th>\n      <td>*E3</td>\n      <td>0.609533</td>\n      <td>64.981154</td>\n      <td>35.018846</td>\n      <td>5.919373</td>\n      <td>18.416826</td>\n      <td>37.199683</td>\n      <td>3.445272</td>\n    </tr>\n    <tr>\n      <th>19</th>\n      <td>F4</td>\n      <td>0.603291</td>\n      <td>58.216106</td>\n      <td>41.783894</td>\n      <td>4.156865</td>\n      <td>18.607379</td>\n      <td>31.970943</td>\n      <td>3.480919</td>\n    </tr>\n    <tr>\n      <th>33</th>\n      <td>*C1</td>\n      <td>0.598648</td>\n      <td>81.317069</td>\n      <td>18.682931</td>\n      <td>6.279879</td>\n      <td>63.567542</td>\n      <td>7.961734</td>\n      <td>3.507914</td>\n    </tr>\n    <tr>\n      <th>22</th>\n      <td>F3</td>\n      <td>0.597613</td>\n      <td>57.573274</td>\n      <td>42.426726</td>\n      <td>3.000398</td>\n      <td>18.784174</td>\n      <td>32.274709</td>\n      <td>3.513993</td>\n    </tr>\n    <tr>\n      <th>28</th>\n      <td>E3</td>\n      <td>0.596205</td>\n      <td>63.389550</td>\n      <td>36.610450</td>\n      <td>3.007482</td>\n      <td>18.828522</td>\n      <td>38.031258</td>\n      <td>3.522289</td>\n    </tr>\n    <tr>\n      <th>31</th>\n      <td>*B1e</td>\n      <td>0.578088</td>\n      <td>84.209234</td>\n      <td>15.790766</td>\n      <td>6.503233</td>\n      <td>65.828419</td>\n      <td>8.244905</td>\n      <td>3.632678</td>\n    </tr>\n    <tr>\n      <th>32</th>\n      <td>A1e</td>\n      <td>0.576140</td>\n      <td>81.211480</td>\n      <td>18.788520</td>\n      <td>3.242804</td>\n      <td>66.050942</td>\n      <td>8.272776</td>\n      <td>3.644958</td>\n    </tr>\n    <tr>\n      <th>30</th>\n      <td>*A1e</td>\n      <td>0.562416</td>\n      <td>86.555791</td>\n      <td>13.444209</td>\n      <td>6.684450</td>\n      <td>67.662779</td>\n      <td>8.474656</td>\n      <td>3.733905</td>\n    </tr>\n    <tr>\n      <th>29</th>\n      <td>*C1e</td>\n      <td>0.546837</td>\n      <td>89.021691</td>\n      <td>10.978309</td>\n      <td>6.874884</td>\n      <td>69.590434</td>\n      <td>8.716091</td>\n      <td>3.840281</td>\n    </tr>\n    <tr>\n      <th>26</th>\n      <td>L-u</td>\n      <td>0.487630</td>\n      <td>74.764213</td>\n      <td>25.235787</td>\n      <td>3.701585</td>\n      <td>19.377960</td>\n      <td>47.378111</td>\n      <td>4.306557</td>\n    </tr>\n    <tr>\n      <th>12</th>\n      <td>A5</td>\n      <td>0.478133</td>\n      <td>37.838720</td>\n      <td>62.161280</td>\n      <td>0.000000</td>\n      <td>23.478107</td>\n      <td>9.968517</td>\n      <td>4.392096</td>\n    </tr>\n    <tr>\n      <th>11</th>\n      <td>*B5</td>\n      <td>0.466642</td>\n      <td>38.770531</td>\n      <td>61.229469</td>\n      <td>0.000000</td>\n      <td>24.056275</td>\n      <td>10.214001</td>\n      <td>4.500255</td>\n    </tr>\n    <tr>\n      <th>8</th>\n      <td>*A5</td>\n      <td>0.455860</td>\n      <td>39.687506</td>\n      <td>60.312494</td>\n      <td>0.000000</td>\n      <td>24.625238</td>\n      <td>10.455576</td>\n      <td>4.606692</td>\n    </tr>\n    <tr>\n      <th>16</th>\n      <td>L-a</td>\n      <td>0.447693</td>\n      <td>70.023575</td>\n      <td>29.976425</td>\n      <td>4.005144</td>\n      <td>0.000000</td>\n      <td>61.327704</td>\n      <td>4.690726</td>\n    </tr>\n    <tr>\n      <th>2</th>\n      <td>*C5</td>\n      <td>0.428676</td>\n      <td>42.204267</td>\n      <td>57.795733</td>\n      <td>0.000000</td>\n      <td>26.186834</td>\n      <td>11.118610</td>\n      <td>4.898823</td>\n    </tr>\n    <tr>\n      <th>14</th>\n      <td>*B3</td>\n      <td>0.418260</td>\n      <td>51.881609</td>\n      <td>48.118391</td>\n      <td>8.626340</td>\n      <td>26.838958</td>\n      <td>11.395494</td>\n      <td>5.020817</td>\n    </tr>\n    <tr>\n      <th>13</th>\n      <td>*A3</td>\n      <td>0.404507</td>\n      <td>53.645519</td>\n      <td>46.354481</td>\n      <td>8.919625</td>\n      <td>27.751449</td>\n      <td>11.782926</td>\n      <td>5.191519</td>\n    </tr>\n    <tr>\n      <th>15</th>\n      <td>A3</td>\n      <td>0.400222</td>\n      <td>49.684966</td>\n      <td>50.315034</td>\n      <td>4.480202</td>\n      <td>28.048577</td>\n      <td>11.909083</td>\n      <td>5.247103</td>\n    </tr>\n    <tr>\n      <th>5</th>\n      <td>*B4</td>\n      <td>0.396036</td>\n      <td>58.424389</td>\n      <td>41.575611</td>\n      <td>12.741833</td>\n      <td>28.345037</td>\n      <td>12.034957</td>\n      <td>5.302562</td>\n    </tr>\n    <tr>\n      <th>10</th>\n      <td>A6</td>\n      <td>0.389957</td>\n      <td>46.394723</td>\n      <td>53.605277</td>\n      <td>0.000000</td>\n      <td>28.786921</td>\n      <td>12.222575</td>\n      <td>5.385227</td>\n    </tr>\n    <tr>\n      <th>9</th>\n      <td>A4</td>\n      <td>0.385723</td>\n      <td>53.405521</td>\n      <td>46.594479</td>\n      <td>6.501551</td>\n      <td>29.102898</td>\n      <td>12.356735</td>\n      <td>5.444337</td>\n    </tr>\n    <tr>\n      <th>3</th>\n      <td>*A4</td>\n      <td>0.385131</td>\n      <td>60.078777</td>\n      <td>39.921223</td>\n      <td>13.102640</td>\n      <td>29.147676</td>\n      <td>12.375747</td>\n      <td>5.452714</td>\n    </tr>\n    <tr>\n      <th>7</th>\n      <td>*B6</td>\n      <td>0.378466</td>\n      <td>47.803418</td>\n      <td>52.196582</td>\n      <td>0.000000</td>\n      <td>29.660986</td>\n      <td>12.593693</td>\n      <td>5.548740</td>\n    </tr>\n    <tr>\n      <th>6</th>\n      <td>*C3</td>\n      <td>0.369165</td>\n      <td>58.781247</td>\n      <td>41.218753</td>\n      <td>9.773541</td>\n      <td>30.408221</td>\n      <td>12.910959</td>\n      <td>5.688526</td>\n    </tr>\n    <tr>\n      <th>4</th>\n      <td>*A6</td>\n      <td>0.367451</td>\n      <td>49.236291</td>\n      <td>50.763709</td>\n      <td>0.000000</td>\n      <td>30.550052</td>\n      <td>12.971179</td>\n      <td>5.715059</td>\n    </tr>\n    <tr>\n      <th>0</th>\n      <td>*C4</td>\n      <td>0.358070</td>\n      <td>64.619084</td>\n      <td>35.380916</td>\n      <td>14.092840</td>\n      <td>31.350441</td>\n      <td>13.311014</td>\n      <td>5.864789</td>\n    </tr>\n    <tr>\n      <th>1</th>\n      <td>*C6</td>\n      <td>0.340500</td>\n      <td>53.133531</td>\n      <td>46.866469</td>\n      <td>0.000000</td>\n      <td>32.968205</td>\n      <td>13.997898</td>\n      <td>6.167428</td>\n    </tr>\n  </tbody>\n</table>\n</div>"
     },
     "metadata": {},
     "output_type": "display_data"
    }
   ],
   "source": [
    "tt_total_emissions = tt_data \n",
    "\n",
    "tt_total_emissions['fraction_methane'] = tt_total_emissions['methane_kgCO2_per_m3'] / tt_total_emissions['total_emissions_national_kgCO2_per_m3'] *100\n",
    "\n",
    "tt_total_emissions['fraction_nitrous_oxide'] = tt_total_emissions['nitrous_oxide_kgCO2_per_m3'] / tt_total_emissions['total_emissions_national_kgCO2_per_m3']*100\n",
    "\n",
    "tt_total_emissions['fraction_noncombustion_co2'] = tt_total_emissions['noncombustion_co2_kgCO2_per_m3'] / tt_total_emissions['total_emissions_national_kgCO2_per_m3']*100\n",
    "\n",
    "tt_total_emissions['fraction_energy'] = (tt_total_emissions['electricity_national_kgCO2_per_m3'] + tt_total_emissions['onsite_gas_kgCO2_per_m3'] + tt_total_emissions['upstream_gas_kgCO2_per_m3']) / tt_total_emissions['total_emissions_national_kgCO2_per_m3']*100\n",
    "\n",
    "tt_total_emissions['fraction_scope1'] = (tt_total_emissions['methane_kgCO2_per_m3'] + tt_total_emissions['nitrous_oxide_kgCO2_per_m3'] + tt_total_emissions['noncombustion_co2_kgCO2_per_m3'] + tt_total_emissions['landfill_methane_kgCO2_per_m3'] + tt_total_emissions['land_applied_n2o_kgCO2_per_m3']) / tt_total_emissions['total_emissions_national_kgCO2_per_m3']*100\n",
    "\n",
    "tt_total_emissions['fraction_biosolids'] = ((tt_total_emissions['landfill_methane_kgCO2_per_m3'] + tt_total_emissions['land_applied_n2o_kgCO2_per_m3']))/ tt_total_emissions['total_emissions_national_kgCO2_per_m3']*100\n",
    "\n",
    "tt_total_emissions_sorted = tt_total_emissions.sort_values(by='total_emissions_national_kgCO2_per_m3', ascending=False)\n",
    "\n",
    "total_emissions_columns = ['code', 'total_emissions_national_kgCO2_per_m3', 'fraction_scope1', 'fraction_energy', 'fraction_biosolids', 'fraction_methane', 'fraction_nitrous_oxide', 'fraction_noncombustion_co2']\n",
    "display(tt_total_emissions_sorted[total_emissions_columns])"
   ],
   "metadata": {
    "collapsed": false,
    "ExecuteTime": {
     "end_time": "2024-10-25T18:38:30.603485Z",
     "start_time": "2024-10-25T18:38:30.345550Z"
    }
   },
   "id": "e81a630da9ff92ac"
  },
  {
   "cell_type": "code",
   "execution_count": 33,
   "outputs": [
    {
     "data": {
      "text/plain": "14.092839837984622"
     },
     "execution_count": 33,
     "metadata": {},
     "output_type": "execute_result"
    }
   ],
   "source": [
    "# What is the largest proportion of emissions from biosolids? \n",
    "\n",
    "tt_total_emissions['fraction_biosolids'].max()"
   ],
   "metadata": {
    "collapsed": false,
    "ExecuteTime": {
     "end_time": "2024-10-25T18:38:30.611095Z",
     "start_time": "2024-10-25T18:38:30.348278Z"
    }
   },
   "id": "eeebd3b7707fdfe3"
  },
  {
   "cell_type": "code",
   "execution_count": 34,
   "outputs": [
    {
     "data": {
      "text/plain": "      code  electricity_national_kgCO2_per_m3  methane_kgCO2_per_m3  \\\n34     *A1                           0.136710              0.380546   \n30    *A1e                           0.075612              0.380546   \n35     *B1                           0.149821              0.380546   \n31    *B1e                           0.091284              0.380546   \n33     *C1                           0.111845              0.380546   \n29    *C1e                           0.060033              0.380546   \n48     *E1                           0.169951              0.380546   \n47    *E1e                           0.112231              0.380546   \n42     *G1                           0.218200              0.380546   \n40   *G1-p                           0.195562              0.380546   \n39    *G1e                           0.163861              0.380546   \n38  *G1e-p                           0.137757              0.380546   \n37      A1                           0.160629              0.380546   \n32     A1e                           0.108248              0.380546   \n43      F1                           0.237626              0.380546   \n41     F1e                           0.196439              0.380546   \n\n    total_emissions_national_kgCO2_per_m3  \n34                               0.623513  \n30                               0.562416  \n35                               0.636624  \n31                               0.578088  \n33                               0.598648  \n29                               0.546837  \n48                               0.835836  \n47                               0.778116  \n42                               1.000610  \n40                               0.888939  \n39                               0.949187  \n38                               0.831134  \n37                               0.628521  \n32                               0.576140  \n43                               0.850733  \n41                               0.809546  ",
      "text/html": "<div>\n<style scoped>\n    .dataframe tbody tr th:only-of-type {\n        vertical-align: middle;\n    }\n\n    .dataframe tbody tr th {\n        vertical-align: top;\n    }\n\n    .dataframe thead th {\n        text-align: right;\n    }\n</style>\n<table border=\"1\" class=\"dataframe\">\n  <thead>\n    <tr style=\"text-align: right;\">\n      <th></th>\n      <th>code</th>\n      <th>electricity_national_kgCO2_per_m3</th>\n      <th>methane_kgCO2_per_m3</th>\n      <th>total_emissions_national_kgCO2_per_m3</th>\n    </tr>\n  </thead>\n  <tbody>\n    <tr>\n      <th>34</th>\n      <td>*A1</td>\n      <td>0.136710</td>\n      <td>0.380546</td>\n      <td>0.623513</td>\n    </tr>\n    <tr>\n      <th>30</th>\n      <td>*A1e</td>\n      <td>0.075612</td>\n      <td>0.380546</td>\n      <td>0.562416</td>\n    </tr>\n    <tr>\n      <th>35</th>\n      <td>*B1</td>\n      <td>0.149821</td>\n      <td>0.380546</td>\n      <td>0.636624</td>\n    </tr>\n    <tr>\n      <th>31</th>\n      <td>*B1e</td>\n      <td>0.091284</td>\n      <td>0.380546</td>\n      <td>0.578088</td>\n    </tr>\n    <tr>\n      <th>33</th>\n      <td>*C1</td>\n      <td>0.111845</td>\n      <td>0.380546</td>\n      <td>0.598648</td>\n    </tr>\n    <tr>\n      <th>29</th>\n      <td>*C1e</td>\n      <td>0.060033</td>\n      <td>0.380546</td>\n      <td>0.546837</td>\n    </tr>\n    <tr>\n      <th>48</th>\n      <td>*E1</td>\n      <td>0.169951</td>\n      <td>0.380546</td>\n      <td>0.835836</td>\n    </tr>\n    <tr>\n      <th>47</th>\n      <td>*E1e</td>\n      <td>0.112231</td>\n      <td>0.380546</td>\n      <td>0.778116</td>\n    </tr>\n    <tr>\n      <th>42</th>\n      <td>*G1</td>\n      <td>0.218200</td>\n      <td>0.380546</td>\n      <td>1.000610</td>\n    </tr>\n    <tr>\n      <th>40</th>\n      <td>*G1-p</td>\n      <td>0.195562</td>\n      <td>0.380546</td>\n      <td>0.888939</td>\n    </tr>\n    <tr>\n      <th>39</th>\n      <td>*G1e</td>\n      <td>0.163861</td>\n      <td>0.380546</td>\n      <td>0.949187</td>\n    </tr>\n    <tr>\n      <th>38</th>\n      <td>*G1e-p</td>\n      <td>0.137757</td>\n      <td>0.380546</td>\n      <td>0.831134</td>\n    </tr>\n    <tr>\n      <th>37</th>\n      <td>A1</td>\n      <td>0.160629</td>\n      <td>0.380546</td>\n      <td>0.628521</td>\n    </tr>\n    <tr>\n      <th>32</th>\n      <td>A1e</td>\n      <td>0.108248</td>\n      <td>0.380546</td>\n      <td>0.576140</td>\n    </tr>\n    <tr>\n      <th>43</th>\n      <td>F1</td>\n      <td>0.237626</td>\n      <td>0.380546</td>\n      <td>0.850733</td>\n    </tr>\n    <tr>\n      <th>41</th>\n      <td>F1e</td>\n      <td>0.196439</td>\n      <td>0.380546</td>\n      <td>0.809546</td>\n    </tr>\n  </tbody>\n</table>\n</div>"
     },
     "execution_count": 34,
     "metadata": {},
     "output_type": "execute_result"
    }
   ],
   "source": [
    "# Compare with CHP vs without CHP \n",
    "# Trains of interest: \n",
    "\n",
    "# *G1 vs *G1e \n",
    "# F1 vs F1e\n",
    "# *B1 vs *B1e\n",
    "# *A1 vs *A1e\n",
    "# *C1 vs *C1e \n",
    "# *G1e-p vs *G1e-p\n",
    "# *E1e vs *E1\n",
    "\n",
    "# Function to find and order CHP pairs \n",
    "\n",
    "# import re for regular expressions \n",
    "\n",
    "import re \n",
    "def find_chp_pairs(df):\n",
    "    # Extract base codes by removing 'e' suffix but keeping '-p' intact\n",
    "    # Use a regex that retains '-p' while removing 'e' that is immediately before it\n",
    "    df['base'] = df['code'].apply(lambda x: re.sub(r'e(-p)?$', r'\\1', x))\n",
    "    \n",
    "    # Group entries by the base code\n",
    "    grouped = df.groupby('base')['code'].apply(list)\n",
    "    \n",
    "    # Find and order pairs, with handling for '-p' suffix\n",
    "    pairs = []\n",
    "    for group in grouped:\n",
    "        # Identify the different variants\n",
    "        non_e_versions = [code for code in group if not re.search(r'e(-p)?$', code)]\n",
    "        e_versions = [code for code in group if re.search(r'e(-p)?$', code)]\n",
    "\n",
    "        # Prioritize '-p' versions if they exist\n",
    "        for non_e in non_e_versions:\n",
    "            # Check if there's a matching '-p' suffix\n",
    "            e_p_version = [e for e in e_versions if '-p' in e and re.sub(r'e(-p)?$', '-p', e) == non_e]\n",
    "            # Otherwise, check for standard 'e' versions\n",
    "            standard_e_version = [e for e in e_versions if '-p' not in e and re.sub(r'e(-p)?$', '', e) == non_e]\n",
    "            \n",
    "            # Append prioritized pairs: '-p' variant first, then regular 'e'\n",
    "            if e_p_version:\n",
    "                pairs.append(non_e)\n",
    "                pairs.extend(e_p_version)\n",
    "            elif standard_e_version:\n",
    "                pairs.append(non_e)\n",
    "                pairs.extend(standard_e_version)\n",
    "    \n",
    "    return pairs\n",
    "\n",
    "# codes_AD = ['*G1', '*G1e', 'F1', 'F1e', '*B1', '*B1e', '*A1', '*A1e']\n",
    "tt_ad = tt_data\n",
    "\n",
    "codes_ad = find_chp_pairs(tt_ad)\n",
    "# \n",
    "ad_cols = ['code', 'electricity_national_kgCO2_per_m3', 'methane_kgCO2_per_m3', 'total_emissions_national_kgCO2_per_m3']\n",
    "tt_ad.loc[tt_ad['code'].isin(codes_ad)][ad_cols].sort_values(by='code', ascending=True)\n",
    "\n",
    "# units: methane_vol is in kg CO2 eq / m3 \n",
    "#       electricity_national_vol is in kg CO2 eq / m3 "
   ],
   "metadata": {
    "collapsed": false,
    "ExecuteTime": {
     "end_time": "2024-10-25T18:38:30.615843Z",
     "start_time": "2024-10-25T18:38:30.353468Z"
    }
   },
   "id": "818cb848711d4817"
  },
  {
   "cell_type": "code",
   "execution_count": 35,
   "outputs": [
    {
     "name": "stdout",
     "output_type": "stream",
     "text": [
      "Pairs: ['*A1', '*A1e', '*B1', '*B1e', '*C1', '*C1e', '*E1', '*E1e', '*G1', '*G1e', '*G1-p', '*G1e-p', 'A1', 'A1e', 'F1', 'F1e']\n",
      "\n",
      "Comparison Results:\n",
      "Code 1     Code 2     Value 1    Value 2    Absolute Diff   % Diff    \n",
      "*A1        *A1e       0.624      0.562      -0.061          -9.799    \n",
      "*B1        *B1e       0.637      0.578      -0.059          -9.195    \n",
      "*C1        *C1e       0.599      0.547      -0.052          -8.655    \n",
      "*E1        *E1e       0.836      0.778      -0.058          -6.906    \n",
      "*G1        *G1e       1.001      0.949      -0.051          -5.139    \n",
      "*G1-p      *G1e-p     0.889      0.831      -0.058          -6.503    \n",
      "A1         A1e        0.629      0.576      -0.052          -8.334    \n",
      "F1         F1e        0.851      0.81       -0.041          -4.841    \n"
     ]
    }
   ],
   "source": [
    "# New function to compare electricity values and calculate differences and % differences\n",
    "def compare_emissions_for_pairs(df, pairs):\n",
    "    comparison_results = []\n",
    "    \n",
    "    # Iterate through the pairs two-by-two to create comparisons\n",
    "    for i in range(0, len(pairs) - 1, 2):\n",
    "        code1 = pairs[i]\n",
    "        code2 = pairs[i + 1]\n",
    "        \n",
    "        # Extract corresponding emissions values\n",
    "        if code1 in df['code'].values and code2 in df['code'].values:\n",
    "            val1 = df.loc[df['code'] == code1, 'total_emissions_national_kgCO2_per_m3'].values[0]\n",
    "            val2 = df.loc[df['code'] == code2, 'total_emissions_national_kgCO2_per_m3'].values[0]\n",
    "            \n",
    "            # Calculate the absolute difference\n",
    "            absolute_difference = val2 - val1\n",
    "            \n",
    "            # Calculate the percentage difference\n",
    "            percentage_difference = (absolute_difference / val1) * 100 if val1 != 0 else float('inf')\n",
    "            \n",
    "            # Append the results rounded to n decimal places\n",
    "            n = 3\n",
    "            comparison_results.append((\n",
    "                code1, code2, \n",
    "                round(val1, n), round(val2, n), \n",
    "                round(absolute_difference, n), round(percentage_difference, n)\n",
    "            ))\n",
    "    \n",
    "    return comparison_results\n",
    "\n",
    "# Get the pairs using the first function\n",
    "pairs = find_chp_pairs(tt_ad)\n",
    "\n",
    "# Compare electricity values for each pair using the new function\n",
    "comparison_results = compare_emissions_for_pairs(tt_ad, pairs)\n",
    "\n",
    "# Display results\n",
    "print(\"Pairs:\", pairs)\n",
    "print(\"\\nComparison Results:\")\n",
    "print(f\"{'Code 1':<10} {'Code 2':<10} {'Value 1':<10} {'Value 2':<10} {'Absolute Diff':<15} {'% Diff':<10}\")\n",
    "for result in comparison_results:\n",
    "    print(f\"{result[0]:<10} {result[1]:<10} {result[2]:<10} {result[3]:<10} {result[4]:<15} {result[5]:<10}\")"
   ],
   "metadata": {
    "collapsed": false,
    "ExecuteTime": {
     "end_time": "2024-10-25T18:38:30.618050Z",
     "start_time": "2024-10-25T18:38:30.362420Z"
    }
   },
   "id": "736f9ae2a8e4904d"
  },
  {
   "cell_type": "markdown",
   "source": [
    "### National inventory results "
   ],
   "metadata": {
    "collapsed": false
   },
   "id": "756e746371d669ca"
  },
  {
   "cell_type": "code",
   "execution_count": 36,
   "outputs": [
    {
     "data": {
      "text/plain": "CO2_emission            3.871322e+06\nCH4_emission            5.193888e+07\nN2O_emission            2.364478e+07\nelectricity_emission    2.928826e+07\nonsite_NG_emission      2.825041e+06\nupstream_NG_emission    6.372650e+05\nLF_CH4                  1.319422e+06\nLA_N2O                  2.278369e+06\ntotal_emission          1.158033e+08\ndtype: float64"
     },
     "metadata": {},
     "output_type": "display_data"
    },
    {
     "data": {
      "text/plain": "                      CO2_kg_per_day  CO2_MMT_per_year  emissions_percent\nCO2                     3.871322e+06          1.413032           3.343014\nmethane                 5.193888e+07         18.957692          44.850938\nnitrous_oxide           2.364478e+07          8.630344          20.418047\nelectricity             2.928826e+07         10.690213          25.291374\nonsite_gas              2.825041e+06          1.031140           2.439516\nupstream_gas            6.372650e+05          0.232602           0.550299\nlandfill_methane        1.319422e+06          0.481589           1.139364\nland_application_N2O    2.278369e+06          0.831605           1.967447\ntotal                   1.158033e+08         42.268217         100.000000",
      "text/html": "<div>\n<style scoped>\n    .dataframe tbody tr th:only-of-type {\n        vertical-align: middle;\n    }\n\n    .dataframe tbody tr th {\n        vertical-align: top;\n    }\n\n    .dataframe thead th {\n        text-align: right;\n    }\n</style>\n<table border=\"1\" class=\"dataframe\">\n  <thead>\n    <tr style=\"text-align: right;\">\n      <th></th>\n      <th>CO2_kg_per_day</th>\n      <th>CO2_MMT_per_year</th>\n      <th>emissions_percent</th>\n    </tr>\n  </thead>\n  <tbody>\n    <tr>\n      <th>CO2</th>\n      <td>3.871322e+06</td>\n      <td>1.413032</td>\n      <td>3.343014</td>\n    </tr>\n    <tr>\n      <th>methane</th>\n      <td>5.193888e+07</td>\n      <td>18.957692</td>\n      <td>44.850938</td>\n    </tr>\n    <tr>\n      <th>nitrous_oxide</th>\n      <td>2.364478e+07</td>\n      <td>8.630344</td>\n      <td>20.418047</td>\n    </tr>\n    <tr>\n      <th>electricity</th>\n      <td>2.928826e+07</td>\n      <td>10.690213</td>\n      <td>25.291374</td>\n    </tr>\n    <tr>\n      <th>onsite_gas</th>\n      <td>2.825041e+06</td>\n      <td>1.031140</td>\n      <td>2.439516</td>\n    </tr>\n    <tr>\n      <th>upstream_gas</th>\n      <td>6.372650e+05</td>\n      <td>0.232602</td>\n      <td>0.550299</td>\n    </tr>\n    <tr>\n      <th>landfill_methane</th>\n      <td>1.319422e+06</td>\n      <td>0.481589</td>\n      <td>1.139364</td>\n    </tr>\n    <tr>\n      <th>land_application_N2O</th>\n      <td>2.278369e+06</td>\n      <td>0.831605</td>\n      <td>1.967447</td>\n    </tr>\n    <tr>\n      <th>total</th>\n      <td>1.158033e+08</td>\n      <td>42.268217</td>\n      <td>100.000000</td>\n    </tr>\n  </tbody>\n</table>\n</div>"
     },
     "metadata": {},
     "output_type": "display_data"
    }
   ],
   "source": [
    "# Calculate breakdown of total emissions from facility \n",
    "\n",
    "national_cols = ['CO2_emission', # kg CO2 eq / day\n",
    "                 'CH4_emission', # kg CO2 eq / day\n",
    "                 'N2O_emission', # kg CO2 eq / day\n",
    "                 'electricity_emission', # kg CO2 eq / day \n",
    "                 'onsite_NG_emission', # kg CO2 eq / day, onsite combustion and onsite chemicals\n",
    "                 'upstream_NG_emission', # kg CO2 eq / day, upstream gas extraction & transport\n",
    "                 'LF_CH4', # kg CO2 eq / day - landfill\n",
    "                 'LA_N2O', # kg CO2 eq / day - land application \n",
    "                 'total_emission', # total emissions kg CO2 eq / day \n",
    "                 ]\n",
    "\n",
    "national_breakdown = facility_data[national_cols].sum()\n",
    "display(national_breakdown)\n",
    "\n",
    "def convert_kgCO2_daily_to_MMT_annual(kgCO2_daily): \n",
    "    kg_per_ton = 1000\n",
    "    tons_per_MMT = 1E6\n",
    "    days_per_year = 365\n",
    "    return kgCO2_daily * (1/kg_per_ton) * (1/tons_per_MMT) * days_per_year\n",
    "\n",
    "national_MMT_CO2_annual = pd.DataFrame()\n",
    "\n",
    "# convert national_breakdown from kg/day to MMT / year\n",
    "\n",
    "annual_MMT = national_breakdown.apply(convert_kgCO2_daily_to_MMT_annual)\n",
    "\n",
    "national_breakdown_df = pd.DataFrame({\n",
    "    'CO2_kg_per_day': national_breakdown,  # Original values\n",
    "    'CO2_MMT_per_year': annual_MMT    # Converted values\n",
    "})\n",
    "new_names = ['CO2', 'methane', 'nitrous_oxide', 'electricity', 'onsite_gas', 'upstream_gas', 'landfill_methane', 'land_application_N2O', 'total']\n",
    "national_breakdown_df = national_breakdown_df.rename(index={old_name: new_name for old_name, new_name in zip(national_breakdown_df.index, new_names)})\n",
    "\n",
    "national_breakdown_df['emissions_percent'] = national_breakdown_df['CO2_kg_per_day']/national_breakdown_df['CO2_kg_per_day'].loc['total'] * 100\n",
    "display(national_breakdown_df)"
   ],
   "metadata": {
    "collapsed": false,
    "ExecuteTime": {
     "end_time": "2024-10-25T18:38:30.626625Z",
     "start_time": "2024-10-25T18:38:30.370164Z"
    }
   },
   "id": "122569976665c2f9"
  },
  {
   "cell_type": "markdown",
   "source": [
    "## Cumulative distribution function"
   ],
   "metadata": {
    "collapsed": false
   },
   "id": "77ce729c0ff3ac86"
  },
  {
   "cell_type": "code",
   "execution_count": 37,
   "outputs": [
    {
     "data": {
      "text/plain": "<Figure size 1200x300 with 3 Axes>",
      "image/png": "[encoded data removed]"
     },
     "metadata": {},
     "output_type": "display_data"
    }
   ],
   "source": [
    "# Make cumulative distribution functions \n",
    "\n",
    "# convert kg CO2 / day to MMT / year \n",
    "\n",
    "def kg_co2_to_MMT(kgCO2_per_day):\n",
    "    days_per_year = 365\n",
    "    MT_per_day = kgCO2_per_day * (1/1000)\n",
    "    MT_per_year = MT_per_day * days_per_year\n",
    "    MMT_per_year = MT_per_year * (1/1E6)\n",
    "    return MMT_per_year\n",
    "\n",
    "import matplotlib.pyplot as plt\n",
    "from matplotlib.ticker import MultipleLocator\n",
    "\n",
    "# Create cumulative distribution function for CO2 emissions\n",
    "# Step 1: Sort the DataFrame by the emissions level\n",
    "sorted_facilities = facility_data.sort_values(by='total_emission', ascending=False).reset_index(drop=True)\n",
    "sorted_facilities['MMT_year'] = sorted_facilities['total_emission'].apply(kg_co2_to_MMT)\n",
    "\n",
    "# Step 2: Calculate the cumulative emissions\n",
    "sorted_facilities['cumulative_emissions'] = sorted_facilities['total_emission'].cumsum()\n",
    "\n",
    "# Step 3: Optionally normalize the cumulative emissions to get the CDF\n",
    "total_emissions = sorted_facilities['total_emission'].sum()\n",
    "sorted_facilities['cumulative_distribution'] = sorted_facilities['cumulative_emissions'] / total_emissions\n",
    "\n",
    "\n",
    "# What fraction of facilities contribute to X% of emissions? \n",
    "sorted_facilities['facility_rank'] = sorted_facilities.index + 1\n",
    "sorted_facilities['facility_fraction'] = sorted_facilities['facility_rank'] / len(sorted_facilities)\n",
    "# display(sorted_facilities)\n",
    "\n",
    "### Sorting facilities by flow & calculating cumulative flow rate \n",
    "# Sort by flow rate \n",
    "flow_sorted = facility_data.sort_values(by='FLOW_2022_MGD_FINAL', ascending=False).reset_index(drop=True)\n",
    "\n",
    "# Calculate the cumulative flow\n",
    "flow_sorted['cumulative_flow'] = flow_sorted['FLOW_2022_MGD_FINAL'].cumsum()\n",
    "\n",
    "# calculate total flow & flow fraction\n",
    "total_flow = flow_sorted['FLOW_2022_MGD_FINAL'].sum()\n",
    "flow_sorted['flow_fraction'] = flow_sorted['cumulative_flow'] / total_flow\n",
    "\n",
    "# Cumulative emissions\n",
    "flow_sorted['cumulative_emissions'] = flow_sorted['total_emission'].cumsum()\n",
    "\n",
    "# calculate fraction of total emissions\n",
    "total_emissions = flow_sorted['total_emission'].sum()\n",
    "flow_sorted['emissions_fraction'] = flow_sorted['cumulative_emissions'] / total_emissions\n",
    "\n",
    "########### Make plot ###########\n",
    "\n",
    "# Figure with three subplots\n",
    "fig, axs = plt.subplots(1, 3, figsize=(12, 3))  # 3 columns 1 row \n",
    "\n",
    "# Common settings\n",
    "marker_size = 3\n",
    "\n",
    "axs[0].plot(sorted_facilities['facility_fraction'], sorted_facilities['cumulative_distribution'], \n",
    "            label='CDF', marker='o', markersize=marker_size)\n",
    "axs[0].set_xlabel('Fraction of Total Facilities')\n",
    "axs[0].set_ylabel('Fraction of Total Emissions')\n",
    "# axs[0].set_title('Cumulative Distribution of Emissions vs Facility Count')\n",
    "# axs[0].grid(True)\n",
    "\n",
    "axs[1].plot(sorted_facilities['MMT_year'], sorted_facilities['cumulative_distribution'], \n",
    "            label='CDF', marker='o', markersize=marker_size)\n",
    "axs[1].set_xlabel('Emissions Magnitude \\n(MMT $CO_2$ eq $\\cdot year^{-1}$)')\n",
    "# axs[1].grid(True)\n",
    "\n",
    "axs[2].plot(flow_sorted['flow_fraction'],  flow_sorted['emissions_fraction'], \n",
    "            label='CDF', marker='o', markersize=marker_size)\n",
    "axs[2].set_xlabel('Fraction of Total Flow')\n",
    "# axs[2].set_ylabel('Fraction of Total Emissions')\n",
    "# axs[2].grid(True)\n",
    "\n",
    "# Apply common settings to all subplots\n",
    "for ax in axs:\n",
    "    ax.minorticks_on()  # Enable minor ticks\n",
    "    ax.tick_params(direction='in', which='both')  # Make tick marks face inward\n",
    "    ax.grid(False)\n",
    "    #ax.spines['left'].set_position('zero')\n",
    "    #ax.spines['bottom'].set_position('zero')\n",
    "    #ax.spines['top'].set_color('none')\n",
    "    #ax.spines['right'].set_color('none')\n"
   ],
   "metadata": {
    "collapsed": false,
    "ExecuteTime": {
     "end_time": "2024-10-25T18:38:31.274396Z",
     "start_time": "2024-10-25T18:38:30.375708Z"
    }
   },
   "id": "512af3a74e1272a2"
  },
  {
   "cell_type": "code",
   "execution_count": 38,
   "outputs": [
    {
     "data": {
      "text/plain": "   Unnamed: 0     CWNS_NUM                                 FACILITY STATE  \\\n0        2301  17000721001         MWRDGC, Stickney Treatment Plant    IL   \n1        6330  26000596001                                GLWA WRRF    MI   \n2        8821  36002001001         New York (C) - Wards Island WPCP    NY   \n3        3557  17000721009              MWRDGC, CALUMET WRP, MWRDGC    IL   \n4        6484  11000001001                          BLUE PLAINS STP    DC   \n5       15609  48000000409  Austin 5 Year CIP - Citywide Wastewater    TX   \n6       14370  55000000052     MILWAUKEE MSD COMBINED - South Shore    WI   \n7        2763  25000128001                    MWRA Deer Island WWTF    MA   \n8       10681  36002001011        New York (C) - Newtown Creek WPCP    NY   \n9        5012  29001023002                               Lemay WWTP    MO   \n\n              CITY   LATITUDE  LONGITUDE  FLOW_2022_MGD_FINAL  CO2_emission  \\\n0           Cicero  41.813900 -87.770400               1200.0  95392.377360   \n1          Detroit  42.283200 -83.128500                686.0  54532.642391   \n2         New York  40.787528 -73.922889                550.0  43721.506290   \n3          Chicago  41.662500 -87.610000                450.0  35772.141510   \n4       Washington  38.816781 -77.032755                384.0  30525.560760   \n5           Austin  30.274486 -97.740297                285.0  22655.689623   \n6  South Milwaukee  42.901276 -87.846851                265.0  21065.816667   \n7           Boston  42.350500 -70.956900                315.0  25040.499060   \n8         New York  40.731400 -73.946400                317.0  25199.486350   \n9      Saint Louis  38.532700 -90.270900                350.0  27822.776730   \n\n   CH4_emission  ...        LA_N2O  total_emission          TT  TT_count  \\\n0  1.728623e+06  ...  52535.457534    3.092495e+06       [*E1]         1   \n1  6.398511e+05  ...      0.000000    1.757970e+06  [*B1, *B5]         2   \n2  7.922854e+05  ...   8805.078082    1.484673e+06        [F1]         1   \n3  6.482335e+05  ...   8473.631507    1.148458e+06       [*E1]         1   \n4  5.531592e+05  ...  27921.435616    1.020654e+06      [*E1e]         1   \n5  4.105479e+05  ...  22722.474113    1.013721e+06       [*E1]         1   \n6  3.817375e+05  ...  21127.914527    9.250474e+05      [*E1e]         1   \n7  4.537634e+05  ...  16021.680822    9.155354e+05       [F1e]         1   \n8  4.566445e+05  ...   4767.189041    8.583370e+05       [*E1]         1   \n9  5.041816e+05  ...      0.000000    8.247995e+05      [*A1e]         1   \n\n   TT_flow_mgd  MMT_year  cumulative_emissions cumulative_distribution  \\\n0       1200.0  1.128761          3.092495e+06                0.026705   \n1        343.0  0.641659          4.850465e+06                0.041885   \n2        550.0  0.541906          6.335138e+06                0.054706   \n3        450.0  0.419187          7.483596e+06                0.064623   \n4        384.0  0.372539          8.504250e+06                0.073437   \n5        285.0  0.370008          9.517971e+06                0.082191   \n6        265.0  0.337642          1.044302e+07                0.090179   \n7        315.0  0.334170          1.135855e+07                0.098085   \n8        317.0  0.313293          1.221689e+07                0.105497   \n9        350.0  0.301052          1.304169e+07                0.112619   \n\n   facility_rank  facility_fraction  \n0              1           0.000063  \n1              2           0.000126  \n2              3           0.000189  \n3              4           0.000252  \n4              5           0.000315  \n5              6           0.000378  \n6              7           0.000441  \n7              8           0.000504  \n8              9           0.000567  \n9             10           0.000630  \n\n[10 rows x 25 columns]",
      "text/html": "<div>\n<style scoped>\n    .dataframe tbody tr th:only-of-type {\n        vertical-align: middle;\n    }\n\n    .dataframe tbody tr th {\n        vertical-align: top;\n    }\n\n    .dataframe thead th {\n        text-align: right;\n    }\n</style>\n<table border=\"1\" class=\"dataframe\">\n  <thead>\n    <tr style=\"text-align: right;\">\n      <th></th>\n      <th>Unnamed: 0</th>\n      <th>CWNS_NUM</th>\n      <th>FACILITY</th>\n      <th>STATE</th>\n      <th>CITY</th>\n      <th>LATITUDE</th>\n      <th>LONGITUDE</th>\n      <th>FLOW_2022_MGD_FINAL</th>\n      <th>CO2_emission</th>\n      <th>CH4_emission</th>\n      <th>...</th>\n      <th>LA_N2O</th>\n      <th>total_emission</th>\n      <th>TT</th>\n      <th>TT_count</th>\n      <th>TT_flow_mgd</th>\n      <th>MMT_year</th>\n      <th>cumulative_emissions</th>\n      <th>cumulative_distribution</th>\n      <th>facility_rank</th>\n      <th>facility_fraction</th>\n    </tr>\n  </thead>\n  <tbody>\n    <tr>\n      <th>0</th>\n      <td>2301</td>\n      <td>17000721001</td>\n      <td>MWRDGC, Stickney Treatment Plant</td>\n      <td>IL</td>\n      <td>Cicero</td>\n      <td>41.813900</td>\n      <td>-87.770400</td>\n      <td>1200.0</td>\n      <td>95392.377360</td>\n      <td>1.728623e+06</td>\n      <td>...</td>\n      <td>52535.457534</td>\n      <td>3.092495e+06</td>\n      <td>[*E1]</td>\n      <td>1</td>\n      <td>1200.0</td>\n      <td>1.128761</td>\n      <td>3.092495e+06</td>\n      <td>0.026705</td>\n      <td>1</td>\n      <td>0.000063</td>\n    </tr>\n    <tr>\n      <th>1</th>\n      <td>6330</td>\n      <td>26000596001</td>\n      <td>GLWA WRRF</td>\n      <td>MI</td>\n      <td>Detroit</td>\n      <td>42.283200</td>\n      <td>-83.128500</td>\n      <td>686.0</td>\n      <td>54532.642391</td>\n      <td>6.398511e+05</td>\n      <td>...</td>\n      <td>0.000000</td>\n      <td>1.757970e+06</td>\n      <td>[*B1, *B5]</td>\n      <td>2</td>\n      <td>343.0</td>\n      <td>0.641659</td>\n      <td>4.850465e+06</td>\n      <td>0.041885</td>\n      <td>2</td>\n      <td>0.000126</td>\n    </tr>\n    <tr>\n      <th>2</th>\n      <td>8821</td>\n      <td>36002001001</td>\n      <td>New York (C) - Wards Island WPCP</td>\n      <td>NY</td>\n      <td>New York</td>\n      <td>40.787528</td>\n      <td>-73.922889</td>\n      <td>550.0</td>\n      <td>43721.506290</td>\n      <td>7.922854e+05</td>\n      <td>...</td>\n      <td>8805.078082</td>\n      <td>1.484673e+06</td>\n      <td>[F1]</td>\n      <td>1</td>\n      <td>550.0</td>\n      <td>0.541906</td>\n      <td>6.335138e+06</td>\n      <td>0.054706</td>\n      <td>3</td>\n      <td>0.000189</td>\n    </tr>\n    <tr>\n      <th>3</th>\n      <td>3557</td>\n      <td>17000721009</td>\n      <td>MWRDGC, CALUMET WRP, MWRDGC</td>\n      <td>IL</td>\n      <td>Chicago</td>\n      <td>41.662500</td>\n      <td>-87.610000</td>\n      <td>450.0</td>\n      <td>35772.141510</td>\n      <td>6.482335e+05</td>\n      <td>...</td>\n      <td>8473.631507</td>\n      <td>1.148458e+06</td>\n      <td>[*E1]</td>\n      <td>1</td>\n      <td>450.0</td>\n      <td>0.419187</td>\n      <td>7.483596e+06</td>\n      <td>0.064623</td>\n      <td>4</td>\n      <td>0.000252</td>\n    </tr>\n    <tr>\n      <th>4</th>\n      <td>6484</td>\n      <td>11000001001</td>\n      <td>BLUE PLAINS STP</td>\n      <td>DC</td>\n      <td>Washington</td>\n      <td>38.816781</td>\n      <td>-77.032755</td>\n      <td>384.0</td>\n      <td>30525.560760</td>\n      <td>5.531592e+05</td>\n      <td>...</td>\n      <td>27921.435616</td>\n      <td>1.020654e+06</td>\n      <td>[*E1e]</td>\n      <td>1</td>\n      <td>384.0</td>\n      <td>0.372539</td>\n      <td>8.504250e+06</td>\n      <td>0.073437</td>\n      <td>5</td>\n      <td>0.000315</td>\n    </tr>\n    <tr>\n      <th>5</th>\n      <td>15609</td>\n      <td>48000000409</td>\n      <td>Austin 5 Year CIP - Citywide Wastewater</td>\n      <td>TX</td>\n      <td>Austin</td>\n      <td>30.274486</td>\n      <td>-97.740297</td>\n      <td>285.0</td>\n      <td>22655.689623</td>\n      <td>4.105479e+05</td>\n      <td>...</td>\n      <td>22722.474113</td>\n      <td>1.013721e+06</td>\n      <td>[*E1]</td>\n      <td>1</td>\n      <td>285.0</td>\n      <td>0.370008</td>\n      <td>9.517971e+06</td>\n      <td>0.082191</td>\n      <td>6</td>\n      <td>0.000378</td>\n    </tr>\n    <tr>\n      <th>6</th>\n      <td>14370</td>\n      <td>55000000052</td>\n      <td>MILWAUKEE MSD COMBINED - South Shore</td>\n      <td>WI</td>\n      <td>South Milwaukee</td>\n      <td>42.901276</td>\n      <td>-87.846851</td>\n      <td>265.0</td>\n      <td>21065.816667</td>\n      <td>3.817375e+05</td>\n      <td>...</td>\n      <td>21127.914527</td>\n      <td>9.250474e+05</td>\n      <td>[*E1e]</td>\n      <td>1</td>\n      <td>265.0</td>\n      <td>0.337642</td>\n      <td>1.044302e+07</td>\n      <td>0.090179</td>\n      <td>7</td>\n      <td>0.000441</td>\n    </tr>\n    <tr>\n      <th>7</th>\n      <td>2763</td>\n      <td>25000128001</td>\n      <td>MWRA Deer Island WWTF</td>\n      <td>MA</td>\n      <td>Boston</td>\n      <td>42.350500</td>\n      <td>-70.956900</td>\n      <td>315.0</td>\n      <td>25040.499060</td>\n      <td>4.537634e+05</td>\n      <td>...</td>\n      <td>16021.680822</td>\n      <td>9.155354e+05</td>\n      <td>[F1e]</td>\n      <td>1</td>\n      <td>315.0</td>\n      <td>0.334170</td>\n      <td>1.135855e+07</td>\n      <td>0.098085</td>\n      <td>8</td>\n      <td>0.000504</td>\n    </tr>\n    <tr>\n      <th>8</th>\n      <td>10681</td>\n      <td>36002001011</td>\n      <td>New York (C) - Newtown Creek WPCP</td>\n      <td>NY</td>\n      <td>New York</td>\n      <td>40.731400</td>\n      <td>-73.946400</td>\n      <td>317.0</td>\n      <td>25199.486350</td>\n      <td>4.566445e+05</td>\n      <td>...</td>\n      <td>4767.189041</td>\n      <td>8.583370e+05</td>\n      <td>[*E1]</td>\n      <td>1</td>\n      <td>317.0</td>\n      <td>0.313293</td>\n      <td>1.221689e+07</td>\n      <td>0.105497</td>\n      <td>9</td>\n      <td>0.000567</td>\n    </tr>\n    <tr>\n      <th>9</th>\n      <td>5012</td>\n      <td>29001023002</td>\n      <td>Lemay WWTP</td>\n      <td>MO</td>\n      <td>Saint Louis</td>\n      <td>38.532700</td>\n      <td>-90.270900</td>\n      <td>350.0</td>\n      <td>27822.776730</td>\n      <td>5.041816e+05</td>\n      <td>...</td>\n      <td>0.000000</td>\n      <td>8.247995e+05</td>\n      <td>[*A1e]</td>\n      <td>1</td>\n      <td>350.0</td>\n      <td>0.301052</td>\n      <td>1.304169e+07</td>\n      <td>0.112619</td>\n      <td>10</td>\n      <td>0.000630</td>\n    </tr>\n  </tbody>\n</table>\n<p>10 rows × 25 columns</p>\n</div>"
     },
     "metadata": {},
     "output_type": "display_data"
    },
    {
     "name": "stdout",
     "output_type": "stream",
     "text": [
      "TT\n",
      "[*E1]         4\n",
      "[*E1e]        2\n",
      "[*B1, *B5]    1\n",
      "[F1]          1\n",
      "[F1e]         1\n",
      "[*A1e]        1\n",
      "Name: count, dtype: int64\n",
      "8.29% of facilities account of 80.00% of emissions\n",
      "16.52% of facilities account of 90.00% of emissions\n"
     ]
    }
   ],
   "source": [
    "# What fraction of facilities account for 80% of emissions? 90%?\n",
    "display(sorted_facilities.head(10))\n",
    "\n",
    "top_tt_count = sorted_facilities.head(10)['TT'].value_counts()\n",
    "print(top_tt_count)\n",
    "\n",
    "# find index where cumulative emissions first reaches / exceed 80% (0.80) \n",
    "\n",
    "def find_facility_fraction(emissions_fraction): \n",
    "    index = sorted_facilities[sorted_facilities['cumulative_distribution']>=emissions_fraction].index[0]\n",
    "    fraction_facilities = sorted_facilities.loc[index, 'facility_fraction']\n",
    "    print(f'{fraction_facilities*100:.2f}% of facilities account of {emissions_fraction*100:.2f}% of emissions')\n",
    "    return fraction_facilities\n",
    "    \n",
    "find_facility_fraction(0.8)\n",
    "find_facility_fraction(0.9)\n",
    "\n",
    "sorted_facilities.head(50).to_csv(pathlib.PurePath('04_results', 'facilities_sorted.csv'))"
   ],
   "metadata": {
    "collapsed": false,
    "ExecuteTime": {
     "end_time": "2024-10-25T18:38:31.295549Z",
     "start_time": "2024-10-25T18:38:31.275979Z"
    }
   },
   "id": "685b616e166deeb7"
  },
  {
   "cell_type": "code",
   "execution_count": 39,
   "outputs": [
    {
     "name": "stdout",
     "output_type": "stream",
     "text": [
      "Fraction of flow from top 10 facilities: 9.86%\n",
      "Total flow: 48699.762\n",
      "Top 10 facilities flow: 4802.0\n"
     ]
    }
   ],
   "source": [
    "# What fraction of flow is treated by the largest 10 facilities? \n",
    "\n",
    "# flow from top 10 facilities\n",
    "top_ten_facilities = sorted_facilities.head(10)\n",
    "top_ten_flow = top_ten_facilities['FLOW_2022_MGD_FINAL'].sum()\n",
    "\n",
    "# flow from all facilities \n",
    "# total_flow = sorted_facilities['FLOW_2022_MGD_FINAL'].sum()\n",
    "\n",
    "print(f'Fraction of flow from top 10 facilities: {top_ten_flow/total_flow*100:.2f}%')\n",
    "\n",
    "print(f'Total flow: {total_flow}')\n",
    "print(f\"Top 10 facilities flow: {top_ten_flow}\")"
   ],
   "metadata": {
    "collapsed": false,
    "ExecuteTime": {
     "end_time": "2024-10-25T18:38:31.304116Z",
     "start_time": "2024-10-25T18:38:31.285968Z"
    }
   },
   "id": "4d49a3296776addd"
  },
  {
   "cell_type": "code",
   "execution_count": 40,
   "outputs": [
    {
     "data": {
      "text/plain": "      Unnamed: 0     CWNS_NUM                          FACILITY STATE  \\\n0           2301  17000721001  MWRDGC, Stickney Treatment Plant    IL   \n1           6330  26000596001                         GLWA WRRF    MI   \n2           8821  36002001001  New York (C) - Wards Island WPCP    NY   \n3           3557  17000721009       MWRDGC, CALUMET WRP, MWRDGC    IL   \n4           6484  11000001001                   BLUE PLAINS STP    DC   \n...          ...          ...                               ...   ...   \n1310        6664  37005501001                   LINCOLNTON WWTP    NC   \n1311        7121   6005205001               Davis, City of WWTP    CA   \n1312       14779  12000287005                     Sandhill WWTP    FL   \n1313          55  48000005001            Victoria Regional WWTP    TX   \n1314       12389   6008007001            BIG BEAR AREA REG WWTF    CA   \n\n               CITY   LATITUDE   LONGITUDE  FLOW_2022_MGD_FINAL  CO2_emission  \\\n0            Cicero  41.813900  -87.770400              1200.00  95392.377360   \n1           Detroit  42.283200  -83.128500               686.00  54532.642391   \n2          New York  40.787528  -73.922889               550.00  43721.506290   \n3           Chicago  41.662500  -87.610000               450.00  35772.141510   \n4        Washington  38.816781  -77.032755               384.00  30525.560760   \n...             ...        ...         ...                  ...           ...   \n1310     Lincolnton  35.451000  -81.260600                 6.00    476.961887   \n1311          Davis  38.590600 -121.670800                 7.50    596.202359   \n1312      Kissimmee  28.309400  -81.607200                 6.00    476.961887   \n1313       Victoria  28.755200  -97.000900                 9.60    763.139019   \n1314  Big Bear City  34.267733 -116.815846                 4.89    388.723938   \n\n      CH4_emission  ...        LA_N2O  total_emission          TT  TT_count  \\\n0     1.728623e+06  ...  52535.457534    3.092495e+06       [*E1]         1   \n1     6.398511e+05  ...      0.000000    1.757970e+06  [*B1, *B5]         2   \n2     7.922854e+05  ...   8805.078082    1.484673e+06        [F1]         1   \n3     6.482335e+05  ...   8473.631507    1.148458e+06       [*E1]         1   \n4     5.531592e+05  ...  27921.435616    1.020654e+06      [*E1e]         1   \n...            ...  ...           ...             ...         ...       ...   \n1310  8.643113e+03  ...    344.375342    1.429915e+04       [*C1]         1   \n1311  1.080389e+04  ...    204.803425    1.429892e+04      [*A1e]         1   \n1312  8.643113e+03  ...    405.493151    1.428857e+04       [*C1]         1   \n1313  4.079387e+03  ...    759.476918    1.428247e+04        [A3]         1   \n1314  7.044137e+03  ...    352.861315    1.427322e+04       [*E1]         1   \n\n      TT_flow_mgd  MMT_year  cumulative_emissions cumulative_distribution  \\\n0         1200.00  1.128761          3.092495e+06                0.026705   \n1          343.00  0.641659          4.850465e+06                0.041885   \n2          550.00  0.541906          6.335138e+06                0.054706   \n3          450.00  0.419187          7.483596e+06                0.064623   \n4          384.00  0.372539          8.504250e+06                0.073437   \n...           ...       ...                   ...                     ...   \n1310         6.00  0.005219          9.257932e+07                0.799453   \n1311         7.50  0.005219          9.259362e+07                0.799576   \n1312         6.00  0.005215          9.260790e+07                0.799700   \n1313         9.60  0.005213          9.262219e+07                0.799823   \n1314         4.89  0.005210          9.263646e+07                0.799946   \n\n      facility_rank  facility_fraction  \n0                 1           0.000063  \n1                 2           0.000126  \n2                 3           0.000189  \n3                 4           0.000252  \n4                 5           0.000315  \n...             ...                ...  \n1310           1311           0.082624  \n1311           1312           0.082687  \n1312           1313           0.082750  \n1313           1314           0.082813  \n1314           1315           0.082876  \n\n[1315 rows x 25 columns]",
      "text/html": "<div>\n<style scoped>\n    .dataframe tbody tr th:only-of-type {\n        vertical-align: middle;\n    }\n\n    .dataframe tbody tr th {\n        vertical-align: top;\n    }\n\n    .dataframe thead th {\n        text-align: right;\n    }\n</style>\n<table border=\"1\" class=\"dataframe\">\n  <thead>\n    <tr style=\"text-align: right;\">\n      <th></th>\n      <th>Unnamed: 0</th>\n      <th>CWNS_NUM</th>\n      <th>FACILITY</th>\n      <th>STATE</th>\n      <th>CITY</th>\n      <th>LATITUDE</th>\n      <th>LONGITUDE</th>\n      <th>FLOW_2022_MGD_FINAL</th>\n      <th>CO2_emission</th>\n      <th>CH4_emission</th>\n      <th>...</th>\n      <th>LA_N2O</th>\n      <th>total_emission</th>\n      <th>TT</th>\n      <th>TT_count</th>\n      <th>TT_flow_mgd</th>\n      <th>MMT_year</th>\n      <th>cumulative_emissions</th>\n      <th>cumulative_distribution</th>\n      <th>facility_rank</th>\n      <th>facility_fraction</th>\n    </tr>\n  </thead>\n  <tbody>\n    <tr>\n      <th>0</th>\n      <td>2301</td>\n      <td>17000721001</td>\n      <td>MWRDGC, Stickney Treatment Plant</td>\n      <td>IL</td>\n      <td>Cicero</td>\n      <td>41.813900</td>\n      <td>-87.770400</td>\n      <td>1200.00</td>\n      <td>95392.377360</td>\n      <td>1.728623e+06</td>\n      <td>...</td>\n      <td>52535.457534</td>\n      <td>3.092495e+06</td>\n      <td>[*E1]</td>\n      <td>1</td>\n      <td>1200.00</td>\n      <td>1.128761</td>\n      <td>3.092495e+06</td>\n      <td>0.026705</td>\n      <td>1</td>\n      <td>0.000063</td>\n    </tr>\n    <tr>\n      <th>1</th>\n      <td>6330</td>\n      <td>26000596001</td>\n      <td>GLWA WRRF</td>\n      <td>MI</td>\n      <td>Detroit</td>\n      <td>42.283200</td>\n      <td>-83.128500</td>\n      <td>686.00</td>\n      <td>54532.642391</td>\n      <td>6.398511e+05</td>\n      <td>...</td>\n      <td>0.000000</td>\n      <td>1.757970e+06</td>\n      <td>[*B1, *B5]</td>\n      <td>2</td>\n      <td>343.00</td>\n      <td>0.641659</td>\n      <td>4.850465e+06</td>\n      <td>0.041885</td>\n      <td>2</td>\n      <td>0.000126</td>\n    </tr>\n    <tr>\n      <th>2</th>\n      <td>8821</td>\n      <td>36002001001</td>\n      <td>New York (C) - Wards Island WPCP</td>\n      <td>NY</td>\n      <td>New York</td>\n      <td>40.787528</td>\n      <td>-73.922889</td>\n      <td>550.00</td>\n      <td>43721.506290</td>\n      <td>7.922854e+05</td>\n      <td>...</td>\n      <td>8805.078082</td>\n      <td>1.484673e+06</td>\n      <td>[F1]</td>\n      <td>1</td>\n      <td>550.00</td>\n      <td>0.541906</td>\n      <td>6.335138e+06</td>\n      <td>0.054706</td>\n      <td>3</td>\n      <td>0.000189</td>\n    </tr>\n    <tr>\n      <th>3</th>\n      <td>3557</td>\n      <td>17000721009</td>\n      <td>MWRDGC, CALUMET WRP, MWRDGC</td>\n      <td>IL</td>\n      <td>Chicago</td>\n      <td>41.662500</td>\n      <td>-87.610000</td>\n      <td>450.00</td>\n      <td>35772.141510</td>\n      <td>6.482335e+05</td>\n      <td>...</td>\n      <td>8473.631507</td>\n      <td>1.148458e+06</td>\n      <td>[*E1]</td>\n      <td>1</td>\n      <td>450.00</td>\n      <td>0.419187</td>\n      <td>7.483596e+06</td>\n      <td>0.064623</td>\n      <td>4</td>\n      <td>0.000252</td>\n    </tr>\n    <tr>\n      <th>4</th>\n      <td>6484</td>\n      <td>11000001001</td>\n      <td>BLUE PLAINS STP</td>\n      <td>DC</td>\n      <td>Washington</td>\n      <td>38.816781</td>\n      <td>-77.032755</td>\n      <td>384.00</td>\n      <td>30525.560760</td>\n      <td>5.531592e+05</td>\n      <td>...</td>\n      <td>27921.435616</td>\n      <td>1.020654e+06</td>\n      <td>[*E1e]</td>\n      <td>1</td>\n      <td>384.00</td>\n      <td>0.372539</td>\n      <td>8.504250e+06</td>\n      <td>0.073437</td>\n      <td>5</td>\n      <td>0.000315</td>\n    </tr>\n    <tr>\n      <th>...</th>\n      <td>...</td>\n      <td>...</td>\n      <td>...</td>\n      <td>...</td>\n      <td>...</td>\n      <td>...</td>\n      <td>...</td>\n      <td>...</td>\n      <td>...</td>\n      <td>...</td>\n      <td>...</td>\n      <td>...</td>\n      <td>...</td>\n      <td>...</td>\n      <td>...</td>\n      <td>...</td>\n      <td>...</td>\n      <td>...</td>\n      <td>...</td>\n      <td>...</td>\n      <td>...</td>\n    </tr>\n    <tr>\n      <th>1310</th>\n      <td>6664</td>\n      <td>37005501001</td>\n      <td>LINCOLNTON WWTP</td>\n      <td>NC</td>\n      <td>Lincolnton</td>\n      <td>35.451000</td>\n      <td>-81.260600</td>\n      <td>6.00</td>\n      <td>476.961887</td>\n      <td>8.643113e+03</td>\n      <td>...</td>\n      <td>344.375342</td>\n      <td>1.429915e+04</td>\n      <td>[*C1]</td>\n      <td>1</td>\n      <td>6.00</td>\n      <td>0.005219</td>\n      <td>9.257932e+07</td>\n      <td>0.799453</td>\n      <td>1311</td>\n      <td>0.082624</td>\n    </tr>\n    <tr>\n      <th>1311</th>\n      <td>7121</td>\n      <td>6005205001</td>\n      <td>Davis, City of WWTP</td>\n      <td>CA</td>\n      <td>Davis</td>\n      <td>38.590600</td>\n      <td>-121.670800</td>\n      <td>7.50</td>\n      <td>596.202359</td>\n      <td>1.080389e+04</td>\n      <td>...</td>\n      <td>204.803425</td>\n      <td>1.429892e+04</td>\n      <td>[*A1e]</td>\n      <td>1</td>\n      <td>7.50</td>\n      <td>0.005219</td>\n      <td>9.259362e+07</td>\n      <td>0.799576</td>\n      <td>1312</td>\n      <td>0.082687</td>\n    </tr>\n    <tr>\n      <th>1312</th>\n      <td>14779</td>\n      <td>12000287005</td>\n      <td>Sandhill WWTP</td>\n      <td>FL</td>\n      <td>Kissimmee</td>\n      <td>28.309400</td>\n      <td>-81.607200</td>\n      <td>6.00</td>\n      <td>476.961887</td>\n      <td>8.643113e+03</td>\n      <td>...</td>\n      <td>405.493151</td>\n      <td>1.428857e+04</td>\n      <td>[*C1]</td>\n      <td>1</td>\n      <td>6.00</td>\n      <td>0.005215</td>\n      <td>9.260790e+07</td>\n      <td>0.799700</td>\n      <td>1313</td>\n      <td>0.082750</td>\n    </tr>\n    <tr>\n      <th>1313</th>\n      <td>55</td>\n      <td>48000005001</td>\n      <td>Victoria Regional WWTP</td>\n      <td>TX</td>\n      <td>Victoria</td>\n      <td>28.755200</td>\n      <td>-97.000900</td>\n      <td>9.60</td>\n      <td>763.139019</td>\n      <td>4.079387e+03</td>\n      <td>...</td>\n      <td>759.476918</td>\n      <td>1.428247e+04</td>\n      <td>[A3]</td>\n      <td>1</td>\n      <td>9.60</td>\n      <td>0.005213</td>\n      <td>9.262219e+07</td>\n      <td>0.799823</td>\n      <td>1314</td>\n      <td>0.082813</td>\n    </tr>\n    <tr>\n      <th>1314</th>\n      <td>12389</td>\n      <td>6008007001</td>\n      <td>BIG BEAR AREA REG WWTF</td>\n      <td>CA</td>\n      <td>Big Bear City</td>\n      <td>34.267733</td>\n      <td>-116.815846</td>\n      <td>4.89</td>\n      <td>388.723938</td>\n      <td>7.044137e+03</td>\n      <td>...</td>\n      <td>352.861315</td>\n      <td>1.427322e+04</td>\n      <td>[*E1]</td>\n      <td>1</td>\n      <td>4.89</td>\n      <td>0.005210</td>\n      <td>9.263646e+07</td>\n      <td>0.799946</td>\n      <td>1315</td>\n      <td>0.082876</td>\n    </tr>\n  </tbody>\n</table>\n<p>1315 rows × 25 columns</p>\n</div>"
     },
     "metadata": {},
     "output_type": "display_data"
    },
    {
     "name": "stdout",
     "output_type": "stream",
     "text": [
      "8.29% of facilities, which treat 76.24 of flow,  account of 80.00% of emissions\n"
     ]
    }
   ],
   "source": [
    "# calculate fractin of flow \n",
    "emissions_fraction = 0.8\n",
    "index = sorted_facilities[sorted_facilities['cumulative_distribution']>=emissions_fraction].index[0]\n",
    "fraction_facilities = sorted_facilities.loc[index, 'facility_fraction']\n",
    "\n",
    "included_facilities = sorted_facilities[sorted_facilities['cumulative_distribution'] < emissions_fraction]\n",
    "display(included_facilities)\n",
    "\n",
    "included_flow = included_facilities['FLOW_2022_MGD_FINAL'].sum()\n",
    "fraction_included_flow = included_flow / total_flow\n",
    "print(f'{fraction_facilities*100:.2f}% of facilities, which treat {fraction_included_flow*100:.2f} of flow,  account of {emissions_fraction*100:.2f}% of emissions')\n"
   ],
   "metadata": {
    "collapsed": false,
    "ExecuteTime": {
     "end_time": "2024-10-25T18:38:31.346985Z",
     "start_time": "2024-10-25T18:38:31.288997Z"
    }
   },
   "id": "878513b9f1335def"
  },
  {
   "cell_type": "markdown",
   "source": [
    "Relevant text from paper (9/28): \n",
    "\n",
    "\"We find that across the United States, 8% of facilities account for 80% of emissions (Figure 5A), with a strong linear relationship between total emissions and total flow (Figure 5B). In fact, the largest 10 facilities in the country (0.06% of facilities) disproportionately account for 11% of total emissions (Figure 5C). Within these facilities, all but one treat their solids with anaerobic digestion (solids code 1); the exception uses multiple hearth incineration (solids code 5). Six of these plants use nitrification (liquids code *E), two are fully denitrifying facilities (liquids code F), one uses conventional activated sludge (liquids code A), and one uses pure oxygen activated sludge (liquids code B). Notably, we find four of the largest ten facilities in the United States reports onsite energy recovery with CHP.\" "
   ],
   "metadata": {
    "collapsed": false
   },
   "id": "a72045e5410af947"
  },
  {
   "cell_type": "markdown",
   "source": [
    "## Discussion section "
   ],
   "metadata": {
    "collapsed": false
   },
   "id": "c7d36da541f4925a"
  },
  {
   "cell_type": "code",
   "execution_count": 41,
   "outputs": [
    {
     "name": "stdout",
     "output_type": "stream",
     "text": [
      "Lowest emissions from a treatment train: 0.3405\n",
      "Highest emissions from a treatment train: 1.6057\n"
     ]
    }
   ],
   "source": [
    "print(f'Lowest emissions from a treatment train: {tt_data[\"total_emissions_national_kgCO2_per_m3\"].min():0.4f}')\n",
    "print(f'Highest emissions from a treatment train: {tt_data[\"total_emissions_national_kgCO2_per_m3\"].max():0.4f}')\n"
   ],
   "metadata": {
    "collapsed": false,
    "ExecuteTime": {
     "end_time": "2024-10-25T18:38:31.348191Z",
     "start_time": "2024-10-25T18:38:31.301672Z"
    }
   },
   "id": "1c504ffe5c7358ad"
  },
  {
   "cell_type": "code",
   "execution_count": 42,
   "outputs": [
    {
     "data": {
      "text/plain": "  tt_solids  methane_fraction  total_methane\n0         1         85.602432      16.962692\n2         3          7.240290       1.434712\n6     L-all          2.895377       0.573738\n4         5          2.215612       0.439038\n5         6          1.082902       0.214584\n3         4          0.919088       0.182123\n1         2          0.044299       0.008778",
      "text/html": "<div>\n<style scoped>\n    .dataframe tbody tr th:only-of-type {\n        vertical-align: middle;\n    }\n\n    .dataframe tbody tr th {\n        vertical-align: top;\n    }\n\n    .dataframe thead th {\n        text-align: right;\n    }\n</style>\n<table border=\"1\" class=\"dataframe\">\n  <thead>\n    <tr style=\"text-align: right;\">\n      <th></th>\n      <th>tt_solids</th>\n      <th>methane_fraction</th>\n      <th>total_methane</th>\n    </tr>\n  </thead>\n  <tbody>\n    <tr>\n      <th>0</th>\n      <td>1</td>\n      <td>85.602432</td>\n      <td>16.962692</td>\n    </tr>\n    <tr>\n      <th>2</th>\n      <td>3</td>\n      <td>7.240290</td>\n      <td>1.434712</td>\n    </tr>\n    <tr>\n      <th>6</th>\n      <td>L-all</td>\n      <td>2.895377</td>\n      <td>0.573738</td>\n    </tr>\n    <tr>\n      <th>4</th>\n      <td>5</td>\n      <td>2.215612</td>\n      <td>0.439038</td>\n    </tr>\n    <tr>\n      <th>5</th>\n      <td>6</td>\n      <td>1.082902</td>\n      <td>0.214584</td>\n    </tr>\n    <tr>\n      <th>3</th>\n      <td>4</td>\n      <td>0.919088</td>\n      <td>0.182123</td>\n    </tr>\n    <tr>\n      <th>1</th>\n      <td>2</td>\n      <td>0.044299</td>\n      <td>0.008778</td>\n    </tr>\n  </tbody>\n</table>\n</div>"
     },
     "metadata": {},
     "output_type": "display_data"
    }
   ],
   "source": [
    "# What fraction of emissions comes from facilities with AD? \n",
    "\n",
    "total_methane = solids_sorted_by_emissions['methane_mmtCO2_per_year'].sum() + solids_sorted_by_emissions['landfill_methane_mmtCO2_per_year'].sum()\n",
    "\n",
    "solids_sorted_by_emissions['total_methane'] = (solids_sorted_by_emissions['methane_mmtCO2_per_year'] + solids_sorted_by_emissions['landfill_methane_mmtCO2_per_year'])\n",
    "\n",
    "solids_sorted_by_emissions['methane_fraction'] = (solids_sorted_by_emissions['methane_mmtCO2_per_year'] + solids_sorted_by_emissions['landfill_methane_mmtCO2_per_year'])/ (total_methane) * 100 \n",
    "\n",
    "methane_ad_columns = ['tt_solids', 'methane_fraction', 'total_methane']\n",
    "display(solids_sorted_by_emissions[methane_ad_columns])"
   ],
   "metadata": {
    "collapsed": false,
    "ExecuteTime": {
     "end_time": "2024-10-25T18:38:31.361344Z",
     "start_time": "2024-10-25T18:38:31.307640Z"
    }
   },
   "id": "c0a79c16da84eb09"
  },
  {
   "cell_type": "code",
   "execution_count": 43,
   "outputs": [
    {
     "data": {
      "text/plain": "  Code 1  Code 2  Total Emissions 1 (kg CO2/m3)  \\\n0    *A1    *A1e                          0.624   \n1    *B1    *B1e                          0.637   \n2    *C1    *C1e                          0.599   \n3    *E1    *E1e                          0.836   \n4    *G1    *G1e                          1.001   \n5  *G1-p  *G1e-p                          0.889   \n6     A1     A1e                          0.629   \n7     F1     F1e                          0.851   \n\n   Total Emissions 2 (kg CO2/m3)  Absolute Diff  % Diff  \n0                          0.562         -0.061  -9.799  \n1                          0.578         -0.059  -9.195  \n2                          0.547         -0.052  -8.655  \n3                          0.778         -0.058  -6.906  \n4                          0.949         -0.051  -5.139  \n5                          0.831         -0.058  -6.503  \n6                          0.576         -0.052  -8.334  \n7                          0.810         -0.041  -4.841  ",
      "text/html": "<div>\n<style scoped>\n    .dataframe tbody tr th:only-of-type {\n        vertical-align: middle;\n    }\n\n    .dataframe tbody tr th {\n        vertical-align: top;\n    }\n\n    .dataframe thead th {\n        text-align: right;\n    }\n</style>\n<table border=\"1\" class=\"dataframe\">\n  <thead>\n    <tr style=\"text-align: right;\">\n      <th></th>\n      <th>Code 1</th>\n      <th>Code 2</th>\n      <th>Total Emissions 1 (kg CO2/m3)</th>\n      <th>Total Emissions 2 (kg CO2/m3)</th>\n      <th>Absolute Diff</th>\n      <th>% Diff</th>\n    </tr>\n  </thead>\n  <tbody>\n    <tr>\n      <th>0</th>\n      <td>*A1</td>\n      <td>*A1e</td>\n      <td>0.624</td>\n      <td>0.562</td>\n      <td>-0.061</td>\n      <td>-9.799</td>\n    </tr>\n    <tr>\n      <th>1</th>\n      <td>*B1</td>\n      <td>*B1e</td>\n      <td>0.637</td>\n      <td>0.578</td>\n      <td>-0.059</td>\n      <td>-9.195</td>\n    </tr>\n    <tr>\n      <th>2</th>\n      <td>*C1</td>\n      <td>*C1e</td>\n      <td>0.599</td>\n      <td>0.547</td>\n      <td>-0.052</td>\n      <td>-8.655</td>\n    </tr>\n    <tr>\n      <th>3</th>\n      <td>*E1</td>\n      <td>*E1e</td>\n      <td>0.836</td>\n      <td>0.778</td>\n      <td>-0.058</td>\n      <td>-6.906</td>\n    </tr>\n    <tr>\n      <th>4</th>\n      <td>*G1</td>\n      <td>*G1e</td>\n      <td>1.001</td>\n      <td>0.949</td>\n      <td>-0.051</td>\n      <td>-5.139</td>\n    </tr>\n    <tr>\n      <th>5</th>\n      <td>*G1-p</td>\n      <td>*G1e-p</td>\n      <td>0.889</td>\n      <td>0.831</td>\n      <td>-0.058</td>\n      <td>-6.503</td>\n    </tr>\n    <tr>\n      <th>6</th>\n      <td>A1</td>\n      <td>A1e</td>\n      <td>0.629</td>\n      <td>0.576</td>\n      <td>-0.052</td>\n      <td>-8.334</td>\n    </tr>\n    <tr>\n      <th>7</th>\n      <td>F1</td>\n      <td>F1e</td>\n      <td>0.851</td>\n      <td>0.810</td>\n      <td>-0.041</td>\n      <td>-4.841</td>\n    </tr>\n  </tbody>\n</table>\n</div>"
     },
     "metadata": {},
     "output_type": "display_data"
    },
    {
     "name": "stdout",
     "output_type": "stream",
     "text": [
      "Minimum energy savings from CHP: -0.061\n",
      "Maximum energy savings from CHP: -0.041\n"
     ]
    }
   ],
   "source": [
    "# Repeat analysis above, comparing emissions from facilities with and without CHP \n",
    "\n",
    "# Get the pairs using the first function\n",
    "pairs = find_chp_pairs(tt_ad)\n",
    "\n",
    "# Compare electricity values for each pair using the new function\n",
    "comparison_results = compare_emissions_for_pairs(tt_ad, pairs)\n",
    "\n",
    "comparison_df = pd.DataFrame(comparison_results, columns=[\n",
    "        'Code 1', 'Code 2', 'Total Emissions 1 (kg CO2/m3)', 'Total Emissions 2 (kg CO2/m3)', 'Absolute Diff', '% Diff'])\n",
    "\n",
    "display(comparison_df)\n",
    "\n",
    "print(f\"Minimum energy savings from CHP: {comparison_df['Absolute Diff'].min()}\")\n",
    "print(f\"Maximum energy savings from CHP: {comparison_df['Absolute Diff'].max()}\")\n"
   ],
   "metadata": {
    "collapsed": false,
    "ExecuteTime": {
     "end_time": "2024-10-25T18:38:31.363315Z",
     "start_time": "2024-10-25T18:38:31.309767Z"
    }
   },
   "id": "10d57254e5aef6bd"
  },
  {
   "cell_type": "code",
   "execution_count": 44,
   "outputs": [
    {
     "data": {
      "text/plain": "   code  methane_kgCO2_per_m3\n13  *A3              0.112257\n14  *B3              0.112257\n15   A3              0.112257\n34  *A1              0.380546\n35  *B1              0.380546\n37   A1              0.380546",
      "text/html": "<div>\n<style scoped>\n    .dataframe tbody tr th:only-of-type {\n        vertical-align: middle;\n    }\n\n    .dataframe tbody tr th {\n        vertical-align: top;\n    }\n\n    .dataframe thead th {\n        text-align: right;\n    }\n</style>\n<table border=\"1\" class=\"dataframe\">\n  <thead>\n    <tr style=\"text-align: right;\">\n      <th></th>\n      <th>code</th>\n      <th>methane_kgCO2_per_m3</th>\n    </tr>\n  </thead>\n  <tbody>\n    <tr>\n      <th>13</th>\n      <td>*A3</td>\n      <td>0.112257</td>\n    </tr>\n    <tr>\n      <th>14</th>\n      <td>*B3</td>\n      <td>0.112257</td>\n    </tr>\n    <tr>\n      <th>15</th>\n      <td>A3</td>\n      <td>0.112257</td>\n    </tr>\n    <tr>\n      <th>34</th>\n      <td>*A1</td>\n      <td>0.380546</td>\n    </tr>\n    <tr>\n      <th>35</th>\n      <td>*B1</td>\n      <td>0.380546</td>\n    </tr>\n    <tr>\n      <th>37</th>\n      <td>A1</td>\n      <td>0.380546</td>\n    </tr>\n  </tbody>\n</table>\n</div>"
     },
     "metadata": {},
     "output_type": "display_data"
    },
    {
     "name": "stdout",
     "output_type": "stream",
     "text": [
      "Difference between anaerobic and aerobic digestion: 0.268289\n"
     ]
    }
   ],
   "source": [
    "# Compare anaerobic digestion to aerobic digestion \n",
    "\n",
    "tt_aerobic_vs_anaerobic = tt_data \n",
    "methane_cols = ['code', 'methane_kgCO2_per_m3']\n",
    "display(tt_aerobic_vs_anaerobic.loc[tt_aerobic_vs_anaerobic['code'].isin(['A1', 'A3', '*A1', '*A3', '*B1', '*B3'])][methane_cols])\n",
    "\n",
    "print(f'Difference between anaerobic and aerobic digestion: {0.380546 - 0.112257:4f}')"
   ],
   "metadata": {
    "collapsed": false,
    "ExecuteTime": {
     "end_time": "2024-10-25T18:38:31.376669Z",
     "start_time": "2024-10-25T18:38:31.321863Z"
    }
   },
   "id": "75e572b0b140f88b"
  },
  {
   "cell_type": "code",
   "execution_count": 45,
   "outputs": [
    {
     "name": "stdout",
     "output_type": "stream",
     "text": [
      "EPA emissions total (MMT / year): 35.0\n",
      "EPA emissions onsite only (MMT / year): 28.6\n",
      "EPA fraction of onsite emissions from methane: 40.56%\n",
      "EPA fraction of onsite emissions from nitrous oxide: 59.44%\n",
      "In our inventory, onsite emissions from methane and nitrous oxide are: 27.59\n",
      "In our inventory, methane fraction of onsite emissions: 68.72%\n",
      "In our inventory, methane fraction of onsite emissions: 31.28%\n"
     ]
    }
   ],
   "source": [
    "# EPA inventory breakdown \n",
    "\n",
    "epa_methane_treatment = 11.6 # MMT / year in 2022\n",
    "epa_methane_effluent = 2.0 # MMT / year in 2022\n",
    "epa_n2o_treatment = 17.0 # MMT / year in 2022 \n",
    "epa_n2o_effluent = 4.4 \n",
    "\n",
    "epa_total_onsite = epa_methane_effluent + epa_methane_treatment + epa_n2o_effluent + epa_n2o_treatment\n",
    "epa_treatment_only = epa_methane_treatment + epa_n2o_treatment\n",
    "\n",
    "print(f'EPA emissions total (MMT / year): {epa_total_onsite}')\n",
    "print(f'EPA emissions onsite only (MMT / year): {epa_treatment_only}')\n",
    "\n",
    "print(f'EPA fraction of onsite emissions from methane: {epa_methane_treatment/epa_treatment_only *100:0.2f}%')\n",
    "print(f'EPA fraction of onsite emissions from nitrous oxide: {epa_n2o_treatment/epa_treatment_only *100:0.2f}%')\n",
    "\n",
    "our_methane = national_breakdown_df.loc['methane']['CO2_MMT_per_year'] # MMT / year\n",
    "our_nitrous_oxide = national_breakdown_df.loc['nitrous_oxide']['CO2_MMT_per_year']# MMT / year\n",
    "our_total_onsite = our_methane + our_nitrous_oxide\n",
    "print(f'In our inventory, onsite emissions from methane and nitrous oxide are: {our_total_onsite:.2f}')\n",
    "print(f'In our inventory, methane fraction of onsite emissions: {our_methane/(our_methane+our_nitrous_oxide)*100:.2f}%')\n",
    "\n",
    "print(f'In our inventory, methane fraction of onsite emissions: {our_nitrous_oxide/(our_methane+our_nitrous_oxide)*100:.2f}%')"
   ],
   "metadata": {
    "collapsed": false,
    "ExecuteTime": {
     "end_time": "2024-10-25T18:38:31.428806Z",
     "start_time": "2024-10-25T18:38:31.326211Z"
    }
   },
   "id": "d7043327b3291a08"
  },
  {
   "cell_type": "code",
   "execution_count": 46,
   "outputs": [
    {
     "data": {
      "text/plain": "                      CO2_kg_per_day  CO2_MMT_per_year  emissions_percent\nCO2                     3.871322e+06          1.413032           3.343014\nmethane                 5.193888e+07         18.957692          44.850938\nnitrous_oxide           2.364478e+07          8.630344          20.418047\nelectricity             2.928826e+07         10.690213          25.291374\nonsite_gas              2.825041e+06          1.031140           2.439516\nupstream_gas            6.372650e+05          0.232602           0.550299\nlandfill_methane        1.319422e+06          0.481589           1.139364\nland_application_N2O    2.278369e+06          0.831605           1.967447\ntotal                   1.158033e+08         42.268217         100.000000",
      "text/html": "<div>\n<style scoped>\n    .dataframe tbody tr th:only-of-type {\n        vertical-align: middle;\n    }\n\n    .dataframe tbody tr th {\n        vertical-align: top;\n    }\n\n    .dataframe thead th {\n        text-align: right;\n    }\n</style>\n<table border=\"1\" class=\"dataframe\">\n  <thead>\n    <tr style=\"text-align: right;\">\n      <th></th>\n      <th>CO2_kg_per_day</th>\n      <th>CO2_MMT_per_year</th>\n      <th>emissions_percent</th>\n    </tr>\n  </thead>\n  <tbody>\n    <tr>\n      <th>CO2</th>\n      <td>3.871322e+06</td>\n      <td>1.413032</td>\n      <td>3.343014</td>\n    </tr>\n    <tr>\n      <th>methane</th>\n      <td>5.193888e+07</td>\n      <td>18.957692</td>\n      <td>44.850938</td>\n    </tr>\n    <tr>\n      <th>nitrous_oxide</th>\n      <td>2.364478e+07</td>\n      <td>8.630344</td>\n      <td>20.418047</td>\n    </tr>\n    <tr>\n      <th>electricity</th>\n      <td>2.928826e+07</td>\n      <td>10.690213</td>\n      <td>25.291374</td>\n    </tr>\n    <tr>\n      <th>onsite_gas</th>\n      <td>2.825041e+06</td>\n      <td>1.031140</td>\n      <td>2.439516</td>\n    </tr>\n    <tr>\n      <th>upstream_gas</th>\n      <td>6.372650e+05</td>\n      <td>0.232602</td>\n      <td>0.550299</td>\n    </tr>\n    <tr>\n      <th>landfill_methane</th>\n      <td>1.319422e+06</td>\n      <td>0.481589</td>\n      <td>1.139364</td>\n    </tr>\n    <tr>\n      <th>land_application_N2O</th>\n      <td>2.278369e+06</td>\n      <td>0.831605</td>\n      <td>1.967447</td>\n    </tr>\n    <tr>\n      <th>total</th>\n      <td>1.158033e+08</td>\n      <td>42.268217</td>\n      <td>100.000000</td>\n    </tr>\n  </tbody>\n</table>\n</div>"
     },
     "metadata": {},
     "output_type": "display_data"
    }
   ],
   "source": [
    "display(national_breakdown_df)"
   ],
   "metadata": {
    "collapsed": false,
    "ExecuteTime": {
     "end_time": "2024-10-25T18:38:31.430347Z",
     "start_time": "2024-10-25T18:38:31.330386Z"
    }
   },
   "id": "e106de11a417972a"
  },
  {
   "cell_type": "code",
   "execution_count": 47,
   "outputs": [
    {
     "name": "stdout",
     "output_type": "stream",
     "text": [
      "Flow for facilities with *E1: 9.63806922036905\n",
      "Total number of facilities matching the criteria: 613\n",
      "\n",
      "Total emissions from these facilities (in MMT CO2eq/day): 11.499402838375113\n",
      "\n",
      "Fraction of total emissions (in MMT CO2eq/day): 27.2058%\n"
     ]
    }
   ],
   "source": [
    "# Discussion of maps \n",
    "facilities_e1 = filter_facilities_by_process('*E1', facility_data, print_tt=True)\n",
    "\n",
    "total_emissions = facility_data['total_emission'].apply(kg_per_day_to_mmt_per_year).sum()\n",
    "\n",
    "def facility_key_stats(processes, df, match_all=False, print_tt=False, match_type='substring'): \n",
    "    \n",
    "    facility_filtered = filter_facilities_by_process(processes, df, match_all=match_all, print_tt=print_tt, match_type=match_type)\n",
    "    \n",
    "    facility_num = len(facility_filtered)\n",
    "    facility_emissions = facility_filtered['total_emission'].apply(kg_per_day_to_mmt_per_year).sum()\n",
    "    \n",
    "    print(f\"Total number of facilities matching the criteria: {facility_num}\")\n",
    "    print(f\"\\nTotal emissions from these facilities (in MMT CO2eq/day): {facility_emissions}\")\n",
    "    print(f\"\\nFraction of total emissions (in MMT CO2eq/day): {facility_emissions/total_emissions*100:.4f}%\")\n",
    "\n",
    "\n",
    " \n",
    "flow_value = tt_data.loc[tt_data['code'] == '*E1', 'flow_Bm3yr'].values[0]\n",
    "print(f'Flow for facilitie'\n",
    "      f's with *E1: {flow_value}')\n",
    "facility_key_stats('*E1', facilities_e1, print_tt=True)"
   ],
   "metadata": {
    "collapsed": false,
    "ExecuteTime": {
     "end_time": "2024-10-25T18:38:31.447257Z",
     "start_time": "2024-10-25T18:38:31.342449Z"
    }
   },
   "id": "36452e2f2f6b7dd1"
  },
  {
   "cell_type": "code",
   "execution_count": 48,
   "outputs": [
    {
     "name": "stdout",
     "output_type": "stream",
     "text": [
      "Flow for facilities with *A1: 6.499311635348686\n",
      "Total number of facilities matching the criteria: 777\n",
      "\n",
      "Total emissions from these facilities (in MMT CO2eq/day): 4.540785899346057\n",
      "\n",
      "Fraction of total emissions (in MMT CO2eq/day): 10.7428%\n"
     ]
    }
   ],
   "source": [
    "facilities_a1 = filter_facilities_by_process('*A1', facility_data, print_tt=True, match_type='exact')\n",
    "flow_value_a1 = tt_data.loc[tt_data['code'] == '*A1', 'flow_Bm3yr'].values[0]\n",
    "print(f'Flow for facilities with *A1: {flow_value_a1}')\n",
    "facility_key_stats('*A1', facilities_a1, print_tt=True)"
   ],
   "metadata": {
    "collapsed": false,
    "ExecuteTime": {
     "end_time": "2024-10-25T18:38:31.448401Z",
     "start_time": "2024-10-25T18:38:31.348677Z"
    }
   },
   "id": "76fd2d9a5a648a9f"
  },
  {
   "cell_type": "code",
   "execution_count": 50,
   "outputs": [
    {
     "data": {
      "text/plain": "      code  total_emissions_national_kgCO2_per_m3  fraction_scope1  \\\n1      *C6                               0.340500        53.133531   \n0      *C4                               0.358070        64.619084   \n4      *A6                               0.367451        49.236291   \n6      *C3                               0.369165        58.781247   \n7      *B6                               0.378466        47.803418   \n3      *A4                               0.385131        60.078777   \n9       A4                               0.385723        53.405521   \n10      A6                               0.389957        46.394723   \n5      *B4                               0.396036        58.424389   \n15      A3                               0.400222        49.684966   \n13     *A3                               0.404507        53.645519   \n14     *B3                               0.418260        51.881609   \n2      *C5                               0.428676        42.204267   \n16     L-a                               0.447693        70.023575   \n8      *A5                               0.455860        39.687506   \n11     *B5                               0.466642        38.770531   \n12      A5                               0.478133        37.838720   \n26     L-u                               0.487630        74.764213   \n29    *C1e                               0.546837        89.021691   \n30    *A1e                               0.562416        86.555791   \n32     A1e                               0.576140        81.211480   \n31    *B1e                               0.578088        84.209234   \n28      E3                               0.596205        63.389550   \n22      F3                               0.597613        57.573274   \n33     *C1                               0.598648        81.317069   \n19      F4                               0.603291        58.216106   \n27     *E3                               0.609533        64.981154   \n21      F6                               0.611559        53.328377   \n34     *A1                               0.623513        78.074210   \n37      A1                               0.628521        74.443278   \n35     *B1                               0.636624        76.466379   \n36     *A2                               0.690580        70.491912   \n46     L-f                               0.699589        90.865220   \n45     L-n                               0.699589        90.865220   \n23      F5                               0.699735        46.608274   \n18     *G6                               0.739669        44.091922   \n17     *G4                               0.757240        49.732805   \n47    *E1e                               0.778116        85.576591   \n24     *G3                               0.779346        46.476760   \n41     F1e                               0.809546        75.734667   \n20     *G5                               0.827845        39.395567   \n38  *G1e-p                               0.831134        76.042837   \n48     *E1                               0.835836        79.666936   \n43      F1                               0.850733        72.068048   \n40   *G1-p                               0.888939        71.098051   \n39    *G1e                               0.949187        66.585242   \n42     *G1                               1.000610        63.163319   \n25     *D3                               1.317834        27.485632   \n44    *D1e                               1.605672        39.361604   \n\n    fraction_energy  fraction_biosolids  fraction_methane  \\\n1         46.866469            0.000000         32.968205   \n0         35.380916           14.092840         31.350441   \n4         50.763709            0.000000         30.550052   \n6         41.218753            9.773541         30.408221   \n7         52.196582            0.000000         29.660986   \n3         39.921223           13.102640         29.147676   \n9         46.594479            6.501551         29.102898   \n10        53.605277            0.000000         28.786921   \n5         41.575611           12.741833         28.345037   \n15        50.315034            4.480202         28.048577   \n13        46.354481            8.919625         27.751449   \n14        48.118391            8.626340         26.838958   \n2         57.795733            0.000000         26.186834   \n16        29.976425            4.005144          0.000000   \n8         60.312494            0.000000         24.625238   \n11        61.229469            0.000000         24.056275   \n12        62.161280            0.000000         23.478107   \n26        25.235787            3.701585         19.377960   \n29        10.978309            6.874884         69.590434   \n30        13.444209            6.684450         67.662779   \n32        18.788520            3.242804         66.050942   \n31        15.790766            6.503233         65.828419   \n28        36.610450            3.007482         18.828522   \n22        42.426726            3.000398         18.784174   \n33        18.682931            6.279879         63.567542   \n19        41.783894            4.156865         18.607379   \n27        35.018846            5.919373         18.416826   \n21        46.671623            0.000000         18.355813   \n34        21.925790            6.029443         61.032520   \n37        25.556722            2.972548         60.546226   \n35        23.533621            5.905274         59.775639   \n36        29.508088            5.443884         55.105252   \n46         9.134780            2.670582         85.192867   \n45         9.134780            2.670582         85.192867   \n23        53.391726            0.000000         16.042730   \n18        55.908078            0.000000         15.176593   \n17        50.267195            6.663973         14.824442   \n47        14.423409            4.831466         48.906106   \n24        53.523240            4.629587         14.403943   \n41        24.265333            2.307849         47.007340   \n20        60.604433            0.000000         13.560091   \n38        23.957163            4.523262         45.786336   \n48        20.333064            4.497820         45.528801   \n43        27.931952            2.196117         44.731526   \n40        28.901949            4.229131         42.809019   \n39        33.414758            3.960695         40.091800   \n42        36.836681            3.757149         38.031418   \n25        72.514368            2.737866          8.518267   \n44        60.638396            2.341349         23.700110   \n\n    fraction_nitrous_oxide  fraction_noncombustion_co2  \n1                13.997898                    6.167428  \n0                13.311014                    5.864789  \n4                12.971179                    5.715059  \n6                12.910959                    5.688526  \n7                12.593693                    5.548740  \n3                12.375747                    5.452714  \n9                12.356735                    5.444337  \n10               12.222575                    5.385227  \n5                12.034957                    5.302562  \n15               11.909083                    5.247103  \n13               11.782926                    5.191519  \n14               11.395494                    5.020817  \n2                11.118610                    4.898823  \n16               61.327704                    4.690726  \n8                10.455576                    4.606692  \n11               10.214001                    4.500255  \n12                9.968517                    4.392096  \n26               47.378111                    4.306557  \n29                8.716091                    3.840281  \n30                8.474656                    3.733905  \n32                8.272776                    3.644958  \n31                8.244905                    3.632678  \n28               38.031258                    3.522289  \n22               32.274709                    3.513993  \n33                7.961734                    3.507914  \n19               31.970943                    3.480919  \n27               37.199683                    3.445272  \n21               31.538705                    3.433858  \n34                7.644226                    3.368021  \n37                7.583319                    3.341185  \n35                7.486804                    3.298661  \n36                6.901845                    3.040930  \n46                0.000000                    3.001771  \n45                0.000000                    3.001771  \n23               27.564398                    3.001145  \n18               26.076213                    2.839115  \n17               25.471152                    2.773238  \n47               29.140183                    2.698836  \n24               24.748656                    2.694574  \n41               23.825424                    2.594055  \n20               23.298762                    2.536713  \n38               23.206564                    2.526675  \n48               27.127851                    2.512463  \n43               22.671939                    2.468466  \n40               21.697527                    2.362375  \n39               20.320319                    2.212427  \n42               19.276025                    2.098727  \n25               14.635969                    1.593529  \n44               12.012277                    1.307868  ",
      "text/html": "<div>\n<style scoped>\n    .dataframe tbody tr th:only-of-type {\n        vertical-align: middle;\n    }\n\n    .dataframe tbody tr th {\n        vertical-align: top;\n    }\n\n    .dataframe thead th {\n        text-align: right;\n    }\n</style>\n<table border=\"1\" class=\"dataframe\">\n  <thead>\n    <tr style=\"text-align: right;\">\n      <th></th>\n      <th>code</th>\n      <th>total_emissions_national_kgCO2_per_m3</th>\n      <th>fraction_scope1</th>\n      <th>fraction_energy</th>\n      <th>fraction_biosolids</th>\n      <th>fraction_methane</th>\n      <th>fraction_nitrous_oxide</th>\n      <th>fraction_noncombustion_co2</th>\n    </tr>\n  </thead>\n  <tbody>\n    <tr>\n      <th>1</th>\n      <td>*C6</td>\n      <td>0.340500</td>\n      <td>53.133531</td>\n      <td>46.866469</td>\n      <td>0.000000</td>\n      <td>32.968205</td>\n      <td>13.997898</td>\n      <td>6.167428</td>\n    </tr>\n    <tr>\n      <th>0</th>\n      <td>*C4</td>\n      <td>0.358070</td>\n      <td>64.619084</td>\n      <td>35.380916</td>\n      <td>14.092840</td>\n      <td>31.350441</td>\n      <td>13.311014</td>\n      <td>5.864789</td>\n    </tr>\n    <tr>\n      <th>4</th>\n      <td>*A6</td>\n      <td>0.367451</td>\n      <td>49.236291</td>\n      <td>50.763709</td>\n      <td>0.000000</td>\n      <td>30.550052</td>\n      <td>12.971179</td>\n      <td>5.715059</td>\n    </tr>\n    <tr>\n      <th>6</th>\n      <td>*C3</td>\n      <td>0.369165</td>\n      <td>58.781247</td>\n      <td>41.218753</td>\n      <td>9.773541</td>\n      <td>30.408221</td>\n      <td>12.910959</td>\n      <td>5.688526</td>\n    </tr>\n    <tr>\n      <th>7</th>\n      <td>*B6</td>\n      <td>0.378466</td>\n      <td>47.803418</td>\n      <td>52.196582</td>\n      <td>0.000000</td>\n      <td>29.660986</td>\n      <td>12.593693</td>\n      <td>5.548740</td>\n    </tr>\n    <tr>\n      <th>3</th>\n      <td>*A4</td>\n      <td>0.385131</td>\n      <td>60.078777</td>\n      <td>39.921223</td>\n      <td>13.102640</td>\n      <td>29.147676</td>\n      <td>12.375747</td>\n      <td>5.452714</td>\n    </tr>\n    <tr>\n      <th>9</th>\n      <td>A4</td>\n      <td>0.385723</td>\n      <td>53.405521</td>\n      <td>46.594479</td>\n      <td>6.501551</td>\n      <td>29.102898</td>\n      <td>12.356735</td>\n      <td>5.444337</td>\n    </tr>\n    <tr>\n      <th>10</th>\n      <td>A6</td>\n      <td>0.389957</td>\n      <td>46.394723</td>\n      <td>53.605277</td>\n      <td>0.000000</td>\n      <td>28.786921</td>\n      <td>12.222575</td>\n      <td>5.385227</td>\n    </tr>\n    <tr>\n      <th>5</th>\n      <td>*B4</td>\n      <td>0.396036</td>\n      <td>58.424389</td>\n      <td>41.575611</td>\n      <td>12.741833</td>\n      <td>28.345037</td>\n      <td>12.034957</td>\n      <td>5.302562</td>\n    </tr>\n    <tr>\n      <th>15</th>\n      <td>A3</td>\n      <td>0.400222</td>\n      <td>49.684966</td>\n      <td>50.315034</td>\n      <td>4.480202</td>\n      <td>28.048577</td>\n      <td>11.909083</td>\n      <td>5.247103</td>\n    </tr>\n    <tr>\n      <th>13</th>\n      <td>*A3</td>\n      <td>0.404507</td>\n      <td>53.645519</td>\n      <td>46.354481</td>\n      <td>8.919625</td>\n      <td>27.751449</td>\n      <td>11.782926</td>\n      <td>5.191519</td>\n    </tr>\n    <tr>\n      <th>14</th>\n      <td>*B3</td>\n      <td>0.418260</td>\n      <td>51.881609</td>\n      <td>48.118391</td>\n      <td>8.626340</td>\n      <td>26.838958</td>\n      <td>11.395494</td>\n      <td>5.020817</td>\n    </tr>\n    <tr>\n      <th>2</th>\n      <td>*C5</td>\n      <td>0.428676</td>\n      <td>42.204267</td>\n      <td>57.795733</td>\n      <td>0.000000</td>\n      <td>26.186834</td>\n      <td>11.118610</td>\n      <td>4.898823</td>\n    </tr>\n    <tr>\n      <th>16</th>\n      <td>L-a</td>\n      <td>0.447693</td>\n      <td>70.023575</td>\n      <td>29.976425</td>\n      <td>4.005144</td>\n      <td>0.000000</td>\n      <td>61.327704</td>\n      <td>4.690726</td>\n    </tr>\n    <tr>\n      <th>8</th>\n      <td>*A5</td>\n      <td>0.455860</td>\n      <td>39.687506</td>\n      <td>60.312494</td>\n      <td>0.000000</td>\n      <td>24.625238</td>\n      <td>10.455576</td>\n      <td>4.606692</td>\n    </tr>\n    <tr>\n      <th>11</th>\n      <td>*B5</td>\n      <td>0.466642</td>\n      <td>38.770531</td>\n      <td>61.229469</td>\n      <td>0.000000</td>\n      <td>24.056275</td>\n      <td>10.214001</td>\n      <td>4.500255</td>\n    </tr>\n    <tr>\n      <th>12</th>\n      <td>A5</td>\n      <td>0.478133</td>\n      <td>37.838720</td>\n      <td>62.161280</td>\n      <td>0.000000</td>\n      <td>23.478107</td>\n      <td>9.968517</td>\n      <td>4.392096</td>\n    </tr>\n    <tr>\n      <th>26</th>\n      <td>L-u</td>\n      <td>0.487630</td>\n      <td>74.764213</td>\n      <td>25.235787</td>\n      <td>3.701585</td>\n      <td>19.377960</td>\n      <td>47.378111</td>\n      <td>4.306557</td>\n    </tr>\n    <tr>\n      <th>29</th>\n      <td>*C1e</td>\n      <td>0.546837</td>\n      <td>89.021691</td>\n      <td>10.978309</td>\n      <td>6.874884</td>\n      <td>69.590434</td>\n      <td>8.716091</td>\n      <td>3.840281</td>\n    </tr>\n    <tr>\n      <th>30</th>\n      <td>*A1e</td>\n      <td>0.562416</td>\n      <td>86.555791</td>\n      <td>13.444209</td>\n      <td>6.684450</td>\n      <td>67.662779</td>\n      <td>8.474656</td>\n      <td>3.733905</td>\n    </tr>\n    <tr>\n      <th>32</th>\n      <td>A1e</td>\n      <td>0.576140</td>\n      <td>81.211480</td>\n      <td>18.788520</td>\n      <td>3.242804</td>\n      <td>66.050942</td>\n      <td>8.272776</td>\n      <td>3.644958</td>\n    </tr>\n    <tr>\n      <th>31</th>\n      <td>*B1e</td>\n      <td>0.578088</td>\n      <td>84.209234</td>\n      <td>15.790766</td>\n      <td>6.503233</td>\n      <td>65.828419</td>\n      <td>8.244905</td>\n      <td>3.632678</td>\n    </tr>\n    <tr>\n      <th>28</th>\n      <td>E3</td>\n      <td>0.596205</td>\n      <td>63.389550</td>\n      <td>36.610450</td>\n      <td>3.007482</td>\n      <td>18.828522</td>\n      <td>38.031258</td>\n      <td>3.522289</td>\n    </tr>\n    <tr>\n      <th>22</th>\n      <td>F3</td>\n      <td>0.597613</td>\n      <td>57.573274</td>\n      <td>42.426726</td>\n      <td>3.000398</td>\n      <td>18.784174</td>\n      <td>32.274709</td>\n      <td>3.513993</td>\n    </tr>\n    <tr>\n      <th>33</th>\n      <td>*C1</td>\n      <td>0.598648</td>\n      <td>81.317069</td>\n      <td>18.682931</td>\n      <td>6.279879</td>\n      <td>63.567542</td>\n      <td>7.961734</td>\n      <td>3.507914</td>\n    </tr>\n    <tr>\n      <th>19</th>\n      <td>F4</td>\n      <td>0.603291</td>\n      <td>58.216106</td>\n      <td>41.783894</td>\n      <td>4.156865</td>\n      <td>18.607379</td>\n      <td>31.970943</td>\n      <td>3.480919</td>\n    </tr>\n    <tr>\n      <th>27</th>\n      <td>*E3</td>\n      <td>0.609533</td>\n      <td>64.981154</td>\n      <td>35.018846</td>\n      <td>5.919373</td>\n      <td>18.416826</td>\n      <td>37.199683</td>\n      <td>3.445272</td>\n    </tr>\n    <tr>\n      <th>21</th>\n      <td>F6</td>\n      <td>0.611559</td>\n      <td>53.328377</td>\n      <td>46.671623</td>\n      <td>0.000000</td>\n      <td>18.355813</td>\n      <td>31.538705</td>\n      <td>3.433858</td>\n    </tr>\n    <tr>\n      <th>34</th>\n      <td>*A1</td>\n      <td>0.623513</td>\n      <td>78.074210</td>\n      <td>21.925790</td>\n      <td>6.029443</td>\n      <td>61.032520</td>\n      <td>7.644226</td>\n      <td>3.368021</td>\n    </tr>\n    <tr>\n      <th>37</th>\n      <td>A1</td>\n      <td>0.628521</td>\n      <td>74.443278</td>\n      <td>25.556722</td>\n      <td>2.972548</td>\n      <td>60.546226</td>\n      <td>7.583319</td>\n      <td>3.341185</td>\n    </tr>\n    <tr>\n      <th>35</th>\n      <td>*B1</td>\n      <td>0.636624</td>\n      <td>76.466379</td>\n      <td>23.533621</td>\n      <td>5.905274</td>\n      <td>59.775639</td>\n      <td>7.486804</td>\n      <td>3.298661</td>\n    </tr>\n    <tr>\n      <th>36</th>\n      <td>*A2</td>\n      <td>0.690580</td>\n      <td>70.491912</td>\n      <td>29.508088</td>\n      <td>5.443884</td>\n      <td>55.105252</td>\n      <td>6.901845</td>\n      <td>3.040930</td>\n    </tr>\n    <tr>\n      <th>46</th>\n      <td>L-f</td>\n      <td>0.699589</td>\n      <td>90.865220</td>\n      <td>9.134780</td>\n      <td>2.670582</td>\n      <td>85.192867</td>\n      <td>0.000000</td>\n      <td>3.001771</td>\n    </tr>\n    <tr>\n      <th>45</th>\n      <td>L-n</td>\n      <td>0.699589</td>\n      <td>90.865220</td>\n      <td>9.134780</td>\n      <td>2.670582</td>\n      <td>85.192867</td>\n      <td>0.000000</td>\n      <td>3.001771</td>\n    </tr>\n    <tr>\n      <th>23</th>\n      <td>F5</td>\n      <td>0.699735</td>\n      <td>46.608274</td>\n      <td>53.391726</td>\n      <td>0.000000</td>\n      <td>16.042730</td>\n      <td>27.564398</td>\n      <td>3.001145</td>\n    </tr>\n    <tr>\n      <th>18</th>\n      <td>*G6</td>\n      <td>0.739669</td>\n      <td>44.091922</td>\n      <td>55.908078</td>\n      <td>0.000000</td>\n      <td>15.176593</td>\n      <td>26.076213</td>\n      <td>2.839115</td>\n    </tr>\n    <tr>\n      <th>17</th>\n      <td>*G4</td>\n      <td>0.757240</td>\n      <td>49.732805</td>\n      <td>50.267195</td>\n      <td>6.663973</td>\n      <td>14.824442</td>\n      <td>25.471152</td>\n      <td>2.773238</td>\n    </tr>\n    <tr>\n      <th>47</th>\n      <td>*E1e</td>\n      <td>0.778116</td>\n      <td>85.576591</td>\n      <td>14.423409</td>\n      <td>4.831466</td>\n      <td>48.906106</td>\n      <td>29.140183</td>\n      <td>2.698836</td>\n    </tr>\n    <tr>\n      <th>24</th>\n      <td>*G3</td>\n      <td>0.779346</td>\n      <td>46.476760</td>\n      <td>53.523240</td>\n      <td>4.629587</td>\n      <td>14.403943</td>\n      <td>24.748656</td>\n      <td>2.694574</td>\n    </tr>\n    <tr>\n      <th>41</th>\n      <td>F1e</td>\n      <td>0.809546</td>\n      <td>75.734667</td>\n      <td>24.265333</td>\n      <td>2.307849</td>\n      <td>47.007340</td>\n      <td>23.825424</td>\n      <td>2.594055</td>\n    </tr>\n    <tr>\n      <th>20</th>\n      <td>*G5</td>\n      <td>0.827845</td>\n      <td>39.395567</td>\n      <td>60.604433</td>\n      <td>0.000000</td>\n      <td>13.560091</td>\n      <td>23.298762</td>\n      <td>2.536713</td>\n    </tr>\n    <tr>\n      <th>38</th>\n      <td>*G1e-p</td>\n      <td>0.831134</td>\n      <td>76.042837</td>\n      <td>23.957163</td>\n      <td>4.523262</td>\n      <td>45.786336</td>\n      <td>23.206564</td>\n      <td>2.526675</td>\n    </tr>\n    <tr>\n      <th>48</th>\n      <td>*E1</td>\n      <td>0.835836</td>\n      <td>79.666936</td>\n      <td>20.333064</td>\n      <td>4.497820</td>\n      <td>45.528801</td>\n      <td>27.127851</td>\n      <td>2.512463</td>\n    </tr>\n    <tr>\n      <th>43</th>\n      <td>F1</td>\n      <td>0.850733</td>\n      <td>72.068048</td>\n      <td>27.931952</td>\n      <td>2.196117</td>\n      <td>44.731526</td>\n      <td>22.671939</td>\n      <td>2.468466</td>\n    </tr>\n    <tr>\n      <th>40</th>\n      <td>*G1-p</td>\n      <td>0.888939</td>\n      <td>71.098051</td>\n      <td>28.901949</td>\n      <td>4.229131</td>\n      <td>42.809019</td>\n      <td>21.697527</td>\n      <td>2.362375</td>\n    </tr>\n    <tr>\n      <th>39</th>\n      <td>*G1e</td>\n      <td>0.949187</td>\n      <td>66.585242</td>\n      <td>33.414758</td>\n      <td>3.960695</td>\n      <td>40.091800</td>\n      <td>20.320319</td>\n      <td>2.212427</td>\n    </tr>\n    <tr>\n      <th>42</th>\n      <td>*G1</td>\n      <td>1.000610</td>\n      <td>63.163319</td>\n      <td>36.836681</td>\n      <td>3.757149</td>\n      <td>38.031418</td>\n      <td>19.276025</td>\n      <td>2.098727</td>\n    </tr>\n    <tr>\n      <th>25</th>\n      <td>*D3</td>\n      <td>1.317834</td>\n      <td>27.485632</td>\n      <td>72.514368</td>\n      <td>2.737866</td>\n      <td>8.518267</td>\n      <td>14.635969</td>\n      <td>1.593529</td>\n    </tr>\n    <tr>\n      <th>44</th>\n      <td>*D1e</td>\n      <td>1.605672</td>\n      <td>39.361604</td>\n      <td>60.638396</td>\n      <td>2.341349</td>\n      <td>23.700110</td>\n      <td>12.012277</td>\n      <td>1.307868</td>\n    </tr>\n  </tbody>\n</table>\n</div>"
     },
     "metadata": {},
     "output_type": "display_data"
    }
   ],
   "source": [
    "# Discussion section - where do trickling filters fall in terms of total emissions? \n",
    "\n",
    "tt_total_emissions_sorted_low_to_high = tt_total_emissions.sort_values(by='total_emissions_national_kgCO2_per_m3', ascending=True)\n",
    "display(tt_total_emissions_sorted_low_to_high[total_emissions_columns])"
   ],
   "metadata": {
    "collapsed": false,
    "ExecuteTime": {
     "end_time": "2024-10-25T18:38:31.479323Z",
     "start_time": "2024-10-25T18:38:31.371071Z"
    }
   },
   "id": "804b216f526e4598"
  },
  {
   "cell_type": "code",
   "execution_count": 49,
   "outputs": [
    {
     "data": {
      "text/plain": "  tt_solids  flow_Bm3yr  total_emissions_annual_mmtCO2_per_year  \\\n6     L-all    5.601269                                2.731338   \n2         3   11.612792                                5.413121   \n0         1   42.856272                               30.908242   \n4         5    3.911037                                1.958925   \n3         4    1.372237                                0.579673   \n5         6    1.911558                                0.876099   \n1         2    0.022107                                0.015266   \n\n   emissions_fraction  \n6            6.429300  \n2           12.741953  \n0           72.754951  \n4            4.611117  \n3            1.364492  \n5            2.062251  \n1            0.035936  ",
      "text/html": "<div>\n<style scoped>\n    .dataframe tbody tr th:only-of-type {\n        vertical-align: middle;\n    }\n\n    .dataframe tbody tr th {\n        vertical-align: top;\n    }\n\n    .dataframe thead th {\n        text-align: right;\n    }\n</style>\n<table border=\"1\" class=\"dataframe\">\n  <thead>\n    <tr style=\"text-align: right;\">\n      <th></th>\n      <th>tt_solids</th>\n      <th>flow_Bm3yr</th>\n      <th>total_emissions_annual_mmtCO2_per_year</th>\n      <th>emissions_fraction</th>\n    </tr>\n  </thead>\n  <tbody>\n    <tr>\n      <th>6</th>\n      <td>L-all</td>\n      <td>5.601269</td>\n      <td>2.731338</td>\n      <td>6.429300</td>\n    </tr>\n    <tr>\n      <th>2</th>\n      <td>3</td>\n      <td>11.612792</td>\n      <td>5.413121</td>\n      <td>12.741953</td>\n    </tr>\n    <tr>\n      <th>0</th>\n      <td>1</td>\n      <td>42.856272</td>\n      <td>30.908242</td>\n      <td>72.754951</td>\n    </tr>\n    <tr>\n      <th>4</th>\n      <td>5</td>\n      <td>3.911037</td>\n      <td>1.958925</td>\n      <td>4.611117</td>\n    </tr>\n    <tr>\n      <th>3</th>\n      <td>4</td>\n      <td>1.372237</td>\n      <td>0.579673</td>\n      <td>1.364492</td>\n    </tr>\n    <tr>\n      <th>5</th>\n      <td>6</td>\n      <td>1.911558</td>\n      <td>0.876099</td>\n      <td>2.062251</td>\n    </tr>\n    <tr>\n      <th>1</th>\n      <td>2</td>\n      <td>0.022107</td>\n      <td>0.015266</td>\n      <td>0.035936</td>\n    </tr>\n  </tbody>\n</table>\n</div>"
     },
     "metadata": {},
     "output_type": "display_data"
    }
   ],
   "source": [
    "display_cols = ['tt_solids','flow_Bm3yr', 'total_emissions_annual_mmtCO2_per_year', 'emissions_fraction']\n",
    "display(solids_sorted_by_count[display_cols])"
   ],
   "metadata": {
    "collapsed": false,
    "ExecuteTime": {
     "end_time": "2024-10-25T18:38:31.459499Z",
     "start_time": "2024-10-25T18:38:31.358803Z"
    }
   },
   "id": "ca4ad53eb803d958"
  },
  {
   "cell_type": "markdown",
   "source": [],
   "metadata": {
    "collapsed": false
   },
   "id": "fa3b4d3b45578a97"
  }
 ],
 "metadata": {
  "kernelspec": {
   "display_name": "Python 3",
   "language": "python",
   "name": "python3"
  },
  "language_info": {
   "codemirror_mode": {
    "name": "ipython",
    "version": 2
   },
   "file_extension": ".py",
   "mimetype": "text/x-python",
   "name": "python",
   "nbconvert_exporter": "python",
   "pygments_lexer": "ipython2",
   "version": "2.7.6"
  }
 },
 "nbformat": 4,
 "nbformat_minor": 5
}
