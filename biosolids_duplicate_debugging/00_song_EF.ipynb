{
 "cells": [
  {
   "cell_type": "code",
   "execution_count": 2,
   "id": "initial_id",
   "metadata": {
    "collapsed": true,
    "ExecuteTime": {
     "end_time": "2024-10-04T00:23:16.962812Z",
     "start_time": "2024-10-04T00:23:16.936758Z"
    }
   },
   "outputs": [],
   "source": [
    "# Date: Sept 9, 2024\n",
    "# Author: Sahar El Abbadi\n",
    "# Purpose: compare Song et al emissions factors "
   ]
  },
  {
   "cell_type": "code",
   "execution_count": 3,
   "outputs": [
    {
     "data": {
      "text/plain": "     song_index                   paper  year                             water_line_description facility_scale    process                                        sahar_notes sahar_classification measurement_scale  NH4_removal_rate  Reported_EF     Reported_EF_Unit  EF1_percentTNload  EF2_perm3\n0             1  Aboobakar et al., 2013  2013  plug-flow nitrifying lane preceded by a small ...     Full-scale        A/O  Checked previously in De Haas et al. \"Conventi...        Nitrification        Bioreactor          0.993421        0.036   % gN2O-N/g TN load              0.036   0.016200\n1             2        Ahn et al., 2010  2010  A variant of the single reactor high-activity ...     Full-scale         PN  nitritation / SHARON - not representative of m...               Remove        Sidestream               NaN        0.240  % gN2O-N/g TKN load              0.240   2.789656\n2             3        Ahn et al., 2010  2010  A variant of the single reactor high-activity ...     Full-scale         PN  nitritation / SHARON - not representative of m...               Remove        Sidestream               NaN        0.540  % gN2O-N/g TKN load              0.540   7.578434\n3             4        Ahn et al., 2010  2010                      plug flow (4 aeration passes)     Full-scale        CAS  Used classification from De Haas et al previou...     Organics removal        Bioreactor               NaN        1.800  % gN2O-N/g TKN load              1.800   0.455058\n4             5        Ahn et al., 2010  2010                    step-feed BNR (A/O-A/O-A/O-A/O)     Full-scale  Step-feed  Used classification from De Haas et al previou...                  BNR        Bioreactor               NaN        1.600  % gN2O-N/g TKN load              1.600   0.451825\n..          ...                     ...   ...                                                ...            ...        ...                                                ...                  ...               ...               ...          ...                  ...                ...        ...\n407         408       Zhou et al., 2019  2019                                                 OD    Pilot-scale         OD  TN in effluent is ~20 mg / L in all operationa...        Nitrification        Bioreactor          0.998200        0.028   % gN2O-N/g TN load              0.028   0.014000\n408         409       Zhou et al., 2019  2019                                                 OD    Pilot-scale         OD  TN in effluent is ~20 mg / L in all operationa...        Nitrification        Bioreactor          0.998200        0.025   % gN2O-N/g TN load              0.025   0.012500\n409         410       Zhou et al., 2019  2019                                                 OD    Pilot-scale         OD  TN in effluent is ~20 mg / L in all operationa...        Nitrification        Bioreactor          0.994400        0.102   % gN2O-N/g TN load              0.102   0.051000\n410         411       Zhou et al., 2019  2019                                                 OD    Pilot-scale         OD  TN in effluent is ~20 mg / L in all operationa...        Nitrification        Bioreactor          0.982400        0.608   % gN2O-N/g TN load              0.608   0.304000\n411         412       Zhou et al., 2019  2019                                                 OD    Pilot-scale         OD  TN in effluent is ~20 mg / L in all operationa...        Nitrification        Bioreactor          0.981800        0.029   % gN2O-N/g TN load              0.029   0.014500\n\n[412 rows x 14 columns]",
      "text/html": "<div>\n<style scoped>\n    .dataframe tbody tr th:only-of-type {\n        vertical-align: middle;\n    }\n\n    .dataframe tbody tr th {\n        vertical-align: top;\n    }\n\n    .dataframe thead th {\n        text-align: right;\n    }\n</style>\n<table border=\"1\" class=\"dataframe\">\n  <thead>\n    <tr style=\"text-align: right;\">\n      <th></th>\n      <th>song_index</th>\n      <th>paper</th>\n      <th>year</th>\n      <th>water_line_description</th>\n      <th>facility_scale</th>\n      <th>process</th>\n      <th>sahar_notes</th>\n      <th>sahar_classification</th>\n      <th>measurement_scale</th>\n      <th>NH4_removal_rate</th>\n      <th>Reported_EF</th>\n      <th>Reported_EF_Unit</th>\n      <th>EF1_percentTNload</th>\n      <th>EF2_perm3</th>\n    </tr>\n  </thead>\n  <tbody>\n    <tr>\n      <th>0</th>\n      <td>1</td>\n      <td>Aboobakar et al., 2013</td>\n      <td>2013</td>\n      <td>plug-flow nitrifying lane preceded by a small ...</td>\n      <td>Full-scale</td>\n      <td>A/O</td>\n      <td>Checked previously in De Haas et al. \"Conventi...</td>\n      <td>Nitrification</td>\n      <td>Bioreactor</td>\n      <td>0.993421</td>\n      <td>0.036</td>\n      <td>% gN2O-N/g TN load</td>\n      <td>0.036</td>\n      <td>0.016200</td>\n    </tr>\n    <tr>\n      <th>1</th>\n      <td>2</td>\n      <td>Ahn et al., 2010</td>\n      <td>2010</td>\n      <td>A variant of the single reactor high-activity ...</td>\n      <td>Full-scale</td>\n      <td>PN</td>\n      <td>nitritation / SHARON - not representative of m...</td>\n      <td>Remove</td>\n      <td>Sidestream</td>\n      <td>NaN</td>\n      <td>0.240</td>\n      <td>% gN2O-N/g TKN load</td>\n      <td>0.240</td>\n      <td>2.789656</td>\n    </tr>\n    <tr>\n      <th>2</th>\n      <td>3</td>\n      <td>Ahn et al., 2010</td>\n      <td>2010</td>\n      <td>A variant of the single reactor high-activity ...</td>\n      <td>Full-scale</td>\n      <td>PN</td>\n      <td>nitritation / SHARON - not representative of m...</td>\n      <td>Remove</td>\n      <td>Sidestream</td>\n      <td>NaN</td>\n      <td>0.540</td>\n      <td>% gN2O-N/g TKN load</td>\n      <td>0.540</td>\n      <td>7.578434</td>\n    </tr>\n    <tr>\n      <th>3</th>\n      <td>4</td>\n      <td>Ahn et al., 2010</td>\n      <td>2010</td>\n      <td>plug flow (4 aeration passes)</td>\n      <td>Full-scale</td>\n      <td>CAS</td>\n      <td>Used classification from De Haas et al previou...</td>\n      <td>Organics removal</td>\n      <td>Bioreactor</td>\n      <td>NaN</td>\n      <td>1.800</td>\n      <td>% gN2O-N/g TKN load</td>\n      <td>1.800</td>\n      <td>0.455058</td>\n    </tr>\n    <tr>\n      <th>4</th>\n      <td>5</td>\n      <td>Ahn et al., 2010</td>\n      <td>2010</td>\n      <td>step-feed BNR (A/O-A/O-A/O-A/O)</td>\n      <td>Full-scale</td>\n      <td>Step-feed</td>\n      <td>Used classification from De Haas et al previou...</td>\n      <td>BNR</td>\n      <td>Bioreactor</td>\n      <td>NaN</td>\n      <td>1.600</td>\n      <td>% gN2O-N/g TKN load</td>\n      <td>1.600</td>\n      <td>0.451825</td>\n    </tr>\n    <tr>\n      <th>...</th>\n      <td>...</td>\n      <td>...</td>\n      <td>...</td>\n      <td>...</td>\n      <td>...</td>\n      <td>...</td>\n      <td>...</td>\n      <td>...</td>\n      <td>...</td>\n      <td>...</td>\n      <td>...</td>\n      <td>...</td>\n      <td>...</td>\n      <td>...</td>\n    </tr>\n    <tr>\n      <th>407</th>\n      <td>408</td>\n      <td>Zhou et al., 2019</td>\n      <td>2019</td>\n      <td>OD</td>\n      <td>Pilot-scale</td>\n      <td>OD</td>\n      <td>TN in effluent is ~20 mg / L in all operationa...</td>\n      <td>Nitrification</td>\n      <td>Bioreactor</td>\n      <td>0.998200</td>\n      <td>0.028</td>\n      <td>% gN2O-N/g TN load</td>\n      <td>0.028</td>\n      <td>0.014000</td>\n    </tr>\n    <tr>\n      <th>408</th>\n      <td>409</td>\n      <td>Zhou et al., 2019</td>\n      <td>2019</td>\n      <td>OD</td>\n      <td>Pilot-scale</td>\n      <td>OD</td>\n      <td>TN in effluent is ~20 mg / L in all operationa...</td>\n      <td>Nitrification</td>\n      <td>Bioreactor</td>\n      <td>0.998200</td>\n      <td>0.025</td>\n      <td>% gN2O-N/g TN load</td>\n      <td>0.025</td>\n      <td>0.012500</td>\n    </tr>\n    <tr>\n      <th>409</th>\n      <td>410</td>\n      <td>Zhou et al., 2019</td>\n      <td>2019</td>\n      <td>OD</td>\n      <td>Pilot-scale</td>\n      <td>OD</td>\n      <td>TN in effluent is ~20 mg / L in all operationa...</td>\n      <td>Nitrification</td>\n      <td>Bioreactor</td>\n      <td>0.994400</td>\n      <td>0.102</td>\n      <td>% gN2O-N/g TN load</td>\n      <td>0.102</td>\n      <td>0.051000</td>\n    </tr>\n    <tr>\n      <th>410</th>\n      <td>411</td>\n      <td>Zhou et al., 2019</td>\n      <td>2019</td>\n      <td>OD</td>\n      <td>Pilot-scale</td>\n      <td>OD</td>\n      <td>TN in effluent is ~20 mg / L in all operationa...</td>\n      <td>Nitrification</td>\n      <td>Bioreactor</td>\n      <td>0.982400</td>\n      <td>0.608</td>\n      <td>% gN2O-N/g TN load</td>\n      <td>0.608</td>\n      <td>0.304000</td>\n    </tr>\n    <tr>\n      <th>411</th>\n      <td>412</td>\n      <td>Zhou et al., 2019</td>\n      <td>2019</td>\n      <td>OD</td>\n      <td>Pilot-scale</td>\n      <td>OD</td>\n      <td>TN in effluent is ~20 mg / L in all operationa...</td>\n      <td>Nitrification</td>\n      <td>Bioreactor</td>\n      <td>0.981800</td>\n      <td>0.029</td>\n      <td>% gN2O-N/g TN load</td>\n      <td>0.029</td>\n      <td>0.014500</td>\n    </tr>\n  </tbody>\n</table>\n<p>412 rows × 14 columns</p>\n</div>"
     },
     "metadata": {},
     "output_type": "display_data"
    },
    {
     "name": "stdout",
     "output_type": "stream",
     "text": [
      "Sahar classification:\n",
      "['Nitrification' 'Remove' 'Organics removal' 'BNR' 'Sludge' 'Lagoon']\n",
      "\n",
      "Facility level scale:\n",
      "['Full-scale' 'Pilot-scale']\n",
      "\n",
      "Measurement level scale:\n",
      "['Bioreactor' 'Sidestream' 'Plant scale' 'Post-nitrification' 'Sludge']\n"
     ]
    }
   ],
   "source": [
    "# Setup \n",
    "import pandas as pd\n",
    "import pathlib\n",
    "\n",
    "pd.set_option('display.width', 1000)  # Set width to prevent line breaking\n",
    "\n",
    "\n",
    "# Load Song et al spreadsheet \n",
    "\n",
    "song_ef = pd.read_excel(pathlib.PurePath('02_clean_data', 'song_EFs.xlsx'))\n",
    "display(song_ef)\n",
    "\n",
    "# Check entries in sahar_classification\n",
    "print('Sahar classification:')\n",
    "print(song_ef['sahar_classification'].unique())\n",
    "ef_columns = ['BNR', 'Nitrification', 'Organics removal']\n",
    "\n",
    "\n",
    "print('\\nFacility level scale:')\n",
    "print(song_ef['facility_scale'].unique())\n",
    "\n",
    "print('\\nMeasurement level scale:')\n",
    "print(song_ef['measurement_scale'].unique())"
   ],
   "metadata": {
    "collapsed": false,
    "ExecuteTime": {
     "end_time": "2024-10-04T00:23:17.673680Z",
     "start_time": "2024-10-04T00:23:16.964764Z"
    }
   },
   "id": "3c8a57742e20f364"
  },
  {
   "cell_type": "markdown",
   "source": [
    "# Emissions factors estimates \n",
    "\n",
    "Calculate EFs to confirm I'm getting the same numbers in Python when compared with what I previously calculated.\n",
    "\n",
    "1) All measurement data  "
   ],
   "metadata": {
    "collapsed": false
   },
   "id": "5bae01f024cc2e6d"
  },
  {
   "cell_type": "code",
   "execution_count": 4,
   "outputs": [
    {
     "name": "stdout",
     "output_type": "stream",
     "text": [
      "Emission factors for all facilities, classified by removal objective:\n",
      "\n",
      "sahar_classification\n",
      "BNR                 1.371811\n",
      "Nitrification       0.996246\n",
      "Organics removal    0.277755\n",
      "Name: All facilities, dtype: float64\n"
     ]
    }
   ],
   "source": [
    "# EF for all facilities\n",
    "\n",
    "ef_all = song_ef.groupby('sahar_classification')['EF1_percentTNload'].mean() # Calc EF with all values (no filtering based on scale)\n",
    "ef_all.name = 'All facilities'\n",
    "print('Emission factors for all facilities, classified by removal objective:\\n')\n",
    "print(ef_all[ef_columns])"
   ],
   "metadata": {
    "collapsed": false,
    "ExecuteTime": {
     "end_time": "2024-10-04T00:23:17.679077Z",
     "start_time": "2024-10-04T00:23:17.674346Z"
    }
   },
   "id": "ef8863fb868d3001"
  },
  {
   "cell_type": "markdown",
   "source": [
    "2) Plant scale only (facility is \"full-scale\", so excluding pilot facilities) "
   ],
   "metadata": {
    "collapsed": false
   },
   "id": "59b2f53ebd9de8ff"
  },
  {
   "cell_type": "code",
   "execution_count": 5,
   "outputs": [
    {
     "name": "stdout",
     "output_type": "stream",
     "text": [
      "Emission factors for full-scale facilities only, classified by removal objective:\n",
      "\n",
      "sahar_classification\n",
      "BNR                 1.236654\n",
      "Nitrification       1.116478\n",
      "Organics removal    0.277755\n",
      "Name: Full-scale facilities only, dtype: float64\n"
     ]
    }
   ],
   "source": [
    "song_ef_full_scale = song_ef[song_ef['facility_scale']=='Full-scale'] # df with only full-scale facilities \n",
    "\n",
    "ef_full_scale = song_ef_full_scale.groupby('sahar_classification')['EF1_percentTNload'].mean()\n",
    "ef_full_scale.name = 'Full-scale facilities only'\n",
    "\n",
    "print('Emission factors for full-scale facilities only, classified by removal objective:\\n')\n",
    "print(ef_full_scale[ef_columns])"
   ],
   "metadata": {
    "collapsed": false,
    "ExecuteTime": {
     "end_time": "2024-10-04T00:23:17.681978Z",
     "start_time": "2024-10-04T00:23:17.678387Z"
    }
   },
   "id": "1269618d7def8022"
  },
  {
   "cell_type": "markdown",
   "source": [
    "3) Measurement scale is plant scale only, exclude bioreactor scale measurements  "
   ],
   "metadata": {
    "collapsed": false
   },
   "id": "372165234eda95df"
  },
  {
   "cell_type": "code",
   "execution_count": 6,
   "outputs": [
    {
     "name": "stdout",
     "output_type": "stream",
     "text": [
      "Emission factors for measurements conducted at facility scale only, classified by removal objective:\n",
      "\n",
      "sahar_classification\n",
      "BNR                 1.894652\n",
      "Nitrification       0.590561\n",
      "Organics removal    0.068152\n",
      "Name: Facility scale measurements, dtype: float64\n"
     ]
    }
   ],
   "source": [
    "song_ef_facility_scale = song_ef[song_ef['measurement_scale']=='Plant scale'] # df with only full-scale facilities \n",
    "ef_facility_scale = song_ef_facility_scale.groupby('sahar_classification')['EF1_percentTNload'].mean()\n",
    "ef_facility_scale.name = 'Facility scale measurements'\n",
    "\n",
    "print('Emission factors for measurements conducted at facility scale only, classified by removal objective:\\n')\n",
    "print(ef_facility_scale[ef_columns])"
   ],
   "metadata": {
    "collapsed": false,
    "ExecuteTime": {
     "end_time": "2024-10-04T00:23:17.689931Z",
     "start_time": "2024-10-04T00:23:17.684842Z"
    }
   },
   "id": "73c99f28543b2ca0"
  },
  {
   "cell_type": "markdown",
   "source": [
    "4) Measurement scale is plant or bioreactor scale\n",
    "\n",
    "Excluded categories are \"Sidestream\", \"Post-nitrification\", and \"Sludge\" \n"
   ],
   "metadata": {
    "collapsed": false
   },
   "id": "f1b62c815055a913"
  },
  {
   "cell_type": "code",
   "execution_count": 7,
   "outputs": [
    {
     "name": "stdout",
     "output_type": "stream",
     "text": [
      "Emission factors for measurements conducted at facility or bioreactor level scale, classified by removal objective:\n",
      "\n",
      "sahar_classification\n",
      "BNR                 1.293735\n",
      "Nitrification       1.114170\n",
      "Organics removal    0.277755\n",
      "Name: Plant or bioreactor scale measurement, dtype: float64\n"
     ]
    }
   ],
   "source": [
    "song_ef_facility_bioreactor_scale = song_ef[song_ef['measurement_scale'].isin(['Plant scale', 'Bioreactor'])] # df with only full-scale facilities \n",
    "ef_facility_bioreactor_scale = song_ef_facility_bioreactor_scale.groupby('sahar_classification')['EF1_percentTNload'].mean()\n",
    "ef_facility_bioreactor_scale.name = 'Plant or bioreactor scale measurement'\n",
    "\n",
    "print('Emission factors for measurements conducted at facility or bioreactor level scale, classified by removal objective:\\n')\n",
    "print(ef_facility_bioreactor_scale[ef_columns])"
   ],
   "metadata": {
    "collapsed": false,
    "ExecuteTime": {
     "end_time": "2024-10-04T00:23:17.718236Z",
     "start_time": "2024-10-04T00:23:17.690161Z"
    }
   },
   "id": "cf02d041fe0aadda"
  },
  {
   "cell_type": "markdown",
   "source": [
    "5) Measurement scale is plant OR bioreactor, and facility scale is full scale"
   ],
   "metadata": {
    "collapsed": false
   },
   "id": "a7fe5551b5b2a03e"
  },
  {
   "cell_type": "code",
   "execution_count": 9,
   "outputs": [
    {
     "name": "stdout",
     "output_type": "stream",
     "text": [
      "Emission factors for measurements conducted at facility or bioreactor level scale at full-scale facilities, classified by removal objective:\n"
     ]
    },
    {
     "data": {
      "text/plain": "                       Mean EF  Sample Size\nsahar_classification                       \nBNR                   1.123996          221\nLagoon               -0.004946            2\nNitrification         1.321354           33\nOrganics removal      0.277755           22\nRemove                0.750287            3",
      "text/html": "<div>\n<style scoped>\n    .dataframe tbody tr th:only-of-type {\n        vertical-align: middle;\n    }\n\n    .dataframe tbody tr th {\n        vertical-align: top;\n    }\n\n    .dataframe thead th {\n        text-align: right;\n    }\n</style>\n<table border=\"1\" class=\"dataframe\">\n  <thead>\n    <tr style=\"text-align: right;\">\n      <th></th>\n      <th>Mean EF</th>\n      <th>Sample Size</th>\n    </tr>\n    <tr>\n      <th>sahar_classification</th>\n      <th></th>\n      <th></th>\n    </tr>\n  </thead>\n  <tbody>\n    <tr>\n      <th>BNR</th>\n      <td>1.123996</td>\n      <td>221</td>\n    </tr>\n    <tr>\n      <th>Lagoon</th>\n      <td>-0.004946</td>\n      <td>2</td>\n    </tr>\n    <tr>\n      <th>Nitrification</th>\n      <td>1.321354</td>\n      <td>33</td>\n    </tr>\n    <tr>\n      <th>Organics removal</th>\n      <td>0.277755</td>\n      <td>22</td>\n    </tr>\n    <tr>\n      <th>Remove</th>\n      <td>0.750287</td>\n      <td>3</td>\n    </tr>\n  </tbody>\n</table>\n</div>"
     },
     "metadata": {},
     "output_type": "display_data"
    },
    {
     "name": "stdout",
     "output_type": "stream",
     "text": [
      "Total number of measurements: 281\n",
      "Fraction of measurements from BNR facilities: 0.7864768683274022\n"
     ]
    }
   ],
   "source": [
    "# Same df as above (measurement scale is plant or bioreactor), but only include full-scale facilities (no pilot scale) \n",
    "\n",
    "song_ef_facility_bioreactor_scale_full = song_ef_facility_bioreactor_scale[song_ef_facility_bioreactor_scale['facility_scale'].isin(['Full-scale'])] # df with only full-scale facilities \n",
    "# ef_facility_bioreactor_scale_full = song_ef_facility_bioreactor_scale_full.groupby('sahar_classification')['EF1_percentTNload'].mean()\n",
    "\n",
    "# Group by 'sahar_classification' and calculate both the mean and count\n",
    "ef_facility_bioreactor_scale_full = song_ef_facility_bioreactor_scale_full.groupby('sahar_classification')['EF1_percentTNload'].agg(\n",
    "    mean_value='mean', \n",
    "    sample_size='size'\n",
    ")\n",
    "\n",
    "ef_facility_bioreactor_scale_full.columns = ['Mean EF', 'Sample Size']\n",
    "\n",
    "ef_facility_bioreactor_scale_full.name = 'Plant or bioreactor at full scale'\n",
    "print('Emission factors for measurements conducted at facility or bioreactor level scale at full-scale facilities, classified by removal objective:\\n')\n",
    "display(ef_facility_bioreactor_scale_full)\n",
    "\n",
    "print(f'Total number of measurements: {len(song_ef_facility_bioreactor_scale_full)}')\n",
    "print(f'Fraction of measurements from BNR facilities: {221/len(song_ef_facility_bioreactor_scale_full)}')"
   ],
   "metadata": {
    "collapsed": false,
    "ExecuteTime": {
     "end_time": "2024-10-04T00:23:29.282241Z",
     "start_time": "2024-10-04T00:23:29.273363Z"
    }
   },
   "id": "3edb6de6da89704"
  },
  {
   "cell_type": "markdown",
   "source": [
    "## Combine all EFs \n",
    "\n",
    "Relevant dataframes from above: \n",
    "ef_all\n",
    "ef_full_scale\n",
    "ef_facility_scale\n",
    "ef_facility_bioreactor_scale\n",
    "ef_facility_bioreactor_scale_full"
   ],
   "metadata": {
    "collapsed": false
   },
   "id": "f870f12483619ab0"
  },
  {
   "cell_type": "code",
   "execution_count": null,
   "outputs": [],
   "source": [
    "# Combine the all results into one DataFrame\n",
    "ef_combined = pd.concat([ef_all[ef_columns], ef_full_scale[ef_columns], ef_facility_scale[ef_columns], ef_facility_bioreactor_scale[ef_columns], ef_facility_bioreactor_scale_full[ef_columns]], axis=1)\n",
    "\n",
    "# Print the combined DataFrame for comparison\n",
    "print('Emission factors comparison:')\n",
    "print(ef_combined)\n",
    "\n",
    "ef_save_path = pathlib.PurePath('04_results', 'EF_combined.csv')\n",
    "ef_combined.to_csv(ef_save_path, index=True)"
   ],
   "metadata": {
    "collapsed": false,
    "ExecuteTime": {
     "start_time": "2024-10-04T00:23:18.248704Z"
    }
   },
   "id": "a283d24822c0293b"
  },
  {
   "cell_type": "markdown",
   "source": [
    "# Song et al facility classification \n",
    "\n",
    "Song et al classify measurements based on their processes as either Non-BNR processes or BNR processes (Fig 3b from the manuscript): \n",
    "\n",
    "Non-BNR processes: TF, Lagoon, CAS\n",
    "BNR processes: IA, EA, BAF, OD, A/O, MLE, A2O, AGS, S+A, Bardenpho, UCT, Step-feed, SBR, MBR\n"
   ],
   "metadata": {
    "collapsed": false
   },
   "id": "a0d6955728dbc644"
  },
  {
   "cell_type": "code",
   "execution_count": null,
   "outputs": [],
   "source": [
    "# Check the process column to ensure that all entries align with those included in Fig 3\n",
    "print(song_ef['process'].unique())\n"
   ],
   "metadata": {
    "collapsed": false,
    "ExecuteTime": {
     "start_time": "2024-10-04T00:23:18.250253Z"
    }
   },
   "id": "f93252991e64381b"
  },
  {
   "cell_type": "code",
   "execution_count": null,
   "outputs": [],
   "source": [
    "# Classify TF, CAS as non-BNR process and all else classify as BNR process \n",
    "\n",
    "# Define the function to classify based on 'process'\n",
    "def classify_process_song(process):\n",
    "    if process in ['TF', 'CAS']:\n",
    "        return 'Organics removal'\n",
    "    elif process == 'Lagoon':\n",
    "        return 'Lagoon'\n",
    "    elif process == 'Sludge':\n",
    "        return 'Sludge'\n",
    "    else:\n",
    "        return 'BNR'\n",
    "\n",
    "song_ef['song_classification'] = song_ef['process'].apply(classify_process_song)\n",
    "\n",
    "print(song_ef[['process', 'sahar_classification', 'song_classification']])\n"
   ],
   "metadata": {
    "collapsed": false,
    "ExecuteTime": {
     "start_time": "2024-10-04T00:23:18.251561Z"
    }
   },
   "id": "fa9ff37ded009c28"
  },
  {
   "cell_type": "markdown",
   "source": [
    "### Any mismatch between Song and El Abbadi classification \n",
    "\n",
    "Find any mismatch between my classification and that in Song et al \n"
   ],
   "metadata": {
    "collapsed": false
   },
   "id": "f7c480b4fb876275"
  },
  {
   "cell_type": "code",
   "execution_count": null,
   "outputs": [],
   "source": [
    "# Filter rows where 'song_classification' is not equal to 'sahar_classification'\n",
    "mismatch_df = song_ef[song_ef['song_classification'] != song_ef['sahar_classification']]\n",
    "\n",
    "# Display the mismatched rows\n",
    "print(mismatch_df[['paper','song_classification', 'sahar_classification', 'EF1_percentTNload', 'sahar_notes']])\n",
    "\n",
    "# Count the number of occurrences of each mismatch pair\n",
    "mismatch_counts = mismatch_df.groupby(['sahar_classification', 'song_classification']).size().reset_index(name='count')\n",
    "\n",
    "# Display the mismatch counts\n",
    "print(mismatch_counts)\n",
    "print(f\"Total mismatches in classification: {mismatch_counts['count'].sum()}\")"
   ],
   "metadata": {
    "collapsed": false,
    "ExecuteTime": {
     "start_time": "2024-10-04T00:23:18.252639Z"
    }
   },
   "id": "ca03f2870d79a638"
  },
  {
   "cell_type": "markdown",
   "source": [
    "### Mismatch in organics removal assignment\n",
    "Check to see which facilities are classified by Song et al as Organics removal and not classified as Organics removal in sahar_classification "
   ],
   "metadata": {
    "collapsed": false
   },
   "id": "d4298f59ae404f7f"
  },
  {
   "cell_type": "code",
   "execution_count": null,
   "outputs": [],
   "source": [
    "# Filter the DataFrame to select facilities classified as organics removal by Song et al, and classified as something else by me \n",
    "mismatch_organics_classification = song_ef[(song_ef['song_classification'] == 'Organics removal') & (song_ef['sahar_classification'] != 'Organics removal')]\n",
    "\n",
    "print(mismatch_organics_classification[['paper','song_classification', 'sahar_classification', 'EF1_percentTNload', 'sahar_notes']])"
   ],
   "metadata": {
    "collapsed": false,
    "ExecuteTime": {
     "start_time": "2024-10-04T00:23:18.253414Z"
    }
   },
   "id": "201d06ce64a08883"
  },
  {
   "cell_type": "markdown",
   "source": [
    "# Check effect of changing emissions factor\n",
    "\n",
    "Very quick and dirty test to see how changes to EFs might impact overall results \n",
    "\n",
    "Inputs: new EF, affected flow"
   ],
   "metadata": {
    "collapsed": false
   },
   "id": "857d60dbaf81051b"
  },
  {
   "cell_type": "code",
   "execution_count": null,
   "outputs": [],
   "source": [
    "def mgd_to_mm3y(mgd): \n",
    "    gal_per_m3 = 264.172\n",
    "    days_per_year = 365\n",
    "    return mgd /gal_per_m3 * days_per_year\n",
    "\n",
    "def calc_new_notal_n2o(ef_nit=0, flow_nit=0, ef_bnr=0, flow_bnr=0, ef_org=0, flow_org=0):\n",
    "    \n",
    "    # flow input is in MGD \n",
    "    # EF input is in % (g N2O-N / g N influent) \n",
    "    \n",
    "    # Assumed N concentration in wastewater \n",
    "    total_n = 40 # units mg / L or kg / M3 \n",
    "    \n",
    "    # GWP potential of nitrous oxide \n",
    "    gwp_n2o = 273 \n",
    "    \n",
    "    # Current emissions factors in latest round of results\n",
    "    ef_current_nit = 2.7\n",
    "    ef_current_bnr = 0.82\n",
    "    ef_current_org = 0.36 \n",
    "    \n",
    "    \n",
    "    # Difference between current and proposed emissions factors \n",
    "    ef_nit_dif = ef_nit - ef_current_nit\n",
    "    ef_bnr_dif = ef_bnr - ef_current_bnr\n",
    "    ef_org_dif = ef_org - ef_current_org\n",
    "    \n",
    "    # Convert flow from MGD to MM3 / year \n",
    "    flow_nit_mm3 = mgd_to_mm3y(flow_nit)\n",
    "    flow_bnr_mm3 = mgd_to_mm3y(flow_bnr)\n",
    "    flow_org_mm3 = mgd_to_mm3y(flow_org)\n",
    "    \n",
    "    change_n2o_n = (ef_nit_dif * flow_nit_mm3 + ef_bnr * flow_bnr_mm3 + ef_org_dif * flow_org_mm3)*total_n # units: kg N / year \n",
    "    \n",
    "    # kg N2O / kg N\n",
    "    kg_n2O_per_kg_N = 44 / 28\n",
    "    \n",
    "    change_co2eq = change_n2o_n * kg_n2O_per_kg_N * gwp_n2o # units: kg CO2 eq / year \n",
    "    \n",
    "    # Convert to MMT / year\n",
    "    kg_per_ton = 1000\n",
    "    change_co2eq = change_co2eq / kg_per_ton / 1E6\n",
    "    \n",
    "    return change_co2eq\n",
    "\n",
    "\n",
    "\n",
    "\n",
    "    \n",
    "    "
   ],
   "metadata": {
    "collapsed": false,
    "ExecuteTime": {
     "start_time": "2024-10-04T00:23:18.254615Z"
    }
   },
   "id": "b74279e64f13aa06"
  }
 ],
 "metadata": {
  "kernelspec": {
   "display_name": "Python 3",
   "language": "python",
   "name": "python3"
  },
  "language_info": {
   "codemirror_mode": {
    "name": "ipython",
    "version": 2
   },
   "file_extension": ".py",
   "mimetype": "text/x-python",
   "name": "python",
   "nbconvert_exporter": "python",
   "pygments_lexer": "ipython2",
   "version": "2.7.6"
  }
 },
 "nbformat": 4,
 "nbformat_minor": 5
}
