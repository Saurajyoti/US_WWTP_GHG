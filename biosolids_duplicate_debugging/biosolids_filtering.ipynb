{
 "cells": [
  {
   "cell_type": "markdown",
   "id": "1376a0e507846702",
   "metadata": {
    "collapsed": false
   },
   "source": [
    "# Biosolids data filtering \n",
    "\n",
    "Author: Sahar H. El Abbadi\n",
    "\n",
    "Date: March 20, 2024\n",
    "\n",
    "Goal: to clean biosolids data, removing permits that are likely not associated with wastewater treatment plants. \n"
   ]
  },
  {
   "cell_type": "code",
   "execution_count": null,
   "id": "initial_id",
   "metadata": {
    "collapsed": true,
    "jupyter": {
     "outputs_hidden": true
    }
   },
   "outputs": [],
   "source": [
    "# Setup\n",
    "\n",
    "import pandas as pd \n",
    "import pathlib \n",
    "from utilities import check_all_sic_code # for generating SIC codes for each NPDES permit \n",
    "from utilities import check_for_ww_permits # check SIC code and classify as \"sewer_system\" or \"other_system\" \n",
    "from tqdm import tqdm \n",
    "import pandoc\n",
    "\n",
    "tqdm.pandas() # for progress bars in df.progress_applhy \n"
   ]
  },
  {
   "cell_type": "markdown",
   "id": "f9bbf7db6d0f1464",
   "metadata": {
    "collapsed": false
   },
   "source": [
    "## Generate SIC biosolids dataset \n",
    "\n",
    "1. Load biosolids dataset downloaded by Christina. Saved in 02_raw_data as Data_Download_1699657092121.csv\n",
    "2. For each NPDES ID, look up all associated SIC codes. \n",
    "3. Save dataframe as pickle file and as CSV "
   ]
  },
  {
   "cell_type": "code",
   "execution_count": null,
   "id": "3b195f9bde913979",
   "metadata": {
    "collapsed": false
   },
   "outputs": [],
   "source": [
    "# Load raw data and generate datasets \n",
    "\n",
    "### ALERT: this takes 4+ hours to run. Comment it out and load pickle file as needed. \n",
    "\n",
    "# all_biosolids = pd.read_csv(pathlib.PurePath('01_raw_data', 'Data_Download_1699657092121.csv'))\n",
    "# \n",
    "# # test on top row \n",
    "# # all_biosolids = all_biosolids.head(2).copy()\n",
    "# all_biosolids['sic_permit'] = all_biosolids['NPDES ID'].progress_apply(check_all_sic_code)\n",
    "# all_biosolids.to_pickle(pathlib.PurePath('05_pickle_files', 'biosolids_data_sic_codes.pkl'))\n",
    "# all_biosolids.to_csv((pathlib.PurePath('04_results', 'biosolids_data_sic_codes.csv')))\n"
   ]
  },
  {
   "cell_type": "code",
   "execution_count": null,
   "id": "5105c983cb2cdc14",
   "metadata": {
    "collapsed": false
   },
   "outputs": [],
   "source": [
    "# Load pickle file \n",
    "all_biosolids = pd.read_pickle(pathlib.PurePath('05_pickle_files', 'biosolids_data_sic_codes.pkl'))"
   ]
  },
  {
   "cell_type": "markdown",
   "id": "2bc67566fbad4cb8",
   "metadata": {
    "collapsed": false
   },
   "source": [
    "## List of facilities to remove \n",
    "\n",
    "Generate a list of facilities to remove, using the following filtering criteria:\n",
    "\n",
    "1. Does the facility have a sewer-related SIC code? If yes --> keep \n",
    "2. Is the facility listed as a POTW under its reporting obligations? If yes --> keep \n",
    "3. Of remaining facilities, check SIC codes. If NO MATCH --> keep. \n",
    "4. Of now remaining facilities with a non-sewer SIC match, manually keep or remove based on SIC codes "
   ]
  },
  {
   "cell_type": "code",
   "execution_count": null,
   "id": "6b58f93d625a8d2e",
   "metadata": {
    "collapsed": false
   },
   "outputs": [],
   "source": [
    "# Apply filter based on SIC sewer related code \n",
    "# This takes ~15 minutes to run. Load pickle to save time \n",
    "all_biosolids['check_sewer_permits'] = all_biosolids['NPDES ID'].progress_apply(check_for_ww_permits)\n",
    "biosolids_to_remove = all_biosolids[all_biosolids['check_sewer_permits'] == 'other_system']\n",
    "biosolids_to_remove.to_pickle(pathlib.PurePath('05_pickle_files', 'biosolids_data_sic_codes_not_sewer.pkl'))\n"
   ]
  },
  {
   "cell_type": "code",
   "execution_count": null,
   "id": "a554c2ee3c6a0c2f",
   "metadata": {
    "collapsed": false
   },
   "outputs": [],
   "source": [
    "# Load pickle for biosolids that have already been filtered based on whether or not they have a sewer-related code \n",
    "biosolids_not_sewer = pd.read_pickle(pathlib.PurePath('05_pickle_files', 'biosolids_data_sic_codes_not_sewer.pkl'))\n"
   ]
  },
  {
   "cell_type": "code",
   "execution_count": null,
   "id": "529c6873221287de",
   "metadata": {
    "collapsed": false
   },
   "outputs": [],
   "source": [
    "# Apply filter based on POTW reporting obligation \n",
    "\n",
    "potw_mask = ~biosolids_not_sewer['Reporting Obligation(s)'].str.contains('POTW')\n",
    "biosolids_not_sewer_not_potw = biosolids_not_sewer[potw_mask]\n",
    "\n",
    "display(biosolids_not_sewer_not_potw[['Facility Name', 'NPDES ID', 'sic_permit', 'check_sewer_permits']])"
   ]
  },
  {
   "cell_type": "code",
   "execution_count": 29,
   "id": "ac96462d232b7fbe",
   "metadata": {
    "collapsed": false,
    "ExecuteTime": {
     "end_time": "2024-03-25T18:28:12.210881Z",
     "start_time": "2024-03-25T18:28:12.205959Z"
    }
   },
   "outputs": [
    {
     "name": "stdout",
     "output_type": "stream",
     "text": [
      "Length of dataframe (not sewer, not POTW, has SIC match): 226\n"
     ]
    }
   ],
   "source": [
    "# Keep facilities that have no match (ie remove them from our list of facilities to remove) \n",
    "\n",
    "# These facilities have a match with an SIC code that is NOT sewer-related\n",
    "biosolids_not_sewer_not_potw_has_match = biosolids_not_sewer_not_potw[biosolids_not_sewer_not_potw['sic_permit'].apply(lambda x: 'NO_SIC_MATCH' not in x)]\n",
    "print(f'Length of dataframe (not sewer, not POTW, has SIC match): {len(biosolids_not_sewer_not_potw_has_match)}')\n"
   ]
  },
  {
   "cell_type": "code",
   "execution_count": null,
   "id": "5f91d29ff438f350",
   "metadata": {
    "collapsed": false
   },
   "outputs": [],
   "source": [
    "# Check how many facilities have no match after previous filtering \n",
    "\n",
    "biosolids_not_sewer_not_potw_no_match = biosolids_not_sewer_not_potw[biosolids_not_sewer_not_potw['sic_permit'].apply(lambda x: 'NO_SIC_MATCH' in x)]\n",
    "\n",
    "print(f'Length of dataframe (not sewer, not POTW, no SIC match): {len(biosolids_not_sewer_not_potw_no_match)}')"
   ]
  },
  {
   "cell_type": "markdown",
   "id": "aa01d180928f1249",
   "metadata": {
    "collapsed": false
   },
   "source": [
    "### Remove facilities with problematic SIC codes \n",
    "\n",
    "Remove facilities with SIC codes that are unlikely to be associated with publicly owned wastewater treatment facilities"
   ]
  },
  {
   "cell_type": "code",
   "execution_count": 30,
   "id": "1e48b34e558dfd8a",
   "metadata": {
    "collapsed": false,
    "ExecuteTime": {
     "end_time": "2024-03-25T18:28:51.777147Z",
     "start_time": "2024-03-25T18:28:51.772066Z"
    }
   },
   "outputs": [
    {
     "data": {
      "text/plain": "                     Facility Name   NPDES ID  \\\n14      AUSTIN COUNTY WSC  PLANT 3  TX0125709   \n15          LAKE PFLUGERVILLE WWTF  TX0132721   \n16    PURTIS CREEK STATE PARK WWTP  TX0082856   \n25              CHISOS BASIN  WWTP  TX0094684   \n35     LAUGHLIN AFB WWTP BLDG 1004  TX0022608   \n...                            ...        ...   \n3189        ATK LAUNCH SYSTEMS INC  UTL024805   \n3800                   OAKELY CITY  UTL020061   \n3867    KENNECOTT UTAH COPPER, LLC  UTL000051   \n3870          LYSTEK INTERNATIONAL  CAL000001   \n4135     BLUE SKY RANCH AND RESORT  UTL025763   \n\n                                             sic_permit check_sewer_permits  \n14                                         [4941, 4941]        other_system  \n15                                   [1541, 4941, 4941]        other_system  \n16                                         [7033, 7033]        other_system  \n25                                         [7999, 7999]        other_system  \n35    [9711, 1542, 9711, 9711, 1542, 4581, 9711, 971...        other_system  \n...                                                 ...                 ...  \n3189  [7549, 3714, 3769, 3714, 3761, 3769, 3764, 754...        other_system  \n3800                                       [2899, 2899]        other_system  \n3867                     [3331, 3331, 1021, 3331, 1021]        other_system  \n3870  [7538, 7538, 4212, 4212, 7513, 7513, 8211, 399...        other_system  \n4135                                       [7011, 7011]        other_system  \n\n[221 rows x 4 columns]",
      "text/html": "<div>\n<style scoped>\n    .dataframe tbody tr th:only-of-type {\n        vertical-align: middle;\n    }\n\n    .dataframe tbody tr th {\n        vertical-align: top;\n    }\n\n    .dataframe thead th {\n        text-align: right;\n    }\n</style>\n<table border=\"1\" class=\"dataframe\">\n  <thead>\n    <tr style=\"text-align: right;\">\n      <th></th>\n      <th>Facility Name</th>\n      <th>NPDES ID</th>\n      <th>sic_permit</th>\n      <th>check_sewer_permits</th>\n    </tr>\n  </thead>\n  <tbody>\n    <tr>\n      <th>14</th>\n      <td>AUSTIN COUNTY WSC  PLANT 3</td>\n      <td>TX0125709</td>\n      <td>[4941, 4941]</td>\n      <td>other_system</td>\n    </tr>\n    <tr>\n      <th>15</th>\n      <td>LAKE PFLUGERVILLE WWTF</td>\n      <td>TX0132721</td>\n      <td>[1541, 4941, 4941]</td>\n      <td>other_system</td>\n    </tr>\n    <tr>\n      <th>16</th>\n      <td>PURTIS CREEK STATE PARK WWTP</td>\n      <td>TX0082856</td>\n      <td>[7033, 7033]</td>\n      <td>other_system</td>\n    </tr>\n    <tr>\n      <th>25</th>\n      <td>CHISOS BASIN  WWTP</td>\n      <td>TX0094684</td>\n      <td>[7999, 7999]</td>\n      <td>other_system</td>\n    </tr>\n    <tr>\n      <th>35</th>\n      <td>LAUGHLIN AFB WWTP BLDG 1004</td>\n      <td>TX0022608</td>\n      <td>[9711, 1542, 9711, 9711, 1542, 4581, 9711, 971...</td>\n      <td>other_system</td>\n    </tr>\n    <tr>\n      <th>...</th>\n      <td>...</td>\n      <td>...</td>\n      <td>...</td>\n      <td>...</td>\n    </tr>\n    <tr>\n      <th>3189</th>\n      <td>ATK LAUNCH SYSTEMS INC</td>\n      <td>UTL024805</td>\n      <td>[7549, 3714, 3769, 3714, 3761, 3769, 3764, 754...</td>\n      <td>other_system</td>\n    </tr>\n    <tr>\n      <th>3800</th>\n      <td>OAKELY CITY</td>\n      <td>UTL020061</td>\n      <td>[2899, 2899]</td>\n      <td>other_system</td>\n    </tr>\n    <tr>\n      <th>3867</th>\n      <td>KENNECOTT UTAH COPPER, LLC</td>\n      <td>UTL000051</td>\n      <td>[3331, 3331, 1021, 3331, 1021]</td>\n      <td>other_system</td>\n    </tr>\n    <tr>\n      <th>3870</th>\n      <td>LYSTEK INTERNATIONAL</td>\n      <td>CAL000001</td>\n      <td>[7538, 7538, 4212, 4212, 7513, 7513, 8211, 399...</td>\n      <td>other_system</td>\n    </tr>\n    <tr>\n      <th>4135</th>\n      <td>BLUE SKY RANCH AND RESORT</td>\n      <td>UTL025763</td>\n      <td>[7011, 7011]</td>\n      <td>other_system</td>\n    </tr>\n  </tbody>\n</table>\n<p>221 rows × 4 columns</p>\n</div>"
     },
     "metadata": {},
     "output_type": "display_data"
    }
   ],
   "source": [
    "# Apply filter based on reporting obligation \n",
    "sic_remove = [6515, # mobile homes\n",
    "              4941, # water supply\n",
    "              8211, # schools\n",
    "              8221, # colleges & universities\n",
    "              7033, # trailer parks / campsites \n",
    "              7032, # sporting and recreation camps \n",
    "              9223, # correctional facilities \n",
    "              1389, # oil & gas field services \n",
    "              3533, # oil and gas field machinery \n",
    "              8361, # residential care \n",
    "              8661, # religious orgs \n",
    "              7997, # sports / recreation clubs\n",
    "              7999, # amusement and recreation \n",
    "              8051, # skilled nursing care \n",
    "              3498, # fabricated pipe & fitting \n",
    "              7011, # hotels and motels \n",
    "              3171, # handbags & purses \n",
    "              2491, # wood preserving \n",
    "              2493, # reconsistuted wood products\n",
    "              9711, # national security \n",
    "              3743, # railroad equipment \n",
    "              5541, # gas station services \n",
    "              4911, # electric services \n",
    "              5075, # heating & cooling \n",
    "              7041, # membership hotels \n",
    "              2011, # meat packing plants\n",
    "              8063, # psychiatric hospitals \n",
    "              5812, # eating places \n",
    "              7999, # amusement parks\n",
    "              2899, # chemical preparation (spice / food extraction)\n",
    "              3331, # primary copper\n",
    "              6531, # real estate agents & managers\n",
    "              4011, # railroads\n",
    "              6514, # dwelling operators (residential)\n",
    "              2621, # paper mills\n",
    "              4581, # airports\n",
    "              1522, # residential construction \n",
    "              ]\n",
    "\n",
    "sic_check = [1629, # heavy construction \n",
    "             9511, # air, water, solid waste management\n",
    "             9199, # general government  \n",
    "             7299, # misc. personal services \n",
    "             2819, # \n",
    "             ]\n",
    "\n",
    "# Check SIC codes for facilities that have an SIC code match \n",
    "biosolids_not_sewer_not_potw_has_match_sic_removal = biosolids_not_sewer_not_potw_has_match[biosolids_not_sewer_not_potw_has_match['sic_permit'].apply(lambda x: any(item in sic_remove for item in x))]\n",
    "display(biosolids_not_sewer_not_potw_has_match_sic_removal[['Facility Name', 'NPDES ID', 'sic_permit', 'check_sewer_permits']])\n"
   ]
  },
  {
   "cell_type": "code",
   "execution_count": null,
   "id": "30b073990c4f5106",
   "metadata": {
    "collapsed": false
   },
   "outputs": [],
   "source": [
    "biosolids_not_sewer_not_potw_has_match_sic_check = biosolids_not_sewer_not_potw_has_match[~biosolids_not_sewer_not_potw_has_match['sic_permit'].apply(lambda x: any(item in sic_remove for item in x))]\n",
    "display(biosolids_not_sewer_not_potw_has_match_sic_check[['Facility Name', 'NPDES ID', 'sic_permit', 'check_sewer_permits']])"
   ]
  },
  {
   "cell_type": "markdown",
   "id": "416cb0c0677b7cc9",
   "metadata": {
    "collapsed": false
   },
   "source": [
    "### Manually check the remaining facilities \n",
    "\n",
    "The dataset of biosolids_not_sewer_not_potw_has_sic_check contains the facilities that I'm not confident removing based solely on their SIC codes. Manually inspect facilities and decide where they should be kept based on name / information available online \n",
    "\n",
    "1. Live Oak County Safety Rest Area WWTF - code 7299 (misc personal services) --> remove, rest area along highway \n",
    "2. Bayou Club WWTP - code 8641 (civic & social associations) --> remove, dining club \n",
    "3. GE Packaged Power Jport - code 3511 (turbines / turbine generators), 7699 (repair services) --> probably remove, GE and not public \n",
    "4. Sigmapro WWTP - code 6519 (real property lessors) --> Sigma Pro private company WWTP, not public \n",
    "5. US DOE / Savannah River Site - codes 2819 (industrial inorganic chemicals), 9611 (administration of general economic programs) --> remove, not a public wastewater treatment facility \n",
    "\n",
    "Based on this online search, we can remove all facilities in the original subset biosolids_not_sewer_not_potw_has_match (before filtering based on the specific SIC codes of concern). \n"
   ]
  },
  {
   "cell_type": "code",
   "execution_count": null,
   "id": "e0d5c995913d6c89",
   "metadata": {
    "collapsed": false
   },
   "outputs": [],
   "source": [
    "biosolids_to_remove = biosolids_not_sewer_not_potw_has_match\n",
    "\n",
    "biosolids_to_remove.to_csv(pathlib.PurePath('04_results', 'biosolids_to_remove.csv'), index=False)\n",
    "biosolids_to_remove.to_pickle(pathlib.PurePath('05_pickle_files', 'biosolids_to_remove.pkl'))"
   ]
  },
  {
   "cell_type": "markdown",
   "source": [
    "## Check the POTW facilities for water treatment codes\n",
    "\n",
    "It occurred to me after completing this analysis that there might be drinking water treatment plants in facilities that consider themselves to be POTWs \n"
   ],
   "metadata": {
    "collapsed": false
   },
   "id": "13c177ce6bb3d37a"
  },
  {
   "cell_type": "code",
   "execution_count": null,
   "outputs": [],
   "source": [
    "# Data exploration \n",
    "\n",
    "from utilities import summarize_sic_codes\n",
    "\n",
    "biosolids_not_sewer = pd.read_pickle(pathlib.PurePath('05_pickle_files', 'biosolids_data_sic_codes_not_sewer.pkl'))\n",
    "# Apply filter based on POTW reporting obligation \n",
    "\n",
    "potw_mask = biosolids_not_sewer['Reporting Obligation(s)'].str.contains('POTW')\n",
    "biosolids_not_sewer_is_potw = biosolids_not_sewer[potw_mask]\n",
    "\n",
    "display(biosolids_not_sewer_is_potw[['Facility Name', 'NPDES ID', 'sic_permit', 'check_sewer_permits']])\n",
    "\n",
    "# summarize_sic_codes(biosolids_not_sewer_is_potw, 'sic_permit').to_csv(pathlib.PurePath('04_results', 'biosolids_not_sewer_is_potw_summary.csv'))"
   ],
   "metadata": {
    "collapsed": false
   },
   "id": "c0b2d8828551e352"
  },
  {
   "cell_type": "markdown",
   "source": [],
   "metadata": {
    "collapsed": false
   },
   "id": "488ba17e2c9ae910"
  },
  {
   "cell_type": "code",
   "execution_count": 31,
   "outputs": [
    {
     "name": "stdout",
     "output_type": "stream",
     "text": [
      "Length of dataframe (not sewer, not POTW (unless has DW permit), has SIC match): 246\n"
     ]
    },
    {
     "data": {
      "text/plain": "                     Facility Name   NPDES ID  \\\n14      AUSTIN COUNTY WSC  PLANT 3  TX0125709   \n15          LAKE PFLUGERVILLE WWTF  TX0132721   \n16    PURTIS CREEK STATE PARK WWTP  TX0082856   \n25              CHISOS BASIN  WWTP  TX0094684   \n35     LAUGHLIN AFB WWTP BLDG 1004  TX0022608   \n...                            ...        ...   \n3800                   OAKELY CITY  UTL020061   \n3867    KENNECOTT UTAH COPPER, LLC  UTL000051   \n3870          LYSTEK INTERNATIONAL  CAL000001   \n4135     BLUE SKY RANCH AND RESORT  UTL025763   \n4171     NOONDAY WATER WELL 2 WWTF  TX0118362   \n\n                                             sic_permit check_sewer_permits  \n14                                         [4941, 4941]        other_system  \n15                                   [1541, 4941, 4941]        other_system  \n16                                         [7033, 7033]        other_system  \n25                                         [7999, 7999]        other_system  \n35    [9711, 1542, 9711, 9711, 1542, 4581, 9711, 971...        other_system  \n...                                                 ...                 ...  \n3800                                       [2899, 2899]        other_system  \n3867                     [3331, 3331, 1021, 3331, 1021]        other_system  \n3870  [7538, 7538, 4212, 4212, 7513, 7513, 8211, 399...        other_system  \n4135                                       [7011, 7011]        other_system  \n4171                                             [4941]        other_system  \n\n[241 rows x 4 columns]",
      "text/html": "<div>\n<style scoped>\n    .dataframe tbody tr th:only-of-type {\n        vertical-align: middle;\n    }\n\n    .dataframe tbody tr th {\n        vertical-align: top;\n    }\n\n    .dataframe thead th {\n        text-align: right;\n    }\n</style>\n<table border=\"1\" class=\"dataframe\">\n  <thead>\n    <tr style=\"text-align: right;\">\n      <th></th>\n      <th>Facility Name</th>\n      <th>NPDES ID</th>\n      <th>sic_permit</th>\n      <th>check_sewer_permits</th>\n    </tr>\n  </thead>\n  <tbody>\n    <tr>\n      <th>14</th>\n      <td>AUSTIN COUNTY WSC  PLANT 3</td>\n      <td>TX0125709</td>\n      <td>[4941, 4941]</td>\n      <td>other_system</td>\n    </tr>\n    <tr>\n      <th>15</th>\n      <td>LAKE PFLUGERVILLE WWTF</td>\n      <td>TX0132721</td>\n      <td>[1541, 4941, 4941]</td>\n      <td>other_system</td>\n    </tr>\n    <tr>\n      <th>16</th>\n      <td>PURTIS CREEK STATE PARK WWTP</td>\n      <td>TX0082856</td>\n      <td>[7033, 7033]</td>\n      <td>other_system</td>\n    </tr>\n    <tr>\n      <th>25</th>\n      <td>CHISOS BASIN  WWTP</td>\n      <td>TX0094684</td>\n      <td>[7999, 7999]</td>\n      <td>other_system</td>\n    </tr>\n    <tr>\n      <th>35</th>\n      <td>LAUGHLIN AFB WWTP BLDG 1004</td>\n      <td>TX0022608</td>\n      <td>[9711, 1542, 9711, 9711, 1542, 4581, 9711, 971...</td>\n      <td>other_system</td>\n    </tr>\n    <tr>\n      <th>...</th>\n      <td>...</td>\n      <td>...</td>\n      <td>...</td>\n      <td>...</td>\n    </tr>\n    <tr>\n      <th>3800</th>\n      <td>OAKELY CITY</td>\n      <td>UTL020061</td>\n      <td>[2899, 2899]</td>\n      <td>other_system</td>\n    </tr>\n    <tr>\n      <th>3867</th>\n      <td>KENNECOTT UTAH COPPER, LLC</td>\n      <td>UTL000051</td>\n      <td>[3331, 3331, 1021, 3331, 1021]</td>\n      <td>other_system</td>\n    </tr>\n    <tr>\n      <th>3870</th>\n      <td>LYSTEK INTERNATIONAL</td>\n      <td>CAL000001</td>\n      <td>[7538, 7538, 4212, 4212, 7513, 7513, 8211, 399...</td>\n      <td>other_system</td>\n    </tr>\n    <tr>\n      <th>4135</th>\n      <td>BLUE SKY RANCH AND RESORT</td>\n      <td>UTL025763</td>\n      <td>[7011, 7011]</td>\n      <td>other_system</td>\n    </tr>\n    <tr>\n      <th>4171</th>\n      <td>NOONDAY WATER WELL 2 WWTF</td>\n      <td>TX0118362</td>\n      <td>[4941]</td>\n      <td>other_system</td>\n    </tr>\n  </tbody>\n</table>\n<p>241 rows × 4 columns</p>\n</div>"
     },
     "metadata": {},
     "output_type": "display_data"
    }
   ],
   "source": [
    "# Run code to test \n",
    "\n",
    "biosolids_not_sewer = pd.read_pickle(pathlib.PurePath('05_pickle_files', 'biosolids_data_sic_codes_not_sewer.pkl'))\n",
    "\n",
    "# Make columns indicating if the facility lists POTW for reporting obligation \n",
    "biosolids_not_sewer['potw_check'] = biosolids_not_sewer['Reporting Obligation(s)'].str.contains('POTW')\n",
    "\n",
    "# Make a column indicating if facility has a DW code \n",
    "dw_code = 4941\n",
    "biosolids_not_sewer['dw_sic_check'] = biosolids_not_sewer['sic_permit'].apply(lambda x: dw_code in x)\n",
    "\n",
    "# Keep facilities where potw_check == True and dw_sic_check == False \n",
    "potw_not_dw_mask = ~((biosolids_not_sewer['potw_check'] == 1) & (biosolids_not_sewer['dw_sic_check'] == 0))\n",
    "biosolids_not_potw_includes_dw = biosolids_not_sewer[potw_not_dw_mask]\n",
    "\n",
    "# Keep facilities that have no match (ie remove them from our list of facilities to remove) \n",
    "\n",
    "# These facilities have a match with an SIC code that is NOT sewer-related\n",
    "biosolids_not_sewer_not_potw_has_match = biosolids_not_potw_includes_dw[biosolids_not_potw_includes_dw['sic_permit'].apply(lambda x: 'NO_SIC_MATCH' not in x)]\n",
    "print(f'Length of dataframe (not sewer, not POTW (unless has DW permit), has SIC match): {len(biosolids_not_sewer_not_potw_has_match)}')\n",
    "\n",
    "# Check SIC codes for facilities that have an SIC code match \n",
    "biosolids_not_sewer_not_potw_has_match_sic_removal = biosolids_not_sewer_not_potw_has_match[biosolids_not_sewer_not_potw_has_match['sic_permit'].apply(lambda x: any(item in sic_remove for item in x))]\n",
    "display(biosolids_not_sewer_not_potw_has_match_sic_removal[['Facility Name', 'NPDES ID', 'sic_permit', 'check_sewer_permits']])"
   ],
   "metadata": {
    "collapsed": false,
    "ExecuteTime": {
     "end_time": "2024-03-25T18:29:25.886637Z",
     "start_time": "2024-03-25T18:29:25.870880Z"
    }
   },
   "id": "9a4396fead556222"
  },
  {
   "cell_type": "code",
   "execution_count": 32,
   "outputs": [
    {
     "data": {
      "text/plain": "                              Facility Name   NPDES ID  \\\n554   LIVE OAK COUNTY SAFETY REST AREA WWTF  TX0129321   \n938                         BAYOU CLUB WWTP  TX0083933   \n1082                GE PACKAGED POWER JPORT  TX0101656   \n1462                          SIGMAPRO WWTP  TX0138754   \n2856             US DOE/SAVANNAH RIVER SITE  SCL000175   \n\n                                      sic_permit check_sewer_permits  \n554                                 [7299, 7299]        other_system  \n938                                       [8641]        other_system  \n1082  [3511, 3511, 7699, 3511, 7699, 3511, 7699]        other_system  \n1462                                      [6519]        other_system  \n2856  [2819, 2819, 9611, 2819, 2819, 2819, 2819]        other_system  ",
      "text/html": "<div>\n<style scoped>\n    .dataframe tbody tr th:only-of-type {\n        vertical-align: middle;\n    }\n\n    .dataframe tbody tr th {\n        vertical-align: top;\n    }\n\n    .dataframe thead th {\n        text-align: right;\n    }\n</style>\n<table border=\"1\" class=\"dataframe\">\n  <thead>\n    <tr style=\"text-align: right;\">\n      <th></th>\n      <th>Facility Name</th>\n      <th>NPDES ID</th>\n      <th>sic_permit</th>\n      <th>check_sewer_permits</th>\n    </tr>\n  </thead>\n  <tbody>\n    <tr>\n      <th>554</th>\n      <td>LIVE OAK COUNTY SAFETY REST AREA WWTF</td>\n      <td>TX0129321</td>\n      <td>[7299, 7299]</td>\n      <td>other_system</td>\n    </tr>\n    <tr>\n      <th>938</th>\n      <td>BAYOU CLUB WWTP</td>\n      <td>TX0083933</td>\n      <td>[8641]</td>\n      <td>other_system</td>\n    </tr>\n    <tr>\n      <th>1082</th>\n      <td>GE PACKAGED POWER JPORT</td>\n      <td>TX0101656</td>\n      <td>[3511, 3511, 7699, 3511, 7699, 3511, 7699]</td>\n      <td>other_system</td>\n    </tr>\n    <tr>\n      <th>1462</th>\n      <td>SIGMAPRO WWTP</td>\n      <td>TX0138754</td>\n      <td>[6519]</td>\n      <td>other_system</td>\n    </tr>\n    <tr>\n      <th>2856</th>\n      <td>US DOE/SAVANNAH RIVER SITE</td>\n      <td>SCL000175</td>\n      <td>[2819, 2819, 9611, 2819, 2819, 2819, 2819]</td>\n      <td>other_system</td>\n    </tr>\n  </tbody>\n</table>\n</div>"
     },
     "metadata": {},
     "output_type": "display_data"
    }
   ],
   "source": [
    "biosolids_not_sewer_not_potw_has_match_sic_check = biosolids_not_sewer_not_potw_has_match[~biosolids_not_sewer_not_potw_has_match['sic_permit'].apply(lambda x: any(item in sic_remove for item in x))]\n",
    "display(biosolids_not_sewer_not_potw_has_match_sic_check[['Facility Name', 'NPDES ID', 'sic_permit', 'check_sewer_permits']])"
   ],
   "metadata": {
    "collapsed": false,
    "ExecuteTime": {
     "end_time": "2024-03-25T18:29:57.103992Z",
     "start_time": "2024-03-25T18:29:57.094305Z"
    }
   },
   "id": "6e3850fdccfefd90"
  },
  {
   "cell_type": "code",
   "execution_count": 33,
   "outputs": [],
   "source": [
    "import datetime\n",
    "\n",
    "biosolids_to_remove = biosolids_not_sewer_not_potw_has_match\n",
    "\n",
    "current_datetime = datetime.datetime.now()\n",
    "\n",
    "# Format the datetime as a string to append to the file name\n",
    "formatted_datetime = current_datetime.strftime(\"%Y-%m-%d_%H-%M\")\n",
    "\n",
    "biosolids_to_remove.to_csv(pathlib.PurePath('04_results', f'biosolids_to_remove_{formatted_datetime}.csv'), index=False)\n",
    "biosolids_to_remove.to_pickle(pathlib.PurePath('05_pickle_files', f'biosolids_to_remove_{formatted_datetime}.pkl'))"
   ],
   "metadata": {
    "collapsed": false,
    "ExecuteTime": {
     "end_time": "2024-03-25T18:32:17.866539Z",
     "start_time": "2024-03-25T18:32:17.853799Z"
    }
   },
   "id": "9cb678c0c1229ae8"
  },
  {
   "cell_type": "code",
   "execution_count": 53,
   "outputs": [
    {
     "name": "stdout",
     "output_type": "stream",
     "text": [
      "                                         Facility Name   NPDES ID  \\\n",
      "462                            TEASELVILLE WELL 1 WWTF  TX0118273   \n",
      "891                                       TURLOCK WQCF  CAL078948   \n",
      "1684                                         CANAL WTP  TX0135500   \n",
      "1991                                        ONEIDA (C)  NYL026956   \n",
      "2040                                     PORTLAND WWTP  INL020095   \n",
      "2120                                   NEW WINDSOR (T)  NYL022446   \n",
      "2190                                    JEFFERSON WWTF  TX0002542   \n",
      "2219                                  POUGHKEEPSIE (T)  NYL026271   \n",
      "2227                               WESTMINSTER CITY OF  COL024171   \n",
      "2243                                UC DAVIS MAIN WWTP  CAL077895   \n",
      "2665                         BARDSTOWN TOWN CREEK WWTP  KYL020237   \n",
      "2707                                BOONVILLE, CITY OF  MOL040738   \n",
      "2771  INDIAN RIVER COUNTY UTILITIES DEPARTMENT (IRCUD)  FLL037940   \n",
      "2903                                       SUFFERN (V)  NYL022748   \n",
      "2980                                       CAMROSA WRF  CAL059501   \n",
      "3010                          CHESTERTON WWTP, TOWN OF  INL022578   \n",
      "3117              WEST COUNTY WASTEWATER DISTRICT WWTP  CAL038539   \n",
      "3407                 ELSINORE VALLEY REGIONAL FACILITY  CAL000027   \n",
      "3526                                SAN BERNARDINO WRF  CAL105392   \n",
      "4171                         NOONDAY WATER WELL 2 WWTF  TX0118362   \n",
      "\n",
      "                City State                            Reporting Obligation(s)  \\\n",
      "462            TYLER    TX           A POTW that serves 10,000 people or more   \n",
      "891          TURLOCK    CA  A POTW with a design flow rate equal to or gre...   \n",
      "1684         EL PASO    TX  A POTW with a design flow rate equal to or gre...   \n",
      "1991          ONEIDA    NY  A POTW with a design flow rate equal to or gre...   \n",
      "2040        PORTLAND    IN  A POTW with a design flow rate equal to or gre...   \n",
      "2120     NEW WINDSOR    NY           A POTW that serves 10,000 people or more   \n",
      "2190          LAREDO    TX  A POTW with a design flow rate equal to or gre...   \n",
      "2219    POUGHKEEPSIE    NY  A POTW with a design flow rate equal to or gre...   \n",
      "2227     WESTMINSTER    CO  A POTW with a design flow rate equal to or gre...   \n",
      "2243           DAVIS    CA  A POTW with a design flow rate equal to or gre...   \n",
      "2665       BARDSTOWN    KY  A Class I Sludge Management Facility as define...   \n",
      "2707       BOONVILLE    MO  A POTW with a design flow rate equal to or gre...   \n",
      "2771      VERO BEACH    FL  A POTW with a design flow rate equal to or gre...   \n",
      "2903         SUFFERN    NY  A POTW with a design flow rate equal to or gre...   \n",
      "2980       CAMARILLO    CA  A POTW with a design flow rate equal to or gre...   \n",
      "3010          PORTER    IN  A Class I Sludge Management Facility as define...   \n",
      "3117        RICHMOND    CA  A POTW with a design flow rate equal to or gre...   \n",
      "3407   LAKE ELSINORE    CA  A POTW with a design flow rate equal to or gre...   \n",
      "3526  SAN BERNARDINO    CA  A Class I Sludge Management Facility as define...   \n",
      "4171           TYLER    TX           A POTW that serves 10,000 people or more   \n",
      "\n",
      "                                             sic_permit  \n",
      "462                                              [4941]  \n",
      "891                                              [4941]  \n",
      "1684                                             [4941]  \n",
      "1991                                       [4941, 4941]  \n",
      "2040                                             [4941]  \n",
      "2120                                             [4941]  \n",
      "2190                                 [4941, 4941, 4941]  \n",
      "2219                                       [4941, 4941]  \n",
      "2227                                       [4941, 4941]  \n",
      "2243  [8221, 8221, 8221, 8733, 8299, 4941, 8221, 822...  \n",
      "2665                                 [9511, 9511, 4941]  \n",
      "2707                                             [4941]  \n",
      "2771                                       [4941, 4941]  \n",
      "2903                                       [5541, 4941]  \n",
      "2980                                 [4941, 4941, 4941]  \n",
      "3010                                             [4941]  \n",
      "3117                                             [4941]  \n",
      "3407  [2044, 2044, 2044, 3341, 5093, 3334, 5093, 367...  \n",
      "3526                                             [4941]  \n",
      "4171                                             [4941]  \n",
      "20 additional facilities to remove\n"
     ]
    }
   ],
   "source": [
    "# Final comparison of the two methods \n",
    "\n",
    "remove_original = pd.read_pickle(pathlib.PurePath('05_pickle_files', 'biosolids_to_remove.pkl'))\n",
    "remove_update = pd.read_pickle(pathlib.PurePath('05_pickle_files', 'biosolids_to_remove_2024-03-25_11-32.pkl'))\n",
    "\n",
    "# common columns only \n",
    "common_columns = ['Facility Name', 'NPDES ID', 'City', 'State', 'Reporting Obligation(s)']\n",
    "\n",
    "# Identify indices of differences based on common columns\n",
    "compare_removal_list_indices = pd.concat([remove_original[common_columns], remove_update[common_columns]]).drop_duplicates(keep=False).index\n",
    "\n",
    "# Add 'sic_permit' column from remove_update for facilities only in remove_update\n",
    "compare_removal_list = remove_update.loc[compare_removal_list_indices, ['Facility Name', 'NPDES ID', 'City', 'State', 'Reporting Obligation(s)', 'sic_permit']]\n",
    "\n",
    "\n",
    "print(compare_removal_list)\n",
    "print(f'{len(compare_removal_list)} additional facilities to remove')\n",
    "# Now I want to add the column ['sic_permit'] to compare_removal_list. Because these facilities are only in remove_update, I need to match them appropriately to remove_update\n"
   ],
   "metadata": {
    "collapsed": false,
    "ExecuteTime": {
     "end_time": "2024-03-25T19:01:09.064701Z",
     "start_time": "2024-03-25T19:01:09.053054Z"
    }
   },
   "id": "8cd0e2ff800aac02"
  }
 ],
 "metadata": {
  "kernelspec": {
   "display_name": "Python 3 (ipykernel)",
   "language": "python",
   "name": "python3"
  },
  "language_info": {
   "codemirror_mode": {
    "name": "ipython",
    "version": 3
   },
   "file_extension": ".py",
   "mimetype": "text/x-python",
   "name": "python",
   "nbconvert_exporter": "python",
   "pygments_lexer": "ipython3",
   "version": "3.9.6"
  }
 },
 "nbformat": 4,
 "nbformat_minor": 5
}
