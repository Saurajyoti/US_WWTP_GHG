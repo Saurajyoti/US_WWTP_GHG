{
 "cells": [
  {
   "cell_type": "markdown",
   "source": [
    "# Explore NAICS dataset \n",
    "\n",
    "Author: Sahar H. El Abbadi\n",
    "Start date: March 20, 2024 \n",
    "\n",
    "Purpose: Load NAICS dataset to check if facilities in the biosolids dataset have NAICS codes"
   ],
   "metadata": {
    "collapsed": false
   },
   "id": "a8b7c5b9e2a9d9f5"
  },
  {
   "cell_type": "code",
   "execution_count": 20,
   "outputs": [],
   "source": [
    "# Setup: \n",
    "import pandas as pd\n",
    "import pathlib\n",
    "from tqdm import tqdm\n",
    "\n",
    "tqdm.pandas()\n",
    "\n",
    "# Load NAICS data file \n",
    "naics = pd.read_csv(pathlib.PurePath('01_raw_data', 'NATIONAL_NAICS_FILE.CSV'))"
   ],
   "metadata": {
    "collapsed": false,
    "ExecuteTime": {
     "end_time": "2024-03-20T23:23:51.918566Z",
     "start_time": "2024-03-20T23:23:50.520462Z"
    }
   },
   "id": "e7d1849c784b6672"
  },
  {
   "cell_type": "code",
   "execution_count": 10,
   "outputs": [
    {
     "data": {
      "text/plain": "          REGISTRY_ID PGM_SYS_ACRNM PGM_SYS_ID           INTEREST_TYPE  \\\n0        110000491735         NPDES  AKR06AE60  STORM WATER INDUSTRIAL   \n4        110000491735         NPDES  AKR06AE60    ICIS-NPDES NON-MAJOR   \n11       110000491744         NPDES  AK0000370    ICIS-NPDES NON-MAJOR   \n22       110000491780         NPDES  AKR06AB58  STORM WATER INDUSTRIAL   \n24       110000491780         NPDES  AKR06AB58    ICIS-NPDES NON-MAJOR   \n...               ...           ...        ...                     ...   \n2169296  110064241850         NPDES  WYG650007               BIOSOLIDS   \n2169318  110069422976         NPDES  WYR001454  STORM WATER INDUSTRIAL   \n2169322  110069422976         NPDES  WYR001454    ICIS-NPDES NON-MAJOR   \n2169410  110070110354         NPDES  WYPU00103        ICIS-NPDES MINOR   \n2169412  110070114677         NPDES  WYPU00101        ICIS-NPDES MINOR   \n\n         NAICS_CODE PRIMARY_INDICATOR  \\\n0            424710           PRIMARY   \n4            424710           PRIMARY   \n11           424710           PRIMARY   \n22           424710           PRIMARY   \n24           424710           PRIMARY   \n...             ...               ...   \n2169296      221320           PRIMARY   \n2169318      484220           PRIMARY   \n2169322      484220           PRIMARY   \n2169410      333132           PRIMARY   \n2169412      221330           PRIMARY   \n\n                                          CODE_DESCRIPTION  \n0                   PETROLEUM BULK STATIONS AND TERMINALS.  \n4                   PETROLEUM BULK STATIONS AND TERMINALS.  \n11                  PETROLEUM BULK STATIONS AND TERMINALS.  \n22                  PETROLEUM BULK STATIONS AND TERMINALS.  \n24                  PETROLEUM BULK STATIONS AND TERMINALS.  \n...                                                    ...  \n2169296                       SEWAGE TREATMENT FACILITIES.  \n2169318  SPECIALIZED FREIGHT (EXCEPT USED GOODS) TRUCKI...  \n2169322  SPECIALIZED FREIGHT (EXCEPT USED GOODS) TRUCKI...  \n2169410  OIL AND GAS FIELD MACHINERY AND EQUIPMENT MANU...  \n2169412                 STEAM AND AIR-CONDITIONING SUPPLY.  \n\n[151011 rows x 7 columns]",
      "text/html": "<div>\n<style scoped>\n    .dataframe tbody tr th:only-of-type {\n        vertical-align: middle;\n    }\n\n    .dataframe tbody tr th {\n        vertical-align: top;\n    }\n\n    .dataframe thead th {\n        text-align: right;\n    }\n</style>\n<table border=\"1\" class=\"dataframe\">\n  <thead>\n    <tr style=\"text-align: right;\">\n      <th></th>\n      <th>REGISTRY_ID</th>\n      <th>PGM_SYS_ACRNM</th>\n      <th>PGM_SYS_ID</th>\n      <th>INTEREST_TYPE</th>\n      <th>NAICS_CODE</th>\n      <th>PRIMARY_INDICATOR</th>\n      <th>CODE_DESCRIPTION</th>\n    </tr>\n  </thead>\n  <tbody>\n    <tr>\n      <th>0</th>\n      <td>110000491735</td>\n      <td>NPDES</td>\n      <td>AKR06AE60</td>\n      <td>STORM WATER INDUSTRIAL</td>\n      <td>424710</td>\n      <td>PRIMARY</td>\n      <td>PETROLEUM BULK STATIONS AND TERMINALS.</td>\n    </tr>\n    <tr>\n      <th>4</th>\n      <td>110000491735</td>\n      <td>NPDES</td>\n      <td>AKR06AE60</td>\n      <td>ICIS-NPDES NON-MAJOR</td>\n      <td>424710</td>\n      <td>PRIMARY</td>\n      <td>PETROLEUM BULK STATIONS AND TERMINALS.</td>\n    </tr>\n    <tr>\n      <th>11</th>\n      <td>110000491744</td>\n      <td>NPDES</td>\n      <td>AK0000370</td>\n      <td>ICIS-NPDES NON-MAJOR</td>\n      <td>424710</td>\n      <td>PRIMARY</td>\n      <td>PETROLEUM BULK STATIONS AND TERMINALS.</td>\n    </tr>\n    <tr>\n      <th>22</th>\n      <td>110000491780</td>\n      <td>NPDES</td>\n      <td>AKR06AB58</td>\n      <td>STORM WATER INDUSTRIAL</td>\n      <td>424710</td>\n      <td>PRIMARY</td>\n      <td>PETROLEUM BULK STATIONS AND TERMINALS.</td>\n    </tr>\n    <tr>\n      <th>24</th>\n      <td>110000491780</td>\n      <td>NPDES</td>\n      <td>AKR06AB58</td>\n      <td>ICIS-NPDES NON-MAJOR</td>\n      <td>424710</td>\n      <td>PRIMARY</td>\n      <td>PETROLEUM BULK STATIONS AND TERMINALS.</td>\n    </tr>\n    <tr>\n      <th>...</th>\n      <td>...</td>\n      <td>...</td>\n      <td>...</td>\n      <td>...</td>\n      <td>...</td>\n      <td>...</td>\n      <td>...</td>\n    </tr>\n    <tr>\n      <th>2169296</th>\n      <td>110064241850</td>\n      <td>NPDES</td>\n      <td>WYG650007</td>\n      <td>BIOSOLIDS</td>\n      <td>221320</td>\n      <td>PRIMARY</td>\n      <td>SEWAGE TREATMENT FACILITIES.</td>\n    </tr>\n    <tr>\n      <th>2169318</th>\n      <td>110069422976</td>\n      <td>NPDES</td>\n      <td>WYR001454</td>\n      <td>STORM WATER INDUSTRIAL</td>\n      <td>484220</td>\n      <td>PRIMARY</td>\n      <td>SPECIALIZED FREIGHT (EXCEPT USED GOODS) TRUCKI...</td>\n    </tr>\n    <tr>\n      <th>2169322</th>\n      <td>110069422976</td>\n      <td>NPDES</td>\n      <td>WYR001454</td>\n      <td>ICIS-NPDES NON-MAJOR</td>\n      <td>484220</td>\n      <td>PRIMARY</td>\n      <td>SPECIALIZED FREIGHT (EXCEPT USED GOODS) TRUCKI...</td>\n    </tr>\n    <tr>\n      <th>2169410</th>\n      <td>110070110354</td>\n      <td>NPDES</td>\n      <td>WYPU00103</td>\n      <td>ICIS-NPDES MINOR</td>\n      <td>333132</td>\n      <td>PRIMARY</td>\n      <td>OIL AND GAS FIELD MACHINERY AND EQUIPMENT MANU...</td>\n    </tr>\n    <tr>\n      <th>2169412</th>\n      <td>110070114677</td>\n      <td>NPDES</td>\n      <td>WYPU00101</td>\n      <td>ICIS-NPDES MINOR</td>\n      <td>221330</td>\n      <td>PRIMARY</td>\n      <td>STEAM AND AIR-CONDITIONING SUPPLY.</td>\n    </tr>\n  </tbody>\n</table>\n<p>151011 rows × 7 columns</p>\n</div>"
     },
     "metadata": {},
     "output_type": "display_data"
    }
   ],
   "source": [
    "# Filter for NPDES permits \n",
    "\n",
    "naics_npdes = naics[naics['PGM_SYS_ACRNM'] == 'NPDES']\n",
    "\n",
    "display(naics_npdes)"
   ],
   "metadata": {
    "collapsed": false,
    "ExecuteTime": {
     "end_time": "2024-03-20T23:00:12.974268Z",
     "start_time": "2024-03-20T23:00:12.961716Z"
    }
   },
   "id": "c879e1c0d729a524"
  },
  {
   "cell_type": "markdown",
   "source": [
    "## Identify relevant NAICS codes \n",
    "\n",
    "Data source: https://www.ibisworld.com/classifications/naics/221320/sewage-treatment-facilities/\n",
    "\n",
    "- 221310 = Water supply and irrigation systems \n",
    "- 221320 = Sewage treatment facilties "
   ],
   "metadata": {
    "collapsed": false
   },
   "id": "5adafb932dc13e96"
  },
  {
   "cell_type": "code",
   "execution_count": 15,
   "outputs": [
    {
     "data": {
      "text/plain": "          REGISTRY_ID PGM_SYS_ACRNM PGM_SYS_ID INTEREST_TYPE  NAICS_CODE  \\\n119      110000759162         NPDES  AK0021474     BIOSOLIDS      221320   \n124      110000760917         NPDES  AK0021458     BIOSOLIDS      221320   \n125      110000761453         NPDES  AK0021385     BIOSOLIDS      221320   \n912      110009005030         NPDES  AK0022951     BIOSOLIDS      221320   \n978      110010112261         NPDES  AK0021890     BIOSOLIDS      221320   \n...               ...           ...        ...           ...         ...   \n2162907  110009762970         NPDES  WYG650009     BIOSOLIDS      221320   \n2163565  110012801502         NPDES  WYG650001     BIOSOLIDS      221320   \n2163793  110018910400         NPDES  WYG650003     BIOSOLIDS      221320   \n2163804  110020145387         NPDES  WYG650012     BIOSOLIDS      221320   \n2169296  110064241850         NPDES  WYG650007     BIOSOLIDS      221320   \n\n        PRIMARY_INDICATOR              CODE_DESCRIPTION  \n119               PRIMARY  SEWAGE TREATMENT FACILITIES.  \n124               PRIMARY  SEWAGE TREATMENT FACILITIES.  \n125               PRIMARY  SEWAGE TREATMENT FACILITIES.  \n912               PRIMARY  SEWAGE TREATMENT FACILITIES.  \n978               PRIMARY  SEWAGE TREATMENT FACILITIES.  \n...                   ...                           ...  \n2162907           PRIMARY  SEWAGE TREATMENT FACILITIES.  \n2163565           PRIMARY  SEWAGE TREATMENT FACILITIES.  \n2163793           PRIMARY  SEWAGE TREATMENT FACILITIES.  \n2163804           PRIMARY  SEWAGE TREATMENT FACILITIES.  \n2169296           PRIMARY  SEWAGE TREATMENT FACILITIES.  \n\n[528 rows x 7 columns]",
      "text/html": "<div>\n<style scoped>\n    .dataframe tbody tr th:only-of-type {\n        vertical-align: middle;\n    }\n\n    .dataframe tbody tr th {\n        vertical-align: top;\n    }\n\n    .dataframe thead th {\n        text-align: right;\n    }\n</style>\n<table border=\"1\" class=\"dataframe\">\n  <thead>\n    <tr style=\"text-align: right;\">\n      <th></th>\n      <th>REGISTRY_ID</th>\n      <th>PGM_SYS_ACRNM</th>\n      <th>PGM_SYS_ID</th>\n      <th>INTEREST_TYPE</th>\n      <th>NAICS_CODE</th>\n      <th>PRIMARY_INDICATOR</th>\n      <th>CODE_DESCRIPTION</th>\n    </tr>\n  </thead>\n  <tbody>\n    <tr>\n      <th>119</th>\n      <td>110000759162</td>\n      <td>NPDES</td>\n      <td>AK0021474</td>\n      <td>BIOSOLIDS</td>\n      <td>221320</td>\n      <td>PRIMARY</td>\n      <td>SEWAGE TREATMENT FACILITIES.</td>\n    </tr>\n    <tr>\n      <th>124</th>\n      <td>110000760917</td>\n      <td>NPDES</td>\n      <td>AK0021458</td>\n      <td>BIOSOLIDS</td>\n      <td>221320</td>\n      <td>PRIMARY</td>\n      <td>SEWAGE TREATMENT FACILITIES.</td>\n    </tr>\n    <tr>\n      <th>125</th>\n      <td>110000761453</td>\n      <td>NPDES</td>\n      <td>AK0021385</td>\n      <td>BIOSOLIDS</td>\n      <td>221320</td>\n      <td>PRIMARY</td>\n      <td>SEWAGE TREATMENT FACILITIES.</td>\n    </tr>\n    <tr>\n      <th>912</th>\n      <td>110009005030</td>\n      <td>NPDES</td>\n      <td>AK0022951</td>\n      <td>BIOSOLIDS</td>\n      <td>221320</td>\n      <td>PRIMARY</td>\n      <td>SEWAGE TREATMENT FACILITIES.</td>\n    </tr>\n    <tr>\n      <th>978</th>\n      <td>110010112261</td>\n      <td>NPDES</td>\n      <td>AK0021890</td>\n      <td>BIOSOLIDS</td>\n      <td>221320</td>\n      <td>PRIMARY</td>\n      <td>SEWAGE TREATMENT FACILITIES.</td>\n    </tr>\n    <tr>\n      <th>...</th>\n      <td>...</td>\n      <td>...</td>\n      <td>...</td>\n      <td>...</td>\n      <td>...</td>\n      <td>...</td>\n      <td>...</td>\n    </tr>\n    <tr>\n      <th>2162907</th>\n      <td>110009762970</td>\n      <td>NPDES</td>\n      <td>WYG650009</td>\n      <td>BIOSOLIDS</td>\n      <td>221320</td>\n      <td>PRIMARY</td>\n      <td>SEWAGE TREATMENT FACILITIES.</td>\n    </tr>\n    <tr>\n      <th>2163565</th>\n      <td>110012801502</td>\n      <td>NPDES</td>\n      <td>WYG650001</td>\n      <td>BIOSOLIDS</td>\n      <td>221320</td>\n      <td>PRIMARY</td>\n      <td>SEWAGE TREATMENT FACILITIES.</td>\n    </tr>\n    <tr>\n      <th>2163793</th>\n      <td>110018910400</td>\n      <td>NPDES</td>\n      <td>WYG650003</td>\n      <td>BIOSOLIDS</td>\n      <td>221320</td>\n      <td>PRIMARY</td>\n      <td>SEWAGE TREATMENT FACILITIES.</td>\n    </tr>\n    <tr>\n      <th>2163804</th>\n      <td>110020145387</td>\n      <td>NPDES</td>\n      <td>WYG650012</td>\n      <td>BIOSOLIDS</td>\n      <td>221320</td>\n      <td>PRIMARY</td>\n      <td>SEWAGE TREATMENT FACILITIES.</td>\n    </tr>\n    <tr>\n      <th>2169296</th>\n      <td>110064241850</td>\n      <td>NPDES</td>\n      <td>WYG650007</td>\n      <td>BIOSOLIDS</td>\n      <td>221320</td>\n      <td>PRIMARY</td>\n      <td>SEWAGE TREATMENT FACILITIES.</td>\n    </tr>\n  </tbody>\n</table>\n<p>528 rows × 7 columns</p>\n</div>"
     },
     "metadata": {},
     "output_type": "display_data"
    }
   ],
   "source": [
    "# Look at interest type \n",
    "\n",
    "# INTEREST_TYPE can be \"biosolids\"\n",
    "\n",
    "naics_npdes_biosolids = naics_npdes[naics_npdes['INTEREST_TYPE'] == 'BIOSOLIDS']\n",
    "display(naics_npdes_biosolids)\n",
    "\n",
    "naics_npdes_biosolids['CODE_DESCRIPTION'].value_counts()\n",
    "\n",
    "naics_npdes_biosolids.to_csv(pathlib.PurePath('02_clean_data', 'naics_npdes_biosolids.csv'), index=False)\n"
   ],
   "metadata": {
    "collapsed": false,
    "ExecuteTime": {
     "end_time": "2024-03-20T23:15:13.424693Z",
     "start_time": "2024-03-20T23:15:13.410780Z"
    }
   },
   "id": "fbf2e7ee24ab65a2"
  },
  {
   "cell_type": "markdown",
   "source": [
    "## Check biosolids facilities without sewer SIC codes \n",
    "\n",
    "Load the pickle file biosolids_data_sic_codes_not_sewer.pkl - this is the file with SIC codes that are not wastewater related. \n",
    "\n",
    "Check if any of these permits have a hit in the NAICS biosolids / sewer systems dataframe"
   ],
   "metadata": {
    "collapsed": false
   },
   "id": "a2e93d6e1ef4fc35"
  },
  {
   "cell_type": "code",
   "execution_count": 46,
   "outputs": [],
   "source": [
    "# Write function to check a NPDES number against the naics_npdes_biosolids dataset \n",
    "naics_npdes_biosolids = pd.read_csv(pathlib.PurePath('02_clean_data', 'naics_npdes_biosolids.csv'))\n",
    "def check_naics_biosolid_codes(npdes_id): \n",
    "    npdes_mask = naics_npdes_biosolids['PGM_SYS_ID'].str.contains(npdes_id)\n",
    "    matched_npdes = naics_npdes_biosolids[npdes_mask]\n",
    "    return matched_npdes['CODE_DESCRIPTION'].tolist()\n"
   ],
   "metadata": {
    "collapsed": false,
    "ExecuteTime": {
     "end_time": "2024-03-20T23:43:59.834883Z",
     "start_time": "2024-03-20T23:43:59.825761Z"
    }
   },
   "id": "efb9b3043ea918e6"
  },
  {
   "cell_type": "code",
   "execution_count": 48,
   "outputs": [
    {
     "name": "stderr",
     "output_type": "stream",
     "text": [
      "100%|██████████| 1110/1110 [00:01<00:00, 997.73it/s] \n"
     ]
    },
    {
     "data": {
      "text/plain": "       NPDES ID    sic_permit  \\\n3800  UTL020061  [2899, 2899]   \n4135  UTL025763  [7011, 7011]   \n\n                                      naics_description  \n3800  [ALL OTHER MISCELLANEOUS CHEMICAL PRODUCT AND ...  \n4135                [ALL OTHER TRAVELER ACCOMMODATION.]  ",
      "text/html": "<div>\n<style scoped>\n    .dataframe tbody tr th:only-of-type {\n        vertical-align: middle;\n    }\n\n    .dataframe tbody tr th {\n        vertical-align: top;\n    }\n\n    .dataframe thead th {\n        text-align: right;\n    }\n</style>\n<table border=\"1\" class=\"dataframe\">\n  <thead>\n    <tr style=\"text-align: right;\">\n      <th></th>\n      <th>NPDES ID</th>\n      <th>sic_permit</th>\n      <th>naics_description</th>\n    </tr>\n  </thead>\n  <tbody>\n    <tr>\n      <th>3800</th>\n      <td>UTL020061</td>\n      <td>[2899, 2899]</td>\n      <td>[ALL OTHER MISCELLANEOUS CHEMICAL PRODUCT AND ...</td>\n    </tr>\n    <tr>\n      <th>4135</th>\n      <td>UTL025763</td>\n      <td>[7011, 7011]</td>\n      <td>[ALL OTHER TRAVELER ACCOMMODATION.]</td>\n    </tr>\n  </tbody>\n</table>\n</div>"
     },
     "metadata": {},
     "output_type": "display_data"
    }
   ],
   "source": [
    "biosolids_sic_not_sewer = pd.read_pickle(pathlib.PurePath('05_pickle_files', 'biosolids_data_sic_codes_not_sewer.pkl'))\n",
    "\n",
    "biosolids_sic_not_sewer['naics_description'] = biosolids_sic_not_sewer['NPDES ID'].progress_apply(check_naics_biosolid_codes)\n",
    "\n",
    "# Filter out rows where NAICS description is empty \n",
    "biosolids_sic_not_sewer_naics_not_empty = biosolids_sic_not_sewer[biosolids_sic_not_sewer['naics_description'].apply(lambda x: len(x) > 0)]\n",
    "\n",
    "display(biosolids_sic_not_sewer_naics_not_empty[['NPDES ID', 'sic_permit', 'naics_description']])"
   ],
   "metadata": {
    "collapsed": false,
    "ExecuteTime": {
     "end_time": "2024-03-20T23:45:11.981355Z",
     "start_time": "2024-03-20T23:45:10.857597Z"
    }
   },
   "id": "7591184e2675e36b"
  }
 ],
 "metadata": {
  "kernelspec": {
   "display_name": "Python 3",
   "language": "python",
   "name": "python3"
  },
  "language_info": {
   "codemirror_mode": {
    "name": "ipython",
    "version": 2
   },
   "file_extension": ".py",
   "mimetype": "text/x-python",
   "name": "python",
   "nbconvert_exporter": "python",
   "pygments_lexer": "ipython2",
   "version": "2.7.6"
  }
 },
 "nbformat": 4,
 "nbformat_minor": 5
}
