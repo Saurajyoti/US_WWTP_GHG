{
 "cells": [
  {
   "cell_type": "markdown",
   "source": [
    "# Notebook to explore all WWTP dataset\n",
    "Goal: to explore dataset to see if we can find the bugs that caused duplicates to occur "
   ],
   "metadata": {
    "collapsed": false
   },
   "id": "9590f79e6e71371f"
  },
  {
   "cell_type": "code",
   "execution_count": 2,
   "outputs": [
    {
     "name": "stdout",
     "output_type": "stream",
     "text": [
      "['sewer_system', 'drinking_water', 'sewer_system', 'sewer_system']\n"
     ]
    }
   ],
   "source": [
    "# Setup \n",
    "import pandas as pd\n",
    "import pathlib\n",
    "from utilities import check_for_dw_permits"
   ],
   "metadata": {
    "collapsed": false,
    "ExecuteTime": {
     "end_time": "2024-03-11T16:51:45.180745Z",
     "start_time": "2024-03-11T16:51:44.160985Z"
    }
   },
   "id": "a602407b7fdc19"
  },
  {
   "cell_type": "code",
   "execution_count": 1,
   "outputs": [],
   "source": [
    "# Setup \n",
    "import pandas as pd\n",
    "import pathlib\n",
    "from utilities import check_for_dw_permits\n",
    "\n",
    "\n",
    "all_wwtp = pd.read_csv(pathlib.PurePath('02_clean_data', 'all_wwtps_relevant_cols.csv'))\n",
    "cwns_2004 = pd.read_excel(pathlib.PurePath('01_raw_data', 'CWNS2004.xlsx'), sheet_name='ETL')"
   ],
   "metadata": {
    "collapsed": false,
    "ExecuteTime": {
     "end_time": "2024-03-26T18:22:26.474069Z",
     "start_time": "2024-03-26T18:22:21.369991Z"
    }
   },
   "id": "a639bf8f8f5aa817"
  },
  {
   "cell_type": "code",
   "execution_count": 2,
   "outputs": [],
   "source": [
    "# Clean cwns 2004\n",
    "\n",
    "# replace nan in permits \n",
    "cwns_2004['PERMIT_NBR'] = cwns_2004['PERMIT_NBR'].fillna('NO_PERMIT_NBR')"
   ],
   "metadata": {
    "collapsed": false,
    "ExecuteTime": {
     "end_time": "2024-03-07T20:35:17.681144Z",
     "start_time": "2024-03-07T20:35:17.677550Z"
    }
   },
   "id": "e7845f571ea05901"
  },
  {
   "cell_type": "markdown",
   "source": [],
   "metadata": {
    "collapsed": false
   },
   "id": "d6a0ec868ee36692"
  },
  {
   "cell_type": "markdown",
   "source": [
    "# Problematic WWTP \n",
    "\n",
    "There were several wastewater treatment plants with problematic. Expore a bit more deeply here in order to better understand the bugs that might be causing duplicates. \n",
    "\n",
    "## Willow Creek WWTP \n",
    "When reviewing duplicates, there were two Willow Creek WWTPs that were assigned the same CWNS number but have different NPDES permits. "
   ],
   "metadata": {
    "collapsed": false
   },
   "id": "94dc44cf7ce91e0d"
  },
  {
   "cell_type": "code",
   "execution_count": 3,
   "outputs": [],
   "source": [
    "# Find Willow Creek in CWNS 2004 and ALl WWTP \n",
    "facility_name = 'willow creek'\n",
    "# cwns_2004_willow_crk = cwns_2004.loc[cwns_2004['FACILITY_NM'].str.contains(facility_name, case=False)]\n",
    "\n",
    "willow_creek_cwns = cwns_2004[cwns_2004['FACILITY_NM'].str.contains(facility_name, case=False)]\n",
    "\n",
    "willow_creek_all_wwtps = all_wwtp[all_wwtp['FACILITY'].str.contains(facility_name, case=False)]\n",
    "willow_creek_all_wwtps.head()"
   ],
   "metadata": {
    "collapsed": false,
    "ExecuteTime": {
     "end_time": "2024-03-07T20:35:17.693103Z",
     "start_time": "2024-03-07T20:35:17.690875Z"
    }
   },
   "id": "d70aac880ab7628e"
  },
  {
   "cell_type": "code",
   "execution_count": 4,
   "outputs": [
    {
     "data": {
      "text/plain": "       Unnamed: 0 FACILITY_CODE    SOURCE STATE                     FACILITY  \\\n6929         8373       MT01205  CWNS2012    MT     WILLOW CREEK SEWER DIST.   \n12164       14750       TX08885  ICIS2022    TX  WILLOW CREEK FARMS MUD WWTF   \n12165       14751       TX08890  ICIS2022    TX            WILLOW CREEK WWTP   \n12166       14752       TX08895  ICIS2022    TX            WILLOW CREEK WWTP   \n\n                CITY   LATITUDE   LONGITUDE  FLOW_2012_MGD  \\\n6929               0  45.829700 -111.642400          0.022   \n12164  WALLER COUNTY  29.773611  -95.891111          0.480   \n12165  PARKER COUNTY  32.511388  -98.048333          1.260   \n12166     SMITHVILLE  30.008611  -97.125555          0.300   \n\n       2012_TOT_ANNUAL_MM3     CWNS_NUM   NPDES_ID  \n6929              0.030418  30000203001  MT0025038  \n12164             0.663658            0  TX0128236  \n12165             1.742102            0  TX0023779  \n12166             0.414786  48007518001  TX0113786  ",
      "text/html": "<div>\n<style scoped>\n    .dataframe tbody tr th:only-of-type {\n        vertical-align: middle;\n    }\n\n    .dataframe tbody tr th {\n        vertical-align: top;\n    }\n\n    .dataframe thead th {\n        text-align: right;\n    }\n</style>\n<table border=\"1\" class=\"dataframe\">\n  <thead>\n    <tr style=\"text-align: right;\">\n      <th></th>\n      <th>Unnamed: 0</th>\n      <th>FACILITY_CODE</th>\n      <th>SOURCE</th>\n      <th>STATE</th>\n      <th>FACILITY</th>\n      <th>CITY</th>\n      <th>LATITUDE</th>\n      <th>LONGITUDE</th>\n      <th>FLOW_2012_MGD</th>\n      <th>2012_TOT_ANNUAL_MM3</th>\n      <th>CWNS_NUM</th>\n      <th>NPDES_ID</th>\n    </tr>\n  </thead>\n  <tbody>\n    <tr>\n      <th>6929</th>\n      <td>8373</td>\n      <td>MT01205</td>\n      <td>CWNS2012</td>\n      <td>MT</td>\n      <td>WILLOW CREEK SEWER DIST.</td>\n      <td>0</td>\n      <td>45.829700</td>\n      <td>-111.642400</td>\n      <td>0.022</td>\n      <td>0.030418</td>\n      <td>30000203001</td>\n      <td>MT0025038</td>\n    </tr>\n    <tr>\n      <th>12164</th>\n      <td>14750</td>\n      <td>TX08885</td>\n      <td>ICIS2022</td>\n      <td>TX</td>\n      <td>WILLOW CREEK FARMS MUD WWTF</td>\n      <td>WALLER COUNTY</td>\n      <td>29.773611</td>\n      <td>-95.891111</td>\n      <td>0.480</td>\n      <td>0.663658</td>\n      <td>0</td>\n      <td>TX0128236</td>\n    </tr>\n    <tr>\n      <th>12165</th>\n      <td>14751</td>\n      <td>TX08890</td>\n      <td>ICIS2022</td>\n      <td>TX</td>\n      <td>WILLOW CREEK WWTP</td>\n      <td>PARKER COUNTY</td>\n      <td>32.511388</td>\n      <td>-98.048333</td>\n      <td>1.260</td>\n      <td>1.742102</td>\n      <td>0</td>\n      <td>TX0023779</td>\n    </tr>\n    <tr>\n      <th>12166</th>\n      <td>14752</td>\n      <td>TX08895</td>\n      <td>ICIS2022</td>\n      <td>TX</td>\n      <td>WILLOW CREEK WWTP</td>\n      <td>SMITHVILLE</td>\n      <td>30.008611</td>\n      <td>-97.125555</td>\n      <td>0.300</td>\n      <td>0.414786</td>\n      <td>48007518001</td>\n      <td>TX0113786</td>\n    </tr>\n  </tbody>\n</table>\n</div>"
     },
     "execution_count": 4,
     "metadata": {},
     "output_type": "execute_result"
    }
   ],
   "source": [],
   "metadata": {
    "collapsed": false,
    "ExecuteTime": {
     "end_time": "2024-03-07T20:35:17.719902Z",
     "start_time": "2024-03-07T20:35:17.696881Z"
    }
   },
   "id": "a24d82cc8ad30dbf"
  },
  {
   "cell_type": "code",
   "execution_count": 5,
   "outputs": [
    {
     "data": {
      "text/plain": "            AF_NBR                                  P_EFFLUENT  \\\n13276  48007518001                        Advanced Treatment I   \n14566  48004374003  Advanced Treatment I with Nutrient Removal   \n\n              FACILITY_NM REVIEW_STATUS LOCATION_CD  STATE   COUNTY_NM  \\\n13276   Willow Creek WWTP            HA          TX  Texas      Harris   \n14566  Pollard Creek WWTP            HA          TX  Texas  Palo Pinto   \n\n                        WSHED_NM   AUTHORITY_NM           TREATMENT  ...  \\\n13276                    Spring.    DOWDELL PUD  Present and Future  ...   \n14566  Middle Brazos-Palo Pinto.  MINERAL WELLS  Present and Future  ...   \n\n      P_DSRVRCH_NM P_DSWSHED_NBR P_DSWSHED_NM P_DSLATITUDE P_DSLONGITUDE  \\\n13276    WILLOW CR           NaN          NaN          NaN           NaN   \n14566     BRAZOS R           NaN          NaN          NaN           NaN   \n\n      P_DSLATITUDE_POLYGON P_DSLONGITUDE_POLYGON E_TOTAL P_TOTAL F_TOTAL  \n13276                  NaN                   NaN    0.15    0.30    0.30  \n14566                  NaN                   NaN    1.45    2.35    2.35  \n\n[2 rows x 49 columns]",
      "text/html": "<div>\n<style scoped>\n    .dataframe tbody tr th:only-of-type {\n        vertical-align: middle;\n    }\n\n    .dataframe tbody tr th {\n        vertical-align: top;\n    }\n\n    .dataframe thead th {\n        text-align: right;\n    }\n</style>\n<table border=\"1\" class=\"dataframe\">\n  <thead>\n    <tr style=\"text-align: right;\">\n      <th></th>\n      <th>AF_NBR</th>\n      <th>P_EFFLUENT</th>\n      <th>FACILITY_NM</th>\n      <th>REVIEW_STATUS</th>\n      <th>LOCATION_CD</th>\n      <th>STATE</th>\n      <th>COUNTY_NM</th>\n      <th>WSHED_NM</th>\n      <th>AUTHORITY_NM</th>\n      <th>TREATMENT</th>\n      <th>...</th>\n      <th>P_DSRVRCH_NM</th>\n      <th>P_DSWSHED_NBR</th>\n      <th>P_DSWSHED_NM</th>\n      <th>P_DSLATITUDE</th>\n      <th>P_DSLONGITUDE</th>\n      <th>P_DSLATITUDE_POLYGON</th>\n      <th>P_DSLONGITUDE_POLYGON</th>\n      <th>E_TOTAL</th>\n      <th>P_TOTAL</th>\n      <th>F_TOTAL</th>\n    </tr>\n  </thead>\n  <tbody>\n    <tr>\n      <th>13276</th>\n      <td>48007518001</td>\n      <td>Advanced Treatment I</td>\n      <td>Willow Creek WWTP</td>\n      <td>HA</td>\n      <td>TX</td>\n      <td>Texas</td>\n      <td>Harris</td>\n      <td>Spring.</td>\n      <td>DOWDELL PUD</td>\n      <td>Present and Future</td>\n      <td>...</td>\n      <td>WILLOW CR</td>\n      <td>NaN</td>\n      <td>NaN</td>\n      <td>NaN</td>\n      <td>NaN</td>\n      <td>NaN</td>\n      <td>NaN</td>\n      <td>0.15</td>\n      <td>0.30</td>\n      <td>0.30</td>\n    </tr>\n    <tr>\n      <th>14566</th>\n      <td>48004374003</td>\n      <td>Advanced Treatment I with Nutrient Removal</td>\n      <td>Pollard Creek WWTP</td>\n      <td>HA</td>\n      <td>TX</td>\n      <td>Texas</td>\n      <td>Palo Pinto</td>\n      <td>Middle Brazos-Palo Pinto.</td>\n      <td>MINERAL WELLS</td>\n      <td>Present and Future</td>\n      <td>...</td>\n      <td>BRAZOS R</td>\n      <td>NaN</td>\n      <td>NaN</td>\n      <td>NaN</td>\n      <td>NaN</td>\n      <td>NaN</td>\n      <td>NaN</td>\n      <td>1.45</td>\n      <td>2.35</td>\n      <td>2.35</td>\n    </tr>\n  </tbody>\n</table>\n<p>2 rows × 49 columns</p>\n</div>"
     },
     "execution_count": 5,
     "metadata": {},
     "output_type": "execute_result"
    }
   ],
   "source": [
    "# check for NPDES permits of interest in CWNS 2004 \n",
    "\n",
    "willow_crk_npdes = ['TX0023779', 'TX0113786', 'TX0026255'] \n",
    "willow_crk_npdes_cwns = cwns_2004[cwns_2004['PERMIT_NBR'].str.contains('|'.join(willow_crk_npdes), case=False)]\n",
    "willow_crk_npdes_cwns.head()"
   ],
   "metadata": {
    "collapsed": false,
    "ExecuteTime": {
     "end_time": "2024-03-07T20:35:17.727315Z",
     "start_time": "2024-03-07T20:35:17.724833Z"
    }
   },
   "id": "ab3b930b2b8fd8e5"
  },
  {
   "cell_type": "code",
   "execution_count": 6,
   "outputs": [
    {
     "data": {
      "text/plain": "       Unnamed: 0 FACILITY_CODE    SOURCE STATE           FACILITY  \\\n12165       14751       TX08890  ICIS2022    TX  WILLOW CREEK WWTP   \n12166       14752       TX08895  ICIS2022    TX  WILLOW CREEK WWTP   \n\n                CITY   LATITUDE  LONGITUDE  FLOW_2012_MGD  \\\n12165  PARKER COUNTY  32.511388 -98.048333           1.26   \n12166     SMITHVILLE  30.008611 -97.125555           0.30   \n\n       2012_TOT_ANNUAL_MM3     CWNS_NUM   NPDES_ID  \n12165             1.742102            0  TX0023779  \n12166             0.414786  48007518001  TX0113786  ",
      "text/html": "<div>\n<style scoped>\n    .dataframe tbody tr th:only-of-type {\n        vertical-align: middle;\n    }\n\n    .dataframe tbody tr th {\n        vertical-align: top;\n    }\n\n    .dataframe thead th {\n        text-align: right;\n    }\n</style>\n<table border=\"1\" class=\"dataframe\">\n  <thead>\n    <tr style=\"text-align: right;\">\n      <th></th>\n      <th>Unnamed: 0</th>\n      <th>FACILITY_CODE</th>\n      <th>SOURCE</th>\n      <th>STATE</th>\n      <th>FACILITY</th>\n      <th>CITY</th>\n      <th>LATITUDE</th>\n      <th>LONGITUDE</th>\n      <th>FLOW_2012_MGD</th>\n      <th>2012_TOT_ANNUAL_MM3</th>\n      <th>CWNS_NUM</th>\n      <th>NPDES_ID</th>\n    </tr>\n  </thead>\n  <tbody>\n    <tr>\n      <th>12165</th>\n      <td>14751</td>\n      <td>TX08890</td>\n      <td>ICIS2022</td>\n      <td>TX</td>\n      <td>WILLOW CREEK WWTP</td>\n      <td>PARKER COUNTY</td>\n      <td>32.511388</td>\n      <td>-98.048333</td>\n      <td>1.26</td>\n      <td>1.742102</td>\n      <td>0</td>\n      <td>TX0023779</td>\n    </tr>\n    <tr>\n      <th>12166</th>\n      <td>14752</td>\n      <td>TX08895</td>\n      <td>ICIS2022</td>\n      <td>TX</td>\n      <td>WILLOW CREEK WWTP</td>\n      <td>SMITHVILLE</td>\n      <td>30.008611</td>\n      <td>-97.125555</td>\n      <td>0.30</td>\n      <td>0.414786</td>\n      <td>48007518001</td>\n      <td>TX0113786</td>\n    </tr>\n  </tbody>\n</table>\n</div>"
     },
     "execution_count": 6,
     "metadata": {},
     "output_type": "execute_result"
    }
   ],
   "source": [
    "# Check for NPDES permits of interest in all_wwtps \n",
    "\n",
    "willow_crk_npdes_all_wwtp = all_wwtp[all_wwtp['NPDES_ID'].str.contains('|'.join(willow_crk_npdes), case=False)]\n",
    "willow_crk_npdes_all_wwtp.head()"
   ],
   "metadata": {
    "collapsed": false,
    "ExecuteTime": {
     "end_time": "2024-03-07T20:35:17.739980Z",
     "start_time": "2024-03-07T20:35:17.732593Z"
    }
   },
   "id": "452b175cc3bb3b3a"
  },
  {
   "cell_type": "code",
   "execution_count": 7,
   "outputs": [
    {
     "data": {
      "text/plain": "       Unnamed: 0 FACILITY_CODE    SOURCE STATE           FACILITY  \\\n12166       14752       TX08895  ICIS2022    TX  WILLOW CREEK WWTP   \n\n             CITY   LATITUDE  LONGITUDE  FLOW_2012_MGD  2012_TOT_ANNUAL_MM3  \\\n12166  SMITHVILLE  30.008611 -97.125555            0.3             0.414786   \n\n          CWNS_NUM   NPDES_ID  \n12166  48007518001  TX0113786  ",
      "text/html": "<div>\n<style scoped>\n    .dataframe tbody tr th:only-of-type {\n        vertical-align: middle;\n    }\n\n    .dataframe tbody tr th {\n        vertical-align: top;\n    }\n\n    .dataframe thead th {\n        text-align: right;\n    }\n</style>\n<table border=\"1\" class=\"dataframe\">\n  <thead>\n    <tr style=\"text-align: right;\">\n      <th></th>\n      <th>Unnamed: 0</th>\n      <th>FACILITY_CODE</th>\n      <th>SOURCE</th>\n      <th>STATE</th>\n      <th>FACILITY</th>\n      <th>CITY</th>\n      <th>LATITUDE</th>\n      <th>LONGITUDE</th>\n      <th>FLOW_2012_MGD</th>\n      <th>2012_TOT_ANNUAL_MM3</th>\n      <th>CWNS_NUM</th>\n      <th>NPDES_ID</th>\n    </tr>\n  </thead>\n  <tbody>\n    <tr>\n      <th>12166</th>\n      <td>14752</td>\n      <td>TX08895</td>\n      <td>ICIS2022</td>\n      <td>TX</td>\n      <td>WILLOW CREEK WWTP</td>\n      <td>SMITHVILLE</td>\n      <td>30.008611</td>\n      <td>-97.125555</td>\n      <td>0.3</td>\n      <td>0.414786</td>\n      <td>48007518001</td>\n      <td>TX0113786</td>\n    </tr>\n  </tbody>\n</table>\n</div>"
     },
     "execution_count": 7,
     "metadata": {},
     "output_type": "execute_result"
    }
   ],
   "source": [
    "# CHeck for CWNS numbers of interest\n",
    "# Duplicate CWNS number was 48007518001\n",
    "\n",
    "willow_crk_cwns_num = '48007518001'\n",
    "cwns_2004[cwns_2004['AF_NBR'] == willow_crk_cwns_num]\n",
    "all_wwtp_wkcwns = all_wwtp[all_wwtp['CWNS_NUM'] == willow_crk_cwns_num]\n",
    "all_wwtp_wkcwns.head()"
   ],
   "metadata": {
    "collapsed": false,
    "ExecuteTime": {
     "end_time": "2024-03-07T20:35:17.759634Z",
     "start_time": "2024-03-07T20:35:17.735470Z"
    }
   },
   "id": "b86c34827fa6c0a9"
  },
  {
   "cell_type": "code",
   "execution_count": 8,
   "outputs": [
    {
     "name": "stdout",
     "output_type": "stream",
     "text": [
      "Facilities in all_wwtps with CWNS number 48007518001: \n"
     ]
    },
    {
     "data": {
      "text/plain": "       Unnamed: 0 FACILITY_CODE    SOURCE STATE           FACILITY  \\\n12166       14752       TX08895  ICIS2022    TX  WILLOW CREEK WWTP   \n\n             CITY   LATITUDE  LONGITUDE  FLOW_2012_MGD  2012_TOT_ANNUAL_MM3  \\\n12166  SMITHVILLE  30.008611 -97.125555            0.3             0.414786   \n\n          CWNS_NUM   NPDES_ID  \n12166  48007518001  TX0113786  ",
      "text/html": "<div>\n<style scoped>\n    .dataframe tbody tr th:only-of-type {\n        vertical-align: middle;\n    }\n\n    .dataframe tbody tr th {\n        vertical-align: top;\n    }\n\n    .dataframe thead th {\n        text-align: right;\n    }\n</style>\n<table border=\"1\" class=\"dataframe\">\n  <thead>\n    <tr style=\"text-align: right;\">\n      <th></th>\n      <th>Unnamed: 0</th>\n      <th>FACILITY_CODE</th>\n      <th>SOURCE</th>\n      <th>STATE</th>\n      <th>FACILITY</th>\n      <th>CITY</th>\n      <th>LATITUDE</th>\n      <th>LONGITUDE</th>\n      <th>FLOW_2012_MGD</th>\n      <th>2012_TOT_ANNUAL_MM3</th>\n      <th>CWNS_NUM</th>\n      <th>NPDES_ID</th>\n    </tr>\n  </thead>\n  <tbody>\n    <tr>\n      <th>12166</th>\n      <td>14752</td>\n      <td>TX08895</td>\n      <td>ICIS2022</td>\n      <td>TX</td>\n      <td>WILLOW CREEK WWTP</td>\n      <td>SMITHVILLE</td>\n      <td>30.008611</td>\n      <td>-97.125555</td>\n      <td>0.3</td>\n      <td>0.414786</td>\n      <td>48007518001</td>\n      <td>TX0113786</td>\n    </tr>\n  </tbody>\n</table>\n</div>"
     },
     "metadata": {},
     "output_type": "display_data"
    },
    {
     "name": "stdout",
     "output_type": "stream",
     "text": [
      "Facilities in all_wwtps ctonaining the name Willow Creek in the name:\n"
     ]
    },
    {
     "data": {
      "text/plain": "       Unnamed: 0 FACILITY_CODE    SOURCE STATE                     FACILITY  \\\n6929         8373       MT01205  CWNS2012    MT     WILLOW CREEK SEWER DIST.   \n12164       14750       TX08885  ICIS2022    TX  WILLOW CREEK FARMS MUD WWTF   \n12165       14751       TX08890  ICIS2022    TX            WILLOW CREEK WWTP   \n12166       14752       TX08895  ICIS2022    TX            WILLOW CREEK WWTP   \n\n                CITY   LATITUDE   LONGITUDE  FLOW_2012_MGD  \\\n6929               0  45.829700 -111.642400          0.022   \n12164  WALLER COUNTY  29.773611  -95.891111          0.480   \n12165  PARKER COUNTY  32.511388  -98.048333          1.260   \n12166     SMITHVILLE  30.008611  -97.125555          0.300   \n\n       2012_TOT_ANNUAL_MM3     CWNS_NUM   NPDES_ID  \n6929              0.030418  30000203001  MT0025038  \n12164             0.663658            0  TX0128236  \n12165             1.742102            0  TX0023779  \n12166             0.414786  48007518001  TX0113786  ",
      "text/html": "<div>\n<style scoped>\n    .dataframe tbody tr th:only-of-type {\n        vertical-align: middle;\n    }\n\n    .dataframe tbody tr th {\n        vertical-align: top;\n    }\n\n    .dataframe thead th {\n        text-align: right;\n    }\n</style>\n<table border=\"1\" class=\"dataframe\">\n  <thead>\n    <tr style=\"text-align: right;\">\n      <th></th>\n      <th>Unnamed: 0</th>\n      <th>FACILITY_CODE</th>\n      <th>SOURCE</th>\n      <th>STATE</th>\n      <th>FACILITY</th>\n      <th>CITY</th>\n      <th>LATITUDE</th>\n      <th>LONGITUDE</th>\n      <th>FLOW_2012_MGD</th>\n      <th>2012_TOT_ANNUAL_MM3</th>\n      <th>CWNS_NUM</th>\n      <th>NPDES_ID</th>\n    </tr>\n  </thead>\n  <tbody>\n    <tr>\n      <th>6929</th>\n      <td>8373</td>\n      <td>MT01205</td>\n      <td>CWNS2012</td>\n      <td>MT</td>\n      <td>WILLOW CREEK SEWER DIST.</td>\n      <td>0</td>\n      <td>45.829700</td>\n      <td>-111.642400</td>\n      <td>0.022</td>\n      <td>0.030418</td>\n      <td>30000203001</td>\n      <td>MT0025038</td>\n    </tr>\n    <tr>\n      <th>12164</th>\n      <td>14750</td>\n      <td>TX08885</td>\n      <td>ICIS2022</td>\n      <td>TX</td>\n      <td>WILLOW CREEK FARMS MUD WWTF</td>\n      <td>WALLER COUNTY</td>\n      <td>29.773611</td>\n      <td>-95.891111</td>\n      <td>0.480</td>\n      <td>0.663658</td>\n      <td>0</td>\n      <td>TX0128236</td>\n    </tr>\n    <tr>\n      <th>12165</th>\n      <td>14751</td>\n      <td>TX08890</td>\n      <td>ICIS2022</td>\n      <td>TX</td>\n      <td>WILLOW CREEK WWTP</td>\n      <td>PARKER COUNTY</td>\n      <td>32.511388</td>\n      <td>-98.048333</td>\n      <td>1.260</td>\n      <td>1.742102</td>\n      <td>0</td>\n      <td>TX0023779</td>\n    </tr>\n    <tr>\n      <th>12166</th>\n      <td>14752</td>\n      <td>TX08895</td>\n      <td>ICIS2022</td>\n      <td>TX</td>\n      <td>WILLOW CREEK WWTP</td>\n      <td>SMITHVILLE</td>\n      <td>30.008611</td>\n      <td>-97.125555</td>\n      <td>0.300</td>\n      <td>0.414786</td>\n      <td>48007518001</td>\n      <td>TX0113786</td>\n    </tr>\n  </tbody>\n</table>\n</div>"
     },
     "metadata": {},
     "output_type": "display_data"
    }
   ],
   "source": [
    "# Check all_wwtps - the input file to Christina's code \n",
    "\n",
    "# This file contains one row that has the CWNS number that is a duplicate in the biosolids data: \n",
    "willow_crk_cwns_num = '48007518001'\n",
    "all_wwtp_wkcwns = all_wwtp[all_wwtp['CWNS_NUM'] == willow_crk_cwns_num]\n",
    "\n",
    "print('Facilities in all_wwtps with CWNS number 48007518001: ')\n",
    "display(all_wwtp_wkcwns)\n",
    "\n",
    "# CHeck for facilities in all_wwtps that have the name willow creek: \n",
    "print('Facilities in all_wwtps ctonaining the name Willow Creek in the name:')\n",
    "facility_name = 'willow creek'\n",
    "willow_creek_all_wwtps = all_wwtp[all_wwtp['FACILITY'].str.contains(facility_name, case=False)]\n",
    "display(willow_creek_all_wwtps)"
   ],
   "metadata": {
    "collapsed": false,
    "ExecuteTime": {
     "end_time": "2024-03-07T20:35:17.765458Z",
     "start_time": "2024-03-07T20:35:17.745800Z"
    }
   },
   "id": "1bce935ccacecbb8"
  },
  {
   "cell_type": "markdown",
   "source": [
    "# CWNS as Zero \n",
    "In trying to understand the cause of duplicates for Willow Creek WWTP, I found three different wastewater treatment plants based on NPDES permits. \n",
    "\n",
    "There were two that appeared in the index and were assigned CWNS # 48007518001. However, this CWNS number (only in CWNS 2004) had a third NPDES permit associated with it - meaning there are likely three different plants here.\n"
   ],
   "metadata": {
    "collapsed": false
   },
   "id": "322f71d0023832ed"
  },
  {
   "cell_type": "code",
   "execution_count": 9,
   "outputs": [],
   "source": [
    "\n",
    "wwtp_zero_cwns = all_wwtp.loc[all_wwtp['CWNS_NUM'] == '0'].copy()\n",
    "wwtp_zero_cwns.to_csv(pathlib.PurePath('04_results', 'no_cwns.csv'))"
   ],
   "metadata": {
    "collapsed": false,
    "ExecuteTime": {
     "end_time": "2024-03-07T20:35:17.780175Z",
     "start_time": "2024-03-07T20:35:17.756714Z"
    }
   },
   "id": "14c485261a286e68"
  },
  {
   "cell_type": "markdown",
   "source": [],
   "metadata": {
    "collapsed": false
   },
   "id": "d4293e63ca35795a"
  },
  {
   "cell_type": "markdown",
   "source": [
    "# Check SIC code for all facilities in all_wwtps \n",
    "\n"
   ],
   "metadata": {
    "collapsed": false
   },
   "id": "4c70c873d7b5d92d"
  },
  {
   "cell_type": "code",
   "execution_count": 9,
   "outputs": [
    {
     "name": "stderr",
     "output_type": "stream",
     "text": [
      "100%|██████████| 13533/13533 [48:29<00:00,  4.65it/s]"
     ]
    },
    {
     "name": "stdout",
     "output_type": "stream",
     "text": [
      "(285, 13)\n"
     ]
    },
    {
     "name": "stderr",
     "output_type": "stream",
     "text": [
      "\n"
     ]
    }
   ],
   "source": [
    "from utilities import flag_not_ww\n",
    "from tqdm import tqdm \n",
    "tqdm.pandas() \n",
    "\n",
    "all_wwtp = pd.read_csv(pathlib.PurePath('02_clean_data', 'all_wwtps_relevant_cols.csv'))\n",
    "\n",
    "# Flag rows for review that have an NPDES permit that is not wastewater\n",
    "all_wwtp['ww_sic_code'] = all_wwtp['NPDES_ID'].progress_apply(flag_not_ww)\n",
    "all_wwtp_for_review = all_wwtp[all_wwtp['ww_sic_code'] == 'REVIEW'].copy()\n",
    "print(all_wwtp_for_review.shape)\n",
    "all_wwtp_for_review.to_csv(pathlib.PurePath('04_results', 'flag_all_wwtp.csv'))"
   ],
   "metadata": {
    "collapsed": false,
    "ExecuteTime": {
     "end_time": "2024-03-11T19:46:31.066551Z",
     "start_time": "2024-03-11T18:58:01.603581Z"
    }
   },
   "id": "bb6a59965beaa2f2"
  },
  {
   "cell_type": "code",
   "execution_count": 5,
   "outputs": [
    {
     "name": "stderr",
     "output_type": "stream",
     "text": [
      "100%|██████████| 285/285 [01:00<00:00,  4.72it/s]"
     ]
    },
    {
     "name": "stdout",
     "output_type": "stream",
     "text": [
      "No. of facilities with a permit associated with an SIC code not for wastewater: 285\n"
     ]
    },
    {
     "name": "stderr",
     "output_type": "stream",
     "text": [
      "\n"
     ]
    }
   ],
   "source": [
    "# Look at the facilities that were flagged for additional review \n",
    "import pandas as pd \n",
    "import pathlib\n",
    "from utilities import check_for_dw_permits, view_all_sic_codes\n",
    "from tqdm import tqdm \n",
    "\n",
    "tqdm.pandas() \n",
    "\n",
    "# generate list to review (comment out because it takes a little while to run) \n",
    "review_wwtp = pd.read_csv(pathlib.PurePath('04_results', 'flag_all_wwtp.csv'))\n",
    "review_wwtp['sic_code_type'] = review_wwtp['NPDES_ID'].progress_apply(check_for_dw_permits)\n",
    "review_wwtp.to_csv(pathlib.PurePath('04_results', 'all_wwtp_review_check_permits.csv'))\n",
    "\n",
    "review_wwtp = pd.read_csv(pathlib.PurePath('04_results', 'all_wwtp_review_check_permits.csv'))\n",
    "print(f'No. of facilities with a permit associated with an SIC code not for wastewater: {len(review_wwtp)}')\n"
   ],
   "metadata": {
    "collapsed": false,
    "ExecuteTime": {
     "end_time": "2024-03-11T21:40:37.382470Z",
     "start_time": "2024-03-11T21:39:36.932559Z"
    }
   },
   "id": "5d889e4b2eae4f55"
  },
  {
   "cell_type": "code",
   "execution_count": 6,
   "outputs": [
    {
     "name": "stderr",
     "output_type": "stream",
     "text": [
      "100%|██████████| 285/285 [01:00<00:00,  4.72it/s]"
     ]
    },
    {
     "name": "stdout",
     "output_type": "stream",
     "text": [
      "Number of unique permits to review: 276\n",
      "Facilities to check permit status (NPDES): ['AK0022551' 'AL0022195' 'AL0055841' 'AL0023418' 'AL0061158' 'AL0062715'\n",
      " 'AL0050547' 'AL0023922' 'AL0024180' 'AL0058572' 'AR0033359' 'AR0020087'\n",
      " 'AR0022381' 'AR0021890' 'AR0022098' 'CA0024490' 'CA0023345' 'CA0037702'\n",
      " 'CA0037851' 'CA0047856' 'CA0053813' 'CA0054216' 'CA0105350' 'CA0110604'\n",
      " 'CO0026671' 'COG641125' 'CO0031232' 'COG589086' 'CO0046507' 'FL0021857'\n",
      " 'FL0021865' 'FL0037940' 'FL0116009' 'GA0020982' 'GA0023132' 'GA0026221'\n",
      " 'IA0020796' 'IA0081001' 'IA0057169' 'ILG640037' 'IL0026352' 'IL0024911'\n",
      " 'ILG580004' 'ILG580167' 'IL0025119' 'ILG580053' 'IN0024783' 'IN0025763'\n",
      " 'IN0040738' 'IN0023108' 'IN0038539' 'IN0023337' 'IN0039241' 'IN0040789'\n",
      " 'IN0039306' 'IN0022489' 'IN0063088' 'KS0089176' 'KY0073377' 'KY0057193'\n",
      " 'KY0021130' 'KY0024279' 'KYP000063' 'LA0054925' 'LA0059951' 'LA0038059'\n",
      " 'LA0043656' 'MD0021598' 'MD0020281' 'MD0020001' 'MD2038U99' 'MD0023876'\n",
      " 'MD0023868' 'MD0051667' 'MD0024988' 'MD0023001' 'MD0023833' 'MD0023981'\n",
      " 'MIG640212' 'MIG580207' 'MN0061077' 'MN0023931' 'MNG585060' 'MN0069957'\n",
      " 'MO0049506' 'MO0033251' 'MO0055204' 'MO0043583' 'MO0022969' 'MO0021458'\n",
      " 'MO0046078' 'MO0122599' 'MO0050695' 'MO0021466' 'MO0131539' 'MO0054691'\n",
      " 'MO0025321' 'MO0087874' 'MO0116246' 'MO0022063' 'MN0067938' 'MS0048356'\n",
      " 'MS0020915' 'MT0030759' 'MT0020753' 'MT0023078' 'MT0021792' 'MT0020371'\n",
      " 'MTX000147' 'NC0050661' 'NC0021024' 'NC0023931' 'NC0025071' 'NC0027286'\n",
      " 'ND0023370' 'ND0022896' 'ND0026093' 'NDG323639' 'NDG121458' 'NDG122209'\n",
      " 'NDG121903' 'ND0020630' 'NDG123256' 'NDG122829' 'NDG321849' 'NDG589312'\n",
      " 'NE0114901' 'NE0024236' 'NE0052647' 'NE0042668' 'NE0050890' 'NE0023876'\n",
      " 'NE0024368' 'NE0113077' 'NH0100013' 'NH0100706' 'NJ0027961' 'NJ0021636'\n",
      " 'NJ0025321' 'NJ0067733' 'NJ0020371' 'NJ0025178' 'NJ0027545' 'NJ0021709'\n",
      " 'NJ0035483' 'NJ0020184' 'NM0028827' 'NM0023477' 'NY0020079' 'NY0025976'\n",
      " 'NY0031895' 'NY0027758' 'NY0021393' 'OH0053171' 'OH0023833' 'OH0021393'\n",
      " 'OH0041840' 'OH0098043' 'OH0029432' 'OH0025071' 'OH0053341' 'OH0026590'\n",
      " 'OH0020117' 'OH0023353' 'OH0028207' 'OK0030422' 'OK0021521' 'OKG380024'\n",
      " 'OK0027618' 'OK0022772' 'OK0031003' 'OK0028266' 'OK0020346' 'OR0026255'\n",
      " 'PA0024121' 'PA0027693' 'PA0081949' 'PA0023558' 'PA0020168' 'PA0021563'\n",
      " 'PA0098132' 'PA0020826' 'PA0087955' 'PA0218367' 'PA0022292' 'PA0025933'\n",
      " 'PA0025968' 'PA0204943' 'PA0028941' 'PA0217654' 'PA0023892' 'PA0020605'\n",
      " 'PA0020141' 'PA0218634' 'PA0218162' 'PA0088960' 'PA0033430' 'PR0026484'\n",
      " 'SC0030783' 'SC0040771' 'SD0023582' 'SD0021971' 'SD0022705' 'SD0023701'\n",
      " 'SD0020371' 'SD0020567' 'SD0020044' 'SD0021636' 'SD0021466' 'TN0074080'\n",
      " 'TN0030899' 'TN0028754' 'TN0020818' 'TN0062529' 'TN0026158' 'SD0023370'\n",
      " 'TX0117731' 'TX0021253' 'TX0111341' 'TX0122203' 'TX0047180' 'TX0024635'\n",
      " 'TX0027910' 'TX0054178' 'TX0023876' 'TX0027138' 'TX0096172' 'TX0034924'\n",
      " 'TX0055310' 'TX0020478' 'TX0052639' 'TX0071650' 'TX0002372' 'TX0023710'\n",
      " 'TX0125563' 'TX0026328' 'TX0022951' 'TX0027693' 'TX0027111' 'TX0134490'\n",
      " 'TX0123498' 'TX0027677' 'UT0026026' 'UT0021814' 'UT0022403' 'UT0021920'\n",
      " 'VA0078484' 'VA0023965' 'WA0020826' 'WA0020982' 'WA0021083' 'WI0023141'\n",
      " 'WI0030767' 'WI0029050' 'WI0020184' 'WI0029467' 'WI0021415' 'WI0020044'\n",
      " 'WI0021521' 'WI0026590' 'WI0028053' 'WI0029599' 'WI0029602' 'WI0028452'\n",
      " 'WI0028592' 'WI0029742' 'WI0029726' 'WV0101702' 'WV0027022' 'WV0101524'\n",
      " 'WV0084000' 'WV0105678' 'WV0023264' 'WVG640100' 'WV0021881' 'WV0028151']\n"
     ]
    },
    {
     "name": "stderr",
     "output_type": "stream",
     "text": [
      "\n"
     ]
    },
    {
     "data": {
      "text/plain": "       NPDES_ID  sic_cod_no sic_facility_type    flag\n0     AK0022551           1      sewer_system  REVIEW\n1     AK0022551           2      sewer_system  REVIEW\n2     AK0022551           3      sewer_system  REVIEW\n3     AK0022551           4      sewer_system  REVIEW\n4     AK0022551           5      sewer_system  REVIEW\n...         ...         ...               ...     ...\n1308  WV0028151           1      sewer_system  REVIEW\n1309  WV0028151           2      sewer_system  REVIEW\n1310  WV0028151           3      sewer_system  REVIEW\n1311  WV0028151           4      sewer_system  REVIEW\n1312  WV0028151           5    drinking_water  REVIEW\n\n[1313 rows x 4 columns]",
      "text/html": "<div>\n<style scoped>\n    .dataframe tbody tr th:only-of-type {\n        vertical-align: middle;\n    }\n\n    .dataframe tbody tr th {\n        vertical-align: top;\n    }\n\n    .dataframe thead th {\n        text-align: right;\n    }\n</style>\n<table border=\"1\" class=\"dataframe\">\n  <thead>\n    <tr style=\"text-align: right;\">\n      <th></th>\n      <th>NPDES_ID</th>\n      <th>sic_cod_no</th>\n      <th>sic_facility_type</th>\n      <th>flag</th>\n    </tr>\n  </thead>\n  <tbody>\n    <tr>\n      <th>0</th>\n      <td>AK0022551</td>\n      <td>1</td>\n      <td>sewer_system</td>\n      <td>REVIEW</td>\n    </tr>\n    <tr>\n      <th>1</th>\n      <td>AK0022551</td>\n      <td>2</td>\n      <td>sewer_system</td>\n      <td>REVIEW</td>\n    </tr>\n    <tr>\n      <th>2</th>\n      <td>AK0022551</td>\n      <td>3</td>\n      <td>sewer_system</td>\n      <td>REVIEW</td>\n    </tr>\n    <tr>\n      <th>3</th>\n      <td>AK0022551</td>\n      <td>4</td>\n      <td>sewer_system</td>\n      <td>REVIEW</td>\n    </tr>\n    <tr>\n      <th>4</th>\n      <td>AK0022551</td>\n      <td>5</td>\n      <td>sewer_system</td>\n      <td>REVIEW</td>\n    </tr>\n    <tr>\n      <th>...</th>\n      <td>...</td>\n      <td>...</td>\n      <td>...</td>\n      <td>...</td>\n    </tr>\n    <tr>\n      <th>1308</th>\n      <td>WV0028151</td>\n      <td>1</td>\n      <td>sewer_system</td>\n      <td>REVIEW</td>\n    </tr>\n    <tr>\n      <th>1309</th>\n      <td>WV0028151</td>\n      <td>2</td>\n      <td>sewer_system</td>\n      <td>REVIEW</td>\n    </tr>\n    <tr>\n      <th>1310</th>\n      <td>WV0028151</td>\n      <td>3</td>\n      <td>sewer_system</td>\n      <td>REVIEW</td>\n    </tr>\n    <tr>\n      <th>1311</th>\n      <td>WV0028151</td>\n      <td>4</td>\n      <td>sewer_system</td>\n      <td>REVIEW</td>\n    </tr>\n    <tr>\n      <th>1312</th>\n      <td>WV0028151</td>\n      <td>5</td>\n      <td>drinking_water</td>\n      <td>REVIEW</td>\n    </tr>\n  </tbody>\n</table>\n<p>1313 rows × 4 columns</p>\n</div>"
     },
     "metadata": {},
     "output_type": "display_data"
    }
   ],
   "source": [
    "\n",
    "# For testing: top 10 facilities \n",
    "# review_wwtp = review_wwtp.head(10)\n",
    "\n",
    "all_sics_for_review = pd.DataFrame()\n",
    "\n",
    "for facility_npdes in tqdm(review_wwtp['NPDES_ID']): \n",
    "    facility_sic = view_all_sic_codes(facility_npdes)\n",
    "    all_sics_for_review = pd.concat([all_sics_for_review, facility_sic], ignore_index=True)\n",
    "    \n",
    "# print(all_sics_for_review)\n",
    "\n",
    "# FLag for further review facilities that have: \n",
    "## - Any permit for 'other_system' \n",
    "## - Ay facility that has more than 1 drinking water permit, or if they only have 1 permit, it is for drinking water\n",
    "# With this approach, we are not considering facilities that have multiple permits and only one of them is for drinking water .\n",
    "\n",
    "manual_check = all_sics_for_review[all_sics_for_review['flag'] == 'REVIEW']\n",
    "# display(manual_check)\n",
    "\n",
    "no_unique_npdes = manual_check['NPDES_ID'].nunique()\n",
    "print(f'Number of unique permits to review: {no_unique_npdes}')\n",
    "\n",
    "unique_npdes = manual_check['NPDES_ID'].unique() \n",
    "print(f'Facilities to check permit status (NPDES): {unique_npdes}')\n",
    "\n",
    "display(all_sics_for_review)\n"
   ],
   "metadata": {
    "collapsed": false,
    "ExecuteTime": {
     "end_time": "2024-03-11T21:43:40.411479Z",
     "start_time": "2024-03-11T21:42:40.057699Z"
    }
   },
   "id": "43a2dc502fe993c9"
  },
  {
   "cell_type": "code",
   "execution_count": 10,
   "outputs": [
    {
     "data": {
      "text/plain": "       Unnamed: 0 FACILITY_CODE    SOURCE STATE  \\\n3               3       AK00035  CWNS2012    AK   \n24             25       AL00065  CWNS2012    AL   \n84             85       AL00665  CWNS2012    AL   \n99            100       AL00815  CWNS2012    AL   \n128           130       AL01115  CWNS2012    AL   \n...           ...           ...       ...   ...   \n13394       16245       WV01425  CWNS2012    WV   \n13403       16255       WV01525  CWNS2012    WV   \n13409       16261       WV01585  CWNS2012    WV   \n13444       16299       WV01965  CWNS2012    WV   \n13455       16310       WV02075  CWNS2012    WV   \n\n                                FACILITY         CITY  LATITUDE  LONGITUDE  \\\n3      POINT WORONZOF, JOHN ASPLUND WWTP    ANCHORAGE   61.1964  -150.0235   \n24             ANNISTON CHOCCOLOCCO WWTP     ANNISTON   33.6032   -85.8293   \n84                      GULF SHORES WWTP  Gulf Shores   30.2766   -87.6666   \n99                Jasper Town Creek WWTP       Jasper   33.8125   -87.2694   \n128                   PARRISH HCR LAGOON      Parrish   33.7194   -87.2990   \n...                                  ...          ...       ...        ...   \n13394                   MOUNDSVILLE WWTP  MOUNDSVILLE   39.9177   -80.7473   \n13403                  BLUEWELL PSD WWTP    BLUEFIELD   37.3019   -81.2517   \n13409     MNTN TOP PSD - ELK GARDEN WWTP     MT STORM   39.2745   -79.3626   \n13444                      KINGWOOD WWTP     KINGWOOD   39.4468   -79.6781   \n13455                     HURRICANE WWTP    HURRICANE   38.4465   -82.0082   \n\n       FLOW_2012_MGD  2012_TOT_ANNUAL_MM3     CWNS_NUM   NPDES_ID  \n3              29.66            41.008539   2000106001  AK0022551  \n24              8.80            12.167065   1000007001  AL0022195  \n84              1.50             2.073932   1000074001  AL0055841  \n99              3.00             4.147863   1000088001  AL0023418  \n128             0.10             0.138262   1000132001  AL0061158  \n...              ...                  ...          ...        ...  \n13394           1.30             1.797407  54002509001  WV0023264  \n13403           0.40             0.553048  54002704001  WVG640100  \n13409           0.05             0.069131  54002801001  WV0101524  \n13444           0.57             0.788094  54003903001  WV0021881  \n13455           2.05             2.834373  54004005001  WV0028151  \n\n[285 rows x 12 columns]",
      "text/html": "<div>\n<style scoped>\n    .dataframe tbody tr th:only-of-type {\n        vertical-align: middle;\n    }\n\n    .dataframe tbody tr th {\n        vertical-align: top;\n    }\n\n    .dataframe thead th {\n        text-align: right;\n    }\n</style>\n<table border=\"1\" class=\"dataframe\">\n  <thead>\n    <tr style=\"text-align: right;\">\n      <th></th>\n      <th>Unnamed: 0</th>\n      <th>FACILITY_CODE</th>\n      <th>SOURCE</th>\n      <th>STATE</th>\n      <th>FACILITY</th>\n      <th>CITY</th>\n      <th>LATITUDE</th>\n      <th>LONGITUDE</th>\n      <th>FLOW_2012_MGD</th>\n      <th>2012_TOT_ANNUAL_MM3</th>\n      <th>CWNS_NUM</th>\n      <th>NPDES_ID</th>\n    </tr>\n  </thead>\n  <tbody>\n    <tr>\n      <th>3</th>\n      <td>3</td>\n      <td>AK00035</td>\n      <td>CWNS2012</td>\n      <td>AK</td>\n      <td>POINT WORONZOF, JOHN ASPLUND WWTP</td>\n      <td>ANCHORAGE</td>\n      <td>61.1964</td>\n      <td>-150.0235</td>\n      <td>29.66</td>\n      <td>41.008539</td>\n      <td>2000106001</td>\n      <td>AK0022551</td>\n    </tr>\n    <tr>\n      <th>24</th>\n      <td>25</td>\n      <td>AL00065</td>\n      <td>CWNS2012</td>\n      <td>AL</td>\n      <td>ANNISTON CHOCCOLOCCO WWTP</td>\n      <td>ANNISTON</td>\n      <td>33.6032</td>\n      <td>-85.8293</td>\n      <td>8.80</td>\n      <td>12.167065</td>\n      <td>1000007001</td>\n      <td>AL0022195</td>\n    </tr>\n    <tr>\n      <th>84</th>\n      <td>85</td>\n      <td>AL00665</td>\n      <td>CWNS2012</td>\n      <td>AL</td>\n      <td>GULF SHORES WWTP</td>\n      <td>Gulf Shores</td>\n      <td>30.2766</td>\n      <td>-87.6666</td>\n      <td>1.50</td>\n      <td>2.073932</td>\n      <td>1000074001</td>\n      <td>AL0055841</td>\n    </tr>\n    <tr>\n      <th>99</th>\n      <td>100</td>\n      <td>AL00815</td>\n      <td>CWNS2012</td>\n      <td>AL</td>\n      <td>Jasper Town Creek WWTP</td>\n      <td>Jasper</td>\n      <td>33.8125</td>\n      <td>-87.2694</td>\n      <td>3.00</td>\n      <td>4.147863</td>\n      <td>1000088001</td>\n      <td>AL0023418</td>\n    </tr>\n    <tr>\n      <th>128</th>\n      <td>130</td>\n      <td>AL01115</td>\n      <td>CWNS2012</td>\n      <td>AL</td>\n      <td>PARRISH HCR LAGOON</td>\n      <td>Parrish</td>\n      <td>33.7194</td>\n      <td>-87.2990</td>\n      <td>0.10</td>\n      <td>0.138262</td>\n      <td>1000132001</td>\n      <td>AL0061158</td>\n    </tr>\n    <tr>\n      <th>...</th>\n      <td>...</td>\n      <td>...</td>\n      <td>...</td>\n      <td>...</td>\n      <td>...</td>\n      <td>...</td>\n      <td>...</td>\n      <td>...</td>\n      <td>...</td>\n      <td>...</td>\n      <td>...</td>\n      <td>...</td>\n    </tr>\n    <tr>\n      <th>13394</th>\n      <td>16245</td>\n      <td>WV01425</td>\n      <td>CWNS2012</td>\n      <td>WV</td>\n      <td>MOUNDSVILLE WWTP</td>\n      <td>MOUNDSVILLE</td>\n      <td>39.9177</td>\n      <td>-80.7473</td>\n      <td>1.30</td>\n      <td>1.797407</td>\n      <td>54002509001</td>\n      <td>WV0023264</td>\n    </tr>\n    <tr>\n      <th>13403</th>\n      <td>16255</td>\n      <td>WV01525</td>\n      <td>CWNS2012</td>\n      <td>WV</td>\n      <td>BLUEWELL PSD WWTP</td>\n      <td>BLUEFIELD</td>\n      <td>37.3019</td>\n      <td>-81.2517</td>\n      <td>0.40</td>\n      <td>0.553048</td>\n      <td>54002704001</td>\n      <td>WVG640100</td>\n    </tr>\n    <tr>\n      <th>13409</th>\n      <td>16261</td>\n      <td>WV01585</td>\n      <td>CWNS2012</td>\n      <td>WV</td>\n      <td>MNTN TOP PSD - ELK GARDEN WWTP</td>\n      <td>MT STORM</td>\n      <td>39.2745</td>\n      <td>-79.3626</td>\n      <td>0.05</td>\n      <td>0.069131</td>\n      <td>54002801001</td>\n      <td>WV0101524</td>\n    </tr>\n    <tr>\n      <th>13444</th>\n      <td>16299</td>\n      <td>WV01965</td>\n      <td>CWNS2012</td>\n      <td>WV</td>\n      <td>KINGWOOD WWTP</td>\n      <td>KINGWOOD</td>\n      <td>39.4468</td>\n      <td>-79.6781</td>\n      <td>0.57</td>\n      <td>0.788094</td>\n      <td>54003903001</td>\n      <td>WV0021881</td>\n    </tr>\n    <tr>\n      <th>13455</th>\n      <td>16310</td>\n      <td>WV02075</td>\n      <td>CWNS2012</td>\n      <td>WV</td>\n      <td>HURRICANE WWTP</td>\n      <td>HURRICANE</td>\n      <td>38.4465</td>\n      <td>-82.0082</td>\n      <td>2.05</td>\n      <td>2.834373</td>\n      <td>54004005001</td>\n      <td>WV0028151</td>\n    </tr>\n  </tbody>\n</table>\n<p>285 rows × 12 columns</p>\n</div>"
     },
     "metadata": {},
     "output_type": "display_data"
    }
   ],
   "source": [
    "# Find details on facilities in all_wwtps that have NPDES code \n",
    "all_wwtp = pd.read_csv(pathlib.PurePath('02_clean_data', 'all_wwtps_relevant_cols.csv'))\n",
    "wwtps_water_codes = all_wwtp[all_wwtp['NPDES_ID'].isin(unique_npdes)]\n",
    "display(wwtps_water_codes)\n",
    "wwtps_water_codes.to_csv(pathlib.PurePath('04_results', 'wwtps_any_water_code.csv'))\n",
    "\n"
   ],
   "metadata": {
    "collapsed": false,
    "ExecuteTime": {
     "end_time": "2024-03-11T21:46:00.347461Z",
     "start_time": "2024-03-11T21:46:00.290875Z"
    }
   },
   "id": "9480043b5c1d1f01"
  },
  {
   "cell_type": "code",
   "execution_count": 11,
   "outputs": [
    {
     "data": {
      "text/plain": "       Unnamed: 0 FACILITY_CODE    SOURCE STATE  \\\n3127         4070       IL05315  ICIS2022    IL   \n3213         4156       IL05730  ICIS2022    IL   \n5649         7016       MN02170  ICIS2022    MN   \n5713         7080       MN02095  ICIS2022    MN   \n6491         7876       MN02885  ICIS2022    MN   \n7425         9054       ND03035  ICIS2022    ND   \n10867       13341       SD00475  ICIS2022    SD   \n10905       13379       SD00745  ICIS2022    SD   \n10941       13415       SD00815  ICIS2022    SD   \n10943       13417       SD01025  ICIS2022    SD   \n10964       13438       SD01190  ICIS2022    SD   \n10965       13439       SD01200  ICIS2022    SD   \n11207       13694       SD01155  ICIS2022    SD   \n11766       14352       TX06285  ICIS2022    TX   \n11776       14362       TX06350  ICIS2022    TX   \n11783       14369       TX06395  ICIS2022    TX   \n11785       14371       TX06405  ICIS2022    TX   \n11905       14491       TX07180  ICIS2022    TX   \n11933       14519       TX07350  ICIS2022    TX   \n11942       14528       TX07395  ICIS2022    TX   \n11943       14529       TX07400  ICIS2022    TX   \n11995       14581       TX07670  ICIS2022    TX   \n12001       14587       TX07720  ICIS2022    TX   \n12160       14746       TX08855  ICIS2022    TX   \n12223       14888       UT01245  ICIS2022    UT   \n\n                                           FACILITY                CITY  \\\n3127                            EUREKA STP, CITY OF              EUREKA   \n3213                   LAKE OF EGYPT SEWER DIST STP              MARION   \n5649                                   FAIRFAX WWTP             FAIRFAX   \n5713   CRYSTAL LAKE FLOCCULATION TREATMENT FACILITY         ROBBINSDALE   \n6491                SMSC WATER RECLAMATION FACILITY          PRIOR LAKE   \n7425                       FORT YATES LAGOON SYSTEM          FORT YATES   \n10867                             EDGEMONT, CITY OF   EDGEMONT, CITY OF   \n10905                              MILBANK, CITY OF             MILBANK   \n10941                     NORTH SIOUX CITY, CITY OF    NORTH SIOUX CITY   \n10943                            SPEARFISH, CITY OF  SPEARFISH, CITY OF   \n10964                                WHITE, CITY OF      WHITE, CITY OF   \n10965                           WHITEWOOD - CITY OF  WHITEWOOD, CITY OF   \n11207                            WATERTOWN, CITY OF           WATERTOWN   \n11766                            CITY OF CHINA WWTF               CHINA   \n11776                   CITY OF DALLAS ELM FORK WTP          CARROLLTON   \n11783                         CITY OF EDGEWOOD WWTF            EDGEWOOD   \n11785                     CITY OF ENNIS SURFACE WTF               ENNIS   \n11905                                    EMORY WWTP               EMORY   \n11933                             GAZLEY CREEK WWTP          SMITHVILLE   \n11942                     HARDIN COUNTY WCID 1 WWTP           SOUR LAKE   \n11943                       HARRIS CNTY FWSD 6 WWTP         CHANNELVIEW   \n11995                HOMER N TANNER JR REGIONAL WTP             AVINGER   \n12001                          JOINES ROAD REG WWTF             CAMERON   \n12160                      WESTWOOD SHORES MUD WWTF             TRINITY   \n12223                        LOGAN CITY CORPORATION               LOGAN   \n\n        LATITUDE   LONGITUDE  FLOW_2012_MGD  2012_TOT_ANNUAL_MM3     CWNS_NUM  \\\n3127   40.701667  -89.270000          0.590             0.815746  17000299002   \n3213   37.626667  -88.941667          0.225             0.311090            0   \n5649   44.514471  -94.691443          0.000             0.000000  27009223001   \n5713   45.021721  -93.326900          0.720             0.995487            0   \n6491   44.725070  -93.464680          0.630             0.871051            0   \n7425   46.081500 -100.652500          0.385             0.532309            0   \n10867  43.302222 -103.807889          0.100             0.138262  46000031001   \n10905  45.227056  -96.624000          0.100             0.138262  46000050001   \n10941  42.541333  -96.528528          0.100             0.138262            0   \n10943  44.550351 -103.866191          0.100             0.138262  46000098001   \n10964  44.428111  -96.663667          0.100             0.138262  46000269001   \n10965  44.468028 -103.625528          0.100             0.138262  46000503001   \n11207  44.885028  -97.099250          0.100             0.138262            0   \n11766  30.025555  -94.335000          0.228             0.315238  48006012001   \n11776  32.972222  -96.916388          5.000             6.913105            0   \n11783  32.708333  -95.877600          0.200             0.276524  48005066001   \n11785  32.273611  -96.645555          0.250             0.345655            0   \n11905  32.864166  -95.766111          0.300             0.414786  48005068001   \n11933  30.011111  -97.164722          0.500             0.691311            0   \n11942  30.166111  -94.315277          0.300             0.414786  48006070001   \n11943  29.766944  -95.105833          0.400             0.553048  48007085001   \n11995  32.863611   94.662222          0.000             0.000000            0   \n12001  26.074166  -97.649444          0.510             0.705137            0   \n12160  30.940833  -95.315000          0.257             0.355334  48006165001   \n12223  41.739368 -111.902276         21.000            29.035041  49000135001   \n\n        NPDES_ID  \n3127   IL0025119  \n3213   ILG580053  \n5649   MNG585060  \n5713   MN0069957  \n6491   MN0067938  \n7425   NDG589312  \n10867  SD0023701  \n10905  SD0020371  \n10941  SD0020567  \n10943  SD0020044  \n10964  SD0021636  \n10965  SD0021466  \n11207  SD0023370  \n11766  TX0071650  \n11776  TX0002372  \n11783  TX0023710  \n11785  TX0125563  \n11905  TX0026328  \n11933  TX0022951  \n11942  TX0027693  \n11943  TX0027111  \n11995  TX0134490  \n12001  TX0123498  \n12160  TX0027677  \n12223  UT0021920  ",
      "text/html": "<div>\n<style scoped>\n    .dataframe tbody tr th:only-of-type {\n        vertical-align: middle;\n    }\n\n    .dataframe tbody tr th {\n        vertical-align: top;\n    }\n\n    .dataframe thead th {\n        text-align: right;\n    }\n</style>\n<table border=\"1\" class=\"dataframe\">\n  <thead>\n    <tr style=\"text-align: right;\">\n      <th></th>\n      <th>Unnamed: 0</th>\n      <th>FACILITY_CODE</th>\n      <th>SOURCE</th>\n      <th>STATE</th>\n      <th>FACILITY</th>\n      <th>CITY</th>\n      <th>LATITUDE</th>\n      <th>LONGITUDE</th>\n      <th>FLOW_2012_MGD</th>\n      <th>2012_TOT_ANNUAL_MM3</th>\n      <th>CWNS_NUM</th>\n      <th>NPDES_ID</th>\n    </tr>\n  </thead>\n  <tbody>\n    <tr>\n      <th>3127</th>\n      <td>4070</td>\n      <td>IL05315</td>\n      <td>ICIS2022</td>\n      <td>IL</td>\n      <td>EUREKA STP, CITY OF</td>\n      <td>EUREKA</td>\n      <td>40.701667</td>\n      <td>-89.270000</td>\n      <td>0.590</td>\n      <td>0.815746</td>\n      <td>17000299002</td>\n      <td>IL0025119</td>\n    </tr>\n    <tr>\n      <th>3213</th>\n      <td>4156</td>\n      <td>IL05730</td>\n      <td>ICIS2022</td>\n      <td>IL</td>\n      <td>LAKE OF EGYPT SEWER DIST STP</td>\n      <td>MARION</td>\n      <td>37.626667</td>\n      <td>-88.941667</td>\n      <td>0.225</td>\n      <td>0.311090</td>\n      <td>0</td>\n      <td>ILG580053</td>\n    </tr>\n    <tr>\n      <th>5649</th>\n      <td>7016</td>\n      <td>MN02170</td>\n      <td>ICIS2022</td>\n      <td>MN</td>\n      <td>FAIRFAX WWTP</td>\n      <td>FAIRFAX</td>\n      <td>44.514471</td>\n      <td>-94.691443</td>\n      <td>0.000</td>\n      <td>0.000000</td>\n      <td>27009223001</td>\n      <td>MNG585060</td>\n    </tr>\n    <tr>\n      <th>5713</th>\n      <td>7080</td>\n      <td>MN02095</td>\n      <td>ICIS2022</td>\n      <td>MN</td>\n      <td>CRYSTAL LAKE FLOCCULATION TREATMENT FACILITY</td>\n      <td>ROBBINSDALE</td>\n      <td>45.021721</td>\n      <td>-93.326900</td>\n      <td>0.720</td>\n      <td>0.995487</td>\n      <td>0</td>\n      <td>MN0069957</td>\n    </tr>\n    <tr>\n      <th>6491</th>\n      <td>7876</td>\n      <td>MN02885</td>\n      <td>ICIS2022</td>\n      <td>MN</td>\n      <td>SMSC WATER RECLAMATION FACILITY</td>\n      <td>PRIOR LAKE</td>\n      <td>44.725070</td>\n      <td>-93.464680</td>\n      <td>0.630</td>\n      <td>0.871051</td>\n      <td>0</td>\n      <td>MN0067938</td>\n    </tr>\n    <tr>\n      <th>7425</th>\n      <td>9054</td>\n      <td>ND03035</td>\n      <td>ICIS2022</td>\n      <td>ND</td>\n      <td>FORT YATES LAGOON SYSTEM</td>\n      <td>FORT YATES</td>\n      <td>46.081500</td>\n      <td>-100.652500</td>\n      <td>0.385</td>\n      <td>0.532309</td>\n      <td>0</td>\n      <td>NDG589312</td>\n    </tr>\n    <tr>\n      <th>10867</th>\n      <td>13341</td>\n      <td>SD00475</td>\n      <td>ICIS2022</td>\n      <td>SD</td>\n      <td>EDGEMONT, CITY OF</td>\n      <td>EDGEMONT, CITY OF</td>\n      <td>43.302222</td>\n      <td>-103.807889</td>\n      <td>0.100</td>\n      <td>0.138262</td>\n      <td>46000031001</td>\n      <td>SD0023701</td>\n    </tr>\n    <tr>\n      <th>10905</th>\n      <td>13379</td>\n      <td>SD00745</td>\n      <td>ICIS2022</td>\n      <td>SD</td>\n      <td>MILBANK, CITY OF</td>\n      <td>MILBANK</td>\n      <td>45.227056</td>\n      <td>-96.624000</td>\n      <td>0.100</td>\n      <td>0.138262</td>\n      <td>46000050001</td>\n      <td>SD0020371</td>\n    </tr>\n    <tr>\n      <th>10941</th>\n      <td>13415</td>\n      <td>SD00815</td>\n      <td>ICIS2022</td>\n      <td>SD</td>\n      <td>NORTH SIOUX CITY, CITY OF</td>\n      <td>NORTH SIOUX CITY</td>\n      <td>42.541333</td>\n      <td>-96.528528</td>\n      <td>0.100</td>\n      <td>0.138262</td>\n      <td>0</td>\n      <td>SD0020567</td>\n    </tr>\n    <tr>\n      <th>10943</th>\n      <td>13417</td>\n      <td>SD01025</td>\n      <td>ICIS2022</td>\n      <td>SD</td>\n      <td>SPEARFISH, CITY OF</td>\n      <td>SPEARFISH, CITY OF</td>\n      <td>44.550351</td>\n      <td>-103.866191</td>\n      <td>0.100</td>\n      <td>0.138262</td>\n      <td>46000098001</td>\n      <td>SD0020044</td>\n    </tr>\n    <tr>\n      <th>10964</th>\n      <td>13438</td>\n      <td>SD01190</td>\n      <td>ICIS2022</td>\n      <td>SD</td>\n      <td>WHITE, CITY OF</td>\n      <td>WHITE, CITY OF</td>\n      <td>44.428111</td>\n      <td>-96.663667</td>\n      <td>0.100</td>\n      <td>0.138262</td>\n      <td>46000269001</td>\n      <td>SD0021636</td>\n    </tr>\n    <tr>\n      <th>10965</th>\n      <td>13439</td>\n      <td>SD01200</td>\n      <td>ICIS2022</td>\n      <td>SD</td>\n      <td>WHITEWOOD - CITY OF</td>\n      <td>WHITEWOOD, CITY OF</td>\n      <td>44.468028</td>\n      <td>-103.625528</td>\n      <td>0.100</td>\n      <td>0.138262</td>\n      <td>46000503001</td>\n      <td>SD0021466</td>\n    </tr>\n    <tr>\n      <th>11207</th>\n      <td>13694</td>\n      <td>SD01155</td>\n      <td>ICIS2022</td>\n      <td>SD</td>\n      <td>WATERTOWN, CITY OF</td>\n      <td>WATERTOWN</td>\n      <td>44.885028</td>\n      <td>-97.099250</td>\n      <td>0.100</td>\n      <td>0.138262</td>\n      <td>0</td>\n      <td>SD0023370</td>\n    </tr>\n    <tr>\n      <th>11766</th>\n      <td>14352</td>\n      <td>TX06285</td>\n      <td>ICIS2022</td>\n      <td>TX</td>\n      <td>CITY OF CHINA WWTF</td>\n      <td>CHINA</td>\n      <td>30.025555</td>\n      <td>-94.335000</td>\n      <td>0.228</td>\n      <td>0.315238</td>\n      <td>48006012001</td>\n      <td>TX0071650</td>\n    </tr>\n    <tr>\n      <th>11776</th>\n      <td>14362</td>\n      <td>TX06350</td>\n      <td>ICIS2022</td>\n      <td>TX</td>\n      <td>CITY OF DALLAS ELM FORK WTP</td>\n      <td>CARROLLTON</td>\n      <td>32.972222</td>\n      <td>-96.916388</td>\n      <td>5.000</td>\n      <td>6.913105</td>\n      <td>0</td>\n      <td>TX0002372</td>\n    </tr>\n    <tr>\n      <th>11783</th>\n      <td>14369</td>\n      <td>TX06395</td>\n      <td>ICIS2022</td>\n      <td>TX</td>\n      <td>CITY OF EDGEWOOD WWTF</td>\n      <td>EDGEWOOD</td>\n      <td>32.708333</td>\n      <td>-95.877600</td>\n      <td>0.200</td>\n      <td>0.276524</td>\n      <td>48005066001</td>\n      <td>TX0023710</td>\n    </tr>\n    <tr>\n      <th>11785</th>\n      <td>14371</td>\n      <td>TX06405</td>\n      <td>ICIS2022</td>\n      <td>TX</td>\n      <td>CITY OF ENNIS SURFACE WTF</td>\n      <td>ENNIS</td>\n      <td>32.273611</td>\n      <td>-96.645555</td>\n      <td>0.250</td>\n      <td>0.345655</td>\n      <td>0</td>\n      <td>TX0125563</td>\n    </tr>\n    <tr>\n      <th>11905</th>\n      <td>14491</td>\n      <td>TX07180</td>\n      <td>ICIS2022</td>\n      <td>TX</td>\n      <td>EMORY WWTP</td>\n      <td>EMORY</td>\n      <td>32.864166</td>\n      <td>-95.766111</td>\n      <td>0.300</td>\n      <td>0.414786</td>\n      <td>48005068001</td>\n      <td>TX0026328</td>\n    </tr>\n    <tr>\n      <th>11933</th>\n      <td>14519</td>\n      <td>TX07350</td>\n      <td>ICIS2022</td>\n      <td>TX</td>\n      <td>GAZLEY CREEK WWTP</td>\n      <td>SMITHVILLE</td>\n      <td>30.011111</td>\n      <td>-97.164722</td>\n      <td>0.500</td>\n      <td>0.691311</td>\n      <td>0</td>\n      <td>TX0022951</td>\n    </tr>\n    <tr>\n      <th>11942</th>\n      <td>14528</td>\n      <td>TX07395</td>\n      <td>ICIS2022</td>\n      <td>TX</td>\n      <td>HARDIN COUNTY WCID 1 WWTP</td>\n      <td>SOUR LAKE</td>\n      <td>30.166111</td>\n      <td>-94.315277</td>\n      <td>0.300</td>\n      <td>0.414786</td>\n      <td>48006070001</td>\n      <td>TX0027693</td>\n    </tr>\n    <tr>\n      <th>11943</th>\n      <td>14529</td>\n      <td>TX07400</td>\n      <td>ICIS2022</td>\n      <td>TX</td>\n      <td>HARRIS CNTY FWSD 6 WWTP</td>\n      <td>CHANNELVIEW</td>\n      <td>29.766944</td>\n      <td>-95.105833</td>\n      <td>0.400</td>\n      <td>0.553048</td>\n      <td>48007085001</td>\n      <td>TX0027111</td>\n    </tr>\n    <tr>\n      <th>11995</th>\n      <td>14581</td>\n      <td>TX07670</td>\n      <td>ICIS2022</td>\n      <td>TX</td>\n      <td>HOMER N TANNER JR REGIONAL WTP</td>\n      <td>AVINGER</td>\n      <td>32.863611</td>\n      <td>94.662222</td>\n      <td>0.000</td>\n      <td>0.000000</td>\n      <td>0</td>\n      <td>TX0134490</td>\n    </tr>\n    <tr>\n      <th>12001</th>\n      <td>14587</td>\n      <td>TX07720</td>\n      <td>ICIS2022</td>\n      <td>TX</td>\n      <td>JOINES ROAD REG WWTF</td>\n      <td>CAMERON</td>\n      <td>26.074166</td>\n      <td>-97.649444</td>\n      <td>0.510</td>\n      <td>0.705137</td>\n      <td>0</td>\n      <td>TX0123498</td>\n    </tr>\n    <tr>\n      <th>12160</th>\n      <td>14746</td>\n      <td>TX08855</td>\n      <td>ICIS2022</td>\n      <td>TX</td>\n      <td>WESTWOOD SHORES MUD WWTF</td>\n      <td>TRINITY</td>\n      <td>30.940833</td>\n      <td>-95.315000</td>\n      <td>0.257</td>\n      <td>0.355334</td>\n      <td>48006165001</td>\n      <td>TX0027677</td>\n    </tr>\n    <tr>\n      <th>12223</th>\n      <td>14888</td>\n      <td>UT01245</td>\n      <td>ICIS2022</td>\n      <td>UT</td>\n      <td>LOGAN CITY CORPORATION</td>\n      <td>LOGAN</td>\n      <td>41.739368</td>\n      <td>-111.902276</td>\n      <td>21.000</td>\n      <td>29.035041</td>\n      <td>49000135001</td>\n      <td>UT0021920</td>\n    </tr>\n  </tbody>\n</table>\n</div>"
     },
     "metadata": {},
     "output_type": "display_data"
    }
   ],
   "source": [
    "# Only consider plants that have source as ICIS2022\n",
    "\n",
    "wwtps_water_code_from_ICIS2022 = wwtps_water_codes[wwtps_water_codes['SOURCE'] == 'ICIS2022']\n",
    "display(wwtps_water_code_from_ICIS2022)\n",
    "\n",
    "# wwtps_multiple_water_codes_large_plants = wwtps_multiple_water_codes[wwtps_multiple_water_codes['FLOW_2012_MGD'] > 10]\n",
    "# display(wwtps_multiple_water_codes_large_plants)"
   ],
   "metadata": {
    "collapsed": false,
    "ExecuteTime": {
     "end_time": "2024-03-11T21:46:13.015367Z",
     "start_time": "2024-03-11T21:46:13.011880Z"
    }
   },
   "id": "f145181dbd6a7f31"
  },
  {
   "cell_type": "code",
   "execution_count": 11,
   "outputs": [
    {
     "data": {
      "text/plain": "    Unnamed: 0  Amount of Biosolids Generated       City State  \\\n19          19                          52.15  GROESBECK    TX   \n21          21                           2.20    DECATUR    TX   \n24          24                         541.83    HOUSTON    TX   \n33          33                          64.22   BELLAIRE    TX   \n38          38                           1.80     JASPER    TX   \n43          43                          12.63     MENARD    TX   \n\n    Facility Name - Biosolids Facility Name - all_wwtps  \\\n19              GROESBECK WTP                       NaN   \n21                DECATUR WTP                       NaN   \n24       IMPERIAL VALLEY WWTP      Imperial Valley WWTP   \n33  HARRIS COUNTY MUD 24 WWTP                             \n38          FOREST HILLS WWTP                       NaN   \n43                 MENARD WTP                       NaN   \n\n   Facility Name - master_match NPDES ID - Biosolids NPDES match - all_wwtps  \\\n19                          NaN            TX0117587                     NaN   \n21                          NaN            TX0136204                     NaN   \n24         IMPERIAL VALLEY WWTP            TX0020478               TX0020478   \n33                          NaN            TX0113123                     NaN   \n38                          NaN            TX0031283                     NaN   \n43                          NaN            TX0125458                     NaN   \n\n   NPDES match - master_match  ...   CWNS - Jenn  CWNS - Final  SIC_CODE  \\\n19                        NaN  ...  4.800305e+10   48003046001       NaN   \n21                        NaN  ...  4.800423e+10   48004234001       NaN   \n24                  TX0020478  ...  4.800704e+10   48007039067       NaN   \n33                        NaN  ...           NaN   48007556001       NaN   \n38                        NaN  ...  4.800787e+10   48007874001       NaN   \n43                        NaN  ...  4.800901e+10   48009009001       NaN   \n\n    CODE_DESCRIPTION  INTEREST_TYPE(s)                                 Notes  \\\n19               NaN               NaN                     Probably the same   \n21               NaN               NaN                     Probably the same   \n24               NaN               NaN                         Manual check    \n33               NaN               NaN                 Keep with CWNS number   \n38               NaN               NaN                          Manual check   \n43               NaN               NaN  Accidental duplication? Manual check   \n\n   Unnamed: 18 Unnamed: 19 Unnamed: 20   sic_code_type  \n19         NaN         NaN         NaN  drinking_water  \n21         NaN         NaN         NaN  drinking_water  \n24         NaN         NaN         NaN  drinking_water  \n33         NaN         NaN         NaN  drinking_water  \n38         NaN         NaN         NaN  drinking_water  \n43         NaN         NaN         NaN  drinking_water  \n\n[6 rows x 23 columns]",
      "text/html": "<div>\n<style scoped>\n    .dataframe tbody tr th:only-of-type {\n        vertical-align: middle;\n    }\n\n    .dataframe tbody tr th {\n        vertical-align: top;\n    }\n\n    .dataframe thead th {\n        text-align: right;\n    }\n</style>\n<table border=\"1\" class=\"dataframe\">\n  <thead>\n    <tr style=\"text-align: right;\">\n      <th></th>\n      <th>Unnamed: 0</th>\n      <th>Amount of Biosolids Generated</th>\n      <th>City</th>\n      <th>State</th>\n      <th>Facility Name - Biosolids</th>\n      <th>Facility Name - all_wwtps</th>\n      <th>Facility Name - master_match</th>\n      <th>NPDES ID - Biosolids</th>\n      <th>NPDES match - all_wwtps</th>\n      <th>NPDES match - master_match</th>\n      <th>...</th>\n      <th>CWNS - Jenn</th>\n      <th>CWNS - Final</th>\n      <th>SIC_CODE</th>\n      <th>CODE_DESCRIPTION</th>\n      <th>INTEREST_TYPE(s)</th>\n      <th>Notes</th>\n      <th>Unnamed: 18</th>\n      <th>Unnamed: 19</th>\n      <th>Unnamed: 20</th>\n      <th>sic_code_type</th>\n    </tr>\n  </thead>\n  <tbody>\n    <tr>\n      <th>19</th>\n      <td>19</td>\n      <td>52.15</td>\n      <td>GROESBECK</td>\n      <td>TX</td>\n      <td>GROESBECK WTP</td>\n      <td>NaN</td>\n      <td>NaN</td>\n      <td>TX0117587</td>\n      <td>NaN</td>\n      <td>NaN</td>\n      <td>...</td>\n      <td>4.800305e+10</td>\n      <td>48003046001</td>\n      <td>NaN</td>\n      <td>NaN</td>\n      <td>NaN</td>\n      <td>Probably the same</td>\n      <td>NaN</td>\n      <td>NaN</td>\n      <td>NaN</td>\n      <td>drinking_water</td>\n    </tr>\n    <tr>\n      <th>21</th>\n      <td>21</td>\n      <td>2.20</td>\n      <td>DECATUR</td>\n      <td>TX</td>\n      <td>DECATUR WTP</td>\n      <td>NaN</td>\n      <td>NaN</td>\n      <td>TX0136204</td>\n      <td>NaN</td>\n      <td>NaN</td>\n      <td>...</td>\n      <td>4.800423e+10</td>\n      <td>48004234001</td>\n      <td>NaN</td>\n      <td>NaN</td>\n      <td>NaN</td>\n      <td>Probably the same</td>\n      <td>NaN</td>\n      <td>NaN</td>\n      <td>NaN</td>\n      <td>drinking_water</td>\n    </tr>\n    <tr>\n      <th>24</th>\n      <td>24</td>\n      <td>541.83</td>\n      <td>HOUSTON</td>\n      <td>TX</td>\n      <td>IMPERIAL VALLEY WWTP</td>\n      <td>Imperial Valley WWTP</td>\n      <td>IMPERIAL VALLEY WWTP</td>\n      <td>TX0020478</td>\n      <td>TX0020478</td>\n      <td>TX0020478</td>\n      <td>...</td>\n      <td>4.800704e+10</td>\n      <td>48007039067</td>\n      <td>NaN</td>\n      <td>NaN</td>\n      <td>NaN</td>\n      <td>Manual check</td>\n      <td>NaN</td>\n      <td>NaN</td>\n      <td>NaN</td>\n      <td>drinking_water</td>\n    </tr>\n    <tr>\n      <th>33</th>\n      <td>33</td>\n      <td>64.22</td>\n      <td>BELLAIRE</td>\n      <td>TX</td>\n      <td>HARRIS COUNTY MUD 24 WWTP</td>\n      <td></td>\n      <td>NaN</td>\n      <td>TX0113123</td>\n      <td>NaN</td>\n      <td>NaN</td>\n      <td>...</td>\n      <td>NaN</td>\n      <td>48007556001</td>\n      <td>NaN</td>\n      <td>NaN</td>\n      <td>NaN</td>\n      <td>Keep with CWNS number</td>\n      <td>NaN</td>\n      <td>NaN</td>\n      <td>NaN</td>\n      <td>drinking_water</td>\n    </tr>\n    <tr>\n      <th>38</th>\n      <td>38</td>\n      <td>1.80</td>\n      <td>JASPER</td>\n      <td>TX</td>\n      <td>FOREST HILLS WWTP</td>\n      <td>NaN</td>\n      <td>NaN</td>\n      <td>TX0031283</td>\n      <td>NaN</td>\n      <td>NaN</td>\n      <td>...</td>\n      <td>4.800787e+10</td>\n      <td>48007874001</td>\n      <td>NaN</td>\n      <td>NaN</td>\n      <td>NaN</td>\n      <td>Manual check</td>\n      <td>NaN</td>\n      <td>NaN</td>\n      <td>NaN</td>\n      <td>drinking_water</td>\n    </tr>\n    <tr>\n      <th>43</th>\n      <td>43</td>\n      <td>12.63</td>\n      <td>MENARD</td>\n      <td>TX</td>\n      <td>MENARD WTP</td>\n      <td>NaN</td>\n      <td>NaN</td>\n      <td>TX0125458</td>\n      <td>NaN</td>\n      <td>NaN</td>\n      <td>...</td>\n      <td>4.800901e+10</td>\n      <td>48009009001</td>\n      <td>NaN</td>\n      <td>NaN</td>\n      <td>NaN</td>\n      <td>Accidental duplication? Manual check</td>\n      <td>NaN</td>\n      <td>NaN</td>\n      <td>NaN</td>\n      <td>drinking_water</td>\n    </tr>\n  </tbody>\n</table>\n<p>6 rows × 23 columns</p>\n</div>"
     },
     "metadata": {},
     "output_type": "display_data"
    }
   ],
   "source": [
    "# Why aren't all facilties from duplicates showing up? \n",
    "from utilities import view_all_sic_codes\n",
    "import pandas as pd\n",
    "import pathlib \n",
    "all_wwtp = pd.read_csv(pathlib.PurePath('02_clean_data', 'all_wwtps_relevant_cols.csv'))\n",
    "\n",
    "# Load the duplicates data \n",
    "wwtp_duplicates = pd.read_csv(pathlib.PurePath('04_results', 'biosolids_duplicates_sic_code_assignment.csv'))\n",
    "wwtp_duplicates_dw = wwtp_duplicates[wwtp_duplicates['sic_code_type'] == 'drinking_water']\n",
    "\n",
    "display(wwtp_duplicates_dw)"
   ],
   "metadata": {
    "collapsed": false,
    "ExecuteTime": {
     "end_time": "2024-03-11T22:42:49.334201Z",
     "start_time": "2024-03-11T22:42:49.306645Z"
    }
   },
   "id": "a66d08ad29bd6956"
  },
  {
   "cell_type": "code",
   "execution_count": 15,
   "outputs": [
    {
     "name": "stdout",
     "output_type": "stream",
     "text": [
      "Facility in all_wwtps:\n"
     ]
    },
    {
     "data": {
      "text/plain": "       Unnamed: 0 FACILITY_CODE    SOURCE STATE        FACILITY  \\\n11939       14525       TX07380  ICIS2022    TX  GROESBECK WWTP   \n\n                   CITY   LATITUDE  LONGITUDE  FLOW_2012_MGD  \\\n11939  LIMESTONE COUNTY  31.526944 -96.519444          0.709   \n\n       2012_TOT_ANNUAL_MM3     CWNS_NUM   NPDES_ID  \n11939             0.980278  48003046001  TX0054445  ",
      "text/html": "<div>\n<style scoped>\n    .dataframe tbody tr th:only-of-type {\n        vertical-align: middle;\n    }\n\n    .dataframe tbody tr th {\n        vertical-align: top;\n    }\n\n    .dataframe thead th {\n        text-align: right;\n    }\n</style>\n<table border=\"1\" class=\"dataframe\">\n  <thead>\n    <tr style=\"text-align: right;\">\n      <th></th>\n      <th>Unnamed: 0</th>\n      <th>FACILITY_CODE</th>\n      <th>SOURCE</th>\n      <th>STATE</th>\n      <th>FACILITY</th>\n      <th>CITY</th>\n      <th>LATITUDE</th>\n      <th>LONGITUDE</th>\n      <th>FLOW_2012_MGD</th>\n      <th>2012_TOT_ANNUAL_MM3</th>\n      <th>CWNS_NUM</th>\n      <th>NPDES_ID</th>\n    </tr>\n  </thead>\n  <tbody>\n    <tr>\n      <th>11939</th>\n      <td>14525</td>\n      <td>TX07380</td>\n      <td>ICIS2022</td>\n      <td>TX</td>\n      <td>GROESBECK WWTP</td>\n      <td>LIMESTONE COUNTY</td>\n      <td>31.526944</td>\n      <td>-96.519444</td>\n      <td>0.709</td>\n      <td>0.980278</td>\n      <td>48003046001</td>\n      <td>TX0054445</td>\n    </tr>\n  </tbody>\n</table>\n</div>"
     },
     "metadata": {},
     "output_type": "display_data"
    },
    {
     "name": "stdout",
     "output_type": "stream",
     "text": [
      "Facility in CWNS:\n"
     ]
    },
    {
     "data": {
      "text/plain": "      Unnamed: 0     CWNS_NUM   FACILITY_NAME STATE PRIMARY_COUNTY  AUTHORITY  \\\n6314        6314  48003046001  Groesbeck WWTP    TX      Limestone  GROESBECK   \n\n     PERMIT_NBR   LATITUDE  LONGITUDE  IN 2000 REPORT?  IN 2004 REPORT?  \\\n6314  TX0054445  31.5286 N  96.5197 W             True             True   \n\n      IN 2008 REPORT?  IN 2012 REPORT?  MOST_RECENT_REPORT  \n6314             True             True                2012  ",
      "text/html": "<div>\n<style scoped>\n    .dataframe tbody tr th:only-of-type {\n        vertical-align: middle;\n    }\n\n    .dataframe tbody tr th {\n        vertical-align: top;\n    }\n\n    .dataframe thead th {\n        text-align: right;\n    }\n</style>\n<table border=\"1\" class=\"dataframe\">\n  <thead>\n    <tr style=\"text-align: right;\">\n      <th></th>\n      <th>Unnamed: 0</th>\n      <th>CWNS_NUM</th>\n      <th>FACILITY_NAME</th>\n      <th>STATE</th>\n      <th>PRIMARY_COUNTY</th>\n      <th>AUTHORITY</th>\n      <th>PERMIT_NBR</th>\n      <th>LATITUDE</th>\n      <th>LONGITUDE</th>\n      <th>IN 2000 REPORT?</th>\n      <th>IN 2004 REPORT?</th>\n      <th>IN 2008 REPORT?</th>\n      <th>IN 2012 REPORT?</th>\n      <th>MOST_RECENT_REPORT</th>\n    </tr>\n  </thead>\n  <tbody>\n    <tr>\n      <th>6314</th>\n      <td>6314</td>\n      <td>48003046001</td>\n      <td>Groesbeck WWTP</td>\n      <td>TX</td>\n      <td>Limestone</td>\n      <td>GROESBECK</td>\n      <td>TX0054445</td>\n      <td>31.5286 N</td>\n      <td>96.5197 W</td>\n      <td>True</td>\n      <td>True</td>\n      <td>True</td>\n      <td>True</td>\n      <td>2012</td>\n    </tr>\n  </tbody>\n</table>\n</div>"
     },
     "metadata": {},
     "output_type": "display_data"
    },
    {
     "name": "stdout",
     "output_type": "stream",
     "text": [
      "11939    TX0054445\n",
      "Name: NPDES_ID, dtype: object\n",
      "       Unnamed: 0 FACILITY_CODE    SOURCE STATE        FACILITY  \\\n",
      "14525       16312       TX07380  ICIS2022    TX  GROESBECK WWTP   \n",
      "\n",
      "                   CITY   LATITUDE  LONGITUDE  FLOW_2012_MGD  \\\n",
      "14525  LIMESTONE COUNTY  31.526944 -96.519444          0.709   \n",
      "\n",
      "       2012_TOT_ANNUAL_MM3  ... PROJ_RES_TOTAL_RECEIVNG_TRMT  \\\n",
      "14525             0.980278  ...                          NaN   \n",
      "\n",
      "       PRES_RES_ONSITE_WTS  PRES_RES_ONSITE_WTS_UNITS PROJ_RES_ONSITE_WTS  \\\n",
      "14525                  NaN                        NaN                 NaN   \n",
      "\n",
      "       PROJ_RES_ONSITE_WTS_UNITS  ICIS_2022_TOTAL_MGD ICIS_ACTIVE_2012  \\\n",
      "14525                        NaN                0.709              1.0   \n",
      "\n",
      "       ICIS_ACTIVE_2022  ACTIVE_STATUS_NOTES LOCATION_DATA_NOTES  \n",
      "14525               0.0                  NaN                 NaN  \n",
      "\n",
      "[1 rows x 84 columns]\n",
      "TX0054445 all_wwtps NPDES ID: SIC code is\n",
      "[4952, 4952]\n",
      "TX0117587 biosolids NPDES ID: SIC code is\n",
      "[4941]\n"
     ]
    }
   ],
   "source": [
    "import numpy as np \n",
    "from utilities import view_all_sic_codes, lookup_sic_code\n",
    "\n",
    "\n",
    "def lookup_facility_by_name(facility_name):\n",
    "    all_wwtp = pd.read_csv(pathlib.PurePath('02_clean_data', 'all_wwtps_relevant_cols.csv'))\n",
    "    cwns = pd.read_csv(pathlib.PurePath('01_raw_data', 'CWNS_metadata_all.csv'))\n",
    "    \n",
    "    print('Facility in all_wwtps:')\n",
    "    facility_all_wwtp = all_wwtp[all_wwtp['FACILITY'].str.contains(facility_name, case=False)]\n",
    "    display(facility_all_wwtp)\n",
    "    \n",
    "    print('Facility in CWNS:')\n",
    "    facility_cwns = cwns[cwns['FACILITY_NAME'].str.contains(facility_name, case=False)]\n",
    "    display(facility_cwns)\n",
    "    \n",
    "    return facility_all_wwtp, facility_cwns\n",
    "\n",
    "imperial_all_wwtps, imperial_facility_cwns = lookup_facility_by_name('groesbeck')\n",
    "print(imperial_all_wwtps['NPDES_ID'])\n",
    "view_all_sic_codes(imperial_all_wwtps['NPDES_ID'].iloc[0])\n",
    "\n",
    "print(all_wwtp[all_wwtp['NPDES_ID'] == imperial_all_wwtps['NPDES_ID'].iloc[0]])\n",
    "\n",
    "npdes_1 = 'TX0054445'# all wwtps NPDES_ID TX 0054445\n",
    "npdes_2 = 'TX0117587' # biosolids NPDES for groesbeck \n",
    "print(f'{npdes_1} all_wwtps NPDES ID: SIC code is')\n",
    "print(lookup_sic_code(npdes_1))\n",
    "print(f'{npdes_2} biosolids NPDES ID: SIC code is')\n",
    "print(lookup_sic_code(npdes_2))\n"
   ],
   "metadata": {
    "collapsed": false,
    "ExecuteTime": {
     "end_time": "2024-03-13T19:05:47.406481Z",
     "start_time": "2024-03-13T19:05:46.586686Z"
    }
   },
   "id": "abfe49dc5af5e2af"
  },
  {
   "cell_type": "code",
   "execution_count": 23,
   "outputs": [
    {
     "data": {
      "text/plain": "    NPDES_ID  sic_cod_no sic_facility_type    flag\n0  TX0071650           1      sewer_system  REVIEW\n1  TX0071650           2      sewer_system  REVIEW\n2  TX0071650           3      sewer_system  REVIEW\n3  TX0071650           4      sewer_system  REVIEW\n4  TX0071650           5    drinking_water  REVIEW",
      "text/html": "<div>\n<style scoped>\n    .dataframe tbody tr th:only-of-type {\n        vertical-align: middle;\n    }\n\n    .dataframe tbody tr th {\n        vertical-align: top;\n    }\n\n    .dataframe thead th {\n        text-align: right;\n    }\n</style>\n<table border=\"1\" class=\"dataframe\">\n  <thead>\n    <tr style=\"text-align: right;\">\n      <th></th>\n      <th>NPDES_ID</th>\n      <th>sic_cod_no</th>\n      <th>sic_facility_type</th>\n      <th>flag</th>\n    </tr>\n  </thead>\n  <tbody>\n    <tr>\n      <th>0</th>\n      <td>TX0071650</td>\n      <td>1</td>\n      <td>sewer_system</td>\n      <td>REVIEW</td>\n    </tr>\n    <tr>\n      <th>1</th>\n      <td>TX0071650</td>\n      <td>2</td>\n      <td>sewer_system</td>\n      <td>REVIEW</td>\n    </tr>\n    <tr>\n      <th>2</th>\n      <td>TX0071650</td>\n      <td>3</td>\n      <td>sewer_system</td>\n      <td>REVIEW</td>\n    </tr>\n    <tr>\n      <th>3</th>\n      <td>TX0071650</td>\n      <td>4</td>\n      <td>sewer_system</td>\n      <td>REVIEW</td>\n    </tr>\n    <tr>\n      <th>4</th>\n      <td>TX0071650</td>\n      <td>5</td>\n      <td>drinking_water</td>\n      <td>REVIEW</td>\n    </tr>\n  </tbody>\n</table>\n</div>"
     },
     "execution_count": 23,
     "metadata": {},
     "output_type": "execute_result"
    }
   ],
   "source": [
    "view_all_sic_codes('TX0071650')"
   ],
   "metadata": {
    "collapsed": false,
    "ExecuteTime": {
     "end_time": "2024-03-11T23:22:00.824921Z",
     "start_time": "2024-03-11T23:22:00.580723Z"
    }
   },
   "id": "e442051ce0a4b2a1"
  },
  {
   "cell_type": "code",
   "execution_count": 8,
   "outputs": [
    {
     "name": "stdout",
     "output_type": "stream",
     "text": [
      "16488\n"
     ]
    },
    {
     "data": {
      "text/plain": "array(['IL02007', 'ND01347', 'PR00237', 'TX01517', 'AL02900', 'AL02905',\n       'AL03005', 'AL03035', 'AL03080', 'AL03100', 'AL03130', 'AL03135',\n       'AL03140', 'AL03145', 'AL03215', 'AL03240', 'AL03250', 'AR03905',\n       'AR03920', 'AR04020', 'AZ01570', 'AZ01585', 'AZ01590', 'AZ01600',\n       'AZ01610', 'AZ01615', 'AZ01620', 'CA01047', 'CA04960', 'CA04985',\n       'CA05000', 'CA05010', 'CA05015', 'CA05025', 'CA05030', 'CA05050',\n       'CA05060', 'CO02820', 'CO02830', 'CO02835', 'CO02840', 'FL03810',\n       'FL03815', 'FL03820', 'FL03825', 'FL03830', 'FL03835', 'GA03450',\n       'GA03455', 'GA03465', 'GA03480', 'GA03485', 'GA03490', 'GA03500',\n       'GA03510', 'GA03515', 'GA03525', 'GA03565', 'GA03575', 'GA03600',\n       'GA03605', 'GA03610', 'GA03615', 'GA03620', 'GA03625', 'GA03630',\n       'GA03635', 'GA03645', 'GA03650', 'GA03660', 'GA03665', 'GA03680',\n       'GA03690', 'GA03700', 'GA03725', 'GA03745', 'GA03775', 'IA07845',\n       'IA07990', 'IL04660', 'IL04830', 'IL04870', 'IL04880', 'IL04930',\n       'IL04940', 'IL04945', 'IL05000', 'IL05015', 'IL05035', 'IL05370',\n       'IL05415', 'IL05470', 'IL05500', 'IL05555', 'IL05635', 'IL05730',\n       'IL05735', 'IL05755', 'IL05785', 'IL05915', 'IL05975', 'IL06140',\n       'IL06185', 'IL06335', 'IL06340', 'IL06360', 'IL06455', 'IL06460',\n       'IL06490', 'IL06610', 'IL06630', 'IN05000', 'IN05050', 'IN05055',\n       'KY02830', 'KY02835', 'KY02850', 'KY02860', 'KY02865', 'KY02875',\n       'LA02925', 'LA02930', 'LA02935', 'LA02940', 'LA02955', 'LA02960',\n       'LA02965', 'LA02975', 'LA02980', 'LA02990', 'LA02995', 'LA03000',\n       'MD01720', 'MD01735', 'MI03940', 'MI03950', 'MI03955', 'MI03970',\n       'MN01865', 'MN01990', 'MN02010', 'MN02095', 'MN02245', 'MN02280',\n       'MN02515', 'MN02610', 'MN02680', 'MN02785', 'MN02865', 'MN02885',\n       'MO07820', 'MO07830', 'MO07875', 'MO07885', 'MO07895', 'MO08045',\n       'MO08055', 'MS04180', 'MS04190', 'MS04200', 'MT01690', 'MT01715',\n       'NC03295', 'ND03035', 'ND03040', 'ND03060', 'ND03160', 'ND03245',\n       'NV00500', 'NY06370', 'OH08865', 'OH09140', 'OH09285', 'OK04900',\n       'OK04930', 'PR00450', 'PR00455', 'PR00465', 'PR00470', 'PR00475',\n       'SC01640', 'SD00530', 'SD00575', 'SD00690', 'SD00815', 'SD00985',\n       'SD01010', 'SD01020', 'SD01155', 'SD01225', 'TN02615', 'TN02635',\n       'TN02795', 'TN02810', 'TN02825', 'TN02840', 'TN02970', 'TN02990',\n       'TN02995', 'TN03015', 'TN03025', 'TN03070', 'TX04857', 'TX05855',\n       'TX05860', 'TX05880', 'TX05900', 'TX05935', 'TX05945', 'TX05950',\n       'TX05955', 'TX05970', 'TX06130', 'TX06140', 'TX06325', 'TX06350',\n       'TX06405', 'TX06425', 'TX06510', 'TX06610', 'TX06615', 'TX06770',\n       'TX06780', 'TX06815', 'TX06820', 'TX07060', 'TX07070', 'TX07110',\n       'TX07220', 'TX07230', 'TX07240', 'TX07245', 'TX07250', 'TX07255',\n       'TX07260', 'TX07265', 'TX07275', 'TX07280', 'TX07285', 'TX07290',\n       'TX07300', 'TX07320', 'TX07325', 'TX07350', 'TX07355', 'TX07365',\n       'TX07385', 'TX07390', 'TX07405', 'TX07430', 'TX07455', 'TX07465',\n       'TX07475', 'TX07480', 'TX07485', 'TX07490', 'TX07515', 'TX07555',\n       'TX07560', 'TX07565', 'TX07570', 'TX07575', 'TX07620', 'TX07645',\n       'TX07655', 'TX07670', 'TX07710', 'TX07720', 'TX07770', 'TX07775',\n       'TX07800', 'TX07805', 'TX07815', 'TX07830', 'TX07850', 'TX07860',\n       'TX07885', 'TX07890', 'TX07940', 'TX07945', 'TX07965', 'TX08005',\n       'TX08025', 'TX08065', 'TX08075', 'TX08180', 'TX08290', 'TX08295',\n       'TX08300', 'TX08305', 'TX08330', 'TX08385', 'TX08390', 'TX08405',\n       'TX08435', 'TX08455', 'TX08460', 'TX08475', 'TX08485', 'TX08515',\n       'TX08530', 'TX08565', 'TX08570', 'TX08575', 'TX08580', 'TX08585',\n       'TX08590', 'TX08595', 'TX08600', 'TX08605', 'TX08610', 'TX08615',\n       'TX08620', 'TX08625', 'TX08630', 'TX08645', 'TX08650', 'TX08655',\n       'TX08660', 'TX08725', 'TX08785', 'TX08830', 'TX08850', 'TX08870',\n       'TX08875', 'TX08885', 'TX08890', 'UT01260', 'VA02380', 'VA02385',\n       'VI00025', 'WA02535', 'WA02540', 'WI01615', 'WI01617', 'WI06195',\n       'WI06215', 'WI06225', 'WY00965'], dtype=object)"
     },
     "metadata": {},
     "output_type": "display_data"
    },
    {
     "name": "stdout",
     "output_type": "stream",
     "text": [
      "339\n"
     ]
    }
   ],
   "source": [
    "# Exploring all_wwtps with Christina - 3/13 \n",
    "import pandas as pd \n",
    "import pathlib\n",
    "from utilities import load_all_wwtps_data\n",
    "\n",
    "def load_all_wwtps_data():\n",
    "    # I can add any data cleaning steps later\n",
    "    relevant_wwtps_cols = ['FACILITY_CODE', 'SOURCE', 'FACILITY', 'CITY', 'STATE', 'LATITUDE', 'LONGITUDE', 'FLOW_2012_MGD',\n",
    "                           '2012_TOT_ANNUAL_MM3', 'CWNS_NUM', 'NPDES_ID']\n",
    "    all_wwtps = pd.read_csv(pathlib.PurePath('01_raw_data', 'all_wwtps_data.csv'), usecols=relevant_wwtps_cols,\n",
    "                            low_memory=False)\n",
    "\n",
    "    # Remove any rows that have 0 as NPDES_ID\n",
    "    # all_wwtps = all_wwtps[all_wwtps['NPDES_ID'] != '0']\n",
    "\n",
    "    return all_wwtps\n",
    "\n",
    "all_wwtp = load_all_wwtps_data()\n",
    "print(len(all_wwtp))\n",
    "\n",
    "duplicates = all_wwtp[all_wwtp.duplicated(subset=['CWNS_NUM'], keep=False)]['FACILITY_CODE']\n",
    "display(duplicates.unique())\n",
    "print(len(duplicates))"
   ],
   "metadata": {
    "collapsed": false,
    "ExecuteTime": {
     "end_time": "2024-03-13T19:28:48.687106Z",
     "start_time": "2024-03-13T19:28:48.594693Z"
    }
   },
   "id": "b6b05a2acec7d5f9"
  },
  {
   "cell_type": "markdown",
   "source": [],
   "metadata": {
    "collapsed": false
   },
   "id": "50f94bf7a86f49c3"
  }
 ],
 "metadata": {
  "kernelspec": {
   "display_name": "Python 3",
   "language": "python",
   "name": "python3"
  },
  "language_info": {
   "codemirror_mode": {
    "name": "ipython",
    "version": 2
   },
   "file_extension": ".py",
   "mimetype": "text/x-python",
   "name": "python",
   "nbconvert_exporter": "python",
   "pygments_lexer": "ipython2",
   "version": "2.7.6"
  }
 },
 "nbformat": 4,
 "nbformat_minor": 5
}
